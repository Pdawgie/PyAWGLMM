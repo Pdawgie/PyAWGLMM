{
 "cells": [
  {
   "cell_type": "code",
   "execution_count": 1,
   "metadata": {},
   "outputs": [],
   "source": [
    "# Import specific functions\n",
    "import sys\n",
    "import numpy as np\n",
    "from numpy.linalg import eig, inv, pinv, eigvals\n",
    "from scipy.spatial.distance import squareform as squareform_sp\n",
    "from scipy.sparse import csr_matrix, random as sparse_random, find, issparse\n",
    "# from scipy.stats import multivariate_normal as mvnpdf\n",
    "from pynndescent import NNDescent\n",
    "import time\n",
    "from scipy.spatial.distance import pdist, squareform\n",
    "from scipy.linalg import inv\n",
    "import numpy as np\n",
    "import scipy.sparse as sp\n",
    "from scipy.spatial.distance import squareform\n",
    "from scipy.sparse import triu, coo_matrix\n",
    "from sklearn.metrics import precision_score, recall_score, f1_score, normalized_mutual_info_score\n",
    "from scipy.sparse.linalg import norm as sparse_norm\n",
    "from scipy.spatial.distance import squareform\n",
    "from math import sqrt\n",
    "import networkx as nx\n",
    "import matplotlib.pyplot as plt\n",
    "from scipy.linalg import cholesky\n",
    "\n",
    "\n",
    "sys.path.append('/Users/paul_reitz/Documents/repos/PyAWGLMM/Smooth_AWGLMM')\n",
    "from scripts.utils import (\n",
    "    visualize_glmm,\n",
    "    graph_learning_perf_eval,\n",
    "    identify_and_compare,\n",
    "    generate_connected_graph,\n",
    "    normest,\n",
    "    lin_map,\n",
    "    # squareform_sp,\n",
    "    sum_squareform,\n",
    "    prox_sum_log,\n",
    "    gsp_distanz,\n",
    "    gsp_compute_graph_learning_theta,\n",
    "    gsp_symmetrize,\n",
    ")\n",
    "from scripts.utils_deep import mvnpdf\n",
    "\n",
    "np.random.seed(17307946)"
   ]
  },
  {
   "cell_type": "code",
   "execution_count": 2,
   "metadata": {},
   "outputs": [],
   "source": [
    "def sum_squareform(n, mask=None):\n",
    "    \"\"\"\n",
    "    Python version of the MATLAB function sum_squareform.\n",
    "    \n",
    "    Parameters:\n",
    "    -----------\n",
    "    n : int\n",
    "        Size of the matrix W (an n-by-n matrix).\n",
    "    mask : array-like or None\n",
    "        If given, must be of size n(n-1)/2. Non-zero entries indicate\n",
    "        which elements in w = squareform(W) are considered.\n",
    "    \n",
    "    Returns:\n",
    "    --------\n",
    "    S : scipy.sparse.csc_matrix\n",
    "        Matrix so that S * w = sum(W) for w = squareform(W).\n",
    "    St : scipy.sparse.csc_matrix\n",
    "        The adjoint of S (S transpose).\n",
    "        \n",
    "    The output is consistent with the MATLAB function:\n",
    "    [S, St] = sum_squareform(n, mask)\n",
    "    \"\"\"\n",
    "    if mask is None:\n",
    "        mask_given = False\n",
    "    else:\n",
    "        mask_given = True\n",
    "\n",
    "    if mask_given:\n",
    "        # Check mask length\n",
    "        if len(mask) != n*(n-1)//2:\n",
    "            raise ValueError('mask size must be n(n-1)/2')\n",
    "        \n",
    "        # Find nonzero indices in mask\n",
    "        # MATLAB code tries to handle both column vectors and row vectors\n",
    "        # In Python, let's just do a generic approach:\n",
    "        mask = np.asarray(mask).flatten()\n",
    "        ind_vec = np.nonzero(mask)[0]  # 0-based indices of nonzero\n",
    "        \n",
    "        ncols = len(ind_vec)\n",
    "\n",
    "        I = np.zeros(ncols, dtype=np.int64)\n",
    "        J = np.zeros(ncols, dtype=np.int64)\n",
    "\n",
    "        curr_row = 1\n",
    "        offset = 0\n",
    "        # length of current row of matrix, counting from after the diagonal\n",
    "        length = n - 1\n",
    "        for ii in range(ncols):\n",
    "            ind_vec_i = ind_vec[ii] + 1  # switch to 1-based for logic\n",
    "            # Move down rows until we find the correct row\n",
    "            while ind_vec_i > (length + offset):\n",
    "                offset += length\n",
    "                length -= 1\n",
    "                curr_row += 1\n",
    "            # curr_row, J position in MATLAB indexing\n",
    "            I[ii] = curr_row\n",
    "            # Convert the position within the row into an absolute column index\n",
    "            # J(ii) = ind_vec_i - offset + (n - length)\n",
    "            J[ii] = ind_vec_i - offset + (n - length)\n",
    "\n",
    "    else:\n",
    "        # No mask given\n",
    "        ncols = (n-1)*n//2\n",
    "        I = np.zeros(ncols, dtype=np.int64)\n",
    "        J = np.zeros(ncols, dtype=np.int64)\n",
    "\n",
    "        # Fill I\n",
    "        k = 0\n",
    "        for i in range(2, n+1):\n",
    "            end_idx = k+(n - i + 1)\n",
    "            # I(k : k+(n-i)) = i:n in MATLAB (1-based)\n",
    "            # That means for each i, we fill a block of size (n-i+1) with values from i to n.\n",
    "            I[k:end_idx] = np.arange(i, n+1)\n",
    "            k = end_idx\n",
    "\n",
    "        # Fill J\n",
    "        k = 0\n",
    "        for i in range(2, n+1):\n",
    "            end_idx = k+(n - i + 1)\n",
    "            # J(k : k+(n-i)) = i-1 in MATLAB\n",
    "            # That means for each block, we fill it with i-1 repeated.\n",
    "            J[k:end_idx] = (i - 1)\n",
    "            k = end_idx\n",
    "\n",
    "    # Convert from 1-based to 0-based indexing\n",
    "    I -= 1\n",
    "    J -= 1\n",
    "\n",
    "    # Construct St\n",
    "    # St in MATLAB: sparse([1:ncols, 1:ncols],[I, J],1,ncols,n)\n",
    "    # means each row i has two ones: one at column I(i), one at column J(i).\n",
    "    # In Python (0-based), rows = 0..ncols-1\n",
    "    row_indices = np.repeat(np.arange(ncols), 2)\n",
    "    col_indices = np.hstack((I, J))\n",
    "    data = np.ones(2*ncols, dtype=np.float64)\n",
    "\n",
    "    St = coo_matrix((data, (row_indices, col_indices)), shape=(ncols, n)).tocsc()\n",
    "    S = St.transpose().tocsc()\n",
    "\n",
    "    return S, St\n"
   ]
  },
  {
   "cell_type": "code",
   "execution_count": 3,
   "metadata": {},
   "outputs": [],
   "source": [
    "# def gsp_distanz_pynndescent(X, Y=None, P=None, n_neighbors=10, metric='euclidean'):\n",
    "#     \"\"\"\n",
    "#     gsp_distanz_pynndescent calculates the approximate distances between vectors in X and Y\n",
    "#     using the pynndescent library for nearest neighbors.\n",
    "\n",
    "#     Parameters\n",
    "#     ----------\n",
    "#     X : ndarray\n",
    "#         Matrix with column vectors (shape: n x d, where n is the number of vectors and d is the dimension).\n",
    "#     Y : ndarray, optional\n",
    "#         Matrix with column vectors (shape: m x d). Default is X.\n",
    "#     P : ndarray, optional\n",
    "#         Not supported in this implementation. Raises NotImplementedError if provided.\n",
    "#     n_neighbors : int, optional\n",
    "#         Number of nearest neighbors to compute. Default is 10.\n",
    "#     metric : str or callable, optional\n",
    "#         Distance metric to use. Default is 'euclidean'. Must be supported by pynndescent.\n",
    "\n",
    "#     Returns\n",
    "#     -------\n",
    "#     D : csr_matrix\n",
    "#         Sparse distance matrix of shape (n x m) where each row contains distances to the nearest neighbors.\n",
    "    \n",
    "#     Indices : csr_matrix\n",
    "#         Sparse matrix containing the indices of the nearest neighbors.\n",
    "    \n",
    "#     Notes\n",
    "#     -----\n",
    "#     - This function uses approximate nearest neighbors for efficiency.\n",
    "#     - If Y is provided and different from X, it computes neighbors from X to Y.\n",
    "#     - If Y is None, it computes neighbors within X.\n",
    "#     - The output distance matrix is sparse, containing distances only to the nearest neighbors.\n",
    "#     \"\"\"\n",
    "#     if X is None:\n",
    "#         raise ValueError(\"Input matrix X must be provided.\")\n",
    "    \n",
    "#     if P is not None:\n",
    "#         raise NotImplementedError(\"Custom metric matrices (P) are not supported in this implementation.\")\n",
    "    \n",
    "#     if Y is None:\n",
    "#         Y = X\n",
    "\n",
    "#     if X.shape[1] != Y.shape[1]:\n",
    "#         raise ValueError(\"The dimensionality of X and Y must match.\")\n",
    "    \n",
    "#     # Initialize NNDescent with X as the dataset to search\n",
    "#     # If Y is provided and different, use X as query and Y as the dataset\n",
    "#     if np.array_equal(X, Y):\n",
    "#         # Search within X\n",
    "#         nnd = NNDescent(X, n_neighbors=n_neighbors, metric=metric)\n",
    "#         neighbors, distances = nnd.query(X, k=n_neighbors)\n",
    "#     else:\n",
    "#         # Search from X to Y\n",
    "#         nnd = NNDescent(Y, n_neighbors=n_neighbors, metric=metric)\n",
    "#         neighbors, distances = nnd.query(X, k=n_neighbors)\n",
    "    \n",
    "#     # Construct a sparse distance matrix\n",
    "#     # Rows correspond to each vector in X, columns to their k neighbors in Y\n",
    "#     n_samples_X = X.shape[0]\n",
    "#     n_samples_Y = Y.shape[0]\n",
    "    \n",
    "#     # Flatten the data for constructing sparse matrix\n",
    "#     row_indices = np.repeat(np.arange(n_samples_X), n_neighbors)\n",
    "#     col_indices = neighbors.flatten()\n",
    "#     data = distances.flatten()\n",
    "    \n",
    "#     # Create a sparse matrix in CSR format\n",
    "#     D = csr_matrix((data, (row_indices, col_indices)), shape=(n_samples_X, n_samples_Y))\n",
    "    \n",
    "#     return D , distances"
   ]
  },
  {
   "cell_type": "code",
   "execution_count": 4,
   "metadata": {},
   "outputs": [],
   "source": [
    "\n",
    "# def gsp_distanz_ann(X, Y=None, P=None):\n",
    "#     \"\"\"\n",
    "#     Computes approximate distances between all column vectors in X and Y using PyNNDescent.\n",
    "#     If P is provided, performs a linear transformation to emulate the Mahalanobis-like distance.\n",
    "\n",
    "#     Parameters\n",
    "#     ----------\n",
    "#     X : ndarray of shape (d, n)\n",
    "#         Data matrix with column vectors.\n",
    "#     Y : ndarray of shape (d, m), optional\n",
    "#         Data matrix with column vectors. If not provided, Y = X.\n",
    "#     P : ndarray of shape (d, d), optional\n",
    "#         Positive semidefinite matrix for generalized distance:\n",
    "#         D_ij = sqrt((X_i - Y_j)^T P (X_i - Y_j))\n",
    "#         If not provided, identity (Euclidean) is assumed.\n",
    "        \n",
    "#     Returns\n",
    "#     -------\n",
    "#     D : ndarray of shape (n, m)\n",
    "#         Approximate distance matrix, where D[i,j] = distance between X_i and Y_j.\n",
    "#     \"\"\"\n",
    "#     if X is None:\n",
    "#         raise ValueError(\"Not enough input parameters: X must be provided\")\n",
    "\n",
    "#     if Y is None:\n",
    "#         Y = X\n",
    "\n",
    "#     rx, cx = X.shape\n",
    "#     ry, cy = Y.shape\n",
    "#     if rx != ry:\n",
    "#         raise ValueError(\"The dimensions of X and Y must match along rows!\")\n",
    "\n",
    "#     # If P is provided, factor it to transform the data\n",
    "#     if P is not None:\n",
    "#         rp, rp2 = P.shape\n",
    "#         if rx != rp or rp != rp2:\n",
    "#             raise ValueError(\"P must be square and match the dimension of X\")\n",
    "\n",
    "#         # Cholesky decomposition (or any factorization) to get L: P = L^T L\n",
    "#         # For numerical stability and correctness, ensure P is PSD.\n",
    "#         L = cholesky(P, lower=True)  # L lower triangular, so P = L.T @ L\n",
    "\n",
    "#         # Transform X and Y: X' = L*X and Y' = L*Y\n",
    "#         X_trans = L @ X\n",
    "#         Y_trans = L @ Y\n",
    "#     else:\n",
    "#         # If no P, we just use X and Y directly\n",
    "#         X_trans = X\n",
    "#         Y_trans = Y\n",
    "\n",
    "#     # PyNNDescent expects (n_samples, n_features)\n",
    "#     data = X_trans.T  # shape: (n, d)\n",
    "#     query = Y_trans.T # shape: (m, d)\n",
    "#     n = data.shape[0]\n",
    "#     m = query.shape[0]\n",
    "\n",
    "#     # Build the ANN index\n",
    "#     index = NNDescent(data, metric='euclidean')\n",
    "#     # Query all points to reconstruct full distance matrix\n",
    "#     # This can be very expensive for large n!\n",
    "#     indices, distances = index.query(query, k=n)\n",
    "\n",
    "#     # Reconstruct the full distance matrix\n",
    "#     D = np.zeros((m, n), dtype=float)\n",
    "#     for i in range(m):\n",
    "#         # indices[i] are the indices of the neighbors for query i\n",
    "#         # distances[i] are the corresponding approximate distances\n",
    "#         D[i, indices[i]] = distances[i]\n",
    "\n",
    "#     # If Y is X, zero out the diagonal\n",
    "#     if Y is X:\n",
    "#         np.fill_diagonal(D, 0.0)\n",
    "\n",
    "#     # Return D in shape (n, m), currently it's (m, n), so we transpose\n",
    "#     D = D.T\n",
    "\n",
    "#     # Add a small epsilon and sqrt is not needed since distances from NNDescent\n",
    "#     # are already Euclidean distances. Still, we can clamp small negatives:\n",
    "#     eps = 1e-14\n",
    "#     D = np.maximum(D, eps)\n",
    "#     # No need to sqrt here because PyNNDescent returns distances directly.\n",
    "#     # But if we wanted to ensure distances are always sqrt-distances, they already are.\n",
    "\n",
    "#     return D"
   ]
  },
  {
   "cell_type": "code",
   "execution_count": 5,
   "metadata": {},
   "outputs": [],
   "source": [
    "def gsp_ann_distanz(X, Y=None, k=10, metric_in = 'euclidean'):\n",
    "    \"\"\"\n",
    "    Compute an approximate k-NN distance matrix using PyNNDescent.\n",
    "    \n",
    "    Parameters\n",
    "    ----------\n",
    "    X : ndarray of shape (d, n)\n",
    "        Data matrix with column vectors.\n",
    "    Y : ndarray of shape (d, m), optional\n",
    "        Query matrix with column vectors. If not provided, Y = X.\n",
    "    k : int\n",
    "        Number of nearest neighbors to compute for each vector.\n",
    "        \n",
    "    Returns\n",
    "    -------\n",
    "    Z : ndarray of shape (n, m)\n",
    "        Approximate k-NN distance matrix. For each column in Y, we store \n",
    "        the distances to the k-nearest neighbors in X in the corresponding \n",
    "        rows, and 0 in other positions. If Y is X, Z will be symmetric \n",
    "        except for the zeroing of non-neighbors.\n",
    "        \n",
    "    Notes\n",
    "    -----\n",
    "    - Z[i,j] = distance between X_i and Y_j if X_i is among the k-nearest \n",
    "      neighbors of Y_j.\n",
    "    - If Y is X, we remove self-distances by setting the diagonal to 0.0.\n",
    "    - Non-neighbor distances are set to 0. If you prefer another placeholder,\n",
    "      you could use np.inf instead.\n",
    "    \"\"\"\n",
    "    if X is None:\n",
    "        raise ValueError(\"X must be provided\")\n",
    "\n",
    "    if Y is None:\n",
    "        Y = X\n",
    "\n",
    "    dX, n = X.shape\n",
    "    dY, m = Y.shape\n",
    "\n",
    "    if dX != dY:\n",
    "        raise ValueError(\"X and Y must have the same number of rows (dimensions)\")\n",
    "\n",
    "    # Build the ANN index from X\n",
    "    data = X.T  # shape: (n, d)\n",
    "    query = Y.T # shape: (m, d)\n",
    "    \n",
    "    # Use PyNNDescent to build and query\n",
    "    index = NNDescent(data, metric=metric_in, n_trees=10, n_iters=10)\n",
    "    # Query for the k nearest neighbors\n",
    "    indices, distances = index.query(query, k=k)\n",
    "\n",
    "    # Now we build a (n x m) matrix Z\n",
    "    # Initialize with zeros\n",
    "    Z = np.zeros((n, m))\n",
    "    # For each column vector in Y, place its k-nearest neighbor distances\n",
    "    # in the corresponding positions.\n",
    "    # indices[i] gives the k-nearest neighbors of Y_i in X\n",
    "    # distances[i] gives the corresponding distances\n",
    "    for i in range(m):\n",
    "        Z[indices[i], i] = distances[i]\n",
    "\n",
    "    # If Y is X, ensure diagonal is zero (distance to self)\n",
    "    if Y is X:\n",
    "        np.fill_diagonal(Z, 0.0)\n",
    "\n",
    "    return Z"
   ]
  },
  {
   "cell_type": "code",
   "execution_count": 6,
   "metadata": {},
   "outputs": [],
   "source": [
    "def normalize_data(y):\n",
    "    # Standardize each feature to zero mean, unit variance\n",
    "    mean = np.mean(y, axis=0)\n",
    "    std = np.std(y, axis=0) + 1e-12\n",
    "    y_norm = (y - mean)/std\n",
    "    return y_norm\n"
   ]
  },
  {
   "cell_type": "code",
   "execution_count": 7,
   "metadata": {},
   "outputs": [],
   "source": [
    "def generate_connected_graph(n, p, zero_thresh, maxit=10, verbose=1):\n",
    "    \"\"\"\n",
    "    Generate a connected Erdos-Renyi graph using networkx and ensure \n",
    "    its second smallest eigenvalue of Laplacian is > zero_thresh.\n",
    "\n",
    "    Parameters\n",
    "    ----------\n",
    "    n : int\n",
    "        Number of nodes.\n",
    "    p : float\n",
    "        Probability of connection between nodes.\n",
    "    zero_thresh : float\n",
    "        Threshold for the second smallest eigenvalue to ensure connectivity.\n",
    "    maxit : int, optional\n",
    "        Maximum number of tries to get a connected graph (default 10).\n",
    "    verbose : int, optional\n",
    "        Verbosity level (default 1).\n",
    "\n",
    "    Returns\n",
    "    -------\n",
    "    G_dict : dict\n",
    "        A dictionary mimicking the G structure with keys:\n",
    "        - 'W': adjacency/weight matrix\n",
    "        - 'L': Laplacian matrix\n",
    "        - 'N': number of nodes\n",
    "        - 'type': 'erdos_renyi'\n",
    "    \n",
    "    Raises\n",
    "    ------\n",
    "    ValueError\n",
    "        If after maxit attempts no connected graph is found.\n",
    "    \"\"\"\n",
    "    for iteration in range(1, maxit+1):\n",
    "        # Generate an Erdos-Renyi graph\n",
    "        Gnx = nx.erdos_renyi_graph(n, p)\n",
    "        W = nx.to_numpy_array(Gnx, dtype=np.float64)\n",
    "\n",
    "        # Remove any self loops by zeroing diagonal\n",
    "        np.fill_diagonal(W, 0.0)\n",
    "\n",
    "        # Compute Laplacian\n",
    "        d = np.sum(W, axis=1)\n",
    "        D = np.diag(d)\n",
    "        L = D - W\n",
    "\n",
    "        # Compute eigenvalues\n",
    "        e = np.linalg.eigvalsh((L + L.T)*0.5)\n",
    "        e = np.sort(e)\n",
    "\n",
    "        # Check connectivity condition\n",
    "        if len(e) > 1 and e[1] > zero_thresh:\n",
    "            if verbose > 1:\n",
    "                print(f\"A connected graph has been created in {iteration} iteration(s)\")\n",
    "\n",
    "            G_dict = {}\n",
    "            G_dict['W'] = W\n",
    "            G_dict['L'] = L\n",
    "            G_dict['N'] = n\n",
    "            G_dict['type'] = 'erdos_renyi'\n",
    "            return G_dict\n",
    "        else:\n",
    "            if verbose > 1:\n",
    "                print(f\"Iteration {iteration} failed. Trying again.\")\n",
    "\n",
    "    if verbose:\n",
    "        print(\"Warning: The graph is not strongly connected after maxit attempts.\")\n",
    "    raise ValueError(\"Could not generate a connected graph after maxit attempts.\")\n",
    "\n",
    "\n",
    "\n",
    "\n",
    "\n"
   ]
  },
  {
   "cell_type": "code",
   "execution_count": 15,
   "metadata": {},
   "outputs": [
    {
     "name": "stdout",
     "output_type": "stream",
     "text": [
      "Relative change of primal, dual variables, and objective fun\n",
      "iter    1: 2.1075e+14   7.1956e+14\n",
      "iter    2: 2.9873e-01   6.1221e-01\n",
      "iter    3: 4.1284e-01   2.6114e-01\n",
      "iter    4: 3.7776e-01   1.4753e-01\n",
      "iter    5: 2.9834e-01   8.9720e-02\n",
      "iter    6: 2.2558e-01   5.3847e-02\n",
      "iter    7: 1.6798e-01   3.0145e-02\n",
      "iter    8: 1.2352e-01   1.4864e-02\n",
      "iter    9: 8.9358e-02   8.2446e-03\n",
      "iter   10: 6.3193e-02   9.9872e-03\n",
      "iter   11: 4.3327e-02   1.2621e-02\n",
      "iter   12: 2.8542e-02   1.3735e-02\n",
      "iter   13: 1.7995e-02   1.3413e-02\n",
      "iter   14: 1.1179e-02   1.2084e-02\n",
      "iter   15: 7.8062e-03   1.0184e-02\n",
      "iter   16: 6.9856e-03   8.0759e-03\n",
      "iter   17: 7.0370e-03   6.0270e-03\n",
      "iter   18: 6.9516e-03   4.2112e-03\n",
      "iter   19: 6.5069e-03   2.7254e-03\n",
      "iter   20: 5.7704e-03   1.6185e-03\n",
      "iter   21: 4.8733e-03   9.3680e-04\n",
      "iter   22: 3.9380e-03   7.2705e-04\n",
      "iter   23: 3.0579e-03   7.8951e-04\n",
      "iter   24: 2.2952e-03   8.5604e-04\n",
      "iter   25: 1.6850e-03   8.5458e-04\n",
      "iter   26: 1.2406e-03   7.9230e-04\n",
      "iter   27: 9.5368e-04   6.9116e-04\n",
      "iter   28: 7.9064e-04   5.7196e-04\n",
      "iter   29: 7.0015e-04   4.5072e-04\n",
      "iter   30: 6.3699e-04   3.3835e-04\n",
      "iter   31: 5.7667e-04   2.4136e-04\n",
      "iter   32: 5.1158e-04   1.6299e-04\n",
      "iter   33: 4.4265e-04   1.0437e-04\n",
      "iter   34: 3.7370e-04   6.5758e-05\n",
      "iter   35: 3.0868e-04   4.6724e-05\n",
      "iter   36: 2.5057e-04   4.1946e-05\n",
      "iter   37: 2.0108e-04   4.1725e-05\n",
      "iter   38: 1.6073e-04   4.0576e-05\n",
      "iter   39: 1.2902e-04   3.7423e-05\n",
      "iter   40: 1.0474e-04   3.2767e-05\n",
      "iter   41: 8.6271e-05   2.7414e-05\n",
      "# iters:   41. Rel primal: 8.6271e-05 Rel dual: 2.7414e-05  OBJ 2.796e+00\n",
      "Time needed is 0.003681 seconds\n",
      "Basic test passed!\n",
      "Relative change of primal, dual variables, and objective fun\n",
      "iter    1: 1.8454e+14   6.7044e+14\n",
      "iter    2: 5.1211e-01   5.8806e-01\n",
      "iter    3: 4.5802e-01   2.4685e-01\n",
      "iter    4: 3.4367e-01   1.3653e-01\n",
      "iter    5: 2.5227e-01   8.1211e-02\n",
      "iter    6: 1.8532e-01   4.8376e-02\n",
      "iter    7: 1.3613e-01   2.7853e-02\n",
      "iter    8: 9.9453e-02   1.5908e-02\n",
      "iter    9: 7.1800e-02   1.1346e-02\n",
      "iter   10: 5.0840e-02   1.1494e-02\n",
      "iter   11: 3.4987e-02   1.2393e-02\n",
      "iter   12: 2.3119e-02   1.2559e-02\n",
      "iter   13: 1.4419e-02   1.1900e-02\n",
      "iter   14: 8.3048e-03   1.0650e-02\n",
      "iter   15: 4.4725e-03   9.0797e-03\n",
      "iter   16: 3.0065e-03   7.4094e-03\n",
      "iter   17: 3.2450e-03   5.8000e-03\n",
      "iter   18: 3.6774e-03   4.3536e-03\n",
      "iter   19: 3.8100e-03   3.1244e-03\n",
      "iter   20: 3.6487e-03   2.1315e-03\n",
      "iter   21: 3.2871e-03   1.3719e-03\n",
      "iter   22: 2.8174e-03   8.3332e-04\n",
      "iter   23: 2.3122e-03   5.0884e-04\n",
      "iter   24: 1.8222e-03   3.8824e-04\n",
      "iter   25: 1.3796e-03   3.8792e-04\n",
      "iter   26: 1.0018e-03   4.0397e-04\n",
      "iter   27: 6.9532e-04   3.9932e-04\n",
      "iter   28: 4.6042e-04   3.7236e-04\n",
      "iter   29: 2.9419e-04   3.3013e-04\n",
      "iter   30: 1.9361e-04   2.8025e-04\n",
      "iter   31: 1.5120e-04   2.2878e-04\n",
      "iter   32: 1.4299e-04   1.7998e-04\n",
      "iter   33: 1.4231e-04   1.3645e-04\n",
      "iter   34: 1.3761e-04   9.9527e-05\n",
      "iter   35: 1.2722e-04   6.9638e-05\n",
      "iter   36: 1.1267e-04   4.6634e-05\n",
      "iter   37: 9.6012e-05   3.0110e-05\n",
      "# iters:   37. Rel primal: 9.6012e-05 Rel dual: 3.0110e-05  OBJ 1.920e+00\n",
      "Time needed is 0.003459 seconds\n",
      "Vector input test passed!\n"
     ]
    },
    {
     "name": "stderr",
     "output_type": "stream",
     "text": [
      "/var/folders/0t/4q2l76sj2v91nwcfqht0bwlw0000gn/T/ipykernel_60453/4444524.py:125: RuntimeWarning: divide by zero encountered in log\n",
      "  return -a * np.sum(np.log(tmp))\n"
     ]
    }
   ],
   "source": [
    "import numpy as np\n",
    "\n",
    "def gsp_learn_graph_log_degrees(Z, a, b, params=None):\n",
    "    \"\"\"\n",
    "    Python version of gsp_learn_graph_log_degrees.\n",
    "\n",
    "    Parameters\n",
    "    ----------\n",
    "    Z : array-like\n",
    "        Matrix or vector of (squared) pairwise distances.\n",
    "    a : float\n",
    "        Log prior constant.\n",
    "    b : float\n",
    "        ||W||_F^2 prior constant.\n",
    "    params : dict, optional\n",
    "        Dictionary of parameters:\n",
    "            - verbosity : int, default=1\n",
    "            - maxit : int, default=1000\n",
    "            - tol : float, default=1e-5\n",
    "            - step_size : float in (0,1), default=0.5\n",
    "            - fix_zeros : bool, default=False\n",
    "            - max_w : float, default=inf\n",
    "            - w_0 : array-like or scalar, optional\n",
    "            - c : float, required if w_0 given\n",
    "            - edge_mask : array-like, required if fix_zeros=True\n",
    "\n",
    "    Returns\n",
    "    -------\n",
    "    W : ndarray\n",
    "        Learned weighted adjacency matrix (or vector if Z was vector).\n",
    "    stat : dict\n",
    "        Dictionary with stats about the optimization.\n",
    "    \"\"\"\n",
    "\n",
    "    if params is None:\n",
    "        params = {}\n",
    "    verbosity = params.get('verbosity', 1)\n",
    "    maxit = params.get('maxit', 1000)\n",
    "    tol = params.get('tol', 1e-5)\n",
    "    step_size = params.get('step_size', 0.5)\n",
    "    fix_zeros = params.get('fix_zeros', False)\n",
    "    max_w = params.get('max_w', np.inf)\n",
    "\n",
    "    # Convert Z to vector form if needed\n",
    "    # Assume we have squareform_sp implemented\n",
    "    if Z.ndim > 1:\n",
    "        z = squareform_sp(Z)\n",
    "    else:\n",
    "        z = Z\n",
    "    z = z.flatten()\n",
    "\n",
    "    l = len(z)  # number of edges\n",
    "    # n(n-1)/2 = l => n = (1 + sqrt(1+8*l))/2\n",
    "    n = int(round((1 + np.sqrt(1+8*l))/2))\n",
    "\n",
    "    if 'w_0' in params:\n",
    "        w_0 = params['w_0']\n",
    "        if 'c' not in params:\n",
    "            raise ValueError(\"When params.w_0 is specified, params.c must also be specified\")\n",
    "        c = params['c']\n",
    "        if w_0.ndim > 1:\n",
    "            w_0 = squareform_sp(w_0)\n",
    "        w_0 = w_0.flatten()\n",
    "    else:\n",
    "        w_0 = 0\n",
    "        c = 0  # not used if w_0=0\n",
    "\n",
    "    # If fix_zeros is set, we learn only a subset of edges\n",
    "    if fix_zeros:\n",
    "        edge_mask = params['edge_mask']\n",
    "        if edge_mask.ndim > 1:\n",
    "            edge_mask = squareform_sp(edge_mask)\n",
    "        edge_mask = edge_mask.flatten()\n",
    "        ind = np.nonzero(edge_mask)[0]\n",
    "        z = z[ind]\n",
    "        if not np.isscalar(w_0):\n",
    "            w_0 = w_0[ind]\n",
    "    else:\n",
    "        # Make sure arrays are full\n",
    "        z = np.array(z, dtype=float)\n",
    "        if not np.isscalar(w_0):\n",
    "            w_0 = np.array(w_0, dtype=float)\n",
    "\n",
    "    # Initialization\n",
    "    # If W_init given, use it\n",
    "    if 'W_init' in params:\n",
    "        w = params['W_init'].copy()\n",
    "        if w.ndim > 1:\n",
    "            w = squareform_sp(w)\n",
    "        w = w.flatten()\n",
    "        if fix_zeros:\n",
    "            w = w[ind]\n",
    "    else:\n",
    "        w = np.zeros_like(z)\n",
    "\n",
    "    # Get S, St from sum_squareform\n",
    "    if fix_zeros:\n",
    "        S, St = sum_squareform(n, edge_mask)\n",
    "    else:\n",
    "        S, St = sum_squareform(n)\n",
    "\n",
    "    # Define linear operators K and Kt\n",
    "    K_op = lambda w: S @ w\n",
    "    Kt_op = lambda z: St @ z\n",
    "\n",
    "    # norm_K (used for step sizing)\n",
    "    if fix_zeros:\n",
    "        norm_K = normest(S)\n",
    "    else:\n",
    "        norm_K = np.sqrt(2*(n-1))\n",
    "\n",
    "    # Define f, g, h as in the code\n",
    "    # f(w) = 2*w'*z, prox_f(w,c) = min(max_w, max(0, w - 2*c*z))\n",
    "    def f_eval(w_):\n",
    "        return 2 * np.dot(w_, z)\n",
    "\n",
    "    def f_prox(w_, c_):\n",
    "        return np.minimum(max_w, np.maximum(0, w_ - 2*c_*z))\n",
    "\n",
    "    # g(w) = -a * sum(log(sum(W)))\n",
    "    # We handle g through g_star_prox. We have prox_sum_log already.\n",
    "    def g_eval_edges(w_):\n",
    "        # g(K_op(w)) = -a * sum(log(K_op(w))) \n",
    "        tmp = K_op(w_)\n",
    "        return -a * np.sum(np.log(tmp))\n",
    "\n",
    "    param_prox_log = {'verbose': verbosity - 3}\n",
    "    # def g_star_prox(z_, c_):\n",
    "    #     # z - c*a * prox_sum_log(z/(c*a), 1/(c*a))\n",
    "    #     return z_ - c_*a * prox_sum_log(z_/(c_*a), 1/(c_*a), param_prox_log)\n",
    "    \n",
    "    def g_star_prox(z_, c_):\n",
    "        prox_val, _ = prox_sum_log(z_ / (c_ * a), 1 / (c_ * a), param_prox_log)  # Unpack the tuple\n",
    "        prox_val = np.array(prox_val, dtype=float) \n",
    "        return z_ - c_*a * prox_val\n",
    "\n",
    "    # h(w) = b||w||_F^2 + c||w - w_0||_F^2 if w_0 given\n",
    "    if np.isscalar(w_0):\n",
    "        def h_eval(w_):\n",
    "            return b * np.sum(w_**2)\n",
    "        def h_grad(w_):\n",
    "            return 2 * b * w_\n",
    "        h_beta = 2 * b\n",
    "    else:\n",
    "        def h_eval(w_):\n",
    "            return b * np.sum(w_**2) + c * np.sum((w_ - w_0)**2)\n",
    "        def h_grad(w_):\n",
    "            return 2 * ((b+c)*w_ - c*w_0)\n",
    "        h_beta = 2 * (b + c)\n",
    "\n",
    "    # Parameters for FBF\n",
    "    mu = h_beta + norm_K\n",
    "    epsilon = lin_map(0.0, [0, 1/(1+mu)], [0,1])\n",
    "    gn = lin_map(step_size, [epsilon, (1 - epsilon)/mu], [0,1])\n",
    "\n",
    "    # Dual variable\n",
    "    v_n = K_op(w)\n",
    "\n",
    "    # statistics\n",
    "    stat = {}\n",
    "    if verbosity > 1 or True:\n",
    "        stat['f_eval'] = np.full((maxit,), np.nan)\n",
    "        stat['g_eval'] = np.full((maxit,), np.nan)\n",
    "        stat['h_eval'] = np.full((maxit,), np.nan)\n",
    "        stat['fgh_eval'] = np.full((maxit,), np.nan)\n",
    "        stat['pos_violation'] = np.full((maxit,), np.nan)\n",
    "\n",
    "    if verbosity > 1:\n",
    "        print('Relative change of primal, dual variables, and objective fun')\n",
    "\n",
    "    start_time = 0.0\n",
    "    import time\n",
    "    start_time = time.time()\n",
    "\n",
    "    for i in range(maxit):\n",
    "        # Forward-backward-forward updates\n",
    "        Y_n = w - gn * (h_grad(w) + Kt_op(v_n))\n",
    "        y_n = v_n + gn * (K_op(w))\n",
    "        P_n = f_prox(Y_n, gn)\n",
    "        p_n = g_star_prox(y_n, gn)\n",
    "        Q_n = P_n - gn * (h_grad(P_n) + Kt_op(p_n))\n",
    "        q_n = p_n + gn * (K_op(P_n))\n",
    "\n",
    "        # Evaluate objective and constraints if needed\n",
    "        stat['f_eval'][i] = f_eval(w)\n",
    "        stat['g_eval'][i] = g_eval_edges(w)\n",
    "        stat['h_eval'][i] = h_eval(w)\n",
    "        stat['fgh_eval'][i] = stat['f_eval'][i] + stat['g_eval'][i] + stat['h_eval'][i]\n",
    "        stat['pos_violation'][i] = -np.sum(np.minimum(0, w))\n",
    "\n",
    "        # stopping criterion\n",
    "        rel_norm_primal = np.linalg.norm(-Y_n + Q_n) / (np.linalg.norm(w) + 1e-15)\n",
    "        rel_norm_dual = np.linalg.norm(-y_n + q_n) / (np.linalg.norm(v_n) + 1e-15)\n",
    "\n",
    "        if verbosity > 2:\n",
    "            print(f'iter {i+1:4d}: {rel_norm_primal:6.4e}   {rel_norm_dual:6.4e}   {stat[\"fgh_eval\"][i]:6.3e}')\n",
    "        elif verbosity > 1:\n",
    "            print(f'iter {i+1:4d}: {rel_norm_primal:6.4e}   {rel_norm_dual:6.4e}')\n",
    "\n",
    "        w = w - Y_n + Q_n\n",
    "        v_n = v_n - y_n + q_n\n",
    "\n",
    "        if rel_norm_primal < tol and rel_norm_dual < tol:\n",
    "            break\n",
    "\n",
    "    stat['time'] = time.time() - start_time\n",
    "    if verbosity > 0:\n",
    "        print(f'# iters: {i+1:4d}. Rel primal: {rel_norm_primal:6.4e} Rel dual: {rel_norm_dual:6.4e}  OBJ {stat[\"fgh_eval\"][i]:6.3e}')\n",
    "        print(f'Time needed is {stat[\"time\"]:.6f} seconds')\n",
    "\n",
    "    # If fix_zeros, we must put values back in their original positions\n",
    "    if fix_zeros:\n",
    "        full_w = np.zeros(l)\n",
    "        full_w[ind] = w\n",
    "        w = full_w\n",
    "\n",
    "    # If input was a matrix, return W as a matrix\n",
    "    if Z.ndim > 1:\n",
    "        W = squareform_sp(w)\n",
    "    else:\n",
    "        W = w\n",
    "\n",
    "    return W, stat\n",
    "\n",
    "\n",
    "#########################################\n",
    "# Tests to verify correctness\n",
    "#########################################\n",
    "if __name__ == \"__main__\":\n",
    "    # Simple test: small random graph with distances\n",
    "    np.random.seed(0)\n",
    "    n = 5\n",
    "    X = np.random.randn(n, 3)  # some signals\n",
    "    # Suppose Z is the squared distance matrix of X\n",
    "    # If you have gsp_distanz implemented:\n",
    "    # Z = gsp_distanz(X.T)**2\n",
    "    # For now, let's just create a random symmetric matrix with zeros on diag:\n",
    "    D = np.random.rand(n, n)\n",
    "    Z = (D + D.T)/2\n",
    "    np.fill_diagonal(Z, 0)\n",
    "    # Ensure positive distances\n",
    "    Z = np.abs(Z)\n",
    "\n",
    "    # Parameters\n",
    "    a = 1.0\n",
    "    b = 1.0\n",
    "    params = {\n",
    "        'verbosity': 2,\n",
    "        'maxit': 50,\n",
    "        'tol': 1e-4,\n",
    "        'step_size': 0.5,\n",
    "        'fix_zeros': False,\n",
    "        'max_w': np.inf\n",
    "    }\n",
    "\n",
    "    W, stat = gsp_learn_graph_log_degrees(Z, a, b, params)\n",
    "\n",
    "    # Check W is symmetric and no negative edges:\n",
    "    assert np.allclose(W, W.T), \"W should be symmetric\"\n",
    "    assert np.all(W >= -1e-12), \"W should be non-negative\"\n",
    "    # Check dimensions\n",
    "    assert W.shape == (n, n), \"W should be n-by-n for matrix input\"\n",
    "    print(\"Basic test passed!\")\n",
    "\n",
    "    # Test with vector input (just a single edge vector)\n",
    "    n = 4\n",
    "    Z_vec = np.random.rand(n*(n-1)//2)\n",
    "    W_vec, stat_vec = gsp_learn_graph_log_degrees(Z_vec, a, b, params)\n",
    "    # Should return vector form since input was vector\n",
    "    assert W_vec.shape == Z_vec.shape, \"Output should have same shape as input vector\"\n",
    "    print(\"Vector input test passed!\")\n"
   ]
  },
  {
   "cell_type": "code",
   "execution_count": 10,
   "metadata": {},
   "outputs": [],
   "source": [
    "\n",
    "# def gsp_learn_graph_log_degrees(Z, a, b, params=None):\n",
    "#     if params is None:\n",
    "#         params = {}\n",
    "#     verbosity = params.get('verbosity', 1)\n",
    "#     maxit = params.get('maxit', 1000)\n",
    "#     tol = params.get('tol', 1e-5)\n",
    "#     step_size = params.get('step_size', 0.5)\n",
    "#     fix_zeros = params.get('fix_zeros', False)\n",
    "#     max_w = params.get('max_w', np.inf)\n",
    "\n",
    "#     w_0 = params.get('w_0', 0)\n",
    "#     if w_0 != 0 and 'c' not in params:\n",
    "#         raise ValueError(\"When w_0 is specified, c must also be specified\")\n",
    "#     c = params.get('c', 0.0 if w_0 == 0 else None)\n",
    "\n",
    "#     # Convert Z to vector form\n",
    "#     if Z.ndim == 2 and Z.shape[0] == Z.shape[1]:\n",
    "#         z = squareform_sp(Z)\n",
    "#     else:\n",
    "#         z = Z\n",
    "#     z = z.ravel()\n",
    "#     l = len(z)\n",
    "#     n = int(round((1 + sqrt(1+8*l))/2))\n",
    "\n",
    "#     if not np.isscalar(w_0):\n",
    "#         # Convert w_0 to vector form if needed\n",
    "#         if w_0.ndim == 2 and w_0.shape[0] == w_0.shape[1]:\n",
    "#             w_0 = squareform_sp(w_0)\n",
    "#         w_0 = w_0.ravel()\n",
    "#     else:\n",
    "#         w_0 = float(w_0)\n",
    "\n",
    "#     if fix_zeros:\n",
    "#         edge_mask = params.get('edge_mask', None)\n",
    "#         if edge_mask is None:\n",
    "#             raise ValueError(\"edge_mask must be provided when fix_zeros is True\")\n",
    "#         if edge_mask.ndim == 2 and edge_mask.shape[0] == edge_mask.shape[1]:\n",
    "#             edge_mask = squareform_sp(edge_mask)\n",
    "#         edge_mask = edge_mask.ravel()\n",
    "#         ind = np.flatnonzero(edge_mask)\n",
    "#         z = z[ind].astype(float)\n",
    "#         if not np.isscalar(w_0):\n",
    "#             w_0 = w_0[ind].astype(float)\n",
    "#     else:\n",
    "#         z = z.astype(float)\n",
    "#         if not np.isscalar(w_0):\n",
    "#             w_0 = w_0.astype(float)\n",
    "\n",
    "#     w = params.get('W_init', np.zeros_like(z, dtype=float))\n",
    "\n",
    "#     # Construct S, St\n",
    "#     if fix_zeros:\n",
    "#         S, St = sum_squareform(n, edge_mask)\n",
    "#     else:\n",
    "#         S, St = sum_squareform(n)\n",
    "\n",
    "#     K_op = lambda w_: S.dot(w_)\n",
    "#     Kt_op = lambda z_: St.dot(z_)\n",
    "\n",
    "#     if fix_zeros:\n",
    "#         # Estimate norm_K\n",
    "#         x_test = np.random.randn(S.shape[1])\n",
    "#         for _ in range(5):\n",
    "#             x_test = St.dot(S.dot(x_test))\n",
    "#             norm_est = np.linalg.norm(x_test)\n",
    "#             if norm_est == 0:\n",
    "#                 break\n",
    "#             x_test = x_test / norm_est\n",
    "#         norm_K = sqrt(norm_est)\n",
    "#     else:\n",
    "#         norm_K = sqrt(2*(n-1))\n",
    "\n",
    "#     def f_eval(w_):\n",
    "#         return 2*np.dot(w_, z)\n",
    "#     def f_prox(w_, c_):\n",
    "#         return np.minimum(max_w, np.maximum(0, w_ - 2*c_*z))\n",
    "\n",
    "#     def g_eval(x):\n",
    "#         # Check if x has non-positive values\n",
    "#         if np.any(x <= 0):\n",
    "#             return np.inf\n",
    "#         return -a * np.sum(np.log(x))\n",
    "\n",
    "#     def g_prox(z_, c_):\n",
    "#         sol, _ = prox_sum_log(z_, c_*a, param={'verbose':0})\n",
    "#         return sol\n",
    "\n",
    "#     def g_star_prox(z_, c_):\n",
    "#         z_ = np.asarray(z_, dtype=float)\n",
    "#         # If z_/(c_*a) not positive, prox_sum_log will report inf and handle gracefully\n",
    "#         sol, _ = prox_sum_log(z_/(c_*a), 1/(c_*a), param={'verbose':0})\n",
    "#         return z_ - c_*a * sol\n",
    "\n",
    "#     if w_0 == 0:\n",
    "#         def h_eval(w_):\n",
    "#             return b*np.sum(w_**2)\n",
    "#         def h_grad(w_):\n",
    "#             return 2*b*w_\n",
    "#         h_beta = 2*b\n",
    "#     else:\n",
    "#         def h_eval(w_):\n",
    "#             return b*np.sum(w_**2) + c*np.sum((w_-w_0)**2)\n",
    "#         def h_grad(w_):\n",
    "#             return 2*((b+c)*w_ - c*w_0)\n",
    "#         h_beta = 2*(b+c)\n",
    "\n",
    "#     mu = h_beta + norm_K\n",
    "#     epsilon = lin_map(0.0, [0, 1/(1+mu)], [0,1])\n",
    "#     gn = lin_map(step_size, [epsilon, (1-epsilon)/mu], [0,1])\n",
    "\n",
    "#     v_n = K_op(w)\n",
    "\n",
    "#     stat = {}\n",
    "#     if verbosity > 1:\n",
    "#         stat['f_eval'] = np.full(maxit, np.nan)\n",
    "#         stat['g_eval'] = np.full(maxit, np.nan)\n",
    "#         stat['h_eval'] = np.full(maxit, np.nan)\n",
    "#         stat['fgh_eval'] = np.full(maxit, np.nan)\n",
    "#         stat['pos_violation'] = np.full(maxit, np.nan)\n",
    "#         print('Relative change of primal, dual variables, and objective fun')\n",
    "\n",
    "#     t0 = time.time()\n",
    "#     for i in range(maxit):\n",
    "#         Y_n = w - gn*(h_grad(w) + Kt_op(v_n))\n",
    "#         y_n = v_n + gn*(K_op(w))\n",
    "\n",
    "#         P_n = f_prox(Y_n, gn)\n",
    "#         p_n = g_star_prox(y_n, gn)\n",
    "#         Q_n = P_n - gn*(h_grad(P_n) + Kt_op(p_n))\n",
    "#         q_n = p_n + gn*(K_op(P_n))\n",
    "\n",
    "#         if verbosity > 2:\n",
    "#             stat['f_eval'][i] = f_eval(w)\n",
    "#             val_g = g_eval(K_op(w))\n",
    "#             stat['g_eval'][i] = val_g\n",
    "#             stat['h_eval'][i] = h_eval(w)\n",
    "#             # If val_g is inf, fgh_eval might be inf as well, which is acceptable\n",
    "#             stat['fgh_eval'][i] = stat['f_eval'][i] + stat['g_eval'][i] + stat['h_eval'][i]\n",
    "#             stat['pos_violation'][i] = -np.sum(np.minimum(0,w))\n",
    "\n",
    "#         denom_w = np.linalg.norm(w)\n",
    "#         if denom_w < 1e-15:\n",
    "#             denom_w = 1e-15\n",
    "#         denom_v = np.linalg.norm(v_n)\n",
    "#         if denom_v < 1e-15:\n",
    "#             denom_v = 1e-15\n",
    "\n",
    "#         rel_norm_primal = np.linalg.norm(-Y_n + Q_n)/denom_w\n",
    "#         rel_norm_dual = np.linalg.norm(-y_n + q_n)/denom_v\n",
    "\n",
    "#         if verbosity > 1 and verbosity <= 3:\n",
    "#             print(f'iter {i+1:4d}: {rel_norm_primal:6.4e}   {rel_norm_dual:6.4e}')\n",
    "\n",
    "#         w = w - Y_n + Q_n\n",
    "#         v_n = v_n - y_n + q_n\n",
    "\n",
    "#         if rel_norm_primal < tol and rel_norm_dual < tol:\n",
    "#             break\n",
    "\n",
    "#     stat['time'] = time.time() - t0\n",
    "#     if verbosity > 0:\n",
    "#         obj_val = f_eval(w) + g_eval(K_op(w)) + h_eval(w)\n",
    "#         print(f'# iters: {i+1:4d}. Rel primal: {rel_norm_primal:6.4e} Rel dual: {rel_norm_dual:6.4e}  OBJ {obj_val:6.3e}')\n",
    "#         print(f'Time needed is {stat[\"time\"]} seconds')\n",
    "\n",
    "#     if fix_zeros:\n",
    "#         full_w = np.zeros(l, dtype=float)\n",
    "#         full_w[ind] = w\n",
    "#         w = full_w\n",
    "\n",
    "#     if Z.ndim == 2 and Z.shape[0] == Z.shape[1]:\n",
    "#         W = squareform_sp(w)\n",
    "#     else:\n",
    "#         W = w\n",
    "\n",
    "#     return W, stat"
   ]
  },
  {
   "cell_type": "code",
   "execution_count": 11,
   "metadata": {},
   "outputs": [],
   "source": [
    "def gsp_learn_graph_log_degrees(Z, a, b, params=None):\n",
    "    if params is None:\n",
    "        params = {}\n",
    "    verbosity = params.get('verbosity', 1)\n",
    "    maxit = params.get('maxit', 1000)\n",
    "    tol = params.get('tol', 1e-5)\n",
    "    step_size = params.get('step_size', 0.5)\n",
    "    fix_zeros = params.get('fix_zeros', False)\n",
    "    max_w = params.get('max_w', np.inf)\n",
    "\n",
    "    w_0 = params.get('w_0', 0)\n",
    "    if w_0 != 0 and 'c' not in params:\n",
    "        raise ValueError(\"When params.w_0 is specified, c must also be specified\")\n",
    "    c = params.get('c', 0.0 if w_0 == 0 else None)\n",
    "\n",
    "    # Convert Z to vector form\n",
    "    if Z.ndim == 2 and Z.shape[0] == Z.shape[1]:\n",
    "        z = squareform_sp(Z)\n",
    "    else:\n",
    "        z = Z\n",
    "    # z = z.ravel()\n",
    "    # z = z.toarray().ravel()\n",
    "    if hasattr(z, \"toarray\"):  # For sparse matrices\n",
    "        z = z.toarray().ravel()\n",
    "    elif isinstance(z, np.ndarray):  # For dense numpy arrays\n",
    "        z = z.ravel()\n",
    "    else:\n",
    "        raise TypeError(\"Input must be a sparse matrix or a numpy array.\")\n",
    "    \n",
    "    l = len(z)\n",
    "    n = int(round((1 + sqrt(1+8*l))/2))\n",
    "\n",
    "    if not np.isscalar(w_0):\n",
    "        # Convert w_0 to vector form if needed\n",
    "        if w_0.ndim == 2 and w_0.shape[0] == w_0.shape[1]:\n",
    "            w_0 = squareform_sp(w_0)\n",
    "        w_0 = w_0.ravel()\n",
    "    else:\n",
    "        w_0 = float(w_0)\n",
    "\n",
    "    if fix_zeros:\n",
    "        edge_mask = params.get('edge_mask', None)\n",
    "        if edge_mask is None:\n",
    "            raise ValueError(\"edge_mask must be provided when fix_zeros is True\")\n",
    "        if edge_mask.ndim == 2 and edge_mask.shape[0] == edge_mask.shape[1]:\n",
    "            edge_mask = squareform_sp(edge_mask)\n",
    "        # edge_mask = edge_mask.ravel()\n",
    "        edge_mask = edge_mask.toarray().ravel()\n",
    "        ind = np.flatnonzero(edge_mask)\n",
    "        z = z[ind].astype(float)\n",
    "        if not np.isscalar(w_0):\n",
    "            w_0 = w_0[ind].astype(float)\n",
    "    else:\n",
    "        z = z.astype(float)\n",
    "        if not np.isscalar(w_0):\n",
    "            w_0 = w_0.astype(float)\n",
    "\n",
    "    w = params.get('W_init', np.zeros_like(z, dtype=float))\n",
    "\n",
    "    # Construct S, St\n",
    "    if fix_zeros:\n",
    "        S, St = sum_squareform(n, edge_mask)\n",
    "    else:\n",
    "        S, St = sum_squareform(n)\n",
    "\n",
    "    K_op = lambda w_: S.dot(w_)\n",
    "    Kt_op = lambda z_: St.dot(z_)\n",
    "\n",
    "    if fix_zeros:\n",
    "        norm_K = normest(S)\n",
    "    else:\n",
    "        norm_K = sqrt(2*(n-1))\n",
    "\n",
    "    def f_eval(w_):\n",
    "        return 2*np.dot(w_, z)\n",
    "    def f_prox(w_, c_):\n",
    "        return np.minimum(max_w, np.maximum(0, w_ - 2*c_*z))\n",
    "\n",
    "    def g_eval(x):\n",
    "        # if x<=0, log not defined => infinite\n",
    "        if np.any(x <= 0):\n",
    "            return np.inf\n",
    "        return -a * np.sum(np.log(x))\n",
    "    def g_prox(z_, c_):\n",
    "        sol, _ = prox_sum_log(z_, c_*a, param={'verbose':-3})\n",
    "        return sol\n",
    "\n",
    "    def g_star_prox(z_, c_):\n",
    "        z_ = np.asarray(z_, dtype=float)\n",
    "        sol, _ = prox_sum_log(z_/(c_*a), 1/(c_*a), param={'verbose':-3})\n",
    "        return z_ - c_*a * sol\n",
    "\n",
    "    if w_0 == 0:\n",
    "        def h_eval(w_):\n",
    "            return b*np.sum(w_**2)\n",
    "        def h_grad(w_):\n",
    "            return 2*b*w_\n",
    "        h_beta = 2*b\n",
    "    else:\n",
    "        def h_eval(w_):\n",
    "            return b*np.sum(w_**2) + c*np.sum((w_-w_0)**2)\n",
    "        def h_grad(w_):\n",
    "            return 2*((b+c)*w_ - c*w_0)\n",
    "        h_beta = 2*(b+c)\n",
    "\n",
    "    mu = h_beta + norm_K\n",
    "    epsilon = lin_map(0.0, [0, 1/(1+mu)], [0,1])\n",
    "    gn = lin_map(step_size, [epsilon, (1-epsilon)/mu], [0,1])\n",
    "\n",
    "    v_n = K_op(w)\n",
    "\n",
    "    stat = {}\n",
    "    if verbosity > 1:\n",
    "        stat['f_eval'] = np.full(maxit, np.nan)\n",
    "        stat['g_eval'] = np.full(maxit, np.nan)\n",
    "        stat['h_eval'] = np.full(maxit, np.nan)\n",
    "        stat['fgh_eval'] = np.full(maxit, np.nan)\n",
    "        stat['pos_violation'] = np.full(maxit, np.nan)\n",
    "        if verbosity > 1:\n",
    "            print('Relative change of primal, dual variables, and objective fun')\n",
    "\n",
    "    t0 = time.time()\n",
    "    for i in range(maxit):\n",
    "        Y_n = w - gn*(h_grad(w) + Kt_op(v_n))\n",
    "        y_n = v_n + gn*(K_op(w))\n",
    "\n",
    "        P_n = f_prox(Y_n, gn)\n",
    "        p_n = g_star_prox(y_n, gn) \n",
    "        Q_n = P_n - gn*(h_grad(P_n) + Kt_op(p_n))\n",
    "        q_n = p_n + gn*(K_op(P_n))\n",
    "\n",
    "        if verbosity > 2:\n",
    "            stat['f_eval'][i] = f_eval(w)\n",
    "            val_g = g_eval(K_op(w))\n",
    "            stat['g_eval'][i] = val_g\n",
    "            stat['h_eval'][i] = h_eval(w)\n",
    "            stat['fgh_eval'][i] = stat['f_eval'][i] + stat['g_eval'][i] + stat['h_eval'][i]\n",
    "            stat['pos_violation'][i] = -np.sum(np.minimum(0,w))\n",
    "\n",
    "        denom_w = np.linalg.norm(w)\n",
    "        if denom_w < 1e-15:\n",
    "            denom_w = 1e-15\n",
    "        denom_v = np.linalg.norm(v_n)\n",
    "        if denom_v < 1e-15:\n",
    "            denom_v = 1e-15\n",
    "\n",
    "        rel_norm_primal = np.linalg.norm(-Y_n + Q_n)/denom_w\n",
    "        rel_norm_dual = np.linalg.norm(-y_n + q_n)/denom_v\n",
    "\n",
    "        if verbosity > 1 and verbosity <= 3:\n",
    "            print(f'iter {i+1:4d}: {rel_norm_primal:6.4e}   {rel_norm_dual:6.4e}')\n",
    "\n",
    "        w = w - Y_n + Q_n\n",
    "        v_n = v_n - y_n + q_n\n",
    "\n",
    "        if rel_norm_primal < tol and rel_norm_dual < tol:\n",
    "            break\n",
    "\n",
    "    stat['time'] = time.time() - t0\n",
    "    if verbosity > 0:\n",
    "        obj_val = f_eval(w) + g_eval(K_op(w)) + h_eval(w)\n",
    "        print(f'# iters: {i+1:4d}. Rel primal: {rel_norm_primal:6.4e} Rel dual: {rel_norm_dual:6.4e}  OBJ {obj_val:6.3e}')\n",
    "        print(f'Time needed is {stat[\"time\"]} seconds')\n",
    "\n",
    "    if fix_zeros:\n",
    "        # reconstruct full w\n",
    "        full_w = np.zeros(l, dtype=float)\n",
    "        full_w[ind] = w\n",
    "        w = full_w\n",
    "\n",
    "    # Convert back to matrix if Z was a matrix\n",
    "    if Z.ndim == 2 and Z.shape[0] == Z.shape[1]:\n",
    "        W = squareform_sp(w)\n",
    "    else:\n",
    "        W = w\n",
    "\n",
    "    return W, stat"
   ]
  },
  {
   "cell_type": "code",
   "execution_count": 63,
   "metadata": {},
   "outputs": [
    {
     "name": "stdout",
     "output_type": "stream",
     "text": [
      "Time for pynndescent (FLANN equivalent): 0.063 seconds\n"
     ]
    },
    {
     "name": "stderr",
     "output_type": "stream",
     "text": [
      "/Users/paul_reitz/opt/miniconda3/envs/apache_sedona/lib/python3.12/site-packages/pynndescent/pynndescent_.py:939: UserWarning: Failed to correctly find n_neighbors for some samples. Results may be less than ideal. Try re-running with different parameters.\n",
      "  warn(\n"
     ]
    },
    {
     "name": "stdout",
     "output_type": "stream",
     "text": [
      "Computed theta: 0.0856266170058587\n",
      "# iters:  297. Rel primal: 9.8320e-06 Rel dual: 2.7359e-06  OBJ 9.500e+00\n",
      "Time needed is 0.010689020156860352 seconds\n"
     ]
    }
   ],
   "source": [
    "\n",
    "# Suppose we have data matrix X (m x n), where m = number of nodes, n = dimension\n",
    "# For demonstration, create a random dataset of m=1000 nodes in a 5-dimensional space\n",
    "m = 1000\n",
    "n = 5\n",
    "X = np.random.randn(m, n).astype(np.float64)\n",
    "\n",
    "# Desired number of neighbors per node for the final graph\n",
    "k = 2\n",
    "\n",
    "# Approximate Nearest Neighbors using pynndescent\n",
    "# We want roughly 2*k neighbors (like MATLAB 2*k+1) and possibly some extra\n",
    "# 'n_neighbors' is the number of neighbors NNDescent tries to find\n",
    "n_neighbors = 2 * k + 1\n",
    "\n",
    "# Build the NNDescent index\n",
    "clock_flann = time.time()\n",
    "# NNDescent expects data as np.array (m x n)\n",
    "index = NNDescent(X, n_neighbors=n_neighbors, metric='euclidean', random_state=42)\n",
    "# Query on the same data to get neighbors and distances\n",
    "# This returns indices and distances arrays of shape (m, n_neighbors)\n",
    "indx_arr, dist_arr = index.neighbor_graph\n",
    "time_flann = time.time() - clock_flann\n",
    "print(f\"Time for pynndescent (FLANN equivalent): {time_flann:.3f} seconds\")\n",
    "\n",
    "# indx_arr: shape (m, n_neighbors), each row gives indices of neighbors\n",
    "# dist_arr: shape (m, n_neighbors), each row gives distances\n",
    "# The first neighbor returned by NNDescent is the point itself with distance 0\n",
    "# We want to match MATLAB code structure:\n",
    "# They got indx, indy, dist arrays that can form a sparse matrix Z_sp\n",
    "# Let's form coo_matrix:\n",
    "# We'll create arrays row_indices, col_indices, values for sparse matrix\n",
    "row_indices = []\n",
    "col_indices = []\n",
    "values = []\n",
    "\n",
    "# Iterate over each node to collect neighbor information\n",
    "for i in range(m):\n",
    "    # indx_arr[i,:], dist_arr[i,:]\n",
    "    # The first neighbor is usually the node itself\n",
    "    # Skip the self-neighbor (distance=0 to itself)\n",
    "    neighbor_ids = indx_arr[i, 1:]   # skip the first which is self\n",
    "    dists = dist_arr[i, 1:]\n",
    "    row_indices.append(np.full(len(neighbor_ids), i, dtype=np.int32))\n",
    "    col_indices.append(neighbor_ids)\n",
    "    values.append(dists**2)  # as code squares distances\n",
    "\n",
    "row_indices = np.concatenate(row_indices)\n",
    "col_indices = np.concatenate(col_indices)\n",
    "values = np.concatenate(values)\n",
    "\n",
    "# Construct sparse distance matrix: Z_sp\n",
    "# We have at most m*(n_neighbors-1) edges (slightly more because each node has that many neighbors)\n",
    "Z_sp = coo_matrix((values, (row_indices, col_indices)), shape=(m, m))\n",
    "Z_sp = Z_sp.tocsr()\n",
    "\n",
    "# # Symmetrize the distance matrix as in MATLAB:\n",
    "# Z_sp = gsp_symmetrize(Z_sp, 'full')\n",
    "\n",
    "# Z_sp = squareform_sp(Z_sp)\n",
    "\n",
    "Z_sp = gsp_ann_distanz(X, k=4, metric_in='euclidean')\n",
    "Z_sp = gsp_symmetrize(Z_sp, 'full')\n",
    "\n",
    "# Now we have an approximate nearest neighbor distance matrix Z_sp\n",
    "# The next step: \"Z_sorted = Z_sorted(:, 2:end).^2; first row is zero\"\n",
    "# In MATLAB, they have Z_sorted from nn_distanz.\n",
    "# We must obtain Z_sorted from the indices and distances. But we already have dist_arr from NNDescent sorted:\n",
    "# dist_arr[i,:] is sorted by pynndescent? By default, NNDescent does not guarantee sorted order by distance.\n",
    "# If not sorted, we must sort them ourselves. Let's sort distances per row except the first (self).\n",
    "Z_arr = []\n",
    "for i in range(m):\n",
    "    # Extract neighbors and distances except self\n",
    "    dists = dist_arr[i, 1:]\n",
    "    sorted_dists = np.sort(dists)  # ascending\n",
    "    Z_arr.append(sorted_dists**2)\n",
    "Z_sorted = np.vstack(Z_arr)  # shape (m, n_neighbors-1)\n",
    "\n",
    "# Now we can compute theta:\n",
    "# Z_is_sorted = True since we sorted them ourselves\n",
    "Z_is_sorted = False\n",
    "# Suppose geometric mean = 0 (like MATLAB code)\n",
    "geom_mean = 1\n",
    "theta= gsp_compute_graph_learning_theta(Z_sp, k, geom_mean, Z_is_sorted)\n",
    "print(f\"Computed theta: {theta}\")\n",
    "\n",
    "# Learn the graph using log degrees\n",
    "W2, info_2 = gsp_learn_graph_log_degrees(theta * Z_sp, 1, 1)\n"
   ]
  },
  {
   "cell_type": "code",
   "execution_count": null,
   "metadata": {},
   "outputs": [
    {
     "data": {
      "text/plain": [
       "array([[ 0.00000000e+00,  8.96581428e-07,  8.96581428e-07,\n",
       "         1.29473096e-01,  1.23381381e-01],\n",
       "       [ 8.96581428e-07,  0.00000000e+00,  9.99999879e-01,\n",
       "        -8.97947584e-07,  5.60852909e-07],\n",
       "       [ 8.96581428e-07,  9.99999879e-01,  0.00000000e+00,\n",
       "        -8.97947584e-07,  5.60852909e-07],\n",
       "       [ 1.29473096e-01, -8.97947584e-07, -8.97947584e-07,\n",
       "         0.00000000e+00,  1.30983579e-01],\n",
       "       [ 1.23381381e-01,  5.60852909e-07,  5.60852909e-07,\n",
       "         1.30983579e-01,  0.00000000e+00]])"
      ]
     },
     "execution_count": 26,
     "metadata": {},
     "output_type": "execute_result"
    }
   ],
   "source": [
    "W2"
   ]
  },
  {
   "cell_type": "code",
   "execution_count": 27,
   "metadata": {},
   "outputs": [
    {
     "name": "stdout",
     "output_type": "stream",
     "text": [
      "W2 shape: (5, 5)\n"
     ]
    }
   ],
   "source": [
    "print(f\"W2 shape: {W2.shape}\")"
   ]
  },
  {
   "cell_type": "code",
   "execution_count": 25,
   "metadata": {},
   "outputs": [],
   "source": [
    "\n",
    "\n",
    "# def glmm(y, iterations, classes, spread=0.1, regul=0.15, norm_par=1.5):\n",
    "#     \"\"\"\n",
    "#     Python version of the MATLAB function glmm_matlab.\n",
    "\n",
    "#     Parameters\n",
    "#     ----------\n",
    "#     y : ndarray (m x n)\n",
    "#         Data matrix with m samples and n features.\n",
    "#     iterations : int\n",
    "#         Number of iterations.\n",
    "#     classes : int\n",
    "#         Number of classes (clusters).\n",
    "#     spread : float, optional\n",
    "#         Default 0.1\n",
    "#     regul : float, optional\n",
    "#         Default 0.15\n",
    "#     norm_par : float, optional\n",
    "#         Default 1.5\n",
    "\n",
    "#     Returns\n",
    "#     -------\n",
    "#     L : ndarray (n x n x classes)\n",
    "#         Graph Laplacians for each class.\n",
    "#     gamma_hat : ndarray (m x classes)\n",
    "#         Cluster posterior probabilities.\n",
    "#     mu : ndarray (n x classes)\n",
    "#         Cluster means.\n",
    "#     log_likelihood : ndarray (iterations,)\n",
    "#         Log-likelihood at each iteration.\n",
    "#     \"\"\"\n",
    "#     y = np.asarray(y, dtype=np.float64)\n",
    "#     # Helper constants\n",
    "#     delta = 2\n",
    "#     m, n = y.shape  # m samples, n features\n",
    "\n",
    "#     # Initialize arrays\n",
    "#     L = np.zeros((n, n, classes))\n",
    "#     W = np.zeros((n, n, classes))\n",
    "#     sigma = np.zeros((n-1, n-1, classes))\n",
    "#     mu = np.zeros((n, classes))\n",
    "#     gamma_hat = np.zeros((m, classes))\n",
    "#     p = np.zeros(classes)\n",
    "#     vecl = np.zeros((n, n, classes))\n",
    "#     vall = np.zeros((n, n, classes))\n",
    "#     yl = np.zeros((m, n-1, classes))\n",
    "\n",
    "#     # Initialization\n",
    "#     for class_idx in range(classes):\n",
    "#         L[..., class_idx] = spread * np.eye(n) - (spread / n) * np.ones((n, n))\n",
    "#         mu_curr = np.mean(y, axis=0) + np.random.randn(n) * np.std(y, axis=0)\n",
    "#         mu_curr = mu_curr - np.mean(mu_curr)\n",
    "#         mu[:, class_idx] = mu_curr\n",
    "#         p[class_idx] = 1.0 / classes\n",
    "\n",
    "#     log_likelihood = np.zeros(iterations)\n",
    "\n",
    "#     # Main loop\n",
    "#     for it in range(iterations):\n",
    "#         # Expectation step\n",
    "#         # putting everything in eigenvector space of dim-1\n",
    "#         pall = np.zeros(m)\n",
    "\n",
    "#         for class_idx in range(classes):\n",
    "#             # Eigen decomposition\n",
    "#             eigvals, eigvecs = np.linalg.eig(L[..., class_idx])\n",
    "#             # In MATLAB, [V,D] = eig(L) returns V as eigenvectors and D diag eigenvalues.\n",
    "#             # np.linalg.eig returns eigenvalues as a vector and eigenvectors as columns of eigvecs\n",
    "#             # We should ensure sorting if needed, but we'll assume identical behavior as MATLAB.\n",
    "#             # Let's store directly:\n",
    "#             vecl[..., class_idx] = eigvecs\n",
    "#             vall[..., class_idx] = np.diag(eigvals)\n",
    "\n",
    "#             # sigma = inv(vall(2:n,2:n,class) + regul*I)\n",
    "#             # We take the sub-block from index 1 to end (2:n in MATLAB means skipping the first eigenvalue)\n",
    "#             sub_eigvals = eigvals[1:]\n",
    "#             Sigma_inv = np.diag(sub_eigvals) + regul * np.eye(n-1)\n",
    "#             # inverse\n",
    "#             Sigma = np.linalg.inv(Sigma_inv)\n",
    "#             # Make symmetric\n",
    "#             Sigma = (Sigma + Sigma.T) / 2\n",
    "#             sigma[..., class_idx] = Sigma\n",
    "\n",
    "#             # yl = (y - mu(:,class)') * vecl(:,2:n,class)\n",
    "#             # mu[:,class_idx] is shape (n,)\n",
    "#             # y is (m,n), mu is (n,), we want (y - mu') => (m,n)\n",
    "#             # vecl(:,2:n,class_idx) => vecl[:,: ,class_idx], take from index 1 to n-1 for columns\n",
    "#             Y_centered = y - mu[:, class_idx]\n",
    "#             YL = Y_centered @ vecl[:, 1:, class_idx]\n",
    "#             yl[..., class_idx] = YL\n",
    "\n",
    "#             # pall = pall + p(class) * mvnpdf(yl(:,:,class), zeros(1,n-1), sigma(:,:,class))\n",
    "#             # We assume mvnpdf(yl, mean=0, cov=sigma) returns a vector of length m\n",
    "#             mvn_val = mvnpdf(YL, np.zeros(n-1), Sigma)\n",
    "#             pall += p[class_idx] * mvn_val\n",
    "\n",
    "#         # Avoid division by zero\n",
    "#         pall[pall == 0] = 0.1\n",
    "\n",
    "#         # compute gamma_hat\n",
    "#         for class_idx in range(classes):\n",
    "#             mvn_val = mvnpdf(yl[..., class_idx], np.zeros(n-1), sigma[..., class_idx])\n",
    "#             gamma_hat[:, class_idx] = (p[class_idx] * mvn_val) / pall\n",
    "\n",
    "#         # log-likelihood\n",
    "#         log_likelihood[it] = np.sum(np.log(pall))\n",
    "\n",
    "#         # Maximization step\n",
    "#         for class_idx in range(classes):\n",
    "#             # mu(:,class) = (gamma_hat(:,class)' * y) / sum(gamma_hat(:,class))\n",
    "#             wght = gamma_hat[:, class_idx]\n",
    "#             mu[:, class_idx] = (wght @ y) / np.sum(wght)\n",
    "\n",
    "#             # yc = sqrt(gamma_hat(:,class)) .* (y - mu(:,class)')\n",
    "#             # sqrt(gamma_hat(:,class)) is shape (m,)\n",
    "#             # (y - mu[:,class_idx]) is (m,n)\n",
    "#             # elementwise: we can do broadcast:\n",
    "#             yc = (y - mu[:, class_idx]) * np.sqrt(wght)[:, None]\n",
    "\n",
    "#             # Z = gsp_distanz(yc).^2\n",
    "#             Z = gsp_distanz(yc)\n",
    "#             Z = Z**2\n",
    "\n",
    "#             # theta = mean(Z(:))/norm_par\n",
    "#             theta = np.mean(Z) / norm_par\n",
    "\n",
    "#             # W_curr = delta*gsp_learn_graph_log_degrees(Z./theta, 1, 1)\n",
    "#             W_curr, _ = gsp_learn_graph_log_degrees(Z / theta, 1, 1, params={})\n",
    "#             W_curr = delta * W_curr\n",
    "\n",
    "#             p[class_idx] = np.sum(wght) / m\n",
    "\n",
    "#             # Compute L(:,:,class)\n",
    "#             # L = diag(sum(W)) - W\n",
    "#             W_sum = np.sum(W_curr, axis=1)\n",
    "#             L[..., class_idx] = np.diag(W_sum) - W_curr\n",
    "\n",
    "#             # W_curr(W_curr<1e-3)=0\n",
    "#             W_curr[W_curr < 1e-3] = 0\n",
    "#             W[..., class_idx] = W_curr\n",
    "\n",
    "#     return L, gamma_hat, mu, log_likelihood\n"
   ]
  },
  {
   "cell_type": "code",
   "execution_count": 26,
   "metadata": {},
   "outputs": [],
   "source": [
    "# def glmm(y, iterations, classes, spread=0.1, regul=0.15, norm_par=1.5):\n",
    "#     \"\"\"\n",
    "#     Python version of glmm_matlab.\n",
    "\n",
    "#     Parameters\n",
    "#     ----------\n",
    "#     y : ndarray (m x n)\n",
    "#         Data matrix with m samples and n features.\n",
    "#     iterations : int\n",
    "#         Number of iterations.\n",
    "#     classes : int\n",
    "#         Number of classes (clusters).\n",
    "#     spread : float, optional\n",
    "#         Default 0.1\n",
    "#     regul : float, optional\n",
    "#         Default 0.15\n",
    "#     norm_par : float, optional\n",
    "#         Default 1.5\n",
    "\n",
    "#     Returns\n",
    "#     -------\n",
    "#     L : ndarray (n x n x classes)\n",
    "#         Graph Laplacians for each class.\n",
    "#     gamma_hat : ndarray (m x classes)\n",
    "#         Cluster posterior probabilities.\n",
    "#     mu : ndarray (n x classes)\n",
    "#         Cluster means.\n",
    "#     log_likelihood : ndarray (iterations,)\n",
    "#         Log-likelihood at each iteration.\n",
    "#     \"\"\"\n",
    "#     y = np.asarray(y, dtype=np.float64)\n",
    "#     n = y.shape[1]\n",
    "#     m = y.shape[0]\n",
    "\n",
    "#     L = np.zeros((n,n,classes))\n",
    "#     W = np.zeros((n,n,classes))\n",
    "#     sigma = np.zeros((n-1,n-1,classes))\n",
    "#     mu = np.zeros((n, classes))\n",
    "#     gamma_hat = np.zeros((m, classes))\n",
    "#     p = np.zeros(classes)\n",
    "#     vecl = np.zeros((n,n,classes))\n",
    "#     vall = np.zeros((n,n,classes))\n",
    "#     yl = np.zeros((m, n-1, classes))\n",
    "\n",
    "#     # Initialization\n",
    "#     # mu_curr = mean(y) + randn(1,n).*std(y), then shift by mean again\n",
    "#     # p(class) = 1/classes\n",
    "#     for class_idx in range(classes):\n",
    "#         L[:,:,class_idx] = spread*np.eye(n) - (spread/n)*np.ones((n,n))\n",
    "#         mu_curr = np.mean(y, axis=0) + np.random.randn(n)*np.std(y,axis=0)\n",
    "#         mu_curr = mu_curr - np.mean(mu_curr)\n",
    "#         mu[:,class_idx] = mu_curr\n",
    "#         p[class_idx] = 1.0/classes\n",
    "\n",
    "#     log_likelihood = np.zeros(iterations)\n",
    "\n",
    "#     for it in range(iterations):\n",
    "#         # E-step\n",
    "#         pall = np.zeros(m, dtype=np.float64)\n",
    "#         for class_idx in range(classes):\n",
    "#             # eigen decomposition\n",
    "#             eigvals, eigvecs = np.linalg.eig(L[:,:,class_idx])\n",
    "#             # Store eigenvectors and diag eigenvalues\n",
    "#             vecl[:,:,class_idx] = eigvecs\n",
    "#             vall[:,:,class_idx] = np.diag(eigvals)\n",
    "\n",
    "#             sub_eigvals = eigvals[1:]\n",
    "#             Sigma_inv = np.diag(sub_eigvals) + regul*np.eye(n-1)\n",
    "#             Sigma = np.linalg.inv(Sigma_inv)\n",
    "#             Sigma = (Sigma+Sigma.T)/2\n",
    "#             sigma[:,:,class_idx] = Sigma\n",
    "\n",
    "#             Y_centered = y - mu[:,class_idx]\n",
    "#             YL = Y_centered @ vecl[:,1:,class_idx]\n",
    "#             yl[:,:,class_idx] = YL\n",
    "\n",
    "#             # mvnpdf(yl(:,:,class), zeros(1,n-1), sigma)\n",
    "#             mvn_val = mvnpdf(YL, np.zeros(n-1), Sigma)\n",
    "#             pall += p[class_idx]*mvn_val\n",
    "\n",
    "#         pall[pall==0] = 0.1\n",
    "\n",
    "#         for class_idx in range(classes):\n",
    "#             mvn_val = mvnpdf(yl[:,:,class_idx], np.zeros(n-1), sigma[:,:,class_idx])\n",
    "#             gamma_hat[:,class_idx] = (p[class_idx]*mvn_val)/pall\n",
    "\n",
    "#         log_likelihood[it] = np.sum(np.log(pall))\n",
    "\n",
    "#         # M-step\n",
    "#         for class_idx in range(classes):\n",
    "#             wght = gamma_hat[:,class_idx]\n",
    "#             mu[:,class_idx] = (wght @ y)/np.sum(wght)\n",
    "\n",
    "#             yc = (y - mu[:,class_idx])*np.sqrt(wght)[:,None]\n",
    "#             Z = gsp_distanz(yc)**2\n",
    "#             theta = np.mean(Z)/norm_par\n",
    "\n",
    "#             # W_curr = delta*gsp_learn_graph_log_degrees(Z./theta, 1,1)\n",
    "#             # delta = 2 from code \n",
    "#             delta = 2\n",
    "#             W_curr, _ = gsp_learn_graph_log_degrees(Z/theta, 1, 1, params={})\n",
    "#             W_curr = delta*W_curr\n",
    "\n",
    "#             p[class_idx] = np.sum(wght)/m\n",
    "#             # L(:,:,class) = diag(sum(W)) - W\n",
    "#             W_sum = np.sum(W_curr, axis=1)\n",
    "#             L[:,:,class_idx] = np.diag(W_sum)-W_curr\n",
    "#             W_curr[W_curr<1e-3] = 0\n",
    "#             W[:,:,class_idx] = W_curr\n",
    "\n",
    "#     return L, gamma_hat, mu, log_likelihood"
   ]
  },
  {
   "cell_type": "code",
   "execution_count": 64,
   "metadata": {},
   "outputs": [],
   "source": [
    "def glmm(y, iterations, classes, avg_nr_edges , spread=0.1, regul=0.15, norm_par=1.5, alpha=None):\n",
    "    \"\"\"\n",
    "    Python version of glmm_matlab with custom cluster priors (alpha).\n",
    "\n",
    "    Parameters\n",
    "    ----------\n",
    "    y : ndarray (m x n)\n",
    "        Data matrix with m samples and n features.\n",
    "    iterations : int\n",
    "        Number of iterations.\n",
    "    classes : int\n",
    "        Number of classes (clusters).\n",
    "    spread : float, optional\n",
    "        Default 0.1\n",
    "    regul : float, optional\n",
    "        Default 0.15\n",
    "    norm_par : float, optional\n",
    "        Default 1.5\n",
    "    alpha : array-like, optional\n",
    "        Mixing coefficients for the clusters. Should sum to 1 and have length = classes.\n",
    "        If None, alpha is initialized to 1/classes each.\n",
    "\n",
    "    Returns\n",
    "    -------\n",
    "    L : ndarray (n x n x classes)\n",
    "        Graph Laplacians for each class.\n",
    "    gamma_hat : ndarray (m x classes)\n",
    "        Cluster posterior probabilities.\n",
    "    mu : ndarray (n x classes)\n",
    "        Cluster means.\n",
    "    log_likelihood : ndarray (iterations,)\n",
    "        Log-likelihood at each iteration.\n",
    "    \"\"\"\n",
    "\n",
    "    y = np.asarray(y, dtype=np.float64)\n",
    "    n = y.shape[1]\n",
    "    m = y.shape[0]\n",
    "\n",
    "    L = np.zeros((n,n,classes))\n",
    "    W = np.zeros((n,n,classes))\n",
    "    sigma = np.zeros((n-1,n-1,classes))\n",
    "    mu = np.zeros((n, classes))\n",
    "    gamma_hat = np.zeros((m, classes))\n",
    "    p = np.zeros(classes)\n",
    "    vecl = np.zeros((n,n,classes))\n",
    "    vall = np.zeros((n,n,classes))\n",
    "    yl = np.zeros((m, n-1, classes))\n",
    "\n",
    "    # Initialization\n",
    "    # If alpha is provided, use it. Otherwise, initialize uniformly.\n",
    "    if alpha is not None:\n",
    "        alpha = np.asarray(alpha, dtype=float)\n",
    "        if len(alpha) != classes:\n",
    "            raise ValueError(\"Length of alpha must match number of classes.\")\n",
    "        if not np.allclose(np.sum(alpha), 1.0):\n",
    "            raise ValueError(\"Alpha must sum to 1.\")\n",
    "        p = alpha\n",
    "    else:\n",
    "        p[:] = 1.0/classes\n",
    "\n",
    "    for class_idx in range(classes):\n",
    "        L[:,:,class_idx] = spread*np.eye(n) - (spread/n)*np.ones((n,n))\n",
    "        mu_curr = np.mean(y, axis=0) + np.random.randn(n)*np.std(y,axis=0)\n",
    "        mu_curr = mu_curr - np.mean(mu_curr)\n",
    "        mu[:,class_idx] = mu_curr\n",
    "\n",
    "    log_likelihood = np.zeros(iterations)\n",
    "\n",
    "    for it in range(iterations):\n",
    "        # E-step\n",
    "        pall = np.zeros(m, dtype=np.float64)\n",
    "        for class_idx in range(classes):\n",
    "            # eigen decomposition\n",
    "            eigvals, eigvecs = np.linalg.eig(L[:,:,class_idx])\n",
    "            vecl[:,:,class_idx] = eigvecs\n",
    "            vall[:,:,class_idx] = np.diag(eigvals)\n",
    "\n",
    "            sub_eigvals = eigvals[1:]\n",
    "            Sigma_inv = np.diag(sub_eigvals) + regul*np.eye(n-1)\n",
    "            Sigma = np.linalg.inv(Sigma_inv)\n",
    "            Sigma = (Sigma+Sigma.T)/2\n",
    "            sigma[:,:,class_idx] = Sigma\n",
    "\n",
    "            Y_centered = y - mu[:,class_idx]\n",
    "            YL = Y_centered @ vecl[:,1:,class_idx]\n",
    "            yl[:,:,class_idx] = YL\n",
    "\n",
    "            mvn_val = mvnpdf(YL, np.zeros(n-1), Sigma)\n",
    "            pall += p[class_idx]*mvn_val\n",
    "\n",
    "        pall[pall==0] = 0.1\n",
    "\n",
    "        for class_idx in range(classes):\n",
    "            mvn_val = mvnpdf(yl[:,:,class_idx], np.zeros(n-1), sigma[:,:,class_idx])\n",
    "            gamma_hat[:,class_idx] = (p[class_idx]*mvn_val)/pall\n",
    "\n",
    "        log_likelihood[it] = np.sum(np.log(pall))\n",
    "\n",
    "        # M-step\n",
    "        for class_idx in range(classes):\n",
    "            wght = gamma_hat[:,class_idx]\n",
    "            mu[:,class_idx] = (wght @ y)/np.sum(wght)\n",
    "\n",
    "            yc = (y - mu[:,class_idx])*np.sqrt(wght)[:,None]\n",
    "            # Z = gsp_distanz(yc)**2\n",
    "            Z = gsp_ann_distanz(yc, k=avg_nr_edges, metric_in='euclidean')**2\n",
    "            Z = gsp_symmetrize(Z, 'full')\n",
    "            # theta = np.mean(Z)/norm_par\n",
    "            theta = gsp_compute_graph_learning_theta(Z, avg_nr_edges)\n",
    "            print(theta)\n",
    "\n",
    "            # delta = 2 from code \n",
    "            delta = 2\n",
    "            W_curr, _ = gsp_learn_graph_log_degrees(theta * Z, 1, 1, params={})\n",
    "            W_curr = delta*W_curr\n",
    "\n",
    "            p[class_idx] = np.sum(wght)/m\n",
    "            W_sum = np.sum(W_curr, axis=1)\n",
    "            L[:,:,class_idx] = np.diag(W_sum)-W_curr\n",
    "            W_curr[W_curr<1e-3] = 0\n",
    "            W[:,:,class_idx] = W_curr\n",
    "\n",
    "    return L, gamma_hat, mu, log_likelihood\n",
    "\n",
    "\n"
   ]
  },
  {
   "cell_type": "code",
   "execution_count": 65,
   "metadata": {},
   "outputs": [
    {
     "name": "stdout",
     "output_type": "stream",
     "text": [
      "[0.  0.5 1. ]\n",
      "A connected graph has been created in 1 iteration(s)\n",
      "A connected graph has been created in 1 iteration(s)\n"
     ]
    },
    {
     "name": "stderr",
     "output_type": "stream",
     "text": [
      "/Users/paul_reitz/opt/miniconda3/envs/apache_sedona/lib/python3.12/site-packages/pynndescent/pynndescent_.py:939: UserWarning: Failed to correctly find n_neighbors for some samples. Results may be less than ideal. Try re-running with different parameters.\n",
      "  warn(\n"
     ]
    },
    {
     "name": "stdout",
     "output_type": "stream",
     "text": [
      "10000000.0\n",
      "# iters:   54. Rel primal: 8.4561e-06 Rel dual: 9.5588e-06  OBJ 2.330e+03\n",
      "Time needed is 0.0023441314697265625 seconds\n"
     ]
    },
    {
     "name": "stderr",
     "output_type": "stream",
     "text": [
      "/Users/paul_reitz/opt/miniconda3/envs/apache_sedona/lib/python3.12/site-packages/pynndescent/pynndescent_.py:939: UserWarning: Failed to correctly find n_neighbors for some samples. Results may be less than ideal. Try re-running with different parameters.\n",
      "  warn(\n"
     ]
    },
    {
     "name": "stdout",
     "output_type": "stream",
     "text": [
      "10000000.0\n",
      "# iters:   54. Rel primal: 8.4442e-06 Rel dual: 9.5328e-06  OBJ 5.973e+03\n",
      "Time needed is 0.002168893814086914 seconds\n"
     ]
    },
    {
     "name": "stderr",
     "output_type": "stream",
     "text": [
      "/Users/paul_reitz/opt/miniconda3/envs/apache_sedona/lib/python3.12/site-packages/pynndescent/pynndescent_.py:939: UserWarning: Failed to correctly find n_neighbors for some samples. Results may be less than ideal. Try re-running with different parameters.\n",
      "  warn(\n"
     ]
    },
    {
     "name": "stdout",
     "output_type": "stream",
     "text": [
      "9333333.33771806\n",
      "# iters:   45. Rel primal: 3.1730e-06 Rel dual: 8.8977e-06  OBJ 1.527e+03\n",
      "Time needed is 0.0018811225891113281 seconds\n"
     ]
    },
    {
     "name": "stderr",
     "output_type": "stream",
     "text": [
      "/Users/paul_reitz/opt/miniconda3/envs/apache_sedona/lib/python3.12/site-packages/pynndescent/pynndescent_.py:939: UserWarning: Failed to correctly find n_neighbors for some samples. Results may be less than ideal. Try re-running with different parameters.\n",
      "  warn(\n"
     ]
    },
    {
     "name": "stdout",
     "output_type": "stream",
     "text": [
      "8640987.603090312\n",
      "# iters:   53. Rel primal: 1.6034e-06 Rel dual: 8.2605e-06  OBJ 2.437e+03\n",
      "Time needed is 0.0019180774688720703 seconds\n"
     ]
    },
    {
     "name": "stderr",
     "output_type": "stream",
     "text": [
      "/Users/paul_reitz/opt/miniconda3/envs/apache_sedona/lib/python3.12/site-packages/pynndescent/pynndescent_.py:939: UserWarning: Failed to correctly find n_neighbors for some samples. Results may be less than ideal. Try re-running with different parameters.\n",
      "  warn(\n"
     ]
    },
    {
     "name": "stdout",
     "output_type": "stream",
     "text": [
      "8666666.675665861\n",
      "# iters:   48. Rel primal: 4.0006e-06 Rel dual: 7.7208e-06  OBJ 1.861e+03\n",
      "Time needed is 0.0017511844635009766 seconds\n"
     ]
    },
    {
     "name": "stderr",
     "output_type": "stream",
     "text": [
      "/Users/paul_reitz/opt/miniconda3/envs/apache_sedona/lib/python3.12/site-packages/pynndescent/pynndescent_.py:939: UserWarning: Failed to correctly find n_neighbors for some samples. Results may be less than ideal. Try re-running with different parameters.\n",
      "  warn(\n"
     ]
    },
    {
     "name": "stdout",
     "output_type": "stream",
     "text": [
      "7972173.839992893\n",
      "# iters:   48. Rel primal: 3.9285e-06 Rel dual: 9.4477e-06  OBJ 3.520e+03\n",
      "Time needed is 0.0022881031036376953 seconds\n"
     ]
    },
    {
     "name": "stderr",
     "output_type": "stream",
     "text": [
      "/Users/paul_reitz/opt/miniconda3/envs/apache_sedona/lib/python3.12/site-packages/pynndescent/pynndescent_.py:939: UserWarning: Failed to correctly find n_neighbors for some samples. Results may be less than ideal. Try re-running with different parameters.\n",
      "  warn(\n"
     ]
    },
    {
     "name": "stdout",
     "output_type": "stream",
     "text": [
      "8666666.675417814\n",
      "# iters:   48. Rel primal: 3.9811e-06 Rel dual: 7.7601e-06  OBJ 1.895e+03\n",
      "Time needed is 0.0022017955780029297 seconds\n"
     ]
    },
    {
     "name": "stderr",
     "output_type": "stream",
     "text": [
      "/Users/paul_reitz/opt/miniconda3/envs/apache_sedona/lib/python3.12/site-packages/pynndescent/pynndescent_.py:939: UserWarning: Failed to correctly find n_neighbors for some samples. Results may be less than ideal. Try re-running with different parameters.\n",
      "  warn(\n"
     ]
    },
    {
     "name": "stdout",
     "output_type": "stream",
     "text": [
      "7972173.840017433\n",
      "# iters:   48. Rel primal: 4.1794e-06 Rel dual: 9.1779e-06  OBJ 3.392e+03\n",
      "Time needed is 0.0019228458404541016 seconds\n"
     ]
    },
    {
     "name": "stderr",
     "output_type": "stream",
     "text": [
      "/Users/paul_reitz/opt/miniconda3/envs/apache_sedona/lib/python3.12/site-packages/pynndescent/pynndescent_.py:939: UserWarning: Failed to correctly find n_neighbors for some samples. Results may be less than ideal. Try re-running with different parameters.\n",
      "  warn(\n"
     ]
    },
    {
     "name": "stdout",
     "output_type": "stream",
     "text": [
      "8666666.675582608\n",
      "# iters:   48. Rel primal: 4.0006e-06 Rel dual: 7.7208e-06  OBJ 1.871e+03\n",
      "Time needed is 0.0017459392547607422 seconds\n"
     ]
    },
    {
     "name": "stderr",
     "output_type": "stream",
     "text": [
      "/Users/paul_reitz/opt/miniconda3/envs/apache_sedona/lib/python3.12/site-packages/pynndescent/pynndescent_.py:939: UserWarning: Failed to correctly find n_neighbors for some samples. Results may be less than ideal. Try re-running with different parameters.\n",
      "  warn(\n"
     ]
    },
    {
     "name": "stdout",
     "output_type": "stream",
     "text": [
      "7972173.840000475\n",
      "# iters:   48. Rel primal: 3.9285e-06 Rel dual: 9.4477e-06  OBJ 3.517e+03\n",
      "Time needed is 0.0019278526306152344 seconds\n"
     ]
    },
    {
     "name": "stderr",
     "output_type": "stream",
     "text": [
      "/Users/paul_reitz/opt/miniconda3/envs/apache_sedona/lib/python3.12/site-packages/pynndescent/pynndescent_.py:939: UserWarning: Failed to correctly find n_neighbors for some samples. Results may be less than ideal. Try re-running with different parameters.\n",
      "  warn(\n"
     ]
    },
    {
     "name": "stdout",
     "output_type": "stream",
     "text": [
      "8666666.675413879\n",
      "# iters:   48. Rel primal: 3.9811e-06 Rel dual: 7.7601e-06  OBJ 1.895e+03\n",
      "Time needed is 0.0020689964294433594 seconds\n"
     ]
    },
    {
     "name": "stderr",
     "output_type": "stream",
     "text": [
      "/Users/paul_reitz/opt/miniconda3/envs/apache_sedona/lib/python3.12/site-packages/pynndescent/pynndescent_.py:939: UserWarning: Failed to correctly find n_neighbors for some samples. Results may be less than ideal. Try re-running with different parameters.\n",
      "  warn(\n"
     ]
    },
    {
     "name": "stdout",
     "output_type": "stream",
     "text": [
      "7972173.840017851\n",
      "# iters:   48. Rel primal: 4.1794e-06 Rel dual: 9.1779e-06  OBJ 3.392e+03\n",
      "Time needed is 0.001961946487426758 seconds\n"
     ]
    },
    {
     "name": "stderr",
     "output_type": "stream",
     "text": [
      "/Users/paul_reitz/opt/miniconda3/envs/apache_sedona/lib/python3.12/site-packages/pynndescent/pynndescent_.py:939: UserWarning: Failed to correctly find n_neighbors for some samples. Results may be less than ideal. Try re-running with different parameters.\n",
      "  warn(\n"
     ]
    },
    {
     "name": "stdout",
     "output_type": "stream",
     "text": [
      "8666666.67558253\n",
      "# iters:   48. Rel primal: 4.0006e-06 Rel dual: 7.7208e-06  OBJ 1.871e+03\n",
      "Time needed is 0.0019061565399169922 seconds\n"
     ]
    },
    {
     "name": "stderr",
     "output_type": "stream",
     "text": [
      "/Users/paul_reitz/opt/miniconda3/envs/apache_sedona/lib/python3.12/site-packages/pynndescent/pynndescent_.py:939: UserWarning: Failed to correctly find n_neighbors for some samples. Results may be less than ideal. Try re-running with different parameters.\n",
      "  warn(\n"
     ]
    },
    {
     "name": "stdout",
     "output_type": "stream",
     "text": [
      "7972173.840000483\n",
      "# iters:   48. Rel primal: 3.9285e-06 Rel dual: 9.4477e-06  OBJ 3.517e+03\n",
      "Time needed is 0.002202272415161133 seconds\n"
     ]
    },
    {
     "name": "stderr",
     "output_type": "stream",
     "text": [
      "/Users/paul_reitz/opt/miniconda3/envs/apache_sedona/lib/python3.12/site-packages/pynndescent/pynndescent_.py:939: UserWarning: Failed to correctly find n_neighbors for some samples. Results may be less than ideal. Try re-running with different parameters.\n",
      "  warn(\n"
     ]
    },
    {
     "name": "stdout",
     "output_type": "stream",
     "text": [
      "8666666.675413875\n",
      "# iters:   48. Rel primal: 3.9811e-06 Rel dual: 7.7601e-06  OBJ 1.895e+03\n",
      "Time needed is 0.002023935317993164 seconds\n"
     ]
    },
    {
     "name": "stderr",
     "output_type": "stream",
     "text": [
      "/Users/paul_reitz/opt/miniconda3/envs/apache_sedona/lib/python3.12/site-packages/pynndescent/pynndescent_.py:939: UserWarning: Failed to correctly find n_neighbors for some samples. Results may be less than ideal. Try re-running with different parameters.\n",
      "  warn(\n"
     ]
    },
    {
     "name": "stdout",
     "output_type": "stream",
     "text": [
      "7972173.840017851\n",
      "# iters:   48. Rel primal: 4.1794e-06 Rel dual: 9.1779e-06  OBJ 3.392e+03\n",
      "Time needed is 0.0022678375244140625 seconds\n"
     ]
    },
    {
     "name": "stderr",
     "output_type": "stream",
     "text": [
      "/Users/paul_reitz/opt/miniconda3/envs/apache_sedona/lib/python3.12/site-packages/pynndescent/pynndescent_.py:939: UserWarning: Failed to correctly find n_neighbors for some samples. Results may be less than ideal. Try re-running with different parameters.\n",
      "  warn(\n"
     ]
    },
    {
     "name": "stdout",
     "output_type": "stream",
     "text": [
      "8666666.67558253\n",
      "# iters:   48. Rel primal: 4.0006e-06 Rel dual: 7.7208e-06  OBJ 1.871e+03\n",
      "Time needed is 0.0017800331115722656 seconds\n"
     ]
    },
    {
     "name": "stderr",
     "output_type": "stream",
     "text": [
      "/Users/paul_reitz/opt/miniconda3/envs/apache_sedona/lib/python3.12/site-packages/pynndescent/pynndescent_.py:939: UserWarning: Failed to correctly find n_neighbors for some samples. Results may be less than ideal. Try re-running with different parameters.\n",
      "  warn(\n"
     ]
    },
    {
     "name": "stdout",
     "output_type": "stream",
     "text": [
      "7972173.840000483\n",
      "# iters:   48. Rel primal: 3.9285e-06 Rel dual: 9.4477e-06  OBJ 3.517e+03\n",
      "Time needed is 0.002138853073120117 seconds\n"
     ]
    },
    {
     "name": "stderr",
     "output_type": "stream",
     "text": [
      "/Users/paul_reitz/opt/miniconda3/envs/apache_sedona/lib/python3.12/site-packages/pynndescent/pynndescent_.py:939: UserWarning: Failed to correctly find n_neighbors for some samples. Results may be less than ideal. Try re-running with different parameters.\n",
      "  warn(\n"
     ]
    },
    {
     "name": "stdout",
     "output_type": "stream",
     "text": [
      "8666666.675413875\n",
      "# iters:   48. Rel primal: 3.9811e-06 Rel dual: 7.7601e-06  OBJ 1.895e+03\n",
      "Time needed is 0.001981973648071289 seconds\n"
     ]
    },
    {
     "name": "stderr",
     "output_type": "stream",
     "text": [
      "/Users/paul_reitz/opt/miniconda3/envs/apache_sedona/lib/python3.12/site-packages/pynndescent/pynndescent_.py:939: UserWarning: Failed to correctly find n_neighbors for some samples. Results may be less than ideal. Try re-running with different parameters.\n",
      "  warn(\n"
     ]
    },
    {
     "name": "stdout",
     "output_type": "stream",
     "text": [
      "7972173.840017851\n",
      "# iters:   48. Rel primal: 4.1794e-06 Rel dual: 9.1779e-06  OBJ 3.392e+03\n",
      "Time needed is 0.0022919178009033203 seconds\n"
     ]
    },
    {
     "name": "stderr",
     "output_type": "stream",
     "text": [
      "/Users/paul_reitz/opt/miniconda3/envs/apache_sedona/lib/python3.12/site-packages/pynndescent/pynndescent_.py:939: UserWarning: Failed to correctly find n_neighbors for some samples. Results may be less than ideal. Try re-running with different parameters.\n",
      "  warn(\n"
     ]
    },
    {
     "name": "stdout",
     "output_type": "stream",
     "text": [
      "8666666.67558253\n",
      "# iters:   48. Rel primal: 4.0006e-06 Rel dual: 7.7208e-06  OBJ 1.871e+03\n",
      "Time needed is 0.0024421215057373047 seconds\n"
     ]
    },
    {
     "name": "stderr",
     "output_type": "stream",
     "text": [
      "/Users/paul_reitz/opt/miniconda3/envs/apache_sedona/lib/python3.12/site-packages/pynndescent/pynndescent_.py:939: UserWarning: Failed to correctly find n_neighbors for some samples. Results may be less than ideal. Try re-running with different parameters.\n",
      "  warn(\n"
     ]
    },
    {
     "name": "stdout",
     "output_type": "stream",
     "text": [
      "7972173.840000483\n",
      "# iters:   48. Rel primal: 3.9285e-06 Rel dual: 9.4477e-06  OBJ 3.517e+03\n",
      "Time needed is 0.001956939697265625 seconds\n"
     ]
    },
    {
     "name": "stderr",
     "output_type": "stream",
     "text": [
      "/Users/paul_reitz/opt/miniconda3/envs/apache_sedona/lib/python3.12/site-packages/pynndescent/pynndescent_.py:939: UserWarning: Failed to correctly find n_neighbors for some samples. Results may be less than ideal. Try re-running with different parameters.\n",
      "  warn(\n"
     ]
    },
    {
     "name": "stdout",
     "output_type": "stream",
     "text": [
      "8666666.675413875\n",
      "# iters:   48. Rel primal: 3.9811e-06 Rel dual: 7.7601e-06  OBJ 1.895e+03\n",
      "Time needed is 0.002131938934326172 seconds\n"
     ]
    },
    {
     "name": "stderr",
     "output_type": "stream",
     "text": [
      "/Users/paul_reitz/opt/miniconda3/envs/apache_sedona/lib/python3.12/site-packages/pynndescent/pynndescent_.py:939: UserWarning: Failed to correctly find n_neighbors for some samples. Results may be less than ideal. Try re-running with different parameters.\n",
      "  warn(\n"
     ]
    },
    {
     "name": "stdout",
     "output_type": "stream",
     "text": [
      "7972173.840017851\n",
      "# iters:   48. Rel primal: 4.1794e-06 Rel dual: 9.1779e-06  OBJ 3.392e+03\n",
      "Time needed is 0.001958131790161133 seconds\n"
     ]
    },
    {
     "name": "stderr",
     "output_type": "stream",
     "text": [
      "/Users/paul_reitz/opt/miniconda3/envs/apache_sedona/lib/python3.12/site-packages/pynndescent/pynndescent_.py:939: UserWarning: Failed to correctly find n_neighbors for some samples. Results may be less than ideal. Try re-running with different parameters.\n",
      "  warn(\n"
     ]
    },
    {
     "name": "stdout",
     "output_type": "stream",
     "text": [
      "8666666.67558253\n",
      "# iters:   48. Rel primal: 4.0006e-06 Rel dual: 7.7208e-06  OBJ 1.871e+03\n",
      "Time needed is 0.0019850730895996094 seconds\n"
     ]
    },
    {
     "name": "stderr",
     "output_type": "stream",
     "text": [
      "/Users/paul_reitz/opt/miniconda3/envs/apache_sedona/lib/python3.12/site-packages/pynndescent/pynndescent_.py:939: UserWarning: Failed to correctly find n_neighbors for some samples. Results may be less than ideal. Try re-running with different parameters.\n",
      "  warn(\n"
     ]
    },
    {
     "name": "stdout",
     "output_type": "stream",
     "text": [
      "7972173.840000483\n",
      "# iters:   48. Rel primal: 3.9285e-06 Rel dual: 9.4477e-06  OBJ 3.517e+03\n",
      "Time needed is 0.0020868778228759766 seconds\n"
     ]
    },
    {
     "name": "stderr",
     "output_type": "stream",
     "text": [
      "/Users/paul_reitz/opt/miniconda3/envs/apache_sedona/lib/python3.12/site-packages/pynndescent/pynndescent_.py:939: UserWarning: Failed to correctly find n_neighbors for some samples. Results may be less than ideal. Try re-running with different parameters.\n",
      "  warn(\n"
     ]
    },
    {
     "name": "stdout",
     "output_type": "stream",
     "text": [
      "8666666.675413875\n",
      "# iters:   48. Rel primal: 3.9811e-06 Rel dual: 7.7601e-06  OBJ 1.895e+03\n",
      "Time needed is 0.001992940902709961 seconds\n"
     ]
    },
    {
     "name": "stderr",
     "output_type": "stream",
     "text": [
      "/Users/paul_reitz/opt/miniconda3/envs/apache_sedona/lib/python3.12/site-packages/pynndescent/pynndescent_.py:939: UserWarning: Failed to correctly find n_neighbors for some samples. Results may be less than ideal. Try re-running with different parameters.\n",
      "  warn(\n"
     ]
    },
    {
     "name": "stdout",
     "output_type": "stream",
     "text": [
      "7972173.840017851\n",
      "# iters:   48. Rel primal: 4.1794e-06 Rel dual: 9.1779e-06  OBJ 3.392e+03\n",
      "Time needed is 0.0023317337036132812 seconds\n"
     ]
    },
    {
     "name": "stderr",
     "output_type": "stream",
     "text": [
      "/Users/paul_reitz/opt/miniconda3/envs/apache_sedona/lib/python3.12/site-packages/pynndescent/pynndescent_.py:939: UserWarning: Failed to correctly find n_neighbors for some samples. Results may be less than ideal. Try re-running with different parameters.\n",
      "  warn(\n"
     ]
    },
    {
     "name": "stdout",
     "output_type": "stream",
     "text": [
      "8666666.67558253\n",
      "# iters:   48. Rel primal: 4.0006e-06 Rel dual: 7.7208e-06  OBJ 1.871e+03\n",
      "Time needed is 0.0022058486938476562 seconds\n"
     ]
    },
    {
     "name": "stderr",
     "output_type": "stream",
     "text": [
      "/Users/paul_reitz/opt/miniconda3/envs/apache_sedona/lib/python3.12/site-packages/pynndescent/pynndescent_.py:939: UserWarning: Failed to correctly find n_neighbors for some samples. Results may be less than ideal. Try re-running with different parameters.\n",
      "  warn(\n"
     ]
    },
    {
     "name": "stdout",
     "output_type": "stream",
     "text": [
      "7972173.840000483\n",
      "# iters:   48. Rel primal: 3.9285e-06 Rel dual: 9.4477e-06  OBJ 3.517e+03\n",
      "Time needed is 0.002007722854614258 seconds\n"
     ]
    },
    {
     "name": "stderr",
     "output_type": "stream",
     "text": [
      "/Users/paul_reitz/opt/miniconda3/envs/apache_sedona/lib/python3.12/site-packages/pynndescent/pynndescent_.py:939: UserWarning: Failed to correctly find n_neighbors for some samples. Results may be less than ideal. Try re-running with different parameters.\n",
      "  warn(\n"
     ]
    },
    {
     "name": "stdout",
     "output_type": "stream",
     "text": [
      "8666666.675413875\n",
      "# iters:   48. Rel primal: 3.9811e-06 Rel dual: 7.7601e-06  OBJ 1.895e+03\n",
      "Time needed is 0.0020711421966552734 seconds\n"
     ]
    },
    {
     "name": "stderr",
     "output_type": "stream",
     "text": [
      "/Users/paul_reitz/opt/miniconda3/envs/apache_sedona/lib/python3.12/site-packages/pynndescent/pynndescent_.py:939: UserWarning: Failed to correctly find n_neighbors for some samples. Results may be less than ideal. Try re-running with different parameters.\n",
      "  warn(\n"
     ]
    },
    {
     "name": "stdout",
     "output_type": "stream",
     "text": [
      "7972173.840017851\n",
      "# iters:   48. Rel primal: 4.1794e-06 Rel dual: 9.1779e-06  OBJ 3.392e+03\n",
      "Time needed is 0.002711772918701172 seconds\n"
     ]
    },
    {
     "name": "stderr",
     "output_type": "stream",
     "text": [
      "/Users/paul_reitz/opt/miniconda3/envs/apache_sedona/lib/python3.12/site-packages/pynndescent/pynndescent_.py:939: UserWarning: Failed to correctly find n_neighbors for some samples. Results may be less than ideal. Try re-running with different parameters.\n",
      "  warn(\n"
     ]
    },
    {
     "name": "stdout",
     "output_type": "stream",
     "text": [
      "8666666.67558253\n",
      "# iters:   48. Rel primal: 4.0006e-06 Rel dual: 7.7208e-06  OBJ 1.871e+03\n",
      "Time needed is 0.0022640228271484375 seconds\n"
     ]
    },
    {
     "name": "stderr",
     "output_type": "stream",
     "text": [
      "/Users/paul_reitz/opt/miniconda3/envs/apache_sedona/lib/python3.12/site-packages/pynndescent/pynndescent_.py:939: UserWarning: Failed to correctly find n_neighbors for some samples. Results may be less than ideal. Try re-running with different parameters.\n",
      "  warn(\n"
     ]
    },
    {
     "name": "stdout",
     "output_type": "stream",
     "text": [
      "7972173.840000483\n",
      "# iters:   48. Rel primal: 3.9285e-06 Rel dual: 9.4477e-06  OBJ 3.517e+03\n",
      "Time needed is 0.0022122859954833984 seconds\n"
     ]
    },
    {
     "name": "stderr",
     "output_type": "stream",
     "text": [
      "/Users/paul_reitz/opt/miniconda3/envs/apache_sedona/lib/python3.12/site-packages/pynndescent/pynndescent_.py:939: UserWarning: Failed to correctly find n_neighbors for some samples. Results may be less than ideal. Try re-running with different parameters.\n",
      "  warn(\n"
     ]
    },
    {
     "name": "stdout",
     "output_type": "stream",
     "text": [
      "8666666.675413875\n",
      "# iters:   48. Rel primal: 3.9811e-06 Rel dual: 7.7601e-06  OBJ 1.895e+03\n",
      "Time needed is 0.002290010452270508 seconds\n"
     ]
    },
    {
     "name": "stderr",
     "output_type": "stream",
     "text": [
      "/Users/paul_reitz/opt/miniconda3/envs/apache_sedona/lib/python3.12/site-packages/pynndescent/pynndescent_.py:939: UserWarning: Failed to correctly find n_neighbors for some samples. Results may be less than ideal. Try re-running with different parameters.\n",
      "  warn(\n"
     ]
    },
    {
     "name": "stdout",
     "output_type": "stream",
     "text": [
      "7972173.840017851\n",
      "# iters:   48. Rel primal: 4.1794e-06 Rel dual: 9.1779e-06  OBJ 3.392e+03\n",
      "Time needed is 0.0023849010467529297 seconds\n"
     ]
    },
    {
     "name": "stderr",
     "output_type": "stream",
     "text": [
      "/Users/paul_reitz/opt/miniconda3/envs/apache_sedona/lib/python3.12/site-packages/pynndescent/pynndescent_.py:939: UserWarning: Failed to correctly find n_neighbors for some samples. Results may be less than ideal. Try re-running with different parameters.\n",
      "  warn(\n"
     ]
    },
    {
     "name": "stdout",
     "output_type": "stream",
     "text": [
      "8666666.67558253\n",
      "# iters:   48. Rel primal: 4.0006e-06 Rel dual: 7.7208e-06  OBJ 1.871e+03\n",
      "Time needed is 0.002129793167114258 seconds\n"
     ]
    },
    {
     "name": "stderr",
     "output_type": "stream",
     "text": [
      "/Users/paul_reitz/opt/miniconda3/envs/apache_sedona/lib/python3.12/site-packages/pynndescent/pynndescent_.py:939: UserWarning: Failed to correctly find n_neighbors for some samples. Results may be less than ideal. Try re-running with different parameters.\n",
      "  warn(\n"
     ]
    },
    {
     "name": "stdout",
     "output_type": "stream",
     "text": [
      "7972173.840000483\n",
      "# iters:   48. Rel primal: 3.9285e-06 Rel dual: 9.4477e-06  OBJ 3.517e+03\n",
      "Time needed is 0.002788066864013672 seconds\n"
     ]
    },
    {
     "name": "stderr",
     "output_type": "stream",
     "text": [
      "/Users/paul_reitz/opt/miniconda3/envs/apache_sedona/lib/python3.12/site-packages/pynndescent/pynndescent_.py:939: UserWarning: Failed to correctly find n_neighbors for some samples. Results may be less than ideal. Try re-running with different parameters.\n",
      "  warn(\n"
     ]
    },
    {
     "name": "stdout",
     "output_type": "stream",
     "text": [
      "8666666.675413875\n",
      "# iters:   48. Rel primal: 3.9811e-06 Rel dual: 7.7601e-06  OBJ 1.895e+03\n",
      "Time needed is 0.0020492076873779297 seconds\n"
     ]
    },
    {
     "name": "stderr",
     "output_type": "stream",
     "text": [
      "/Users/paul_reitz/opt/miniconda3/envs/apache_sedona/lib/python3.12/site-packages/pynndescent/pynndescent_.py:939: UserWarning: Failed to correctly find n_neighbors for some samples. Results may be less than ideal. Try re-running with different parameters.\n",
      "  warn(\n"
     ]
    },
    {
     "name": "stdout",
     "output_type": "stream",
     "text": [
      "7972173.840017851\n",
      "# iters:   48. Rel primal: 4.1794e-06 Rel dual: 9.1779e-06  OBJ 3.392e+03\n",
      "Time needed is 0.0017201900482177734 seconds\n"
     ]
    },
    {
     "name": "stderr",
     "output_type": "stream",
     "text": [
      "/Users/paul_reitz/opt/miniconda3/envs/apache_sedona/lib/python3.12/site-packages/pynndescent/pynndescent_.py:939: UserWarning: Failed to correctly find n_neighbors for some samples. Results may be less than ideal. Try re-running with different parameters.\n",
      "  warn(\n"
     ]
    },
    {
     "name": "stdout",
     "output_type": "stream",
     "text": [
      "8666666.67558253\n",
      "# iters:   48. Rel primal: 4.0006e-06 Rel dual: 7.7208e-06  OBJ 1.871e+03\n",
      "Time needed is 0.0023429393768310547 seconds\n"
     ]
    },
    {
     "name": "stderr",
     "output_type": "stream",
     "text": [
      "/Users/paul_reitz/opt/miniconda3/envs/apache_sedona/lib/python3.12/site-packages/pynndescent/pynndescent_.py:939: UserWarning: Failed to correctly find n_neighbors for some samples. Results may be less than ideal. Try re-running with different parameters.\n",
      "  warn(\n"
     ]
    },
    {
     "name": "stdout",
     "output_type": "stream",
     "text": [
      "7972173.840000483\n",
      "# iters:   48. Rel primal: 3.9285e-06 Rel dual: 9.4477e-06  OBJ 3.517e+03\n",
      "Time needed is 0.0019381046295166016 seconds\n"
     ]
    },
    {
     "name": "stderr",
     "output_type": "stream",
     "text": [
      "/Users/paul_reitz/opt/miniconda3/envs/apache_sedona/lib/python3.12/site-packages/pynndescent/pynndescent_.py:939: UserWarning: Failed to correctly find n_neighbors for some samples. Results may be less than ideal. Try re-running with different parameters.\n",
      "  warn(\n"
     ]
    },
    {
     "name": "stdout",
     "output_type": "stream",
     "text": [
      "8666666.675413875\n",
      "# iters:   48. Rel primal: 3.9811e-06 Rel dual: 7.7601e-06  OBJ 1.895e+03\n",
      "Time needed is 0.003036975860595703 seconds\n"
     ]
    },
    {
     "name": "stderr",
     "output_type": "stream",
     "text": [
      "/Users/paul_reitz/opt/miniconda3/envs/apache_sedona/lib/python3.12/site-packages/pynndescent/pynndescent_.py:939: UserWarning: Failed to correctly find n_neighbors for some samples. Results may be less than ideal. Try re-running with different parameters.\n",
      "  warn(\n"
     ]
    },
    {
     "name": "stdout",
     "output_type": "stream",
     "text": [
      "7972173.840017851\n",
      "# iters:   48. Rel primal: 4.1794e-06 Rel dual: 9.1779e-06  OBJ 3.392e+03\n",
      "Time needed is 0.001997232437133789 seconds\n"
     ]
    },
    {
     "name": "stderr",
     "output_type": "stream",
     "text": [
      "/Users/paul_reitz/opt/miniconda3/envs/apache_sedona/lib/python3.12/site-packages/pynndescent/pynndescent_.py:939: UserWarning: Failed to correctly find n_neighbors for some samples. Results may be less than ideal. Try re-running with different parameters.\n",
      "  warn(\n"
     ]
    },
    {
     "name": "stdout",
     "output_type": "stream",
     "text": [
      "8666666.67558253\n",
      "# iters:   48. Rel primal: 4.0006e-06 Rel dual: 7.7208e-06  OBJ 1.871e+03\n",
      "Time needed is 0.002892017364501953 seconds\n"
     ]
    },
    {
     "name": "stderr",
     "output_type": "stream",
     "text": [
      "/Users/paul_reitz/opt/miniconda3/envs/apache_sedona/lib/python3.12/site-packages/pynndescent/pynndescent_.py:939: UserWarning: Failed to correctly find n_neighbors for some samples. Results may be less than ideal. Try re-running with different parameters.\n",
      "  warn(\n"
     ]
    },
    {
     "name": "stdout",
     "output_type": "stream",
     "text": [
      "7972173.840000483\n",
      "# iters:   48. Rel primal: 3.9285e-06 Rel dual: 9.4477e-06  OBJ 3.517e+03\n",
      "Time needed is 0.002357006072998047 seconds\n"
     ]
    },
    {
     "name": "stderr",
     "output_type": "stream",
     "text": [
      "/Users/paul_reitz/opt/miniconda3/envs/apache_sedona/lib/python3.12/site-packages/pynndescent/pynndescent_.py:939: UserWarning: Failed to correctly find n_neighbors for some samples. Results may be less than ideal. Try re-running with different parameters.\n",
      "  warn(\n"
     ]
    },
    {
     "name": "stdout",
     "output_type": "stream",
     "text": [
      "8666666.675413875\n",
      "# iters:   48. Rel primal: 3.9811e-06 Rel dual: 7.7601e-06  OBJ 1.895e+03\n",
      "Time needed is 0.0025789737701416016 seconds\n"
     ]
    },
    {
     "name": "stderr",
     "output_type": "stream",
     "text": [
      "/Users/paul_reitz/opt/miniconda3/envs/apache_sedona/lib/python3.12/site-packages/pynndescent/pynndescent_.py:939: UserWarning: Failed to correctly find n_neighbors for some samples. Results may be less than ideal. Try re-running with different parameters.\n",
      "  warn(\n"
     ]
    },
    {
     "name": "stdout",
     "output_type": "stream",
     "text": [
      "7972173.840017851\n",
      "# iters:   48. Rel primal: 4.1794e-06 Rel dual: 9.1779e-06  OBJ 3.392e+03\n",
      "Time needed is 0.002044200897216797 seconds\n"
     ]
    },
    {
     "name": "stderr",
     "output_type": "stream",
     "text": [
      "/Users/paul_reitz/opt/miniconda3/envs/apache_sedona/lib/python3.12/site-packages/pynndescent/pynndescent_.py:939: UserWarning: Failed to correctly find n_neighbors for some samples. Results may be less than ideal. Try re-running with different parameters.\n",
      "  warn(\n"
     ]
    },
    {
     "name": "stdout",
     "output_type": "stream",
     "text": [
      "8666666.67558253\n",
      "# iters:   48. Rel primal: 4.0006e-06 Rel dual: 7.7208e-06  OBJ 1.871e+03\n",
      "Time needed is 0.0026030540466308594 seconds\n"
     ]
    },
    {
     "name": "stderr",
     "output_type": "stream",
     "text": [
      "/Users/paul_reitz/opt/miniconda3/envs/apache_sedona/lib/python3.12/site-packages/pynndescent/pynndescent_.py:939: UserWarning: Failed to correctly find n_neighbors for some samples. Results may be less than ideal. Try re-running with different parameters.\n",
      "  warn(\n"
     ]
    },
    {
     "name": "stdout",
     "output_type": "stream",
     "text": [
      "7972173.840000483\n",
      "# iters:   48. Rel primal: 3.9285e-06 Rel dual: 9.4477e-06  OBJ 3.517e+03\n",
      "Time needed is 0.0022928714752197266 seconds\n"
     ]
    },
    {
     "name": "stderr",
     "output_type": "stream",
     "text": [
      "/Users/paul_reitz/opt/miniconda3/envs/apache_sedona/lib/python3.12/site-packages/pynndescent/pynndescent_.py:939: UserWarning: Failed to correctly find n_neighbors for some samples. Results may be less than ideal. Try re-running with different parameters.\n",
      "  warn(\n"
     ]
    },
    {
     "name": "stdout",
     "output_type": "stream",
     "text": [
      "8666666.675413875\n",
      "# iters:   48. Rel primal: 3.9811e-06 Rel dual: 7.7601e-06  OBJ 1.895e+03\n",
      "Time needed is 0.0028400421142578125 seconds\n"
     ]
    },
    {
     "name": "stderr",
     "output_type": "stream",
     "text": [
      "/Users/paul_reitz/opt/miniconda3/envs/apache_sedona/lib/python3.12/site-packages/pynndescent/pynndescent_.py:939: UserWarning: Failed to correctly find n_neighbors for some samples. Results may be less than ideal. Try re-running with different parameters.\n",
      "  warn(\n"
     ]
    },
    {
     "name": "stdout",
     "output_type": "stream",
     "text": [
      "7972173.840017851\n",
      "# iters:   48. Rel primal: 4.1794e-06 Rel dual: 9.1779e-06  OBJ 3.392e+03\n",
      "Time needed is 0.003979921340942383 seconds\n"
     ]
    },
    {
     "name": "stderr",
     "output_type": "stream",
     "text": [
      "/Users/paul_reitz/opt/miniconda3/envs/apache_sedona/lib/python3.12/site-packages/pynndescent/pynndescent_.py:939: UserWarning: Failed to correctly find n_neighbors for some samples. Results may be less than ideal. Try re-running with different parameters.\n",
      "  warn(\n"
     ]
    },
    {
     "name": "stdout",
     "output_type": "stream",
     "text": [
      "8666666.67558253\n",
      "# iters:   48. Rel primal: 4.0006e-06 Rel dual: 7.7208e-06  OBJ 1.871e+03\n",
      "Time needed is 0.0020890235900878906 seconds\n"
     ]
    },
    {
     "name": "stderr",
     "output_type": "stream",
     "text": [
      "/Users/paul_reitz/opt/miniconda3/envs/apache_sedona/lib/python3.12/site-packages/pynndescent/pynndescent_.py:939: UserWarning: Failed to correctly find n_neighbors for some samples. Results may be less than ideal. Try re-running with different parameters.\n",
      "  warn(\n"
     ]
    },
    {
     "name": "stdout",
     "output_type": "stream",
     "text": [
      "7972173.840000483\n",
      "# iters:   48. Rel primal: 3.9285e-06 Rel dual: 9.4477e-06  OBJ 3.517e+03\n",
      "Time needed is 0.002658843994140625 seconds\n"
     ]
    },
    {
     "name": "stderr",
     "output_type": "stream",
     "text": [
      "/Users/paul_reitz/opt/miniconda3/envs/apache_sedona/lib/python3.12/site-packages/pynndescent/pynndescent_.py:939: UserWarning: Failed to correctly find n_neighbors for some samples. Results may be less than ideal. Try re-running with different parameters.\n",
      "  warn(\n"
     ]
    },
    {
     "name": "stdout",
     "output_type": "stream",
     "text": [
      "8666666.675413875\n",
      "# iters:   48. Rel primal: 3.9811e-06 Rel dual: 7.7601e-06  OBJ 1.895e+03\n",
      "Time needed is 0.002295970916748047 seconds\n"
     ]
    },
    {
     "name": "stderr",
     "output_type": "stream",
     "text": [
      "/Users/paul_reitz/opt/miniconda3/envs/apache_sedona/lib/python3.12/site-packages/pynndescent/pynndescent_.py:939: UserWarning: Failed to correctly find n_neighbors for some samples. Results may be less than ideal. Try re-running with different parameters.\n",
      "  warn(\n"
     ]
    },
    {
     "name": "stdout",
     "output_type": "stream",
     "text": [
      "7972173.840017851\n",
      "# iters:   48. Rel primal: 4.1794e-06 Rel dual: 9.1779e-06  OBJ 3.392e+03\n",
      "Time needed is 0.0020170211791992188 seconds\n"
     ]
    },
    {
     "name": "stderr",
     "output_type": "stream",
     "text": [
      "/Users/paul_reitz/opt/miniconda3/envs/apache_sedona/lib/python3.12/site-packages/pynndescent/pynndescent_.py:939: UserWarning: Failed to correctly find n_neighbors for some samples. Results may be less than ideal. Try re-running with different parameters.\n",
      "  warn(\n"
     ]
    },
    {
     "name": "stdout",
     "output_type": "stream",
     "text": [
      "8666666.67558253\n",
      "# iters:   48. Rel primal: 4.0006e-06 Rel dual: 7.7208e-06  OBJ 1.871e+03\n",
      "Time needed is 0.0020558834075927734 seconds\n"
     ]
    },
    {
     "name": "stderr",
     "output_type": "stream",
     "text": [
      "/Users/paul_reitz/opt/miniconda3/envs/apache_sedona/lib/python3.12/site-packages/pynndescent/pynndescent_.py:939: UserWarning: Failed to correctly find n_neighbors for some samples. Results may be less than ideal. Try re-running with different parameters.\n",
      "  warn(\n"
     ]
    },
    {
     "name": "stdout",
     "output_type": "stream",
     "text": [
      "7972173.840000483\n",
      "# iters:   48. Rel primal: 3.9285e-06 Rel dual: 9.4477e-06  OBJ 3.517e+03\n",
      "Time needed is 0.0019881725311279297 seconds\n"
     ]
    },
    {
     "name": "stderr",
     "output_type": "stream",
     "text": [
      "/Users/paul_reitz/opt/miniconda3/envs/apache_sedona/lib/python3.12/site-packages/pynndescent/pynndescent_.py:939: UserWarning: Failed to correctly find n_neighbors for some samples. Results may be less than ideal. Try re-running with different parameters.\n",
      "  warn(\n"
     ]
    },
    {
     "name": "stdout",
     "output_type": "stream",
     "text": [
      "8666666.675413875\n",
      "# iters:   48. Rel primal: 3.9811e-06 Rel dual: 7.7601e-06  OBJ 1.895e+03\n",
      "Time needed is 0.001912832260131836 seconds\n"
     ]
    },
    {
     "name": "stderr",
     "output_type": "stream",
     "text": [
      "/Users/paul_reitz/opt/miniconda3/envs/apache_sedona/lib/python3.12/site-packages/pynndescent/pynndescent_.py:939: UserWarning: Failed to correctly find n_neighbors for some samples. Results may be less than ideal. Try re-running with different parameters.\n",
      "  warn(\n"
     ]
    },
    {
     "name": "stdout",
     "output_type": "stream",
     "text": [
      "7972173.840017851\n",
      "# iters:   48. Rel primal: 4.1794e-06 Rel dual: 9.1779e-06  OBJ 3.392e+03\n",
      "Time needed is 0.001828908920288086 seconds\n"
     ]
    },
    {
     "name": "stderr",
     "output_type": "stream",
     "text": [
      "/Users/paul_reitz/opt/miniconda3/envs/apache_sedona/lib/python3.12/site-packages/pynndescent/pynndescent_.py:939: UserWarning: Failed to correctly find n_neighbors for some samples. Results may be less than ideal. Try re-running with different parameters.\n",
      "  warn(\n"
     ]
    },
    {
     "name": "stdout",
     "output_type": "stream",
     "text": [
      "8666666.67558253\n",
      "# iters:   48. Rel primal: 4.0006e-06 Rel dual: 7.7208e-06  OBJ 1.871e+03\n",
      "Time needed is 0.0020170211791992188 seconds\n"
     ]
    },
    {
     "name": "stderr",
     "output_type": "stream",
     "text": [
      "/Users/paul_reitz/opt/miniconda3/envs/apache_sedona/lib/python3.12/site-packages/pynndescent/pynndescent_.py:939: UserWarning: Failed to correctly find n_neighbors for some samples. Results may be less than ideal. Try re-running with different parameters.\n",
      "  warn(\n"
     ]
    },
    {
     "name": "stdout",
     "output_type": "stream",
     "text": [
      "7972173.840000483\n",
      "# iters:   48. Rel primal: 3.9285e-06 Rel dual: 9.4477e-06  OBJ 3.517e+03\n",
      "Time needed is 0.0019562244415283203 seconds\n"
     ]
    },
    {
     "name": "stderr",
     "output_type": "stream",
     "text": [
      "/Users/paul_reitz/opt/miniconda3/envs/apache_sedona/lib/python3.12/site-packages/pynndescent/pynndescent_.py:939: UserWarning: Failed to correctly find n_neighbors for some samples. Results may be less than ideal. Try re-running with different parameters.\n",
      "  warn(\n"
     ]
    },
    {
     "name": "stdout",
     "output_type": "stream",
     "text": [
      "8666666.675413875\n",
      "# iters:   48. Rel primal: 3.9811e-06 Rel dual: 7.7601e-06  OBJ 1.895e+03\n",
      "Time needed is 0.0020751953125 seconds\n"
     ]
    },
    {
     "name": "stderr",
     "output_type": "stream",
     "text": [
      "/Users/paul_reitz/opt/miniconda3/envs/apache_sedona/lib/python3.12/site-packages/pynndescent/pynndescent_.py:939: UserWarning: Failed to correctly find n_neighbors for some samples. Results may be less than ideal. Try re-running with different parameters.\n",
      "  warn(\n"
     ]
    },
    {
     "name": "stdout",
     "output_type": "stream",
     "text": [
      "7972173.840017851\n",
      "# iters:   48. Rel primal: 4.1794e-06 Rel dual: 9.1779e-06  OBJ 3.392e+03\n",
      "Time needed is 0.001971006393432617 seconds\n"
     ]
    },
    {
     "name": "stderr",
     "output_type": "stream",
     "text": [
      "/Users/paul_reitz/opt/miniconda3/envs/apache_sedona/lib/python3.12/site-packages/pynndescent/pynndescent_.py:939: UserWarning: Failed to correctly find n_neighbors for some samples. Results may be less than ideal. Try re-running with different parameters.\n",
      "  warn(\n"
     ]
    },
    {
     "name": "stdout",
     "output_type": "stream",
     "text": [
      "8666666.67558253\n",
      "# iters:   48. Rel primal: 4.0006e-06 Rel dual: 7.7208e-06  OBJ 1.871e+03\n",
      "Time needed is 0.0020759105682373047 seconds\n"
     ]
    },
    {
     "name": "stderr",
     "output_type": "stream",
     "text": [
      "/Users/paul_reitz/opt/miniconda3/envs/apache_sedona/lib/python3.12/site-packages/pynndescent/pynndescent_.py:939: UserWarning: Failed to correctly find n_neighbors for some samples. Results may be less than ideal. Try re-running with different parameters.\n",
      "  warn(\n"
     ]
    },
    {
     "name": "stdout",
     "output_type": "stream",
     "text": [
      "7972173.840000483\n",
      "# iters:   48. Rel primal: 3.9285e-06 Rel dual: 9.4477e-06  OBJ 3.517e+03\n",
      "Time needed is 0.002232074737548828 seconds\n"
     ]
    },
    {
     "name": "stderr",
     "output_type": "stream",
     "text": [
      "/Users/paul_reitz/opt/miniconda3/envs/apache_sedona/lib/python3.12/site-packages/pynndescent/pynndescent_.py:939: UserWarning: Failed to correctly find n_neighbors for some samples. Results may be less than ideal. Try re-running with different parameters.\n",
      "  warn(\n"
     ]
    },
    {
     "name": "stdout",
     "output_type": "stream",
     "text": [
      "8666666.675413875\n",
      "# iters:   48. Rel primal: 3.9811e-06 Rel dual: 7.7601e-06  OBJ 1.895e+03\n",
      "Time needed is 0.002132415771484375 seconds\n"
     ]
    },
    {
     "name": "stderr",
     "output_type": "stream",
     "text": [
      "/Users/paul_reitz/opt/miniconda3/envs/apache_sedona/lib/python3.12/site-packages/pynndescent/pynndescent_.py:939: UserWarning: Failed to correctly find n_neighbors for some samples. Results may be less than ideal. Try re-running with different parameters.\n",
      "  warn(\n"
     ]
    },
    {
     "name": "stdout",
     "output_type": "stream",
     "text": [
      "7972173.840017851\n",
      "# iters:   48. Rel primal: 4.1794e-06 Rel dual: 9.1779e-06  OBJ 3.392e+03\n",
      "Time needed is 0.002074003219604492 seconds\n"
     ]
    },
    {
     "name": "stderr",
     "output_type": "stream",
     "text": [
      "/Users/paul_reitz/opt/miniconda3/envs/apache_sedona/lib/python3.12/site-packages/pynndescent/pynndescent_.py:939: UserWarning: Failed to correctly find n_neighbors for some samples. Results may be less than ideal. Try re-running with different parameters.\n",
      "  warn(\n"
     ]
    },
    {
     "name": "stdout",
     "output_type": "stream",
     "text": [
      "8666666.67558253\n",
      "# iters:   48. Rel primal: 4.0006e-06 Rel dual: 7.7208e-06  OBJ 1.871e+03\n",
      "Time needed is 0.0019330978393554688 seconds\n"
     ]
    },
    {
     "name": "stderr",
     "output_type": "stream",
     "text": [
      "/Users/paul_reitz/opt/miniconda3/envs/apache_sedona/lib/python3.12/site-packages/pynndescent/pynndescent_.py:939: UserWarning: Failed to correctly find n_neighbors for some samples. Results may be less than ideal. Try re-running with different parameters.\n",
      "  warn(\n"
     ]
    },
    {
     "name": "stdout",
     "output_type": "stream",
     "text": [
      "7972173.840000483\n",
      "# iters:   48. Rel primal: 3.9285e-06 Rel dual: 9.4477e-06  OBJ 3.517e+03\n",
      "Time needed is 0.0020589828491210938 seconds\n"
     ]
    },
    {
     "name": "stderr",
     "output_type": "stream",
     "text": [
      "/Users/paul_reitz/opt/miniconda3/envs/apache_sedona/lib/python3.12/site-packages/pynndescent/pynndescent_.py:939: UserWarning: Failed to correctly find n_neighbors for some samples. Results may be less than ideal. Try re-running with different parameters.\n",
      "  warn(\n"
     ]
    },
    {
     "name": "stdout",
     "output_type": "stream",
     "text": [
      "8666666.675413875\n",
      "# iters:   48. Rel primal: 3.9811e-06 Rel dual: 7.7601e-06  OBJ 1.895e+03\n",
      "Time needed is 0.001703023910522461 seconds\n"
     ]
    },
    {
     "name": "stderr",
     "output_type": "stream",
     "text": [
      "/Users/paul_reitz/opt/miniconda3/envs/apache_sedona/lib/python3.12/site-packages/pynndescent/pynndescent_.py:939: UserWarning: Failed to correctly find n_neighbors for some samples. Results may be less than ideal. Try re-running with different parameters.\n",
      "  warn(\n"
     ]
    },
    {
     "name": "stdout",
     "output_type": "stream",
     "text": [
      "7972173.840017851\n",
      "# iters:   48. Rel primal: 4.1794e-06 Rel dual: 9.1779e-06  OBJ 3.392e+03\n",
      "Time needed is 0.0018839836120605469 seconds\n"
     ]
    },
    {
     "name": "stderr",
     "output_type": "stream",
     "text": [
      "/Users/paul_reitz/opt/miniconda3/envs/apache_sedona/lib/python3.12/site-packages/pynndescent/pynndescent_.py:939: UserWarning: Failed to correctly find n_neighbors for some samples. Results may be less than ideal. Try re-running with different parameters.\n",
      "  warn(\n"
     ]
    },
    {
     "name": "stdout",
     "output_type": "stream",
     "text": [
      "8666666.67558253\n",
      "# iters:   48. Rel primal: 4.0006e-06 Rel dual: 7.7208e-06  OBJ 1.871e+03\n",
      "Time needed is 0.0017938613891601562 seconds\n"
     ]
    },
    {
     "name": "stderr",
     "output_type": "stream",
     "text": [
      "/Users/paul_reitz/opt/miniconda3/envs/apache_sedona/lib/python3.12/site-packages/pynndescent/pynndescent_.py:939: UserWarning: Failed to correctly find n_neighbors for some samples. Results may be less than ideal. Try re-running with different parameters.\n",
      "  warn(\n"
     ]
    },
    {
     "name": "stdout",
     "output_type": "stream",
     "text": [
      "7972173.840000483\n",
      "# iters:   48. Rel primal: 3.9285e-06 Rel dual: 9.4477e-06  OBJ 3.517e+03\n",
      "Time needed is 0.0020639896392822266 seconds\n"
     ]
    },
    {
     "name": "stderr",
     "output_type": "stream",
     "text": [
      "/Users/paul_reitz/opt/miniconda3/envs/apache_sedona/lib/python3.12/site-packages/pynndescent/pynndescent_.py:939: UserWarning: Failed to correctly find n_neighbors for some samples. Results may be less than ideal. Try re-running with different parameters.\n",
      "  warn(\n"
     ]
    },
    {
     "name": "stdout",
     "output_type": "stream",
     "text": [
      "8666666.675413875\n",
      "# iters:   48. Rel primal: 3.9811e-06 Rel dual: 7.7601e-06  OBJ 1.895e+03\n",
      "Time needed is 0.0021331310272216797 seconds\n"
     ]
    },
    {
     "name": "stderr",
     "output_type": "stream",
     "text": [
      "/Users/paul_reitz/opt/miniconda3/envs/apache_sedona/lib/python3.12/site-packages/pynndescent/pynndescent_.py:939: UserWarning: Failed to correctly find n_neighbors for some samples. Results may be less than ideal. Try re-running with different parameters.\n",
      "  warn(\n"
     ]
    },
    {
     "name": "stdout",
     "output_type": "stream",
     "text": [
      "7972173.840017851\n",
      "# iters:   48. Rel primal: 4.1794e-06 Rel dual: 9.1779e-06  OBJ 3.392e+03\n",
      "Time needed is 0.002004384994506836 seconds\n"
     ]
    },
    {
     "name": "stderr",
     "output_type": "stream",
     "text": [
      "/Users/paul_reitz/opt/miniconda3/envs/apache_sedona/lib/python3.12/site-packages/pynndescent/pynndescent_.py:939: UserWarning: Failed to correctly find n_neighbors for some samples. Results may be less than ideal. Try re-running with different parameters.\n",
      "  warn(\n"
     ]
    },
    {
     "name": "stdout",
     "output_type": "stream",
     "text": [
      "8666666.67558253\n",
      "# iters:   48. Rel primal: 4.0006e-06 Rel dual: 7.7208e-06  OBJ 1.871e+03\n",
      "Time needed is 0.001964092254638672 seconds\n"
     ]
    },
    {
     "name": "stderr",
     "output_type": "stream",
     "text": [
      "/Users/paul_reitz/opt/miniconda3/envs/apache_sedona/lib/python3.12/site-packages/pynndescent/pynndescent_.py:939: UserWarning: Failed to correctly find n_neighbors for some samples. Results may be less than ideal. Try re-running with different parameters.\n",
      "  warn(\n"
     ]
    },
    {
     "name": "stdout",
     "output_type": "stream",
     "text": [
      "7972173.840000483\n",
      "# iters:   48. Rel primal: 3.9285e-06 Rel dual: 9.4477e-06  OBJ 3.517e+03\n",
      "Time needed is 0.0026090145111083984 seconds\n"
     ]
    },
    {
     "name": "stderr",
     "output_type": "stream",
     "text": [
      "/Users/paul_reitz/opt/miniconda3/envs/apache_sedona/lib/python3.12/site-packages/pynndescent/pynndescent_.py:939: UserWarning: Failed to correctly find n_neighbors for some samples. Results may be less than ideal. Try re-running with different parameters.\n",
      "  warn(\n"
     ]
    },
    {
     "name": "stdout",
     "output_type": "stream",
     "text": [
      "8666666.675413875\n",
      "# iters:   48. Rel primal: 3.9811e-06 Rel dual: 7.7601e-06  OBJ 1.895e+03\n",
      "Time needed is 0.002582073211669922 seconds\n"
     ]
    },
    {
     "name": "stderr",
     "output_type": "stream",
     "text": [
      "/Users/paul_reitz/opt/miniconda3/envs/apache_sedona/lib/python3.12/site-packages/pynndescent/pynndescent_.py:939: UserWarning: Failed to correctly find n_neighbors for some samples. Results may be less than ideal. Try re-running with different parameters.\n",
      "  warn(\n"
     ]
    },
    {
     "name": "stdout",
     "output_type": "stream",
     "text": [
      "7972173.840017851\n",
      "# iters:   48. Rel primal: 4.1794e-06 Rel dual: 9.1779e-06  OBJ 3.392e+03\n",
      "Time needed is 0.0023419857025146484 seconds\n"
     ]
    },
    {
     "name": "stderr",
     "output_type": "stream",
     "text": [
      "/Users/paul_reitz/opt/miniconda3/envs/apache_sedona/lib/python3.12/site-packages/pynndescent/pynndescent_.py:939: UserWarning: Failed to correctly find n_neighbors for some samples. Results may be less than ideal. Try re-running with different parameters.\n",
      "  warn(\n"
     ]
    },
    {
     "name": "stdout",
     "output_type": "stream",
     "text": [
      "8666666.67558253\n",
      "# iters:   48. Rel primal: 4.0006e-06 Rel dual: 7.7208e-06  OBJ 1.871e+03\n",
      "Time needed is 0.0023229122161865234 seconds\n"
     ]
    },
    {
     "name": "stderr",
     "output_type": "stream",
     "text": [
      "/Users/paul_reitz/opt/miniconda3/envs/apache_sedona/lib/python3.12/site-packages/pynndescent/pynndescent_.py:939: UserWarning: Failed to correctly find n_neighbors for some samples. Results may be less than ideal. Try re-running with different parameters.\n",
      "  warn(\n"
     ]
    },
    {
     "name": "stdout",
     "output_type": "stream",
     "text": [
      "7972173.840000483\n",
      "# iters:   48. Rel primal: 3.9285e-06 Rel dual: 9.4477e-06  OBJ 3.517e+03\n",
      "Time needed is 0.002319812774658203 seconds\n"
     ]
    },
    {
     "name": "stderr",
     "output_type": "stream",
     "text": [
      "/Users/paul_reitz/opt/miniconda3/envs/apache_sedona/lib/python3.12/site-packages/pynndescent/pynndescent_.py:939: UserWarning: Failed to correctly find n_neighbors for some samples. Results may be less than ideal. Try re-running with different parameters.\n",
      "  warn(\n"
     ]
    },
    {
     "name": "stdout",
     "output_type": "stream",
     "text": [
      "8666666.675413875\n",
      "# iters:   48. Rel primal: 3.9811e-06 Rel dual: 7.7601e-06  OBJ 1.895e+03\n",
      "Time needed is 0.0022101402282714844 seconds\n"
     ]
    },
    {
     "name": "stderr",
     "output_type": "stream",
     "text": [
      "/Users/paul_reitz/opt/miniconda3/envs/apache_sedona/lib/python3.12/site-packages/pynndescent/pynndescent_.py:939: UserWarning: Failed to correctly find n_neighbors for some samples. Results may be less than ideal. Try re-running with different parameters.\n",
      "  warn(\n"
     ]
    },
    {
     "name": "stdout",
     "output_type": "stream",
     "text": [
      "7972173.840017851\n",
      "# iters:   48. Rel primal: 4.1794e-06 Rel dual: 9.1779e-06  OBJ 3.392e+03\n",
      "Time needed is 0.002340078353881836 seconds\n"
     ]
    },
    {
     "name": "stderr",
     "output_type": "stream",
     "text": [
      "/Users/paul_reitz/opt/miniconda3/envs/apache_sedona/lib/python3.12/site-packages/pynndescent/pynndescent_.py:939: UserWarning: Failed to correctly find n_neighbors for some samples. Results may be less than ideal. Try re-running with different parameters.\n",
      "  warn(\n"
     ]
    },
    {
     "name": "stdout",
     "output_type": "stream",
     "text": [
      "8666666.67558253\n",
      "# iters:   48. Rel primal: 4.0006e-06 Rel dual: 7.7208e-06  OBJ 1.871e+03\n",
      "Time needed is 0.0019898414611816406 seconds\n"
     ]
    },
    {
     "name": "stderr",
     "output_type": "stream",
     "text": [
      "/Users/paul_reitz/opt/miniconda3/envs/apache_sedona/lib/python3.12/site-packages/pynndescent/pynndescent_.py:939: UserWarning: Failed to correctly find n_neighbors for some samples. Results may be less than ideal. Try re-running with different parameters.\n",
      "  warn(\n"
     ]
    },
    {
     "name": "stdout",
     "output_type": "stream",
     "text": [
      "7972173.840000483\n",
      "# iters:   48. Rel primal: 3.9285e-06 Rel dual: 9.4477e-06  OBJ 3.517e+03\n",
      "Time needed is 0.0017931461334228516 seconds\n"
     ]
    },
    {
     "name": "stderr",
     "output_type": "stream",
     "text": [
      "/Users/paul_reitz/opt/miniconda3/envs/apache_sedona/lib/python3.12/site-packages/pynndescent/pynndescent_.py:939: UserWarning: Failed to correctly find n_neighbors for some samples. Results may be less than ideal. Try re-running with different parameters.\n",
      "  warn(\n"
     ]
    },
    {
     "name": "stdout",
     "output_type": "stream",
     "text": [
      "8666666.675413875\n",
      "# iters:   48. Rel primal: 3.9811e-06 Rel dual: 7.7601e-06  OBJ 1.895e+03\n",
      "Time needed is 0.002259969711303711 seconds\n"
     ]
    },
    {
     "name": "stderr",
     "output_type": "stream",
     "text": [
      "/Users/paul_reitz/opt/miniconda3/envs/apache_sedona/lib/python3.12/site-packages/pynndescent/pynndescent_.py:939: UserWarning: Failed to correctly find n_neighbors for some samples. Results may be less than ideal. Try re-running with different parameters.\n",
      "  warn(\n"
     ]
    },
    {
     "name": "stdout",
     "output_type": "stream",
     "text": [
      "7972173.840017851\n",
      "# iters:   48. Rel primal: 4.1794e-06 Rel dual: 9.1779e-06  OBJ 3.392e+03\n",
      "Time needed is 0.001965045928955078 seconds\n"
     ]
    },
    {
     "name": "stderr",
     "output_type": "stream",
     "text": [
      "/Users/paul_reitz/opt/miniconda3/envs/apache_sedona/lib/python3.12/site-packages/pynndescent/pynndescent_.py:939: UserWarning: Failed to correctly find n_neighbors for some samples. Results may be less than ideal. Try re-running with different parameters.\n",
      "  warn(\n"
     ]
    },
    {
     "name": "stdout",
     "output_type": "stream",
     "text": [
      "8666666.67558253\n",
      "# iters:   48. Rel primal: 4.0006e-06 Rel dual: 7.7208e-06  OBJ 1.871e+03\n",
      "Time needed is 0.0021829605102539062 seconds\n"
     ]
    },
    {
     "name": "stderr",
     "output_type": "stream",
     "text": [
      "/Users/paul_reitz/opt/miniconda3/envs/apache_sedona/lib/python3.12/site-packages/pynndescent/pynndescent_.py:939: UserWarning: Failed to correctly find n_neighbors for some samples. Results may be less than ideal. Try re-running with different parameters.\n",
      "  warn(\n"
     ]
    },
    {
     "name": "stdout",
     "output_type": "stream",
     "text": [
      "7972173.840000483\n",
      "# iters:   48. Rel primal: 3.9285e-06 Rel dual: 9.4477e-06  OBJ 3.517e+03\n",
      "Time needed is 0.0029578208923339844 seconds\n"
     ]
    },
    {
     "name": "stderr",
     "output_type": "stream",
     "text": [
      "/Users/paul_reitz/opt/miniconda3/envs/apache_sedona/lib/python3.12/site-packages/pynndescent/pynndescent_.py:939: UserWarning: Failed to correctly find n_neighbors for some samples. Results may be less than ideal. Try re-running with different parameters.\n",
      "  warn(\n"
     ]
    },
    {
     "name": "stdout",
     "output_type": "stream",
     "text": [
      "8666666.675413875\n",
      "# iters:   48. Rel primal: 3.9811e-06 Rel dual: 7.7601e-06  OBJ 1.895e+03\n",
      "Time needed is 0.0023140907287597656 seconds\n"
     ]
    },
    {
     "name": "stderr",
     "output_type": "stream",
     "text": [
      "/Users/paul_reitz/opt/miniconda3/envs/apache_sedona/lib/python3.12/site-packages/pynndescent/pynndescent_.py:939: UserWarning: Failed to correctly find n_neighbors for some samples. Results may be less than ideal. Try re-running with different parameters.\n",
      "  warn(\n"
     ]
    },
    {
     "name": "stdout",
     "output_type": "stream",
     "text": [
      "7972173.840017851\n",
      "# iters:   48. Rel primal: 4.1794e-06 Rel dual: 9.1779e-06  OBJ 3.392e+03\n",
      "Time needed is 0.002443075180053711 seconds\n"
     ]
    },
    {
     "name": "stderr",
     "output_type": "stream",
     "text": [
      "/Users/paul_reitz/opt/miniconda3/envs/apache_sedona/lib/python3.12/site-packages/pynndescent/pynndescent_.py:939: UserWarning: Failed to correctly find n_neighbors for some samples. Results may be less than ideal. Try re-running with different parameters.\n",
      "  warn(\n"
     ]
    },
    {
     "name": "stdout",
     "output_type": "stream",
     "text": [
      "8666666.67558253\n",
      "# iters:   48. Rel primal: 4.0006e-06 Rel dual: 7.7208e-06  OBJ 1.871e+03\n",
      "Time needed is 0.002223968505859375 seconds\n"
     ]
    },
    {
     "name": "stderr",
     "output_type": "stream",
     "text": [
      "/Users/paul_reitz/opt/miniconda3/envs/apache_sedona/lib/python3.12/site-packages/pynndescent/pynndescent_.py:939: UserWarning: Failed to correctly find n_neighbors for some samples. Results may be less than ideal. Try re-running with different parameters.\n",
      "  warn(\n"
     ]
    },
    {
     "name": "stdout",
     "output_type": "stream",
     "text": [
      "7972173.840000483\n",
      "# iters:   48. Rel primal: 3.9285e-06 Rel dual: 9.4477e-06  OBJ 3.517e+03\n",
      "Time needed is 0.0020051002502441406 seconds\n"
     ]
    },
    {
     "name": "stderr",
     "output_type": "stream",
     "text": [
      "/Users/paul_reitz/opt/miniconda3/envs/apache_sedona/lib/python3.12/site-packages/pynndescent/pynndescent_.py:939: UserWarning: Failed to correctly find n_neighbors for some samples. Results may be less than ideal. Try re-running with different parameters.\n",
      "  warn(\n"
     ]
    },
    {
     "name": "stdout",
     "output_type": "stream",
     "text": [
      "8666666.675413875\n",
      "# iters:   48. Rel primal: 3.9811e-06 Rel dual: 7.7601e-06  OBJ 1.895e+03\n",
      "Time needed is 0.002373218536376953 seconds\n"
     ]
    },
    {
     "name": "stderr",
     "output_type": "stream",
     "text": [
      "/Users/paul_reitz/opt/miniconda3/envs/apache_sedona/lib/python3.12/site-packages/pynndescent/pynndescent_.py:939: UserWarning: Failed to correctly find n_neighbors for some samples. Results may be less than ideal. Try re-running with different parameters.\n",
      "  warn(\n"
     ]
    },
    {
     "name": "stdout",
     "output_type": "stream",
     "text": [
      "7972173.840017851\n",
      "# iters:   48. Rel primal: 4.1794e-06 Rel dual: 9.1779e-06  OBJ 3.392e+03\n",
      "Time needed is 0.002905130386352539 seconds\n"
     ]
    },
    {
     "name": "stderr",
     "output_type": "stream",
     "text": [
      "/Users/paul_reitz/opt/miniconda3/envs/apache_sedona/lib/python3.12/site-packages/pynndescent/pynndescent_.py:939: UserWarning: Failed to correctly find n_neighbors for some samples. Results may be less than ideal. Try re-running with different parameters.\n",
      "  warn(\n"
     ]
    },
    {
     "name": "stdout",
     "output_type": "stream",
     "text": [
      "8666666.67558253\n",
      "# iters:   48. Rel primal: 4.0006e-06 Rel dual: 7.7208e-06  OBJ 1.871e+03\n",
      "Time needed is 0.0020627975463867188 seconds\n"
     ]
    },
    {
     "name": "stderr",
     "output_type": "stream",
     "text": [
      "/Users/paul_reitz/opt/miniconda3/envs/apache_sedona/lib/python3.12/site-packages/pynndescent/pynndescent_.py:939: UserWarning: Failed to correctly find n_neighbors for some samples. Results may be less than ideal. Try re-running with different parameters.\n",
      "  warn(\n"
     ]
    },
    {
     "name": "stdout",
     "output_type": "stream",
     "text": [
      "7972173.840000483\n",
      "# iters:   48. Rel primal: 3.9285e-06 Rel dual: 9.4477e-06  OBJ 3.517e+03\n",
      "Time needed is 0.002185344696044922 seconds\n"
     ]
    },
    {
     "name": "stderr",
     "output_type": "stream",
     "text": [
      "/Users/paul_reitz/opt/miniconda3/envs/apache_sedona/lib/python3.12/site-packages/pynndescent/pynndescent_.py:939: UserWarning: Failed to correctly find n_neighbors for some samples. Results may be less than ideal. Try re-running with different parameters.\n",
      "  warn(\n"
     ]
    },
    {
     "name": "stdout",
     "output_type": "stream",
     "text": [
      "8666666.675413875\n",
      "# iters:   48. Rel primal: 3.9811e-06 Rel dual: 7.7601e-06  OBJ 1.895e+03\n",
      "Time needed is 0.0017468929290771484 seconds\n"
     ]
    },
    {
     "name": "stderr",
     "output_type": "stream",
     "text": [
      "/Users/paul_reitz/opt/miniconda3/envs/apache_sedona/lib/python3.12/site-packages/pynndescent/pynndescent_.py:939: UserWarning: Failed to correctly find n_neighbors for some samples. Results may be less than ideal. Try re-running with different parameters.\n",
      "  warn(\n"
     ]
    },
    {
     "name": "stdout",
     "output_type": "stream",
     "text": [
      "7972173.840017851\n",
      "# iters:   48. Rel primal: 4.1794e-06 Rel dual: 9.1779e-06  OBJ 3.392e+03\n",
      "Time needed is 0.001981019973754883 seconds\n"
     ]
    },
    {
     "name": "stderr",
     "output_type": "stream",
     "text": [
      "/Users/paul_reitz/opt/miniconda3/envs/apache_sedona/lib/python3.12/site-packages/pynndescent/pynndescent_.py:939: UserWarning: Failed to correctly find n_neighbors for some samples. Results may be less than ideal. Try re-running with different parameters.\n",
      "  warn(\n"
     ]
    },
    {
     "name": "stdout",
     "output_type": "stream",
     "text": [
      "8666666.67558253\n",
      "# iters:   48. Rel primal: 4.0006e-06 Rel dual: 7.7208e-06  OBJ 1.871e+03\n",
      "Time needed is 0.0020389556884765625 seconds\n"
     ]
    },
    {
     "name": "stderr",
     "output_type": "stream",
     "text": [
      "/Users/paul_reitz/opt/miniconda3/envs/apache_sedona/lib/python3.12/site-packages/pynndescent/pynndescent_.py:939: UserWarning: Failed to correctly find n_neighbors for some samples. Results may be less than ideal. Try re-running with different parameters.\n",
      "  warn(\n"
     ]
    },
    {
     "name": "stdout",
     "output_type": "stream",
     "text": [
      "7972173.840000483\n",
      "# iters:   48. Rel primal: 3.9285e-06 Rel dual: 9.4477e-06  OBJ 3.517e+03\n",
      "Time needed is 0.0019419193267822266 seconds\n"
     ]
    },
    {
     "name": "stderr",
     "output_type": "stream",
     "text": [
      "/Users/paul_reitz/opt/miniconda3/envs/apache_sedona/lib/python3.12/site-packages/pynndescent/pynndescent_.py:939: UserWarning: Failed to correctly find n_neighbors for some samples. Results may be less than ideal. Try re-running with different parameters.\n",
      "  warn(\n"
     ]
    },
    {
     "name": "stdout",
     "output_type": "stream",
     "text": [
      "8666666.675413875\n",
      "# iters:   48. Rel primal: 3.9811e-06 Rel dual: 7.7601e-06  OBJ 1.895e+03\n",
      "Time needed is 0.0019409656524658203 seconds\n"
     ]
    },
    {
     "name": "stderr",
     "output_type": "stream",
     "text": [
      "/Users/paul_reitz/opt/miniconda3/envs/apache_sedona/lib/python3.12/site-packages/pynndescent/pynndescent_.py:939: UserWarning: Failed to correctly find n_neighbors for some samples. Results may be less than ideal. Try re-running with different parameters.\n",
      "  warn(\n"
     ]
    },
    {
     "name": "stdout",
     "output_type": "stream",
     "text": [
      "7972173.840017851\n",
      "# iters:   48. Rel primal: 4.1794e-06 Rel dual: 9.1779e-06  OBJ 3.392e+03\n",
      "Time needed is 0.002481222152709961 seconds\n"
     ]
    },
    {
     "name": "stderr",
     "output_type": "stream",
     "text": [
      "/Users/paul_reitz/opt/miniconda3/envs/apache_sedona/lib/python3.12/site-packages/pynndescent/pynndescent_.py:939: UserWarning: Failed to correctly find n_neighbors for some samples. Results may be less than ideal. Try re-running with different parameters.\n",
      "  warn(\n"
     ]
    },
    {
     "name": "stdout",
     "output_type": "stream",
     "text": [
      "8666666.67558253\n",
      "# iters:   48. Rel primal: 4.0006e-06 Rel dual: 7.7208e-06  OBJ 1.871e+03\n",
      "Time needed is 0.002254962921142578 seconds\n"
     ]
    },
    {
     "name": "stderr",
     "output_type": "stream",
     "text": [
      "/Users/paul_reitz/opt/miniconda3/envs/apache_sedona/lib/python3.12/site-packages/pynndescent/pynndescent_.py:939: UserWarning: Failed to correctly find n_neighbors for some samples. Results may be less than ideal. Try re-running with different parameters.\n",
      "  warn(\n"
     ]
    },
    {
     "name": "stdout",
     "output_type": "stream",
     "text": [
      "7972173.840000483\n",
      "# iters:   48. Rel primal: 3.9285e-06 Rel dual: 9.4477e-06  OBJ 3.517e+03\n",
      "Time needed is 0.00214385986328125 seconds\n"
     ]
    },
    {
     "name": "stderr",
     "output_type": "stream",
     "text": [
      "/Users/paul_reitz/opt/miniconda3/envs/apache_sedona/lib/python3.12/site-packages/pynndescent/pynndescent_.py:939: UserWarning: Failed to correctly find n_neighbors for some samples. Results may be less than ideal. Try re-running with different parameters.\n",
      "  warn(\n"
     ]
    },
    {
     "name": "stdout",
     "output_type": "stream",
     "text": [
      "8666666.675413875\n",
      "# iters:   48. Rel primal: 3.9811e-06 Rel dual: 7.7601e-06  OBJ 1.895e+03\n",
      "Time needed is 0.001955747604370117 seconds\n"
     ]
    },
    {
     "name": "stderr",
     "output_type": "stream",
     "text": [
      "/Users/paul_reitz/opt/miniconda3/envs/apache_sedona/lib/python3.12/site-packages/pynndescent/pynndescent_.py:939: UserWarning: Failed to correctly find n_neighbors for some samples. Results may be less than ideal. Try re-running with different parameters.\n",
      "  warn(\n"
     ]
    },
    {
     "name": "stdout",
     "output_type": "stream",
     "text": [
      "7972173.840017851\n",
      "# iters:   48. Rel primal: 4.1794e-06 Rel dual: 9.1779e-06  OBJ 3.392e+03\n",
      "Time needed is 0.001911163330078125 seconds\n"
     ]
    },
    {
     "name": "stderr",
     "output_type": "stream",
     "text": [
      "/Users/paul_reitz/opt/miniconda3/envs/apache_sedona/lib/python3.12/site-packages/pynndescent/pynndescent_.py:939: UserWarning: Failed to correctly find n_neighbors for some samples. Results may be less than ideal. Try re-running with different parameters.\n",
      "  warn(\n"
     ]
    },
    {
     "name": "stdout",
     "output_type": "stream",
     "text": [
      "8666666.67558253\n",
      "# iters:   48. Rel primal: 4.0006e-06 Rel dual: 7.7208e-06  OBJ 1.871e+03\n",
      "Time needed is 0.002043008804321289 seconds\n"
     ]
    },
    {
     "name": "stderr",
     "output_type": "stream",
     "text": [
      "/Users/paul_reitz/opt/miniconda3/envs/apache_sedona/lib/python3.12/site-packages/pynndescent/pynndescent_.py:939: UserWarning: Failed to correctly find n_neighbors for some samples. Results may be less than ideal. Try re-running with different parameters.\n",
      "  warn(\n"
     ]
    },
    {
     "name": "stdout",
     "output_type": "stream",
     "text": [
      "7972173.840000483\n",
      "# iters:   48. Rel primal: 3.9285e-06 Rel dual: 9.4477e-06  OBJ 3.517e+03\n",
      "Time needed is 0.002412080764770508 seconds\n"
     ]
    },
    {
     "name": "stderr",
     "output_type": "stream",
     "text": [
      "/Users/paul_reitz/opt/miniconda3/envs/apache_sedona/lib/python3.12/site-packages/pynndescent/pynndescent_.py:939: UserWarning: Failed to correctly find n_neighbors for some samples. Results may be less than ideal. Try re-running with different parameters.\n",
      "  warn(\n"
     ]
    },
    {
     "name": "stdout",
     "output_type": "stream",
     "text": [
      "8666666.675413875\n",
      "# iters:   48. Rel primal: 3.9811e-06 Rel dual: 7.7601e-06  OBJ 1.895e+03\n",
      "Time needed is 0.002089977264404297 seconds\n"
     ]
    },
    {
     "name": "stderr",
     "output_type": "stream",
     "text": [
      "/Users/paul_reitz/opt/miniconda3/envs/apache_sedona/lib/python3.12/site-packages/pynndescent/pynndescent_.py:939: UserWarning: Failed to correctly find n_neighbors for some samples. Results may be less than ideal. Try re-running with different parameters.\n",
      "  warn(\n"
     ]
    },
    {
     "name": "stdout",
     "output_type": "stream",
     "text": [
      "7972173.840017851\n",
      "# iters:   48. Rel primal: 4.1794e-06 Rel dual: 9.1779e-06  OBJ 3.392e+03\n",
      "Time needed is 0.001911163330078125 seconds\n"
     ]
    },
    {
     "name": "stderr",
     "output_type": "stream",
     "text": [
      "/Users/paul_reitz/opt/miniconda3/envs/apache_sedona/lib/python3.12/site-packages/pynndescent/pynndescent_.py:939: UserWarning: Failed to correctly find n_neighbors for some samples. Results may be less than ideal. Try re-running with different parameters.\n",
      "  warn(\n"
     ]
    },
    {
     "name": "stdout",
     "output_type": "stream",
     "text": [
      "8666666.67558253\n",
      "# iters:   48. Rel primal: 4.0006e-06 Rel dual: 7.7208e-06  OBJ 1.871e+03\n",
      "Time needed is 0.0026018619537353516 seconds\n"
     ]
    },
    {
     "name": "stderr",
     "output_type": "stream",
     "text": [
      "/Users/paul_reitz/opt/miniconda3/envs/apache_sedona/lib/python3.12/site-packages/pynndescent/pynndescent_.py:939: UserWarning: Failed to correctly find n_neighbors for some samples. Results may be less than ideal. Try re-running with different parameters.\n",
      "  warn(\n"
     ]
    },
    {
     "name": "stdout",
     "output_type": "stream",
     "text": [
      "7972173.840000483\n",
      "# iters:   48. Rel primal: 3.9285e-06 Rel dual: 9.4477e-06  OBJ 3.517e+03\n",
      "Time needed is 0.002227783203125 seconds\n"
     ]
    },
    {
     "name": "stderr",
     "output_type": "stream",
     "text": [
      "/Users/paul_reitz/opt/miniconda3/envs/apache_sedona/lib/python3.12/site-packages/pynndescent/pynndescent_.py:939: UserWarning: Failed to correctly find n_neighbors for some samples. Results may be less than ideal. Try re-running with different parameters.\n",
      "  warn(\n"
     ]
    },
    {
     "name": "stdout",
     "output_type": "stream",
     "text": [
      "8666666.675413875\n",
      "# iters:   48. Rel primal: 3.9811e-06 Rel dual: 7.7601e-06  OBJ 1.895e+03\n",
      "Time needed is 0.002851247787475586 seconds\n"
     ]
    },
    {
     "name": "stderr",
     "output_type": "stream",
     "text": [
      "/Users/paul_reitz/opt/miniconda3/envs/apache_sedona/lib/python3.12/site-packages/pynndescent/pynndescent_.py:939: UserWarning: Failed to correctly find n_neighbors for some samples. Results may be less than ideal. Try re-running with different parameters.\n",
      "  warn(\n"
     ]
    },
    {
     "name": "stdout",
     "output_type": "stream",
     "text": [
      "7972173.840017851\n",
      "# iters:   48. Rel primal: 4.1794e-06 Rel dual: 9.1779e-06  OBJ 3.392e+03\n",
      "Time needed is 0.002125978469848633 seconds\n"
     ]
    },
    {
     "name": "stderr",
     "output_type": "stream",
     "text": [
      "/Users/paul_reitz/opt/miniconda3/envs/apache_sedona/lib/python3.12/site-packages/pynndescent/pynndescent_.py:939: UserWarning: Failed to correctly find n_neighbors for some samples. Results may be less than ideal. Try re-running with different parameters.\n",
      "  warn(\n"
     ]
    },
    {
     "name": "stdout",
     "output_type": "stream",
     "text": [
      "8666666.67558253\n",
      "# iters:   48. Rel primal: 4.0006e-06 Rel dual: 7.7208e-06  OBJ 1.871e+03\n",
      "Time needed is 0.0021851062774658203 seconds\n"
     ]
    },
    {
     "name": "stderr",
     "output_type": "stream",
     "text": [
      "/Users/paul_reitz/opt/miniconda3/envs/apache_sedona/lib/python3.12/site-packages/pynndescent/pynndescent_.py:939: UserWarning: Failed to correctly find n_neighbors for some samples. Results may be less than ideal. Try re-running with different parameters.\n",
      "  warn(\n"
     ]
    },
    {
     "name": "stdout",
     "output_type": "stream",
     "text": [
      "7972173.840000483\n",
      "# iters:   48. Rel primal: 3.9285e-06 Rel dual: 9.4477e-06  OBJ 3.517e+03\n",
      "Time needed is 0.0018088817596435547 seconds\n"
     ]
    },
    {
     "name": "stderr",
     "output_type": "stream",
     "text": [
      "/Users/paul_reitz/opt/miniconda3/envs/apache_sedona/lib/python3.12/site-packages/pynndescent/pynndescent_.py:939: UserWarning: Failed to correctly find n_neighbors for some samples. Results may be less than ideal. Try re-running with different parameters.\n",
      "  warn(\n"
     ]
    },
    {
     "name": "stdout",
     "output_type": "stream",
     "text": [
      "8666666.675413875\n",
      "# iters:   48. Rel primal: 3.9811e-06 Rel dual: 7.7601e-06  OBJ 1.895e+03\n",
      "Time needed is 0.002301931381225586 seconds\n"
     ]
    },
    {
     "name": "stderr",
     "output_type": "stream",
     "text": [
      "/Users/paul_reitz/opt/miniconda3/envs/apache_sedona/lib/python3.12/site-packages/pynndescent/pynndescent_.py:939: UserWarning: Failed to correctly find n_neighbors for some samples. Results may be less than ideal. Try re-running with different parameters.\n",
      "  warn(\n"
     ]
    },
    {
     "name": "stdout",
     "output_type": "stream",
     "text": [
      "7972173.840017851\n",
      "# iters:   48. Rel primal: 4.1794e-06 Rel dual: 9.1779e-06  OBJ 3.392e+03\n",
      "Time needed is 0.0023729801177978516 seconds\n"
     ]
    },
    {
     "name": "stderr",
     "output_type": "stream",
     "text": [
      "/Users/paul_reitz/opt/miniconda3/envs/apache_sedona/lib/python3.12/site-packages/pynndescent/pynndescent_.py:939: UserWarning: Failed to correctly find n_neighbors for some samples. Results may be less than ideal. Try re-running with different parameters.\n",
      "  warn(\n"
     ]
    },
    {
     "name": "stdout",
     "output_type": "stream",
     "text": [
      "8666666.67558253\n",
      "# iters:   48. Rel primal: 4.0006e-06 Rel dual: 7.7208e-06  OBJ 1.871e+03\n",
      "Time needed is 0.0025141239166259766 seconds\n"
     ]
    },
    {
     "name": "stderr",
     "output_type": "stream",
     "text": [
      "/Users/paul_reitz/opt/miniconda3/envs/apache_sedona/lib/python3.12/site-packages/pynndescent/pynndescent_.py:939: UserWarning: Failed to correctly find n_neighbors for some samples. Results may be less than ideal. Try re-running with different parameters.\n",
      "  warn(\n"
     ]
    },
    {
     "name": "stdout",
     "output_type": "stream",
     "text": [
      "7972173.840000483\n",
      "# iters:   48. Rel primal: 3.9285e-06 Rel dual: 9.4477e-06  OBJ 3.517e+03\n",
      "Time needed is 0.0022783279418945312 seconds\n"
     ]
    },
    {
     "name": "stderr",
     "output_type": "stream",
     "text": [
      "/Users/paul_reitz/opt/miniconda3/envs/apache_sedona/lib/python3.12/site-packages/pynndescent/pynndescent_.py:939: UserWarning: Failed to correctly find n_neighbors for some samples. Results may be less than ideal. Try re-running with different parameters.\n",
      "  warn(\n"
     ]
    },
    {
     "name": "stdout",
     "output_type": "stream",
     "text": [
      "8666666.675413875\n",
      "# iters:   48. Rel primal: 3.9811e-06 Rel dual: 7.7601e-06  OBJ 1.895e+03\n",
      "Time needed is 0.00279998779296875 seconds\n"
     ]
    },
    {
     "name": "stderr",
     "output_type": "stream",
     "text": [
      "/Users/paul_reitz/opt/miniconda3/envs/apache_sedona/lib/python3.12/site-packages/pynndescent/pynndescent_.py:939: UserWarning: Failed to correctly find n_neighbors for some samples. Results may be less than ideal. Try re-running with different parameters.\n",
      "  warn(\n"
     ]
    },
    {
     "name": "stdout",
     "output_type": "stream",
     "text": [
      "7972173.840017851\n",
      "# iters:   48. Rel primal: 4.1794e-06 Rel dual: 9.1779e-06  OBJ 3.392e+03\n",
      "Time needed is 0.002468109130859375 seconds\n"
     ]
    },
    {
     "name": "stderr",
     "output_type": "stream",
     "text": [
      "/Users/paul_reitz/opt/miniconda3/envs/apache_sedona/lib/python3.12/site-packages/pynndescent/pynndescent_.py:939: UserWarning: Failed to correctly find n_neighbors for some samples. Results may be less than ideal. Try re-running with different parameters.\n",
      "  warn(\n"
     ]
    },
    {
     "name": "stdout",
     "output_type": "stream",
     "text": [
      "8666666.67558253\n",
      "# iters:   48. Rel primal: 4.0006e-06 Rel dual: 7.7208e-06  OBJ 1.871e+03\n",
      "Time needed is 0.002010822296142578 seconds\n"
     ]
    },
    {
     "name": "stderr",
     "output_type": "stream",
     "text": [
      "/Users/paul_reitz/opt/miniconda3/envs/apache_sedona/lib/python3.12/site-packages/pynndescent/pynndescent_.py:939: UserWarning: Failed to correctly find n_neighbors for some samples. Results may be less than ideal. Try re-running with different parameters.\n",
      "  warn(\n"
     ]
    },
    {
     "name": "stdout",
     "output_type": "stream",
     "text": [
      "7972173.840000483\n",
      "# iters:   48. Rel primal: 3.9285e-06 Rel dual: 9.4477e-06  OBJ 3.517e+03\n",
      "Time needed is 0.002515077590942383 seconds\n"
     ]
    },
    {
     "name": "stderr",
     "output_type": "stream",
     "text": [
      "/Users/paul_reitz/opt/miniconda3/envs/apache_sedona/lib/python3.12/site-packages/pynndescent/pynndescent_.py:939: UserWarning: Failed to correctly find n_neighbors for some samples. Results may be less than ideal. Try re-running with different parameters.\n",
      "  warn(\n"
     ]
    },
    {
     "name": "stdout",
     "output_type": "stream",
     "text": [
      "8666666.675413875\n",
      "# iters:   48. Rel primal: 3.9811e-06 Rel dual: 7.7601e-06  OBJ 1.895e+03\n",
      "Time needed is 0.002457857131958008 seconds\n"
     ]
    },
    {
     "name": "stderr",
     "output_type": "stream",
     "text": [
      "/Users/paul_reitz/opt/miniconda3/envs/apache_sedona/lib/python3.12/site-packages/pynndescent/pynndescent_.py:939: UserWarning: Failed to correctly find n_neighbors for some samples. Results may be less than ideal. Try re-running with different parameters.\n",
      "  warn(\n"
     ]
    },
    {
     "name": "stdout",
     "output_type": "stream",
     "text": [
      "7972173.840017851\n",
      "# iters:   48. Rel primal: 4.1794e-06 Rel dual: 9.1779e-06  OBJ 3.392e+03\n",
      "Time needed is 0.003030061721801758 seconds\n"
     ]
    },
    {
     "name": "stderr",
     "output_type": "stream",
     "text": [
      "/Users/paul_reitz/opt/miniconda3/envs/apache_sedona/lib/python3.12/site-packages/pynndescent/pynndescent_.py:939: UserWarning: Failed to correctly find n_neighbors for some samples. Results may be less than ideal. Try re-running with different parameters.\n",
      "  warn(\n"
     ]
    },
    {
     "name": "stdout",
     "output_type": "stream",
     "text": [
      "8666666.67558253\n",
      "# iters:   48. Rel primal: 4.0006e-06 Rel dual: 7.7208e-06  OBJ 1.871e+03\n",
      "Time needed is 0.0026443004608154297 seconds\n"
     ]
    },
    {
     "name": "stderr",
     "output_type": "stream",
     "text": [
      "/Users/paul_reitz/opt/miniconda3/envs/apache_sedona/lib/python3.12/site-packages/pynndescent/pynndescent_.py:939: UserWarning: Failed to correctly find n_neighbors for some samples. Results may be less than ideal. Try re-running with different parameters.\n",
      "  warn(\n"
     ]
    },
    {
     "name": "stdout",
     "output_type": "stream",
     "text": [
      "7972173.840000483\n",
      "# iters:   48. Rel primal: 3.9285e-06 Rel dual: 9.4477e-06  OBJ 3.517e+03\n",
      "Time needed is 0.002413034439086914 seconds\n"
     ]
    },
    {
     "name": "stderr",
     "output_type": "stream",
     "text": [
      "/Users/paul_reitz/opt/miniconda3/envs/apache_sedona/lib/python3.12/site-packages/pynndescent/pynndescent_.py:939: UserWarning: Failed to correctly find n_neighbors for some samples. Results may be less than ideal. Try re-running with different parameters.\n",
      "  warn(\n"
     ]
    },
    {
     "name": "stdout",
     "output_type": "stream",
     "text": [
      "8666666.675413875\n",
      "# iters:   48. Rel primal: 3.9811e-06 Rel dual: 7.7601e-06  OBJ 1.895e+03\n",
      "Time needed is 0.0020401477813720703 seconds\n"
     ]
    },
    {
     "name": "stderr",
     "output_type": "stream",
     "text": [
      "/Users/paul_reitz/opt/miniconda3/envs/apache_sedona/lib/python3.12/site-packages/pynndescent/pynndescent_.py:939: UserWarning: Failed to correctly find n_neighbors for some samples. Results may be less than ideal. Try re-running with different parameters.\n",
      "  warn(\n"
     ]
    },
    {
     "name": "stdout",
     "output_type": "stream",
     "text": [
      "7972173.840017851\n",
      "# iters:   48. Rel primal: 4.1794e-06 Rel dual: 9.1779e-06  OBJ 3.392e+03\n",
      "Time needed is 0.0023539066314697266 seconds\n"
     ]
    },
    {
     "name": "stderr",
     "output_type": "stream",
     "text": [
      "/Users/paul_reitz/opt/miniconda3/envs/apache_sedona/lib/python3.12/site-packages/pynndescent/pynndescent_.py:939: UserWarning: Failed to correctly find n_neighbors for some samples. Results may be less than ideal. Try re-running with different parameters.\n",
      "  warn(\n"
     ]
    },
    {
     "name": "stdout",
     "output_type": "stream",
     "text": [
      "8666666.67558253\n",
      "# iters:   48. Rel primal: 4.0006e-06 Rel dual: 7.7208e-06  OBJ 1.871e+03\n",
      "Time needed is 0.0032677650451660156 seconds\n"
     ]
    },
    {
     "name": "stderr",
     "output_type": "stream",
     "text": [
      "/Users/paul_reitz/opt/miniconda3/envs/apache_sedona/lib/python3.12/site-packages/pynndescent/pynndescent_.py:939: UserWarning: Failed to correctly find n_neighbors for some samples. Results may be less than ideal. Try re-running with different parameters.\n",
      "  warn(\n"
     ]
    },
    {
     "name": "stdout",
     "output_type": "stream",
     "text": [
      "7972173.840000483\n",
      "# iters:   48. Rel primal: 3.9285e-06 Rel dual: 9.4477e-06  OBJ 3.517e+03\n",
      "Time needed is 0.0021109580993652344 seconds\n"
     ]
    },
    {
     "name": "stderr",
     "output_type": "stream",
     "text": [
      "/Users/paul_reitz/opt/miniconda3/envs/apache_sedona/lib/python3.12/site-packages/pynndescent/pynndescent_.py:939: UserWarning: Failed to correctly find n_neighbors for some samples. Results may be less than ideal. Try re-running with different parameters.\n",
      "  warn(\n"
     ]
    },
    {
     "name": "stdout",
     "output_type": "stream",
     "text": [
      "8666666.675413875\n",
      "# iters:   48. Rel primal: 3.9811e-06 Rel dual: 7.7601e-06  OBJ 1.895e+03\n",
      "Time needed is 0.002331972122192383 seconds\n"
     ]
    },
    {
     "name": "stderr",
     "output_type": "stream",
     "text": [
      "/Users/paul_reitz/opt/miniconda3/envs/apache_sedona/lib/python3.12/site-packages/pynndescent/pynndescent_.py:939: UserWarning: Failed to correctly find n_neighbors for some samples. Results may be less than ideal. Try re-running with different parameters.\n",
      "  warn(\n"
     ]
    },
    {
     "name": "stdout",
     "output_type": "stream",
     "text": [
      "7972173.840017851\n",
      "# iters:   48. Rel primal: 4.1794e-06 Rel dual: 9.1779e-06  OBJ 3.392e+03\n",
      "Time needed is 0.0018999576568603516 seconds\n"
     ]
    },
    {
     "name": "stderr",
     "output_type": "stream",
     "text": [
      "/Users/paul_reitz/opt/miniconda3/envs/apache_sedona/lib/python3.12/site-packages/pynndescent/pynndescent_.py:939: UserWarning: Failed to correctly find n_neighbors for some samples. Results may be less than ideal. Try re-running with different parameters.\n",
      "  warn(\n"
     ]
    },
    {
     "name": "stdout",
     "output_type": "stream",
     "text": [
      "8666666.67558253\n",
      "# iters:   48. Rel primal: 4.0006e-06 Rel dual: 7.7208e-06  OBJ 1.871e+03\n",
      "Time needed is 0.0023839473724365234 seconds\n"
     ]
    },
    {
     "name": "stderr",
     "output_type": "stream",
     "text": [
      "/Users/paul_reitz/opt/miniconda3/envs/apache_sedona/lib/python3.12/site-packages/pynndescent/pynndescent_.py:939: UserWarning: Failed to correctly find n_neighbors for some samples. Results may be less than ideal. Try re-running with different parameters.\n",
      "  warn(\n"
     ]
    },
    {
     "name": "stdout",
     "output_type": "stream",
     "text": [
      "7972173.840000483\n",
      "# iters:   48. Rel primal: 3.9285e-06 Rel dual: 9.4477e-06  OBJ 3.517e+03\n",
      "Time needed is 0.0021109580993652344 seconds\n"
     ]
    },
    {
     "name": "stderr",
     "output_type": "stream",
     "text": [
      "/Users/paul_reitz/opt/miniconda3/envs/apache_sedona/lib/python3.12/site-packages/pynndescent/pynndescent_.py:939: UserWarning: Failed to correctly find n_neighbors for some samples. Results may be less than ideal. Try re-running with different parameters.\n",
      "  warn(\n"
     ]
    },
    {
     "name": "stdout",
     "output_type": "stream",
     "text": [
      "8666666.675413875\n",
      "# iters:   48. Rel primal: 3.9811e-06 Rel dual: 7.7601e-06  OBJ 1.895e+03\n",
      "Time needed is 0.0026128292083740234 seconds\n"
     ]
    },
    {
     "name": "stderr",
     "output_type": "stream",
     "text": [
      "/Users/paul_reitz/opt/miniconda3/envs/apache_sedona/lib/python3.12/site-packages/pynndescent/pynndescent_.py:939: UserWarning: Failed to correctly find n_neighbors for some samples. Results may be less than ideal. Try re-running with different parameters.\n",
      "  warn(\n"
     ]
    },
    {
     "name": "stdout",
     "output_type": "stream",
     "text": [
      "7972173.840017851\n",
      "# iters:   48. Rel primal: 4.1794e-06 Rel dual: 9.1779e-06  OBJ 3.392e+03\n",
      "Time needed is 0.0027430057525634766 seconds\n"
     ]
    },
    {
     "name": "stderr",
     "output_type": "stream",
     "text": [
      "/Users/paul_reitz/opt/miniconda3/envs/apache_sedona/lib/python3.12/site-packages/pynndescent/pynndescent_.py:939: UserWarning: Failed to correctly find n_neighbors for some samples. Results may be less than ideal. Try re-running with different parameters.\n",
      "  warn(\n"
     ]
    },
    {
     "name": "stdout",
     "output_type": "stream",
     "text": [
      "8666666.67558253\n",
      "# iters:   48. Rel primal: 4.0006e-06 Rel dual: 7.7208e-06  OBJ 1.871e+03\n",
      "Time needed is 0.0026979446411132812 seconds\n"
     ]
    },
    {
     "name": "stderr",
     "output_type": "stream",
     "text": [
      "/Users/paul_reitz/opt/miniconda3/envs/apache_sedona/lib/python3.12/site-packages/pynndescent/pynndescent_.py:939: UserWarning: Failed to correctly find n_neighbors for some samples. Results may be less than ideal. Try re-running with different parameters.\n",
      "  warn(\n"
     ]
    },
    {
     "name": "stdout",
     "output_type": "stream",
     "text": [
      "7972173.840000483\n",
      "# iters:   48. Rel primal: 3.9285e-06 Rel dual: 9.4477e-06  OBJ 3.517e+03\n",
      "Time needed is 0.0028662681579589844 seconds\n"
     ]
    },
    {
     "name": "stderr",
     "output_type": "stream",
     "text": [
      "/Users/paul_reitz/opt/miniconda3/envs/apache_sedona/lib/python3.12/site-packages/pynndescent/pynndescent_.py:939: UserWarning: Failed to correctly find n_neighbors for some samples. Results may be less than ideal. Try re-running with different parameters.\n",
      "  warn(\n"
     ]
    },
    {
     "name": "stdout",
     "output_type": "stream",
     "text": [
      "8666666.675413875\n",
      "# iters:   48. Rel primal: 3.9811e-06 Rel dual: 7.7601e-06  OBJ 1.895e+03\n",
      "Time needed is 0.0019769668579101562 seconds\n"
     ]
    },
    {
     "name": "stderr",
     "output_type": "stream",
     "text": [
      "/Users/paul_reitz/opt/miniconda3/envs/apache_sedona/lib/python3.12/site-packages/pynndescent/pynndescent_.py:939: UserWarning: Failed to correctly find n_neighbors for some samples. Results may be less than ideal. Try re-running with different parameters.\n",
      "  warn(\n"
     ]
    },
    {
     "name": "stdout",
     "output_type": "stream",
     "text": [
      "7972173.840017851\n",
      "# iters:   48. Rel primal: 4.1794e-06 Rel dual: 9.1779e-06  OBJ 3.392e+03\n",
      "Time needed is 0.0026471614837646484 seconds\n"
     ]
    },
    {
     "name": "stderr",
     "output_type": "stream",
     "text": [
      "/Users/paul_reitz/opt/miniconda3/envs/apache_sedona/lib/python3.12/site-packages/pynndescent/pynndescent_.py:939: UserWarning: Failed to correctly find n_neighbors for some samples. Results may be less than ideal. Try re-running with different parameters.\n",
      "  warn(\n"
     ]
    },
    {
     "name": "stdout",
     "output_type": "stream",
     "text": [
      "8666666.67558253\n",
      "# iters:   48. Rel primal: 4.0006e-06 Rel dual: 7.7208e-06  OBJ 1.871e+03\n",
      "Time needed is 0.0019259452819824219 seconds\n"
     ]
    },
    {
     "name": "stderr",
     "output_type": "stream",
     "text": [
      "/Users/paul_reitz/opt/miniconda3/envs/apache_sedona/lib/python3.12/site-packages/pynndescent/pynndescent_.py:939: UserWarning: Failed to correctly find n_neighbors for some samples. Results may be less than ideal. Try re-running with different parameters.\n",
      "  warn(\n"
     ]
    },
    {
     "name": "stdout",
     "output_type": "stream",
     "text": [
      "7972173.840000483\n",
      "# iters:   48. Rel primal: 3.9285e-06 Rel dual: 9.4477e-06  OBJ 3.517e+03\n",
      "Time needed is 0.002624034881591797 seconds\n"
     ]
    },
    {
     "name": "stderr",
     "output_type": "stream",
     "text": [
      "/Users/paul_reitz/opt/miniconda3/envs/apache_sedona/lib/python3.12/site-packages/pynndescent/pynndescent_.py:939: UserWarning: Failed to correctly find n_neighbors for some samples. Results may be less than ideal. Try re-running with different parameters.\n",
      "  warn(\n"
     ]
    },
    {
     "name": "stdout",
     "output_type": "stream",
     "text": [
      "8666666.675413875\n",
      "# iters:   48. Rel primal: 3.9811e-06 Rel dual: 7.7601e-06  OBJ 1.895e+03\n",
      "Time needed is 0.002351045608520508 seconds\n"
     ]
    },
    {
     "name": "stderr",
     "output_type": "stream",
     "text": [
      "/Users/paul_reitz/opt/miniconda3/envs/apache_sedona/lib/python3.12/site-packages/pynndescent/pynndescent_.py:939: UserWarning: Failed to correctly find n_neighbors for some samples. Results may be less than ideal. Try re-running with different parameters.\n",
      "  warn(\n"
     ]
    },
    {
     "name": "stdout",
     "output_type": "stream",
     "text": [
      "7972173.840017851\n",
      "# iters:   48. Rel primal: 4.1794e-06 Rel dual: 9.1779e-06  OBJ 3.392e+03\n",
      "Time needed is 0.0024330615997314453 seconds\n"
     ]
    },
    {
     "name": "stderr",
     "output_type": "stream",
     "text": [
      "/Users/paul_reitz/opt/miniconda3/envs/apache_sedona/lib/python3.12/site-packages/pynndescent/pynndescent_.py:939: UserWarning: Failed to correctly find n_neighbors for some samples. Results may be less than ideal. Try re-running with different parameters.\n",
      "  warn(\n"
     ]
    },
    {
     "name": "stdout",
     "output_type": "stream",
     "text": [
      "8666666.67558253\n",
      "# iters:   48. Rel primal: 4.0006e-06 Rel dual: 7.7208e-06  OBJ 1.871e+03\n",
      "Time needed is 0.001750946044921875 seconds\n"
     ]
    },
    {
     "name": "stderr",
     "output_type": "stream",
     "text": [
      "/Users/paul_reitz/opt/miniconda3/envs/apache_sedona/lib/python3.12/site-packages/pynndescent/pynndescent_.py:939: UserWarning: Failed to correctly find n_neighbors for some samples. Results may be less than ideal. Try re-running with different parameters.\n",
      "  warn(\n"
     ]
    },
    {
     "name": "stdout",
     "output_type": "stream",
     "text": [
      "7972173.840000483\n",
      "# iters:   48. Rel primal: 3.9285e-06 Rel dual: 9.4477e-06  OBJ 3.517e+03\n",
      "Time needed is 0.0017881393432617188 seconds\n"
     ]
    },
    {
     "name": "stderr",
     "output_type": "stream",
     "text": [
      "/Users/paul_reitz/opt/miniconda3/envs/apache_sedona/lib/python3.12/site-packages/pynndescent/pynndescent_.py:939: UserWarning: Failed to correctly find n_neighbors for some samples. Results may be less than ideal. Try re-running with different parameters.\n",
      "  warn(\n"
     ]
    },
    {
     "name": "stdout",
     "output_type": "stream",
     "text": [
      "8666666.675413875\n",
      "# iters:   48. Rel primal: 3.9811e-06 Rel dual: 7.7601e-06  OBJ 1.895e+03\n",
      "Time needed is 0.0020139217376708984 seconds\n"
     ]
    },
    {
     "name": "stderr",
     "output_type": "stream",
     "text": [
      "/Users/paul_reitz/opt/miniconda3/envs/apache_sedona/lib/python3.12/site-packages/pynndescent/pynndescent_.py:939: UserWarning: Failed to correctly find n_neighbors for some samples. Results may be less than ideal. Try re-running with different parameters.\n",
      "  warn(\n"
     ]
    },
    {
     "name": "stdout",
     "output_type": "stream",
     "text": [
      "7972173.840017851\n",
      "# iters:   48. Rel primal: 4.1794e-06 Rel dual: 9.1779e-06  OBJ 3.392e+03\n",
      "Time needed is 0.0020101070404052734 seconds\n"
     ]
    },
    {
     "name": "stderr",
     "output_type": "stream",
     "text": [
      "/Users/paul_reitz/opt/miniconda3/envs/apache_sedona/lib/python3.12/site-packages/pynndescent/pynndescent_.py:939: UserWarning: Failed to correctly find n_neighbors for some samples. Results may be less than ideal. Try re-running with different parameters.\n",
      "  warn(\n"
     ]
    },
    {
     "name": "stdout",
     "output_type": "stream",
     "text": [
      "8666666.67558253\n",
      "# iters:   48. Rel primal: 4.0006e-06 Rel dual: 7.7208e-06  OBJ 1.871e+03\n",
      "Time needed is 0.0022220611572265625 seconds\n"
     ]
    },
    {
     "name": "stderr",
     "output_type": "stream",
     "text": [
      "/Users/paul_reitz/opt/miniconda3/envs/apache_sedona/lib/python3.12/site-packages/pynndescent/pynndescent_.py:939: UserWarning: Failed to correctly find n_neighbors for some samples. Results may be less than ideal. Try re-running with different parameters.\n",
      "  warn(\n"
     ]
    },
    {
     "name": "stdout",
     "output_type": "stream",
     "text": [
      "7972173.840000483\n",
      "# iters:   48. Rel primal: 3.9285e-06 Rel dual: 9.4477e-06  OBJ 3.517e+03\n",
      "Time needed is 0.001943826675415039 seconds\n"
     ]
    },
    {
     "name": "stderr",
     "output_type": "stream",
     "text": [
      "/Users/paul_reitz/opt/miniconda3/envs/apache_sedona/lib/python3.12/site-packages/pynndescent/pynndescent_.py:939: UserWarning: Failed to correctly find n_neighbors for some samples. Results may be less than ideal. Try re-running with different parameters.\n",
      "  warn(\n"
     ]
    },
    {
     "name": "stdout",
     "output_type": "stream",
     "text": [
      "8666666.675413875\n",
      "# iters:   48. Rel primal: 3.9811e-06 Rel dual: 7.7601e-06  OBJ 1.895e+03\n",
      "Time needed is 0.002351045608520508 seconds\n"
     ]
    },
    {
     "name": "stderr",
     "output_type": "stream",
     "text": [
      "/Users/paul_reitz/opt/miniconda3/envs/apache_sedona/lib/python3.12/site-packages/pynndescent/pynndescent_.py:939: UserWarning: Failed to correctly find n_neighbors for some samples. Results may be less than ideal. Try re-running with different parameters.\n",
      "  warn(\n"
     ]
    },
    {
     "name": "stdout",
     "output_type": "stream",
     "text": [
      "7972173.840017851\n",
      "# iters:   48. Rel primal: 4.1794e-06 Rel dual: 9.1779e-06  OBJ 3.392e+03\n",
      "Time needed is 0.001993894577026367 seconds\n"
     ]
    },
    {
     "name": "stderr",
     "output_type": "stream",
     "text": [
      "/Users/paul_reitz/opt/miniconda3/envs/apache_sedona/lib/python3.12/site-packages/pynndescent/pynndescent_.py:939: UserWarning: Failed to correctly find n_neighbors for some samples. Results may be less than ideal. Try re-running with different parameters.\n",
      "  warn(\n"
     ]
    },
    {
     "name": "stdout",
     "output_type": "stream",
     "text": [
      "8666666.67558253\n",
      "# iters:   48. Rel primal: 4.0006e-06 Rel dual: 7.7208e-06  OBJ 1.871e+03\n",
      "Time needed is 0.001748800277709961 seconds\n"
     ]
    },
    {
     "name": "stderr",
     "output_type": "stream",
     "text": [
      "/Users/paul_reitz/opt/miniconda3/envs/apache_sedona/lib/python3.12/site-packages/pynndescent/pynndescent_.py:939: UserWarning: Failed to correctly find n_neighbors for some samples. Results may be less than ideal. Try re-running with different parameters.\n",
      "  warn(\n"
     ]
    },
    {
     "name": "stdout",
     "output_type": "stream",
     "text": [
      "7972173.840000483\n",
      "# iters:   48. Rel primal: 3.9285e-06 Rel dual: 9.4477e-06  OBJ 3.517e+03\n",
      "Time needed is 0.0018842220306396484 seconds\n"
     ]
    },
    {
     "name": "stderr",
     "output_type": "stream",
     "text": [
      "/Users/paul_reitz/opt/miniconda3/envs/apache_sedona/lib/python3.12/site-packages/pynndescent/pynndescent_.py:939: UserWarning: Failed to correctly find n_neighbors for some samples. Results may be less than ideal. Try re-running with different parameters.\n",
      "  warn(\n"
     ]
    },
    {
     "name": "stdout",
     "output_type": "stream",
     "text": [
      "8666666.675413875\n",
      "# iters:   48. Rel primal: 3.9811e-06 Rel dual: 7.7601e-06  OBJ 1.895e+03\n",
      "Time needed is 0.0021848678588867188 seconds\n"
     ]
    },
    {
     "name": "stderr",
     "output_type": "stream",
     "text": [
      "/Users/paul_reitz/opt/miniconda3/envs/apache_sedona/lib/python3.12/site-packages/pynndescent/pynndescent_.py:939: UserWarning: Failed to correctly find n_neighbors for some samples. Results may be less than ideal. Try re-running with different parameters.\n",
      "  warn(\n"
     ]
    },
    {
     "name": "stdout",
     "output_type": "stream",
     "text": [
      "7972173.840017851\n",
      "# iters:   48. Rel primal: 4.1794e-06 Rel dual: 9.1779e-06  OBJ 3.392e+03\n",
      "Time needed is 0.0020999908447265625 seconds\n"
     ]
    },
    {
     "name": "stderr",
     "output_type": "stream",
     "text": [
      "/Users/paul_reitz/opt/miniconda3/envs/apache_sedona/lib/python3.12/site-packages/pynndescent/pynndescent_.py:939: UserWarning: Failed to correctly find n_neighbors for some samples. Results may be less than ideal. Try re-running with different parameters.\n",
      "  warn(\n"
     ]
    },
    {
     "name": "stdout",
     "output_type": "stream",
     "text": [
      "8666666.67558253\n",
      "# iters:   48. Rel primal: 4.0006e-06 Rel dual: 7.7208e-06  OBJ 1.871e+03\n",
      "Time needed is 0.002523183822631836 seconds\n"
     ]
    },
    {
     "name": "stderr",
     "output_type": "stream",
     "text": [
      "/Users/paul_reitz/opt/miniconda3/envs/apache_sedona/lib/python3.12/site-packages/pynndescent/pynndescent_.py:939: UserWarning: Failed to correctly find n_neighbors for some samples. Results may be less than ideal. Try re-running with different parameters.\n",
      "  warn(\n"
     ]
    },
    {
     "name": "stdout",
     "output_type": "stream",
     "text": [
      "7972173.840000483\n",
      "# iters:   48. Rel primal: 3.9285e-06 Rel dual: 9.4477e-06  OBJ 3.517e+03\n",
      "Time needed is 0.0019540786743164062 seconds\n"
     ]
    },
    {
     "name": "stderr",
     "output_type": "stream",
     "text": [
      "/Users/paul_reitz/opt/miniconda3/envs/apache_sedona/lib/python3.12/site-packages/pynndescent/pynndescent_.py:939: UserWarning: Failed to correctly find n_neighbors for some samples. Results may be less than ideal. Try re-running with different parameters.\n",
      "  warn(\n"
     ]
    },
    {
     "name": "stdout",
     "output_type": "stream",
     "text": [
      "8666666.675413875\n",
      "# iters:   48. Rel primal: 3.9811e-06 Rel dual: 7.7601e-06  OBJ 1.895e+03\n",
      "Time needed is 0.002282857894897461 seconds\n"
     ]
    },
    {
     "name": "stderr",
     "output_type": "stream",
     "text": [
      "/Users/paul_reitz/opt/miniconda3/envs/apache_sedona/lib/python3.12/site-packages/pynndescent/pynndescent_.py:939: UserWarning: Failed to correctly find n_neighbors for some samples. Results may be less than ideal. Try re-running with different parameters.\n",
      "  warn(\n"
     ]
    },
    {
     "name": "stdout",
     "output_type": "stream",
     "text": [
      "7972173.840017851\n",
      "# iters:   48. Rel primal: 4.1794e-06 Rel dual: 9.1779e-06  OBJ 3.392e+03\n",
      "Time needed is 0.001993894577026367 seconds\n"
     ]
    },
    {
     "name": "stderr",
     "output_type": "stream",
     "text": [
      "/Users/paul_reitz/opt/miniconda3/envs/apache_sedona/lib/python3.12/site-packages/pynndescent/pynndescent_.py:939: UserWarning: Failed to correctly find n_neighbors for some samples. Results may be less than ideal. Try re-running with different parameters.\n",
      "  warn(\n"
     ]
    },
    {
     "name": "stdout",
     "output_type": "stream",
     "text": [
      "8666666.67558253\n",
      "# iters:   48. Rel primal: 4.0006e-06 Rel dual: 7.7208e-06  OBJ 1.871e+03\n",
      "Time needed is 0.0020329952239990234 seconds\n"
     ]
    },
    {
     "name": "stderr",
     "output_type": "stream",
     "text": [
      "/Users/paul_reitz/opt/miniconda3/envs/apache_sedona/lib/python3.12/site-packages/pynndescent/pynndescent_.py:939: UserWarning: Failed to correctly find n_neighbors for some samples. Results may be less than ideal. Try re-running with different parameters.\n",
      "  warn(\n"
     ]
    },
    {
     "name": "stdout",
     "output_type": "stream",
     "text": [
      "7972173.840000483\n",
      "# iters:   48. Rel primal: 3.9285e-06 Rel dual: 9.4477e-06  OBJ 3.517e+03\n",
      "Time needed is 0.0020139217376708984 seconds\n"
     ]
    },
    {
     "name": "stderr",
     "output_type": "stream",
     "text": [
      "/Users/paul_reitz/opt/miniconda3/envs/apache_sedona/lib/python3.12/site-packages/pynndescent/pynndescent_.py:939: UserWarning: Failed to correctly find n_neighbors for some samples. Results may be less than ideal. Try re-running with different parameters.\n",
      "  warn(\n"
     ]
    },
    {
     "name": "stdout",
     "output_type": "stream",
     "text": [
      "8666666.675413875\n",
      "# iters:   48. Rel primal: 3.9811e-06 Rel dual: 7.7601e-06  OBJ 1.895e+03\n",
      "Time needed is 0.0018711090087890625 seconds\n"
     ]
    },
    {
     "name": "stderr",
     "output_type": "stream",
     "text": [
      "/Users/paul_reitz/opt/miniconda3/envs/apache_sedona/lib/python3.12/site-packages/pynndescent/pynndescent_.py:939: UserWarning: Failed to correctly find n_neighbors for some samples. Results may be less than ideal. Try re-running with different parameters.\n",
      "  warn(\n"
     ]
    },
    {
     "name": "stdout",
     "output_type": "stream",
     "text": [
      "7972173.840017851\n",
      "# iters:   48. Rel primal: 4.1794e-06 Rel dual: 9.1779e-06  OBJ 3.392e+03\n",
      "Time needed is 0.002402067184448242 seconds\n"
     ]
    },
    {
     "name": "stderr",
     "output_type": "stream",
     "text": [
      "/Users/paul_reitz/opt/miniconda3/envs/apache_sedona/lib/python3.12/site-packages/pynndescent/pynndescent_.py:939: UserWarning: Failed to correctly find n_neighbors for some samples. Results may be less than ideal. Try re-running with different parameters.\n",
      "  warn(\n"
     ]
    },
    {
     "name": "stdout",
     "output_type": "stream",
     "text": [
      "8666666.67558253\n",
      "# iters:   48. Rel primal: 4.0006e-06 Rel dual: 7.7208e-06  OBJ 1.871e+03\n",
      "Time needed is 0.0021491050720214844 seconds\n"
     ]
    },
    {
     "name": "stderr",
     "output_type": "stream",
     "text": [
      "/Users/paul_reitz/opt/miniconda3/envs/apache_sedona/lib/python3.12/site-packages/pynndescent/pynndescent_.py:939: UserWarning: Failed to correctly find n_neighbors for some samples. Results may be less than ideal. Try re-running with different parameters.\n",
      "  warn(\n"
     ]
    },
    {
     "name": "stdout",
     "output_type": "stream",
     "text": [
      "7972173.840000483\n",
      "# iters:   48. Rel primal: 3.9285e-06 Rel dual: 9.4477e-06  OBJ 3.517e+03\n",
      "Time needed is 0.0024900436401367188 seconds\n"
     ]
    },
    {
     "name": "stderr",
     "output_type": "stream",
     "text": [
      "/Users/paul_reitz/opt/miniconda3/envs/apache_sedona/lib/python3.12/site-packages/pynndescent/pynndescent_.py:939: UserWarning: Failed to correctly find n_neighbors for some samples. Results may be less than ideal. Try re-running with different parameters.\n",
      "  warn(\n"
     ]
    },
    {
     "name": "stdout",
     "output_type": "stream",
     "text": [
      "8666666.675413875\n",
      "# iters:   48. Rel primal: 3.9811e-06 Rel dual: 7.7601e-06  OBJ 1.895e+03\n",
      "Time needed is 0.002048015594482422 seconds\n"
     ]
    },
    {
     "name": "stderr",
     "output_type": "stream",
     "text": [
      "/Users/paul_reitz/opt/miniconda3/envs/apache_sedona/lib/python3.12/site-packages/pynndescent/pynndescent_.py:939: UserWarning: Failed to correctly find n_neighbors for some samples. Results may be less than ideal. Try re-running with different parameters.\n",
      "  warn(\n"
     ]
    },
    {
     "name": "stdout",
     "output_type": "stream",
     "text": [
      "7972173.840017851\n",
      "# iters:   48. Rel primal: 4.1794e-06 Rel dual: 9.1779e-06  OBJ 3.392e+03\n",
      "Time needed is 0.002007722854614258 seconds\n"
     ]
    },
    {
     "name": "stderr",
     "output_type": "stream",
     "text": [
      "/Users/paul_reitz/opt/miniconda3/envs/apache_sedona/lib/python3.12/site-packages/pynndescent/pynndescent_.py:939: UserWarning: Failed to correctly find n_neighbors for some samples. Results may be less than ideal. Try re-running with different parameters.\n",
      "  warn(\n"
     ]
    },
    {
     "name": "stdout",
     "output_type": "stream",
     "text": [
      "8666666.67558253\n",
      "# iters:   48. Rel primal: 4.0006e-06 Rel dual: 7.7208e-06  OBJ 1.871e+03\n",
      "Time needed is 0.0024080276489257812 seconds\n"
     ]
    },
    {
     "name": "stderr",
     "output_type": "stream",
     "text": [
      "/Users/paul_reitz/opt/miniconda3/envs/apache_sedona/lib/python3.12/site-packages/pynndescent/pynndescent_.py:939: UserWarning: Failed to correctly find n_neighbors for some samples. Results may be less than ideal. Try re-running with different parameters.\n",
      "  warn(\n"
     ]
    },
    {
     "name": "stdout",
     "output_type": "stream",
     "text": [
      "7972173.840000483\n",
      "# iters:   48. Rel primal: 3.9285e-06 Rel dual: 9.4477e-06  OBJ 3.517e+03\n",
      "Time needed is 0.0022351741790771484 seconds\n"
     ]
    },
    {
     "name": "stderr",
     "output_type": "stream",
     "text": [
      "/Users/paul_reitz/opt/miniconda3/envs/apache_sedona/lib/python3.12/site-packages/pynndescent/pynndescent_.py:939: UserWarning: Failed to correctly find n_neighbors for some samples. Results may be less than ideal. Try re-running with different parameters.\n",
      "  warn(\n"
     ]
    },
    {
     "name": "stdout",
     "output_type": "stream",
     "text": [
      "8666666.675413875\n",
      "# iters:   48. Rel primal: 3.9811e-06 Rel dual: 7.7601e-06  OBJ 1.895e+03\n",
      "Time needed is 0.0019791126251220703 seconds\n"
     ]
    },
    {
     "name": "stderr",
     "output_type": "stream",
     "text": [
      "/Users/paul_reitz/opt/miniconda3/envs/apache_sedona/lib/python3.12/site-packages/pynndescent/pynndescent_.py:939: UserWarning: Failed to correctly find n_neighbors for some samples. Results may be less than ideal. Try re-running with different parameters.\n",
      "  warn(\n"
     ]
    },
    {
     "name": "stdout",
     "output_type": "stream",
     "text": [
      "7972173.840017851\n",
      "# iters:   48. Rel primal: 4.1794e-06 Rel dual: 9.1779e-06  OBJ 3.392e+03\n",
      "Time needed is 0.0019550323486328125 seconds\n"
     ]
    },
    {
     "name": "stderr",
     "output_type": "stream",
     "text": [
      "/Users/paul_reitz/opt/miniconda3/envs/apache_sedona/lib/python3.12/site-packages/pynndescent/pynndescent_.py:939: UserWarning: Failed to correctly find n_neighbors for some samples. Results may be less than ideal. Try re-running with different parameters.\n",
      "  warn(\n"
     ]
    },
    {
     "name": "stdout",
     "output_type": "stream",
     "text": [
      "8666666.67558253\n",
      "# iters:   48. Rel primal: 4.0006e-06 Rel dual: 7.7208e-06  OBJ 1.871e+03\n",
      "Time needed is 0.0021038055419921875 seconds\n"
     ]
    },
    {
     "name": "stderr",
     "output_type": "stream",
     "text": [
      "/Users/paul_reitz/opt/miniconda3/envs/apache_sedona/lib/python3.12/site-packages/pynndescent/pynndescent_.py:939: UserWarning: Failed to correctly find n_neighbors for some samples. Results may be less than ideal. Try re-running with different parameters.\n",
      "  warn(\n"
     ]
    },
    {
     "name": "stdout",
     "output_type": "stream",
     "text": [
      "7972173.840000483\n",
      "# iters:   48. Rel primal: 3.9285e-06 Rel dual: 9.4477e-06  OBJ 3.517e+03\n",
      "Time needed is 0.002296924591064453 seconds\n"
     ]
    },
    {
     "name": "stderr",
     "output_type": "stream",
     "text": [
      "/Users/paul_reitz/opt/miniconda3/envs/apache_sedona/lib/python3.12/site-packages/pynndescent/pynndescent_.py:939: UserWarning: Failed to correctly find n_neighbors for some samples. Results may be less than ideal. Try re-running with different parameters.\n",
      "  warn(\n"
     ]
    },
    {
     "name": "stdout",
     "output_type": "stream",
     "text": [
      "8666666.675413875\n",
      "# iters:   48. Rel primal: 3.9811e-06 Rel dual: 7.7601e-06  OBJ 1.895e+03\n",
      "Time needed is 0.002183198928833008 seconds\n"
     ]
    },
    {
     "name": "stderr",
     "output_type": "stream",
     "text": [
      "/Users/paul_reitz/opt/miniconda3/envs/apache_sedona/lib/python3.12/site-packages/pynndescent/pynndescent_.py:939: UserWarning: Failed to correctly find n_neighbors for some samples. Results may be less than ideal. Try re-running with different parameters.\n",
      "  warn(\n"
     ]
    },
    {
     "name": "stdout",
     "output_type": "stream",
     "text": [
      "7972173.840017851\n",
      "# iters:   48. Rel primal: 4.1794e-06 Rel dual: 9.1779e-06  OBJ 3.392e+03\n",
      "Time needed is 0.0018792152404785156 seconds\n"
     ]
    },
    {
     "name": "stderr",
     "output_type": "stream",
     "text": [
      "/Users/paul_reitz/opt/miniconda3/envs/apache_sedona/lib/python3.12/site-packages/pynndescent/pynndescent_.py:939: UserWarning: Failed to correctly find n_neighbors for some samples. Results may be less than ideal. Try re-running with different parameters.\n",
      "  warn(\n"
     ]
    },
    {
     "name": "stdout",
     "output_type": "stream",
     "text": [
      "8666666.67558253\n",
      "# iters:   48. Rel primal: 4.0006e-06 Rel dual: 7.7208e-06  OBJ 1.871e+03\n",
      "Time needed is 0.0019137859344482422 seconds\n"
     ]
    },
    {
     "name": "stderr",
     "output_type": "stream",
     "text": [
      "/Users/paul_reitz/opt/miniconda3/envs/apache_sedona/lib/python3.12/site-packages/pynndescent/pynndescent_.py:939: UserWarning: Failed to correctly find n_neighbors for some samples. Results may be less than ideal. Try re-running with different parameters.\n",
      "  warn(\n"
     ]
    },
    {
     "name": "stdout",
     "output_type": "stream",
     "text": [
      "7972173.840000483\n",
      "# iters:   48. Rel primal: 3.9285e-06 Rel dual: 9.4477e-06  OBJ 3.517e+03\n",
      "Time needed is 0.00173187255859375 seconds\n"
     ]
    },
    {
     "name": "stderr",
     "output_type": "stream",
     "text": [
      "/Users/paul_reitz/opt/miniconda3/envs/apache_sedona/lib/python3.12/site-packages/pynndescent/pynndescent_.py:939: UserWarning: Failed to correctly find n_neighbors for some samples. Results may be less than ideal. Try re-running with different parameters.\n",
      "  warn(\n"
     ]
    },
    {
     "name": "stdout",
     "output_type": "stream",
     "text": [
      "8666666.675413875\n",
      "# iters:   48. Rel primal: 3.9811e-06 Rel dual: 7.7601e-06  OBJ 1.895e+03\n",
      "Time needed is 0.001987934112548828 seconds\n"
     ]
    },
    {
     "name": "stderr",
     "output_type": "stream",
     "text": [
      "/Users/paul_reitz/opt/miniconda3/envs/apache_sedona/lib/python3.12/site-packages/pynndescent/pynndescent_.py:939: UserWarning: Failed to correctly find n_neighbors for some samples. Results may be less than ideal. Try re-running with different parameters.\n",
      "  warn(\n"
     ]
    },
    {
     "name": "stdout",
     "output_type": "stream",
     "text": [
      "7972173.840017851\n",
      "# iters:   48. Rel primal: 4.1794e-06 Rel dual: 9.1779e-06  OBJ 3.392e+03\n",
      "Time needed is 0.0019609928131103516 seconds\n"
     ]
    },
    {
     "name": "stderr",
     "output_type": "stream",
     "text": [
      "/Users/paul_reitz/opt/miniconda3/envs/apache_sedona/lib/python3.12/site-packages/pynndescent/pynndescent_.py:939: UserWarning: Failed to correctly find n_neighbors for some samples. Results may be less than ideal. Try re-running with different parameters.\n",
      "  warn(\n"
     ]
    },
    {
     "name": "stdout",
     "output_type": "stream",
     "text": [
      "8666666.67558253\n",
      "# iters:   48. Rel primal: 4.0006e-06 Rel dual: 7.7208e-06  OBJ 1.871e+03\n",
      "Time needed is 0.0022530555725097656 seconds\n"
     ]
    },
    {
     "name": "stderr",
     "output_type": "stream",
     "text": [
      "/Users/paul_reitz/opt/miniconda3/envs/apache_sedona/lib/python3.12/site-packages/pynndescent/pynndescent_.py:939: UserWarning: Failed to correctly find n_neighbors for some samples. Results may be less than ideal. Try re-running with different parameters.\n",
      "  warn(\n"
     ]
    },
    {
     "name": "stdout",
     "output_type": "stream",
     "text": [
      "7972173.840000483\n",
      "# iters:   48. Rel primal: 3.9285e-06 Rel dual: 9.4477e-06  OBJ 3.517e+03\n",
      "Time needed is 0.001947164535522461 seconds\n"
     ]
    },
    {
     "name": "stderr",
     "output_type": "stream",
     "text": [
      "/Users/paul_reitz/opt/miniconda3/envs/apache_sedona/lib/python3.12/site-packages/pynndescent/pynndescent_.py:939: UserWarning: Failed to correctly find n_neighbors for some samples. Results may be less than ideal. Try re-running with different parameters.\n",
      "  warn(\n"
     ]
    },
    {
     "name": "stdout",
     "output_type": "stream",
     "text": [
      "8666666.675413875\n",
      "# iters:   48. Rel primal: 3.9811e-06 Rel dual: 7.7601e-06  OBJ 1.895e+03\n",
      "Time needed is 0.0021660327911376953 seconds\n"
     ]
    },
    {
     "name": "stderr",
     "output_type": "stream",
     "text": [
      "/Users/paul_reitz/opt/miniconda3/envs/apache_sedona/lib/python3.12/site-packages/pynndescent/pynndescent_.py:939: UserWarning: Failed to correctly find n_neighbors for some samples. Results may be less than ideal. Try re-running with different parameters.\n",
      "  warn(\n"
     ]
    },
    {
     "name": "stdout",
     "output_type": "stream",
     "text": [
      "7972173.840017851\n",
      "# iters:   48. Rel primal: 4.1794e-06 Rel dual: 9.1779e-06  OBJ 3.392e+03\n",
      "Time needed is 0.001943826675415039 seconds\n"
     ]
    },
    {
     "name": "stderr",
     "output_type": "stream",
     "text": [
      "/Users/paul_reitz/opt/miniconda3/envs/apache_sedona/lib/python3.12/site-packages/pynndescent/pynndescent_.py:939: UserWarning: Failed to correctly find n_neighbors for some samples. Results may be less than ideal. Try re-running with different parameters.\n",
      "  warn(\n"
     ]
    },
    {
     "name": "stdout",
     "output_type": "stream",
     "text": [
      "8666666.67558253\n",
      "# iters:   48. Rel primal: 4.0006e-06 Rel dual: 7.7208e-06  OBJ 1.871e+03\n",
      "Time needed is 0.00222015380859375 seconds\n"
     ]
    },
    {
     "name": "stderr",
     "output_type": "stream",
     "text": [
      "/Users/paul_reitz/opt/miniconda3/envs/apache_sedona/lib/python3.12/site-packages/pynndescent/pynndescent_.py:939: UserWarning: Failed to correctly find n_neighbors for some samples. Results may be less than ideal. Try re-running with different parameters.\n",
      "  warn(\n"
     ]
    },
    {
     "name": "stdout",
     "output_type": "stream",
     "text": [
      "7972173.840000483\n",
      "# iters:   48. Rel primal: 3.9285e-06 Rel dual: 9.4477e-06  OBJ 3.517e+03\n",
      "Time needed is 0.002092123031616211 seconds\n"
     ]
    },
    {
     "name": "stderr",
     "output_type": "stream",
     "text": [
      "/Users/paul_reitz/opt/miniconda3/envs/apache_sedona/lib/python3.12/site-packages/pynndescent/pynndescent_.py:939: UserWarning: Failed to correctly find n_neighbors for some samples. Results may be less than ideal. Try re-running with different parameters.\n",
      "  warn(\n"
     ]
    },
    {
     "name": "stdout",
     "output_type": "stream",
     "text": [
      "8666666.675413875\n",
      "# iters:   48. Rel primal: 3.9811e-06 Rel dual: 7.7601e-06  OBJ 1.895e+03\n",
      "Time needed is 0.0019268989562988281 seconds\n"
     ]
    },
    {
     "name": "stderr",
     "output_type": "stream",
     "text": [
      "/Users/paul_reitz/opt/miniconda3/envs/apache_sedona/lib/python3.12/site-packages/pynndescent/pynndescent_.py:939: UserWarning: Failed to correctly find n_neighbors for some samples. Results may be less than ideal. Try re-running with different parameters.\n",
      "  warn(\n"
     ]
    },
    {
     "name": "stdout",
     "output_type": "stream",
     "text": [
      "7972173.840017851\n",
      "# iters:   48. Rel primal: 4.1794e-06 Rel dual: 9.1779e-06  OBJ 3.392e+03\n",
      "Time needed is 0.002151966094970703 seconds\n"
     ]
    },
    {
     "name": "stderr",
     "output_type": "stream",
     "text": [
      "/Users/paul_reitz/opt/miniconda3/envs/apache_sedona/lib/python3.12/site-packages/pynndescent/pynndescent_.py:939: UserWarning: Failed to correctly find n_neighbors for some samples. Results may be less than ideal. Try re-running with different parameters.\n",
      "  warn(\n"
     ]
    },
    {
     "name": "stdout",
     "output_type": "stream",
     "text": [
      "8666666.67558253\n",
      "# iters:   48. Rel primal: 4.0006e-06 Rel dual: 7.7208e-06  OBJ 1.871e+03\n",
      "Time needed is 0.0019588470458984375 seconds\n"
     ]
    },
    {
     "name": "stderr",
     "output_type": "stream",
     "text": [
      "/Users/paul_reitz/opt/miniconda3/envs/apache_sedona/lib/python3.12/site-packages/pynndescent/pynndescent_.py:939: UserWarning: Failed to correctly find n_neighbors for some samples. Results may be less than ideal. Try re-running with different parameters.\n",
      "  warn(\n"
     ]
    },
    {
     "name": "stdout",
     "output_type": "stream",
     "text": [
      "7972173.840000483\n",
      "# iters:   48. Rel primal: 3.9285e-06 Rel dual: 9.4477e-06  OBJ 3.517e+03\n",
      "Time needed is 0.0020399093627929688 seconds\n"
     ]
    },
    {
     "name": "stderr",
     "output_type": "stream",
     "text": [
      "/Users/paul_reitz/opt/miniconda3/envs/apache_sedona/lib/python3.12/site-packages/pynndescent/pynndescent_.py:939: UserWarning: Failed to correctly find n_neighbors for some samples. Results may be less than ideal. Try re-running with different parameters.\n",
      "  warn(\n"
     ]
    },
    {
     "name": "stdout",
     "output_type": "stream",
     "text": [
      "8666666.675413875\n",
      "# iters:   48. Rel primal: 3.9811e-06 Rel dual: 7.7601e-06  OBJ 1.895e+03\n",
      "Time needed is 0.001997232437133789 seconds\n"
     ]
    },
    {
     "name": "stderr",
     "output_type": "stream",
     "text": [
      "/Users/paul_reitz/opt/miniconda3/envs/apache_sedona/lib/python3.12/site-packages/pynndescent/pynndescent_.py:939: UserWarning: Failed to correctly find n_neighbors for some samples. Results may be less than ideal. Try re-running with different parameters.\n",
      "  warn(\n"
     ]
    },
    {
     "name": "stdout",
     "output_type": "stream",
     "text": [
      "7972173.840017851\n",
      "# iters:   48. Rel primal: 4.1794e-06 Rel dual: 9.1779e-06  OBJ 3.392e+03\n",
      "Time needed is 0.002003908157348633 seconds\n"
     ]
    },
    {
     "name": "stderr",
     "output_type": "stream",
     "text": [
      "/Users/paul_reitz/opt/miniconda3/envs/apache_sedona/lib/python3.12/site-packages/pynndescent/pynndescent_.py:939: UserWarning: Failed to correctly find n_neighbors for some samples. Results may be less than ideal. Try re-running with different parameters.\n",
      "  warn(\n"
     ]
    },
    {
     "name": "stdout",
     "output_type": "stream",
     "text": [
      "8666666.67558253\n",
      "# iters:   48. Rel primal: 4.0006e-06 Rel dual: 7.7208e-06  OBJ 1.871e+03\n",
      "Time needed is 0.0017483234405517578 seconds\n"
     ]
    },
    {
     "name": "stderr",
     "output_type": "stream",
     "text": [
      "/Users/paul_reitz/opt/miniconda3/envs/apache_sedona/lib/python3.12/site-packages/pynndescent/pynndescent_.py:939: UserWarning: Failed to correctly find n_neighbors for some samples. Results may be less than ideal. Try re-running with different parameters.\n",
      "  warn(\n"
     ]
    },
    {
     "name": "stdout",
     "output_type": "stream",
     "text": [
      "7972173.840000483\n",
      "# iters:   48. Rel primal: 3.9285e-06 Rel dual: 9.4477e-06  OBJ 3.517e+03\n",
      "Time needed is 0.002066373825073242 seconds\n"
     ]
    },
    {
     "name": "stderr",
     "output_type": "stream",
     "text": [
      "/Users/paul_reitz/opt/miniconda3/envs/apache_sedona/lib/python3.12/site-packages/pynndescent/pynndescent_.py:939: UserWarning: Failed to correctly find n_neighbors for some samples. Results may be less than ideal. Try re-running with different parameters.\n",
      "  warn(\n"
     ]
    },
    {
     "name": "stdout",
     "output_type": "stream",
     "text": [
      "8666666.675413875\n",
      "# iters:   48. Rel primal: 3.9811e-06 Rel dual: 7.7601e-06  OBJ 1.895e+03\n",
      "Time needed is 0.0017518997192382812 seconds\n"
     ]
    },
    {
     "name": "stderr",
     "output_type": "stream",
     "text": [
      "/Users/paul_reitz/opt/miniconda3/envs/apache_sedona/lib/python3.12/site-packages/pynndescent/pynndescent_.py:939: UserWarning: Failed to correctly find n_neighbors for some samples. Results may be less than ideal. Try re-running with different parameters.\n",
      "  warn(\n"
     ]
    },
    {
     "name": "stdout",
     "output_type": "stream",
     "text": [
      "7972173.840017851\n",
      "# iters:   48. Rel primal: 4.1794e-06 Rel dual: 9.1779e-06  OBJ 3.392e+03\n",
      "Time needed is 0.0019059181213378906 seconds\n"
     ]
    },
    {
     "name": "stderr",
     "output_type": "stream",
     "text": [
      "/Users/paul_reitz/opt/miniconda3/envs/apache_sedona/lib/python3.12/site-packages/pynndescent/pynndescent_.py:939: UserWarning: Failed to correctly find n_neighbors for some samples. Results may be less than ideal. Try re-running with different parameters.\n",
      "  warn(\n"
     ]
    },
    {
     "name": "stdout",
     "output_type": "stream",
     "text": [
      "8666666.67558253\n",
      "# iters:   48. Rel primal: 4.0006e-06 Rel dual: 7.7208e-06  OBJ 1.871e+03\n",
      "Time needed is 0.0019669532775878906 seconds\n"
     ]
    },
    {
     "name": "stderr",
     "output_type": "stream",
     "text": [
      "/Users/paul_reitz/opt/miniconda3/envs/apache_sedona/lib/python3.12/site-packages/pynndescent/pynndescent_.py:939: UserWarning: Failed to correctly find n_neighbors for some samples. Results may be less than ideal. Try re-running with different parameters.\n",
      "  warn(\n"
     ]
    },
    {
     "name": "stdout",
     "output_type": "stream",
     "text": [
      "7972173.840000483\n",
      "# iters:   48. Rel primal: 3.9285e-06 Rel dual: 9.4477e-06  OBJ 3.517e+03\n",
      "Time needed is 0.0030558109283447266 seconds\n"
     ]
    },
    {
     "name": "stderr",
     "output_type": "stream",
     "text": [
      "/Users/paul_reitz/opt/miniconda3/envs/apache_sedona/lib/python3.12/site-packages/pynndescent/pynndescent_.py:939: UserWarning: Failed to correctly find n_neighbors for some samples. Results may be less than ideal. Try re-running with different parameters.\n",
      "  warn(\n"
     ]
    },
    {
     "name": "stdout",
     "output_type": "stream",
     "text": [
      "8666666.675413875\n",
      "# iters:   48. Rel primal: 3.9811e-06 Rel dual: 7.7601e-06  OBJ 1.895e+03\n",
      "Time needed is 0.002084970474243164 seconds\n"
     ]
    },
    {
     "name": "stderr",
     "output_type": "stream",
     "text": [
      "/Users/paul_reitz/opt/miniconda3/envs/apache_sedona/lib/python3.12/site-packages/pynndescent/pynndescent_.py:939: UserWarning: Failed to correctly find n_neighbors for some samples. Results may be less than ideal. Try re-running with different parameters.\n",
      "  warn(\n"
     ]
    },
    {
     "name": "stdout",
     "output_type": "stream",
     "text": [
      "7972173.840017851\n",
      "# iters:   48. Rel primal: 4.1794e-06 Rel dual: 9.1779e-06  OBJ 3.392e+03\n",
      "Time needed is 0.002196073532104492 seconds\n"
     ]
    },
    {
     "name": "stderr",
     "output_type": "stream",
     "text": [
      "/Users/paul_reitz/opt/miniconda3/envs/apache_sedona/lib/python3.12/site-packages/pynndescent/pynndescent_.py:939: UserWarning: Failed to correctly find n_neighbors for some samples. Results may be less than ideal. Try re-running with different parameters.\n",
      "  warn(\n"
     ]
    },
    {
     "name": "stdout",
     "output_type": "stream",
     "text": [
      "8666666.67558253\n",
      "# iters:   48. Rel primal: 4.0006e-06 Rel dual: 7.7208e-06  OBJ 1.871e+03\n",
      "Time needed is 0.001886129379272461 seconds\n"
     ]
    },
    {
     "name": "stderr",
     "output_type": "stream",
     "text": [
      "/Users/paul_reitz/opt/miniconda3/envs/apache_sedona/lib/python3.12/site-packages/pynndescent/pynndescent_.py:939: UserWarning: Failed to correctly find n_neighbors for some samples. Results may be less than ideal. Try re-running with different parameters.\n",
      "  warn(\n"
     ]
    },
    {
     "name": "stdout",
     "output_type": "stream",
     "text": [
      "7972173.840000483\n",
      "# iters:   48. Rel primal: 3.9285e-06 Rel dual: 9.4477e-06  OBJ 3.517e+03\n",
      "Time needed is 0.001955747604370117 seconds\n"
     ]
    },
    {
     "name": "stderr",
     "output_type": "stream",
     "text": [
      "/Users/paul_reitz/opt/miniconda3/envs/apache_sedona/lib/python3.12/site-packages/pynndescent/pynndescent_.py:939: UserWarning: Failed to correctly find n_neighbors for some samples. Results may be less than ideal. Try re-running with different parameters.\n",
      "  warn(\n"
     ]
    },
    {
     "name": "stdout",
     "output_type": "stream",
     "text": [
      "8666666.675413875\n",
      "# iters:   48. Rel primal: 3.9811e-06 Rel dual: 7.7601e-06  OBJ 1.895e+03\n",
      "Time needed is 0.0021288394927978516 seconds\n"
     ]
    },
    {
     "name": "stderr",
     "output_type": "stream",
     "text": [
      "/Users/paul_reitz/opt/miniconda3/envs/apache_sedona/lib/python3.12/site-packages/pynndescent/pynndescent_.py:939: UserWarning: Failed to correctly find n_neighbors for some samples. Results may be less than ideal. Try re-running with different parameters.\n",
      "  warn(\n"
     ]
    },
    {
     "name": "stdout",
     "output_type": "stream",
     "text": [
      "7972173.840017851\n",
      "# iters:   48. Rel primal: 4.1794e-06 Rel dual: 9.1779e-06  OBJ 3.392e+03\n",
      "Time needed is 0.0021190643310546875 seconds\n"
     ]
    },
    {
     "name": "stderr",
     "output_type": "stream",
     "text": [
      "/Users/paul_reitz/opt/miniconda3/envs/apache_sedona/lib/python3.12/site-packages/pynndescent/pynndescent_.py:939: UserWarning: Failed to correctly find n_neighbors for some samples. Results may be less than ideal. Try re-running with different parameters.\n",
      "  warn(\n"
     ]
    },
    {
     "name": "stdout",
     "output_type": "stream",
     "text": [
      "8666666.67558253\n",
      "# iters:   48. Rel primal: 4.0006e-06 Rel dual: 7.7208e-06  OBJ 1.871e+03\n",
      "Time needed is 0.0018622875213623047 seconds\n"
     ]
    },
    {
     "name": "stderr",
     "output_type": "stream",
     "text": [
      "/Users/paul_reitz/opt/miniconda3/envs/apache_sedona/lib/python3.12/site-packages/pynndescent/pynndescent_.py:939: UserWarning: Failed to correctly find n_neighbors for some samples. Results may be less than ideal. Try re-running with different parameters.\n",
      "  warn(\n"
     ]
    },
    {
     "name": "stdout",
     "output_type": "stream",
     "text": [
      "7972173.840000483\n",
      "# iters:   48. Rel primal: 3.9285e-06 Rel dual: 9.4477e-06  OBJ 3.517e+03\n",
      "Time needed is 0.001741170883178711 seconds\n"
     ]
    },
    {
     "name": "stderr",
     "output_type": "stream",
     "text": [
      "/Users/paul_reitz/opt/miniconda3/envs/apache_sedona/lib/python3.12/site-packages/pynndescent/pynndescent_.py:939: UserWarning: Failed to correctly find n_neighbors for some samples. Results may be less than ideal. Try re-running with different parameters.\n",
      "  warn(\n"
     ]
    },
    {
     "name": "stdout",
     "output_type": "stream",
     "text": [
      "8666666.675413875\n",
      "# iters:   48. Rel primal: 3.9811e-06 Rel dual: 7.7601e-06  OBJ 1.895e+03\n",
      "Time needed is 0.0028259754180908203 seconds\n"
     ]
    },
    {
     "name": "stderr",
     "output_type": "stream",
     "text": [
      "/Users/paul_reitz/opt/miniconda3/envs/apache_sedona/lib/python3.12/site-packages/pynndescent/pynndescent_.py:939: UserWarning: Failed to correctly find n_neighbors for some samples. Results may be less than ideal. Try re-running with different parameters.\n",
      "  warn(\n"
     ]
    },
    {
     "name": "stdout",
     "output_type": "stream",
     "text": [
      "7972173.840017851\n",
      "# iters:   48. Rel primal: 4.1794e-06 Rel dual: 9.1779e-06  OBJ 3.392e+03\n",
      "Time needed is 0.002051830291748047 seconds\n"
     ]
    },
    {
     "name": "stderr",
     "output_type": "stream",
     "text": [
      "/Users/paul_reitz/opt/miniconda3/envs/apache_sedona/lib/python3.12/site-packages/pynndescent/pynndescent_.py:939: UserWarning: Failed to correctly find n_neighbors for some samples. Results may be less than ideal. Try re-running with different parameters.\n",
      "  warn(\n"
     ]
    },
    {
     "name": "stdout",
     "output_type": "stream",
     "text": [
      "8666666.67558253\n",
      "# iters:   48. Rel primal: 4.0006e-06 Rel dual: 7.7208e-06  OBJ 1.871e+03\n",
      "Time needed is 0.0021140575408935547 seconds\n"
     ]
    },
    {
     "name": "stderr",
     "output_type": "stream",
     "text": [
      "/Users/paul_reitz/opt/miniconda3/envs/apache_sedona/lib/python3.12/site-packages/pynndescent/pynndescent_.py:939: UserWarning: Failed to correctly find n_neighbors for some samples. Results may be less than ideal. Try re-running with different parameters.\n",
      "  warn(\n"
     ]
    },
    {
     "name": "stdout",
     "output_type": "stream",
     "text": [
      "7972173.840000483\n",
      "# iters:   48. Rel primal: 3.9285e-06 Rel dual: 9.4477e-06  OBJ 3.517e+03\n",
      "Time needed is 0.0017118453979492188 seconds\n"
     ]
    },
    {
     "name": "stderr",
     "output_type": "stream",
     "text": [
      "/Users/paul_reitz/opt/miniconda3/envs/apache_sedona/lib/python3.12/site-packages/pynndescent/pynndescent_.py:939: UserWarning: Failed to correctly find n_neighbors for some samples. Results may be less than ideal. Try re-running with different parameters.\n",
      "  warn(\n"
     ]
    },
    {
     "name": "stdout",
     "output_type": "stream",
     "text": [
      "8666666.675413875\n",
      "# iters:   48. Rel primal: 3.9811e-06 Rel dual: 7.7601e-06  OBJ 1.895e+03\n",
      "Time needed is 0.0022499561309814453 seconds\n"
     ]
    },
    {
     "name": "stderr",
     "output_type": "stream",
     "text": [
      "/Users/paul_reitz/opt/miniconda3/envs/apache_sedona/lib/python3.12/site-packages/pynndescent/pynndescent_.py:939: UserWarning: Failed to correctly find n_neighbors for some samples. Results may be less than ideal. Try re-running with different parameters.\n",
      "  warn(\n"
     ]
    },
    {
     "name": "stdout",
     "output_type": "stream",
     "text": [
      "7972173.840017851\n",
      "# iters:   48. Rel primal: 4.1794e-06 Rel dual: 9.1779e-06  OBJ 3.392e+03\n",
      "Time needed is 0.0020341873168945312 seconds\n"
     ]
    },
    {
     "name": "stderr",
     "output_type": "stream",
     "text": [
      "/Users/paul_reitz/opt/miniconda3/envs/apache_sedona/lib/python3.12/site-packages/pynndescent/pynndescent_.py:939: UserWarning: Failed to correctly find n_neighbors for some samples. Results may be less than ideal. Try re-running with different parameters.\n",
      "  warn(\n"
     ]
    },
    {
     "name": "stdout",
     "output_type": "stream",
     "text": [
      "8666666.67558253\n",
      "# iters:   48. Rel primal: 4.0006e-06 Rel dual: 7.7208e-06  OBJ 1.871e+03\n",
      "Time needed is 0.0020122528076171875 seconds\n"
     ]
    },
    {
     "name": "stderr",
     "output_type": "stream",
     "text": [
      "/Users/paul_reitz/opt/miniconda3/envs/apache_sedona/lib/python3.12/site-packages/pynndescent/pynndescent_.py:939: UserWarning: Failed to correctly find n_neighbors for some samples. Results may be less than ideal. Try re-running with different parameters.\n",
      "  warn(\n"
     ]
    },
    {
     "name": "stdout",
     "output_type": "stream",
     "text": [
      "7972173.840000483\n",
      "# iters:   48. Rel primal: 3.9285e-06 Rel dual: 9.4477e-06  OBJ 3.517e+03\n",
      "Time needed is 0.0018932819366455078 seconds\n"
     ]
    },
    {
     "name": "stderr",
     "output_type": "stream",
     "text": [
      "/Users/paul_reitz/opt/miniconda3/envs/apache_sedona/lib/python3.12/site-packages/pynndescent/pynndescent_.py:939: UserWarning: Failed to correctly find n_neighbors for some samples. Results may be less than ideal. Try re-running with different parameters.\n",
      "  warn(\n"
     ]
    },
    {
     "name": "stdout",
     "output_type": "stream",
     "text": [
      "8666666.675413875\n",
      "# iters:   48. Rel primal: 3.9811e-06 Rel dual: 7.7601e-06  OBJ 1.895e+03\n",
      "Time needed is 0.0019779205322265625 seconds\n"
     ]
    },
    {
     "name": "stderr",
     "output_type": "stream",
     "text": [
      "/Users/paul_reitz/opt/miniconda3/envs/apache_sedona/lib/python3.12/site-packages/pynndescent/pynndescent_.py:939: UserWarning: Failed to correctly find n_neighbors for some samples. Results may be less than ideal. Try re-running with different parameters.\n",
      "  warn(\n"
     ]
    },
    {
     "name": "stdout",
     "output_type": "stream",
     "text": [
      "7972173.840017851\n",
      "# iters:   48. Rel primal: 4.1794e-06 Rel dual: 9.1779e-06  OBJ 3.392e+03\n",
      "Time needed is 0.0018360614776611328 seconds\n"
     ]
    },
    {
     "name": "stderr",
     "output_type": "stream",
     "text": [
      "/Users/paul_reitz/opt/miniconda3/envs/apache_sedona/lib/python3.12/site-packages/pynndescent/pynndescent_.py:939: UserWarning: Failed to correctly find n_neighbors for some samples. Results may be less than ideal. Try re-running with different parameters.\n",
      "  warn(\n"
     ]
    },
    {
     "name": "stdout",
     "output_type": "stream",
     "text": [
      "8666666.67558253\n",
      "# iters:   48. Rel primal: 4.0006e-06 Rel dual: 7.7208e-06  OBJ 1.871e+03\n",
      "Time needed is 0.002241849899291992 seconds\n"
     ]
    },
    {
     "name": "stderr",
     "output_type": "stream",
     "text": [
      "/Users/paul_reitz/opt/miniconda3/envs/apache_sedona/lib/python3.12/site-packages/pynndescent/pynndescent_.py:939: UserWarning: Failed to correctly find n_neighbors for some samples. Results may be less than ideal. Try re-running with different parameters.\n",
      "  warn(\n"
     ]
    },
    {
     "name": "stdout",
     "output_type": "stream",
     "text": [
      "7972173.840000483\n",
      "# iters:   48. Rel primal: 3.9285e-06 Rel dual: 9.4477e-06  OBJ 3.517e+03\n",
      "Time needed is 0.0020728111267089844 seconds\n"
     ]
    },
    {
     "name": "stderr",
     "output_type": "stream",
     "text": [
      "/Users/paul_reitz/opt/miniconda3/envs/apache_sedona/lib/python3.12/site-packages/pynndescent/pynndescent_.py:939: UserWarning: Failed to correctly find n_neighbors for some samples. Results may be less than ideal. Try re-running with different parameters.\n",
      "  warn(\n"
     ]
    },
    {
     "name": "stdout",
     "output_type": "stream",
     "text": [
      "8666666.675413875\n",
      "# iters:   48. Rel primal: 3.9811e-06 Rel dual: 7.7601e-06  OBJ 1.895e+03\n",
      "Time needed is 0.0020732879638671875 seconds\n"
     ]
    },
    {
     "name": "stderr",
     "output_type": "stream",
     "text": [
      "/Users/paul_reitz/opt/miniconda3/envs/apache_sedona/lib/python3.12/site-packages/pynndescent/pynndescent_.py:939: UserWarning: Failed to correctly find n_neighbors for some samples. Results may be less than ideal. Try re-running with different parameters.\n",
      "  warn(\n"
     ]
    },
    {
     "name": "stdout",
     "output_type": "stream",
     "text": [
      "7972173.840017851\n",
      "# iters:   48. Rel primal: 4.1794e-06 Rel dual: 9.1779e-06  OBJ 3.392e+03\n",
      "Time needed is 0.0020799636840820312 seconds\n"
     ]
    },
    {
     "name": "stderr",
     "output_type": "stream",
     "text": [
      "/Users/paul_reitz/opt/miniconda3/envs/apache_sedona/lib/python3.12/site-packages/pynndescent/pynndescent_.py:939: UserWarning: Failed to correctly find n_neighbors for some samples. Results may be less than ideal. Try re-running with different parameters.\n",
      "  warn(\n"
     ]
    },
    {
     "name": "stdout",
     "output_type": "stream",
     "text": [
      "8666666.67558253\n",
      "# iters:   48. Rel primal: 4.0006e-06 Rel dual: 7.7208e-06  OBJ 1.871e+03\n",
      "Time needed is 0.0019037723541259766 seconds\n"
     ]
    },
    {
     "name": "stderr",
     "output_type": "stream",
     "text": [
      "/Users/paul_reitz/opt/miniconda3/envs/apache_sedona/lib/python3.12/site-packages/pynndescent/pynndescent_.py:939: UserWarning: Failed to correctly find n_neighbors for some samples. Results may be less than ideal. Try re-running with different parameters.\n",
      "  warn(\n"
     ]
    },
    {
     "name": "stdout",
     "output_type": "stream",
     "text": [
      "7972173.840000483\n",
      "# iters:   48. Rel primal: 3.9285e-06 Rel dual: 9.4477e-06  OBJ 3.517e+03\n",
      "Time needed is 0.002067089080810547 seconds\n"
     ]
    },
    {
     "name": "stderr",
     "output_type": "stream",
     "text": [
      "/Users/paul_reitz/opt/miniconda3/envs/apache_sedona/lib/python3.12/site-packages/pynndescent/pynndescent_.py:939: UserWarning: Failed to correctly find n_neighbors for some samples. Results may be less than ideal. Try re-running with different parameters.\n",
      "  warn(\n"
     ]
    },
    {
     "name": "stdout",
     "output_type": "stream",
     "text": [
      "8666666.675413875\n",
      "# iters:   48. Rel primal: 3.9811e-06 Rel dual: 7.7601e-06  OBJ 1.895e+03\n",
      "Time needed is 0.002073049545288086 seconds\n"
     ]
    },
    {
     "name": "stderr",
     "output_type": "stream",
     "text": [
      "/Users/paul_reitz/opt/miniconda3/envs/apache_sedona/lib/python3.12/site-packages/pynndescent/pynndescent_.py:939: UserWarning: Failed to correctly find n_neighbors for some samples. Results may be less than ideal. Try re-running with different parameters.\n",
      "  warn(\n"
     ]
    },
    {
     "name": "stdout",
     "output_type": "stream",
     "text": [
      "7972173.840017851\n",
      "# iters:   48. Rel primal: 4.1794e-06 Rel dual: 9.1779e-06  OBJ 3.392e+03\n",
      "Time needed is 0.0017359256744384766 seconds\n"
     ]
    },
    {
     "name": "stderr",
     "output_type": "stream",
     "text": [
      "/Users/paul_reitz/opt/miniconda3/envs/apache_sedona/lib/python3.12/site-packages/pynndescent/pynndescent_.py:939: UserWarning: Failed to correctly find n_neighbors for some samples. Results may be less than ideal. Try re-running with different parameters.\n",
      "  warn(\n"
     ]
    },
    {
     "name": "stdout",
     "output_type": "stream",
     "text": [
      "8666666.67558253\n",
      "# iters:   48. Rel primal: 4.0006e-06 Rel dual: 7.7208e-06  OBJ 1.871e+03\n",
      "Time needed is 0.0021190643310546875 seconds\n"
     ]
    },
    {
     "name": "stderr",
     "output_type": "stream",
     "text": [
      "/Users/paul_reitz/opt/miniconda3/envs/apache_sedona/lib/python3.12/site-packages/pynndescent/pynndescent_.py:939: UserWarning: Failed to correctly find n_neighbors for some samples. Results may be less than ideal. Try re-running with different parameters.\n",
      "  warn(\n"
     ]
    },
    {
     "name": "stdout",
     "output_type": "stream",
     "text": [
      "7972173.840000483\n",
      "# iters:   48. Rel primal: 3.9285e-06 Rel dual: 9.4477e-06  OBJ 3.517e+03\n",
      "Time needed is 0.0020329952239990234 seconds\n"
     ]
    },
    {
     "name": "stderr",
     "output_type": "stream",
     "text": [
      "/Users/paul_reitz/opt/miniconda3/envs/apache_sedona/lib/python3.12/site-packages/pynndescent/pynndescent_.py:939: UserWarning: Failed to correctly find n_neighbors for some samples. Results may be less than ideal. Try re-running with different parameters.\n",
      "  warn(\n"
     ]
    },
    {
     "name": "stdout",
     "output_type": "stream",
     "text": [
      "8666666.675413875\n",
      "# iters:   48. Rel primal: 3.9811e-06 Rel dual: 7.7601e-06  OBJ 1.895e+03\n",
      "Time needed is 0.001705169677734375 seconds\n"
     ]
    },
    {
     "name": "stderr",
     "output_type": "stream",
     "text": [
      "/Users/paul_reitz/opt/miniconda3/envs/apache_sedona/lib/python3.12/site-packages/pynndescent/pynndescent_.py:939: UserWarning: Failed to correctly find n_neighbors for some samples. Results may be less than ideal. Try re-running with different parameters.\n",
      "  warn(\n"
     ]
    },
    {
     "name": "stdout",
     "output_type": "stream",
     "text": [
      "7972173.840017851\n",
      "# iters:   48. Rel primal: 4.1794e-06 Rel dual: 9.1779e-06  OBJ 3.392e+03\n",
      "Time needed is 0.001950979232788086 seconds\n"
     ]
    },
    {
     "name": "stderr",
     "output_type": "stream",
     "text": [
      "/Users/paul_reitz/opt/miniconda3/envs/apache_sedona/lib/python3.12/site-packages/pynndescent/pynndescent_.py:939: UserWarning: Failed to correctly find n_neighbors for some samples. Results may be less than ideal. Try re-running with different parameters.\n",
      "  warn(\n"
     ]
    },
    {
     "name": "stdout",
     "output_type": "stream",
     "text": [
      "8666666.67558253\n",
      "# iters:   48. Rel primal: 4.0006e-06 Rel dual: 7.7208e-06  OBJ 1.871e+03\n",
      "Time needed is 0.002279996871948242 seconds\n"
     ]
    },
    {
     "name": "stderr",
     "output_type": "stream",
     "text": [
      "/Users/paul_reitz/opt/miniconda3/envs/apache_sedona/lib/python3.12/site-packages/pynndescent/pynndescent_.py:939: UserWarning: Failed to correctly find n_neighbors for some samples. Results may be less than ideal. Try re-running with different parameters.\n",
      "  warn(\n"
     ]
    },
    {
     "name": "stdout",
     "output_type": "stream",
     "text": [
      "7972173.840000483\n",
      "# iters:   48. Rel primal: 3.9285e-06 Rel dual: 9.4477e-06  OBJ 3.517e+03\n",
      "Time needed is 0.0020437240600585938 seconds\n"
     ]
    },
    {
     "name": "stderr",
     "output_type": "stream",
     "text": [
      "/Users/paul_reitz/opt/miniconda3/envs/apache_sedona/lib/python3.12/site-packages/pynndescent/pynndescent_.py:939: UserWarning: Failed to correctly find n_neighbors for some samples. Results may be less than ideal. Try re-running with different parameters.\n",
      "  warn(\n"
     ]
    },
    {
     "name": "stdout",
     "output_type": "stream",
     "text": [
      "8666666.675413875\n",
      "# iters:   48. Rel primal: 3.9811e-06 Rel dual: 7.7601e-06  OBJ 1.895e+03\n",
      "Time needed is 0.0019190311431884766 seconds\n"
     ]
    },
    {
     "name": "stderr",
     "output_type": "stream",
     "text": [
      "/Users/paul_reitz/opt/miniconda3/envs/apache_sedona/lib/python3.12/site-packages/pynndescent/pynndescent_.py:939: UserWarning: Failed to correctly find n_neighbors for some samples. Results may be less than ideal. Try re-running with different parameters.\n",
      "  warn(\n"
     ]
    },
    {
     "name": "stdout",
     "output_type": "stream",
     "text": [
      "7972173.840017851\n",
      "# iters:   48. Rel primal: 4.1794e-06 Rel dual: 9.1779e-06  OBJ 3.392e+03\n",
      "Time needed is 0.0022058486938476562 seconds\n"
     ]
    },
    {
     "name": "stderr",
     "output_type": "stream",
     "text": [
      "/Users/paul_reitz/opt/miniconda3/envs/apache_sedona/lib/python3.12/site-packages/pynndescent/pynndescent_.py:939: UserWarning: Failed to correctly find n_neighbors for some samples. Results may be less than ideal. Try re-running with different parameters.\n",
      "  warn(\n"
     ]
    },
    {
     "name": "stdout",
     "output_type": "stream",
     "text": [
      "8666666.67558253\n",
      "# iters:   48. Rel primal: 4.0006e-06 Rel dual: 7.7208e-06  OBJ 1.871e+03\n",
      "Time needed is 0.002093076705932617 seconds\n"
     ]
    },
    {
     "name": "stderr",
     "output_type": "stream",
     "text": [
      "/Users/paul_reitz/opt/miniconda3/envs/apache_sedona/lib/python3.12/site-packages/pynndescent/pynndescent_.py:939: UserWarning: Failed to correctly find n_neighbors for some samples. Results may be less than ideal. Try re-running with different parameters.\n",
      "  warn(\n"
     ]
    },
    {
     "name": "stdout",
     "output_type": "stream",
     "text": [
      "7972173.840000483\n",
      "# iters:   48. Rel primal: 3.9285e-06 Rel dual: 9.4477e-06  OBJ 3.517e+03\n",
      "Time needed is 0.002093076705932617 seconds\n"
     ]
    },
    {
     "name": "stderr",
     "output_type": "stream",
     "text": [
      "/Users/paul_reitz/opt/miniconda3/envs/apache_sedona/lib/python3.12/site-packages/pynndescent/pynndescent_.py:939: UserWarning: Failed to correctly find n_neighbors for some samples. Results may be less than ideal. Try re-running with different parameters.\n",
      "  warn(\n"
     ]
    },
    {
     "name": "stdout",
     "output_type": "stream",
     "text": [
      "8666666.675413875\n",
      "# iters:   48. Rel primal: 3.9811e-06 Rel dual: 7.7601e-06  OBJ 1.895e+03\n",
      "Time needed is 0.002076864242553711 seconds\n"
     ]
    },
    {
     "name": "stderr",
     "output_type": "stream",
     "text": [
      "/Users/paul_reitz/opt/miniconda3/envs/apache_sedona/lib/python3.12/site-packages/pynndescent/pynndescent_.py:939: UserWarning: Failed to correctly find n_neighbors for some samples. Results may be less than ideal. Try re-running with different parameters.\n",
      "  warn(\n"
     ]
    },
    {
     "name": "stdout",
     "output_type": "stream",
     "text": [
      "7972173.840017851\n",
      "# iters:   48. Rel primal: 4.1794e-06 Rel dual: 9.1779e-06  OBJ 3.392e+03\n",
      "Time needed is 0.002067089080810547 seconds\n"
     ]
    },
    {
     "name": "stderr",
     "output_type": "stream",
     "text": [
      "/Users/paul_reitz/opt/miniconda3/envs/apache_sedona/lib/python3.12/site-packages/pynndescent/pynndescent_.py:939: UserWarning: Failed to correctly find n_neighbors for some samples. Results may be less than ideal. Try re-running with different parameters.\n",
      "  warn(\n"
     ]
    },
    {
     "name": "stdout",
     "output_type": "stream",
     "text": [
      "8666666.67558253\n",
      "# iters:   48. Rel primal: 4.0006e-06 Rel dual: 7.7208e-06  OBJ 1.871e+03\n",
      "Time needed is 0.002165079116821289 seconds\n"
     ]
    },
    {
     "name": "stderr",
     "output_type": "stream",
     "text": [
      "/Users/paul_reitz/opt/miniconda3/envs/apache_sedona/lib/python3.12/site-packages/pynndescent/pynndescent_.py:939: UserWarning: Failed to correctly find n_neighbors for some samples. Results may be less than ideal. Try re-running with different parameters.\n",
      "  warn(\n"
     ]
    },
    {
     "name": "stdout",
     "output_type": "stream",
     "text": [
      "7972173.840000483\n",
      "# iters:   48. Rel primal: 3.9285e-06 Rel dual: 9.4477e-06  OBJ 3.517e+03\n",
      "Time needed is 0.002042055130004883 seconds\n"
     ]
    },
    {
     "name": "stderr",
     "output_type": "stream",
     "text": [
      "/Users/paul_reitz/opt/miniconda3/envs/apache_sedona/lib/python3.12/site-packages/pynndescent/pynndescent_.py:939: UserWarning: Failed to correctly find n_neighbors for some samples. Results may be less than ideal. Try re-running with different parameters.\n",
      "  warn(\n"
     ]
    },
    {
     "name": "stdout",
     "output_type": "stream",
     "text": [
      "8666666.675413875\n",
      "# iters:   48. Rel primal: 3.9811e-06 Rel dual: 7.7601e-06  OBJ 1.895e+03\n",
      "Time needed is 0.0020570755004882812 seconds\n"
     ]
    },
    {
     "name": "stderr",
     "output_type": "stream",
     "text": [
      "/Users/paul_reitz/opt/miniconda3/envs/apache_sedona/lib/python3.12/site-packages/pynndescent/pynndescent_.py:939: UserWarning: Failed to correctly find n_neighbors for some samples. Results may be less than ideal. Try re-running with different parameters.\n",
      "  warn(\n"
     ]
    },
    {
     "name": "stdout",
     "output_type": "stream",
     "text": [
      "7972173.840017851\n",
      "# iters:   48. Rel primal: 4.1794e-06 Rel dual: 9.1779e-06  OBJ 3.392e+03\n",
      "Time needed is 0.002565145492553711 seconds\n"
     ]
    },
    {
     "name": "stderr",
     "output_type": "stream",
     "text": [
      "/Users/paul_reitz/opt/miniconda3/envs/apache_sedona/lib/python3.12/site-packages/pynndescent/pynndescent_.py:939: UserWarning: Failed to correctly find n_neighbors for some samples. Results may be less than ideal. Try re-running with different parameters.\n",
      "  warn(\n"
     ]
    },
    {
     "name": "stdout",
     "output_type": "stream",
     "text": [
      "8666666.67558253\n",
      "# iters:   48. Rel primal: 4.0006e-06 Rel dual: 7.7208e-06  OBJ 1.871e+03\n",
      "Time needed is 0.0027208328247070312 seconds\n"
     ]
    },
    {
     "name": "stderr",
     "output_type": "stream",
     "text": [
      "/Users/paul_reitz/opt/miniconda3/envs/apache_sedona/lib/python3.12/site-packages/pynndescent/pynndescent_.py:939: UserWarning: Failed to correctly find n_neighbors for some samples. Results may be less than ideal. Try re-running with different parameters.\n",
      "  warn(\n"
     ]
    },
    {
     "name": "stdout",
     "output_type": "stream",
     "text": [
      "7972173.840000483\n",
      "# iters:   48. Rel primal: 3.9285e-06 Rel dual: 9.4477e-06  OBJ 3.517e+03\n",
      "Time needed is 0.0027780532836914062 seconds\n"
     ]
    },
    {
     "name": "stderr",
     "output_type": "stream",
     "text": [
      "/Users/paul_reitz/opt/miniconda3/envs/apache_sedona/lib/python3.12/site-packages/pynndescent/pynndescent_.py:939: UserWarning: Failed to correctly find n_neighbors for some samples. Results may be less than ideal. Try re-running with different parameters.\n",
      "  warn(\n"
     ]
    },
    {
     "name": "stdout",
     "output_type": "stream",
     "text": [
      "8666666.675413875\n",
      "# iters:   48. Rel primal: 3.9811e-06 Rel dual: 7.7601e-06  OBJ 1.895e+03\n",
      "Time needed is 0.0020809173583984375 seconds\n"
     ]
    },
    {
     "name": "stderr",
     "output_type": "stream",
     "text": [
      "/Users/paul_reitz/opt/miniconda3/envs/apache_sedona/lib/python3.12/site-packages/pynndescent/pynndescent_.py:939: UserWarning: Failed to correctly find n_neighbors for some samples. Results may be less than ideal. Try re-running with different parameters.\n",
      "  warn(\n"
     ]
    },
    {
     "name": "stdout",
     "output_type": "stream",
     "text": [
      "7972173.840017851\n",
      "# iters:   48. Rel primal: 4.1794e-06 Rel dual: 9.1779e-06  OBJ 3.392e+03\n",
      "Time needed is 0.002295970916748047 seconds\n"
     ]
    },
    {
     "name": "stderr",
     "output_type": "stream",
     "text": [
      "/Users/paul_reitz/opt/miniconda3/envs/apache_sedona/lib/python3.12/site-packages/pynndescent/pynndescent_.py:939: UserWarning: Failed to correctly find n_neighbors for some samples. Results may be less than ideal. Try re-running with different parameters.\n",
      "  warn(\n"
     ]
    },
    {
     "name": "stdout",
     "output_type": "stream",
     "text": [
      "8666666.67558253\n",
      "# iters:   48. Rel primal: 4.0006e-06 Rel dual: 7.7208e-06  OBJ 1.871e+03\n",
      "Time needed is 0.0023648738861083984 seconds\n"
     ]
    },
    {
     "name": "stderr",
     "output_type": "stream",
     "text": [
      "/Users/paul_reitz/opt/miniconda3/envs/apache_sedona/lib/python3.12/site-packages/pynndescent/pynndescent_.py:939: UserWarning: Failed to correctly find n_neighbors for some samples. Results may be less than ideal. Try re-running with different parameters.\n",
      "  warn(\n"
     ]
    },
    {
     "name": "stdout",
     "output_type": "stream",
     "text": [
      "7972173.840000483\n",
      "# iters:   48. Rel primal: 3.9285e-06 Rel dual: 9.4477e-06  OBJ 3.517e+03\n",
      "Time needed is 0.0019321441650390625 seconds\n"
     ]
    },
    {
     "name": "stderr",
     "output_type": "stream",
     "text": [
      "/Users/paul_reitz/opt/miniconda3/envs/apache_sedona/lib/python3.12/site-packages/pynndescent/pynndescent_.py:939: UserWarning: Failed to correctly find n_neighbors for some samples. Results may be less than ideal. Try re-running with different parameters.\n",
      "  warn(\n"
     ]
    },
    {
     "name": "stdout",
     "output_type": "stream",
     "text": [
      "8666666.675413875\n",
      "# iters:   48. Rel primal: 3.9811e-06 Rel dual: 7.7601e-06  OBJ 1.895e+03\n",
      "Time needed is 0.0019876956939697266 seconds\n"
     ]
    },
    {
     "name": "stderr",
     "output_type": "stream",
     "text": [
      "/Users/paul_reitz/opt/miniconda3/envs/apache_sedona/lib/python3.12/site-packages/pynndescent/pynndescent_.py:939: UserWarning: Failed to correctly find n_neighbors for some samples. Results may be less than ideal. Try re-running with different parameters.\n",
      "  warn(\n"
     ]
    },
    {
     "name": "stdout",
     "output_type": "stream",
     "text": [
      "7972173.840017851\n",
      "# iters:   48. Rel primal: 4.1794e-06 Rel dual: 9.1779e-06  OBJ 3.392e+03\n",
      "Time needed is 0.0022373199462890625 seconds\n"
     ]
    },
    {
     "name": "stderr",
     "output_type": "stream",
     "text": [
      "/Users/paul_reitz/opt/miniconda3/envs/apache_sedona/lib/python3.12/site-packages/pynndescent/pynndescent_.py:939: UserWarning: Failed to correctly find n_neighbors for some samples. Results may be less than ideal. Try re-running with different parameters.\n",
      "  warn(\n"
     ]
    },
    {
     "name": "stdout",
     "output_type": "stream",
     "text": [
      "8666666.67558253\n",
      "# iters:   48. Rel primal: 4.0006e-06 Rel dual: 7.7208e-06  OBJ 1.871e+03\n",
      "Time needed is 0.003016233444213867 seconds\n"
     ]
    },
    {
     "name": "stderr",
     "output_type": "stream",
     "text": [
      "/Users/paul_reitz/opt/miniconda3/envs/apache_sedona/lib/python3.12/site-packages/pynndescent/pynndescent_.py:939: UserWarning: Failed to correctly find n_neighbors for some samples. Results may be less than ideal. Try re-running with different parameters.\n",
      "  warn(\n"
     ]
    },
    {
     "name": "stdout",
     "output_type": "stream",
     "text": [
      "7972173.840000483\n",
      "# iters:   48. Rel primal: 3.9285e-06 Rel dual: 9.4477e-06  OBJ 3.517e+03\n",
      "Time needed is 0.002048015594482422 seconds\n"
     ]
    },
    {
     "name": "stderr",
     "output_type": "stream",
     "text": [
      "/Users/paul_reitz/opt/miniconda3/envs/apache_sedona/lib/python3.12/site-packages/pynndescent/pynndescent_.py:939: UserWarning: Failed to correctly find n_neighbors for some samples. Results may be less than ideal. Try re-running with different parameters.\n",
      "  warn(\n"
     ]
    },
    {
     "name": "stdout",
     "output_type": "stream",
     "text": [
      "8666666.675413875\n",
      "# iters:   48. Rel primal: 3.9811e-06 Rel dual: 7.7601e-06  OBJ 1.895e+03\n",
      "Time needed is 0.0024819374084472656 seconds\n"
     ]
    },
    {
     "name": "stderr",
     "output_type": "stream",
     "text": [
      "/Users/paul_reitz/opt/miniconda3/envs/apache_sedona/lib/python3.12/site-packages/pynndescent/pynndescent_.py:939: UserWarning: Failed to correctly find n_neighbors for some samples. Results may be less than ideal. Try re-running with different parameters.\n",
      "  warn(\n"
     ]
    },
    {
     "name": "stdout",
     "output_type": "stream",
     "text": [
      "7972173.840017851\n",
      "# iters:   48. Rel primal: 4.1794e-06 Rel dual: 9.1779e-06  OBJ 3.392e+03\n",
      "Time needed is 0.0020439624786376953 seconds\n"
     ]
    },
    {
     "name": "stderr",
     "output_type": "stream",
     "text": [
      "/Users/paul_reitz/opt/miniconda3/envs/apache_sedona/lib/python3.12/site-packages/pynndescent/pynndescent_.py:939: UserWarning: Failed to correctly find n_neighbors for some samples. Results may be less than ideal. Try re-running with different parameters.\n",
      "  warn(\n"
     ]
    },
    {
     "name": "stdout",
     "output_type": "stream",
     "text": [
      "8666666.67558253\n",
      "# iters:   48. Rel primal: 4.0006e-06 Rel dual: 7.7208e-06  OBJ 1.871e+03\n",
      "Time needed is 0.0019440650939941406 seconds\n"
     ]
    },
    {
     "name": "stderr",
     "output_type": "stream",
     "text": [
      "/Users/paul_reitz/opt/miniconda3/envs/apache_sedona/lib/python3.12/site-packages/pynndescent/pynndescent_.py:939: UserWarning: Failed to correctly find n_neighbors for some samples. Results may be less than ideal. Try re-running with different parameters.\n",
      "  warn(\n"
     ]
    },
    {
     "name": "stdout",
     "output_type": "stream",
     "text": [
      "7972173.840000483\n",
      "# iters:   48. Rel primal: 3.9285e-06 Rel dual: 9.4477e-06  OBJ 3.517e+03\n",
      "Time needed is 0.0021698474884033203 seconds\n"
     ]
    },
    {
     "name": "stderr",
     "output_type": "stream",
     "text": [
      "/Users/paul_reitz/opt/miniconda3/envs/apache_sedona/lib/python3.12/site-packages/pynndescent/pynndescent_.py:939: UserWarning: Failed to correctly find n_neighbors for some samples. Results may be less than ideal. Try re-running with different parameters.\n",
      "  warn(\n"
     ]
    },
    {
     "name": "stdout",
     "output_type": "stream",
     "text": [
      "8666666.675413875\n",
      "# iters:   48. Rel primal: 3.9811e-06 Rel dual: 7.7601e-06  OBJ 1.895e+03\n",
      "Time needed is 0.002271890640258789 seconds\n"
     ]
    },
    {
     "name": "stderr",
     "output_type": "stream",
     "text": [
      "/Users/paul_reitz/opt/miniconda3/envs/apache_sedona/lib/python3.12/site-packages/pynndescent/pynndescent_.py:939: UserWarning: Failed to correctly find n_neighbors for some samples. Results may be less than ideal. Try re-running with different parameters.\n",
      "  warn(\n"
     ]
    },
    {
     "name": "stdout",
     "output_type": "stream",
     "text": [
      "7972173.840017851\n",
      "# iters:   48. Rel primal: 4.1794e-06 Rel dual: 9.1779e-06  OBJ 3.392e+03\n",
      "Time needed is 0.0019237995147705078 seconds\n"
     ]
    },
    {
     "name": "stderr",
     "output_type": "stream",
     "text": [
      "/Users/paul_reitz/opt/miniconda3/envs/apache_sedona/lib/python3.12/site-packages/pynndescent/pynndescent_.py:939: UserWarning: Failed to correctly find n_neighbors for some samples. Results may be less than ideal. Try re-running with different parameters.\n",
      "  warn(\n"
     ]
    },
    {
     "name": "stdout",
     "output_type": "stream",
     "text": [
      "8666666.67558253\n",
      "# iters:   48. Rel primal: 4.0006e-06 Rel dual: 7.7208e-06  OBJ 1.871e+03\n",
      "Time needed is 0.002117156982421875 seconds\n"
     ]
    },
    {
     "name": "stderr",
     "output_type": "stream",
     "text": [
      "/Users/paul_reitz/opt/miniconda3/envs/apache_sedona/lib/python3.12/site-packages/pynndescent/pynndescent_.py:939: UserWarning: Failed to correctly find n_neighbors for some samples. Results may be less than ideal. Try re-running with different parameters.\n",
      "  warn(\n"
     ]
    },
    {
     "name": "stdout",
     "output_type": "stream",
     "text": [
      "7972173.840000483\n",
      "# iters:   48. Rel primal: 3.9285e-06 Rel dual: 9.4477e-06  OBJ 3.517e+03\n",
      "Time needed is 0.0019931793212890625 seconds\n"
     ]
    },
    {
     "name": "stderr",
     "output_type": "stream",
     "text": [
      "/Users/paul_reitz/opt/miniconda3/envs/apache_sedona/lib/python3.12/site-packages/pynndescent/pynndescent_.py:939: UserWarning: Failed to correctly find n_neighbors for some samples. Results may be less than ideal. Try re-running with different parameters.\n",
      "  warn(\n"
     ]
    },
    {
     "name": "stdout",
     "output_type": "stream",
     "text": [
      "8666666.675413875\n",
      "# iters:   48. Rel primal: 3.9811e-06 Rel dual: 7.7601e-06  OBJ 1.895e+03\n",
      "Time needed is 0.001953125 seconds\n"
     ]
    },
    {
     "name": "stderr",
     "output_type": "stream",
     "text": [
      "/Users/paul_reitz/opt/miniconda3/envs/apache_sedona/lib/python3.12/site-packages/pynndescent/pynndescent_.py:939: UserWarning: Failed to correctly find n_neighbors for some samples. Results may be less than ideal. Try re-running with different parameters.\n",
      "  warn(\n"
     ]
    },
    {
     "name": "stdout",
     "output_type": "stream",
     "text": [
      "7972173.840017851\n",
      "# iters:   48. Rel primal: 4.1794e-06 Rel dual: 9.1779e-06  OBJ 3.392e+03\n",
      "Time needed is 0.0017559528350830078 seconds\n"
     ]
    },
    {
     "name": "stderr",
     "output_type": "stream",
     "text": [
      "/Users/paul_reitz/opt/miniconda3/envs/apache_sedona/lib/python3.12/site-packages/pynndescent/pynndescent_.py:939: UserWarning: Failed to correctly find n_neighbors for some samples. Results may be less than ideal. Try re-running with different parameters.\n",
      "  warn(\n"
     ]
    },
    {
     "name": "stdout",
     "output_type": "stream",
     "text": [
      "8666666.67558253\n",
      "# iters:   48. Rel primal: 4.0006e-06 Rel dual: 7.7208e-06  OBJ 1.871e+03\n",
      "Time needed is 0.0019450187683105469 seconds\n"
     ]
    },
    {
     "name": "stderr",
     "output_type": "stream",
     "text": [
      "/Users/paul_reitz/opt/miniconda3/envs/apache_sedona/lib/python3.12/site-packages/pynndescent/pynndescent_.py:939: UserWarning: Failed to correctly find n_neighbors for some samples. Results may be less than ideal. Try re-running with different parameters.\n",
      "  warn(\n"
     ]
    },
    {
     "name": "stdout",
     "output_type": "stream",
     "text": [
      "7972173.840000483\n",
      "# iters:   48. Rel primal: 3.9285e-06 Rel dual: 9.4477e-06  OBJ 3.517e+03\n",
      "Time needed is 0.0024831295013427734 seconds\n"
     ]
    },
    {
     "name": "stderr",
     "output_type": "stream",
     "text": [
      "/Users/paul_reitz/opt/miniconda3/envs/apache_sedona/lib/python3.12/site-packages/pynndescent/pynndescent_.py:939: UserWarning: Failed to correctly find n_neighbors for some samples. Results may be less than ideal. Try re-running with different parameters.\n",
      "  warn(\n"
     ]
    },
    {
     "name": "stdout",
     "output_type": "stream",
     "text": [
      "8666666.675413875\n",
      "# iters:   48. Rel primal: 3.9811e-06 Rel dual: 7.7601e-06  OBJ 1.895e+03\n",
      "Time needed is 0.002070188522338867 seconds\n"
     ]
    },
    {
     "name": "stderr",
     "output_type": "stream",
     "text": [
      "/Users/paul_reitz/opt/miniconda3/envs/apache_sedona/lib/python3.12/site-packages/pynndescent/pynndescent_.py:939: UserWarning: Failed to correctly find n_neighbors for some samples. Results may be less than ideal. Try re-running with different parameters.\n",
      "  warn(\n"
     ]
    },
    {
     "name": "stdout",
     "output_type": "stream",
     "text": [
      "7972173.840017851\n",
      "# iters:   48. Rel primal: 4.1794e-06 Rel dual: 9.1779e-06  OBJ 3.392e+03\n",
      "Time needed is 0.0024199485778808594 seconds\n"
     ]
    },
    {
     "name": "stderr",
     "output_type": "stream",
     "text": [
      "/Users/paul_reitz/opt/miniconda3/envs/apache_sedona/lib/python3.12/site-packages/pynndescent/pynndescent_.py:939: UserWarning: Failed to correctly find n_neighbors for some samples. Results may be less than ideal. Try re-running with different parameters.\n",
      "  warn(\n"
     ]
    },
    {
     "name": "stdout",
     "output_type": "stream",
     "text": [
      "8666666.67558253\n",
      "# iters:   48. Rel primal: 4.0006e-06 Rel dual: 7.7208e-06  OBJ 1.871e+03\n",
      "Time needed is 0.0026297569274902344 seconds\n"
     ]
    },
    {
     "name": "stderr",
     "output_type": "stream",
     "text": [
      "/Users/paul_reitz/opt/miniconda3/envs/apache_sedona/lib/python3.12/site-packages/pynndescent/pynndescent_.py:939: UserWarning: Failed to correctly find n_neighbors for some samples. Results may be less than ideal. Try re-running with different parameters.\n",
      "  warn(\n"
     ]
    },
    {
     "name": "stdout",
     "output_type": "stream",
     "text": [
      "7972173.840000483\n",
      "# iters:   48. Rel primal: 3.9285e-06 Rel dual: 9.4477e-06  OBJ 3.517e+03\n",
      "Time needed is 0.002420186996459961 seconds\n"
     ]
    },
    {
     "name": "stderr",
     "output_type": "stream",
     "text": [
      "/Users/paul_reitz/opt/miniconda3/envs/apache_sedona/lib/python3.12/site-packages/pynndescent/pynndescent_.py:939: UserWarning: Failed to correctly find n_neighbors for some samples. Results may be less than ideal. Try re-running with different parameters.\n",
      "  warn(\n"
     ]
    },
    {
     "name": "stdout",
     "output_type": "stream",
     "text": [
      "8666666.675413875\n",
      "# iters:   48. Rel primal: 3.9811e-06 Rel dual: 7.7601e-06  OBJ 1.895e+03\n",
      "Time needed is 0.002115011215209961 seconds\n"
     ]
    },
    {
     "name": "stderr",
     "output_type": "stream",
     "text": [
      "/Users/paul_reitz/opt/miniconda3/envs/apache_sedona/lib/python3.12/site-packages/pynndescent/pynndescent_.py:939: UserWarning: Failed to correctly find n_neighbors for some samples. Results may be less than ideal. Try re-running with different parameters.\n",
      "  warn(\n"
     ]
    },
    {
     "name": "stdout",
     "output_type": "stream",
     "text": [
      "7972173.840017851\n",
      "# iters:   48. Rel primal: 4.1794e-06 Rel dual: 9.1779e-06  OBJ 3.392e+03\n",
      "Time needed is 0.002064943313598633 seconds\n"
     ]
    },
    {
     "name": "stderr",
     "output_type": "stream",
     "text": [
      "/Users/paul_reitz/opt/miniconda3/envs/apache_sedona/lib/python3.12/site-packages/pynndescent/pynndescent_.py:939: UserWarning: Failed to correctly find n_neighbors for some samples. Results may be less than ideal. Try re-running with different parameters.\n",
      "  warn(\n"
     ]
    },
    {
     "name": "stdout",
     "output_type": "stream",
     "text": [
      "8666666.67558253\n",
      "# iters:   48. Rel primal: 4.0006e-06 Rel dual: 7.7208e-06  OBJ 1.871e+03\n",
      "Time needed is 0.0019969940185546875 seconds\n"
     ]
    },
    {
     "name": "stderr",
     "output_type": "stream",
     "text": [
      "/Users/paul_reitz/opt/miniconda3/envs/apache_sedona/lib/python3.12/site-packages/pynndescent/pynndescent_.py:939: UserWarning: Failed to correctly find n_neighbors for some samples. Results may be less than ideal. Try re-running with different parameters.\n",
      "  warn(\n"
     ]
    },
    {
     "name": "stdout",
     "output_type": "stream",
     "text": [
      "7972173.840000483\n",
      "# iters:   48. Rel primal: 3.9285e-06 Rel dual: 9.4477e-06  OBJ 3.517e+03\n",
      "Time needed is 0.0019519329071044922 seconds\n"
     ]
    },
    {
     "name": "stderr",
     "output_type": "stream",
     "text": [
      "/Users/paul_reitz/opt/miniconda3/envs/apache_sedona/lib/python3.12/site-packages/pynndescent/pynndescent_.py:939: UserWarning: Failed to correctly find n_neighbors for some samples. Results may be less than ideal. Try re-running with different parameters.\n",
      "  warn(\n"
     ]
    },
    {
     "name": "stdout",
     "output_type": "stream",
     "text": [
      "8666666.675413875\n",
      "# iters:   48. Rel primal: 3.9811e-06 Rel dual: 7.7601e-06  OBJ 1.895e+03\n",
      "Time needed is 0.0017681121826171875 seconds\n"
     ]
    },
    {
     "name": "stderr",
     "output_type": "stream",
     "text": [
      "/Users/paul_reitz/opt/miniconda3/envs/apache_sedona/lib/python3.12/site-packages/pynndescent/pynndescent_.py:939: UserWarning: Failed to correctly find n_neighbors for some samples. Results may be less than ideal. Try re-running with different parameters.\n",
      "  warn(\n"
     ]
    },
    {
     "name": "stdout",
     "output_type": "stream",
     "text": [
      "7972173.840017851\n",
      "# iters:   48. Rel primal: 4.1794e-06 Rel dual: 9.1779e-06  OBJ 3.392e+03\n",
      "Time needed is 0.0020401477813720703 seconds\n"
     ]
    },
    {
     "name": "stderr",
     "output_type": "stream",
     "text": [
      "/Users/paul_reitz/opt/miniconda3/envs/apache_sedona/lib/python3.12/site-packages/pynndescent/pynndescent_.py:939: UserWarning: Failed to correctly find n_neighbors for some samples. Results may be less than ideal. Try re-running with different parameters.\n",
      "  warn(\n"
     ]
    },
    {
     "name": "stdout",
     "output_type": "stream",
     "text": [
      "8666666.67558253\n",
      "# iters:   48. Rel primal: 4.0006e-06 Rel dual: 7.7208e-06  OBJ 1.871e+03\n",
      "Time needed is 0.0020439624786376953 seconds\n"
     ]
    },
    {
     "name": "stderr",
     "output_type": "stream",
     "text": [
      "/Users/paul_reitz/opt/miniconda3/envs/apache_sedona/lib/python3.12/site-packages/pynndescent/pynndescent_.py:939: UserWarning: Failed to correctly find n_neighbors for some samples. Results may be less than ideal. Try re-running with different parameters.\n",
      "  warn(\n"
     ]
    },
    {
     "name": "stdout",
     "output_type": "stream",
     "text": [
      "7972173.840000483\n",
      "# iters:   48. Rel primal: 3.9285e-06 Rel dual: 9.4477e-06  OBJ 3.517e+03\n",
      "Time needed is 0.0019268989562988281 seconds\n"
     ]
    },
    {
     "name": "stderr",
     "output_type": "stream",
     "text": [
      "/Users/paul_reitz/opt/miniconda3/envs/apache_sedona/lib/python3.12/site-packages/pynndescent/pynndescent_.py:939: UserWarning: Failed to correctly find n_neighbors for some samples. Results may be less than ideal. Try re-running with different parameters.\n",
      "  warn(\n"
     ]
    },
    {
     "name": "stdout",
     "output_type": "stream",
     "text": [
      "8666666.675413875\n",
      "# iters:   48. Rel primal: 3.9811e-06 Rel dual: 7.7601e-06  OBJ 1.895e+03\n",
      "Time needed is 0.0018949508666992188 seconds\n"
     ]
    },
    {
     "name": "stderr",
     "output_type": "stream",
     "text": [
      "/Users/paul_reitz/opt/miniconda3/envs/apache_sedona/lib/python3.12/site-packages/pynndescent/pynndescent_.py:939: UserWarning: Failed to correctly find n_neighbors for some samples. Results may be less than ideal. Try re-running with different parameters.\n",
      "  warn(\n"
     ]
    },
    {
     "name": "stdout",
     "output_type": "stream",
     "text": [
      "7972173.840017851\n",
      "# iters:   48. Rel primal: 4.1794e-06 Rel dual: 9.1779e-06  OBJ 3.392e+03\n",
      "Time needed is 0.001940011978149414 seconds\n"
     ]
    },
    {
     "name": "stderr",
     "output_type": "stream",
     "text": [
      "/Users/paul_reitz/opt/miniconda3/envs/apache_sedona/lib/python3.12/site-packages/pynndescent/pynndescent_.py:939: UserWarning: Failed to correctly find n_neighbors for some samples. Results may be less than ideal. Try re-running with different parameters.\n",
      "  warn(\n"
     ]
    },
    {
     "name": "stdout",
     "output_type": "stream",
     "text": [
      "8666666.67558253\n",
      "# iters:   48. Rel primal: 4.0006e-06 Rel dual: 7.7208e-06  OBJ 1.871e+03\n",
      "Time needed is 0.002518892288208008 seconds\n"
     ]
    },
    {
     "name": "stderr",
     "output_type": "stream",
     "text": [
      "/Users/paul_reitz/opt/miniconda3/envs/apache_sedona/lib/python3.12/site-packages/pynndescent/pynndescent_.py:939: UserWarning: Failed to correctly find n_neighbors for some samples. Results may be less than ideal. Try re-running with different parameters.\n",
      "  warn(\n"
     ]
    },
    {
     "name": "stdout",
     "output_type": "stream",
     "text": [
      "7972173.840000483\n",
      "# iters:   48. Rel primal: 3.9285e-06 Rel dual: 9.4477e-06  OBJ 3.517e+03\n",
      "Time needed is 0.002062082290649414 seconds\n"
     ]
    },
    {
     "name": "stderr",
     "output_type": "stream",
     "text": [
      "/Users/paul_reitz/opt/miniconda3/envs/apache_sedona/lib/python3.12/site-packages/pynndescent/pynndescent_.py:939: UserWarning: Failed to correctly find n_neighbors for some samples. Results may be less than ideal. Try re-running with different parameters.\n",
      "  warn(\n"
     ]
    },
    {
     "name": "stdout",
     "output_type": "stream",
     "text": [
      "8666666.675413875\n",
      "# iters:   48. Rel primal: 3.9811e-06 Rel dual: 7.7601e-06  OBJ 1.895e+03\n",
      "Time needed is 0.0025930404663085938 seconds\n"
     ]
    },
    {
     "name": "stderr",
     "output_type": "stream",
     "text": [
      "/Users/paul_reitz/opt/miniconda3/envs/apache_sedona/lib/python3.12/site-packages/pynndescent/pynndescent_.py:939: UserWarning: Failed to correctly find n_neighbors for some samples. Results may be less than ideal. Try re-running with different parameters.\n",
      "  warn(\n"
     ]
    },
    {
     "name": "stdout",
     "output_type": "stream",
     "text": [
      "7972173.840017851\n",
      "# iters:   48. Rel primal: 4.1794e-06 Rel dual: 9.1779e-06  OBJ 3.392e+03\n",
      "Time needed is 0.0025720596313476562 seconds\n"
     ]
    },
    {
     "name": "stderr",
     "output_type": "stream",
     "text": [
      "/Users/paul_reitz/opt/miniconda3/envs/apache_sedona/lib/python3.12/site-packages/pynndescent/pynndescent_.py:939: UserWarning: Failed to correctly find n_neighbors for some samples. Results may be less than ideal. Try re-running with different parameters.\n",
      "  warn(\n"
     ]
    },
    {
     "name": "stdout",
     "output_type": "stream",
     "text": [
      "8666666.67558253\n",
      "# iters:   48. Rel primal: 4.0006e-06 Rel dual: 7.7208e-06  OBJ 1.871e+03\n",
      "Time needed is 0.002176046371459961 seconds\n"
     ]
    },
    {
     "name": "stderr",
     "output_type": "stream",
     "text": [
      "/Users/paul_reitz/opt/miniconda3/envs/apache_sedona/lib/python3.12/site-packages/pynndescent/pynndescent_.py:939: UserWarning: Failed to correctly find n_neighbors for some samples. Results may be less than ideal. Try re-running with different parameters.\n",
      "  warn(\n"
     ]
    },
    {
     "name": "stdout",
     "output_type": "stream",
     "text": [
      "7972173.840000483\n",
      "# iters:   48. Rel primal: 3.9285e-06 Rel dual: 9.4477e-06  OBJ 3.517e+03\n",
      "Time needed is 0.002166748046875 seconds\n"
     ]
    },
    {
     "name": "stderr",
     "output_type": "stream",
     "text": [
      "/Users/paul_reitz/opt/miniconda3/envs/apache_sedona/lib/python3.12/site-packages/pynndescent/pynndescent_.py:939: UserWarning: Failed to correctly find n_neighbors for some samples. Results may be less than ideal. Try re-running with different parameters.\n",
      "  warn(\n"
     ]
    },
    {
     "name": "stdout",
     "output_type": "stream",
     "text": [
      "8666666.675413875\n",
      "# iters:   48. Rel primal: 3.9811e-06 Rel dual: 7.7601e-06  OBJ 1.895e+03\n",
      "Time needed is 0.002585172653198242 seconds\n"
     ]
    },
    {
     "name": "stderr",
     "output_type": "stream",
     "text": [
      "/Users/paul_reitz/opt/miniconda3/envs/apache_sedona/lib/python3.12/site-packages/pynndescent/pynndescent_.py:939: UserWarning: Failed to correctly find n_neighbors for some samples. Results may be less than ideal. Try re-running with different parameters.\n",
      "  warn(\n"
     ]
    },
    {
     "name": "stdout",
     "output_type": "stream",
     "text": [
      "7972173.840017851\n",
      "# iters:   48. Rel primal: 4.1794e-06 Rel dual: 9.1779e-06  OBJ 3.392e+03\n",
      "Time needed is 0.002203226089477539 seconds\n"
     ]
    },
    {
     "name": "stderr",
     "output_type": "stream",
     "text": [
      "/Users/paul_reitz/opt/miniconda3/envs/apache_sedona/lib/python3.12/site-packages/pynndescent/pynndescent_.py:939: UserWarning: Failed to correctly find n_neighbors for some samples. Results may be less than ideal. Try re-running with different parameters.\n",
      "  warn(\n"
     ]
    },
    {
     "name": "stdout",
     "output_type": "stream",
     "text": [
      "8666666.67558253\n",
      "# iters:   48. Rel primal: 4.0006e-06 Rel dual: 7.7208e-06  OBJ 1.871e+03\n",
      "Time needed is 0.0026831626892089844 seconds\n"
     ]
    },
    {
     "name": "stderr",
     "output_type": "stream",
     "text": [
      "/Users/paul_reitz/opt/miniconda3/envs/apache_sedona/lib/python3.12/site-packages/pynndescent/pynndescent_.py:939: UserWarning: Failed to correctly find n_neighbors for some samples. Results may be less than ideal. Try re-running with different parameters.\n",
      "  warn(\n"
     ]
    },
    {
     "name": "stdout",
     "output_type": "stream",
     "text": [
      "7972173.840000483\n",
      "# iters:   48. Rel primal: 3.9285e-06 Rel dual: 9.4477e-06  OBJ 3.517e+03\n",
      "Time needed is 0.0022058486938476562 seconds\n"
     ]
    },
    {
     "name": "stderr",
     "output_type": "stream",
     "text": [
      "/Users/paul_reitz/opt/miniconda3/envs/apache_sedona/lib/python3.12/site-packages/pynndescent/pynndescent_.py:939: UserWarning: Failed to correctly find n_neighbors for some samples. Results may be less than ideal. Try re-running with different parameters.\n",
      "  warn(\n"
     ]
    },
    {
     "name": "stdout",
     "output_type": "stream",
     "text": [
      "8666666.675413875\n",
      "# iters:   48. Rel primal: 3.9811e-06 Rel dual: 7.7601e-06  OBJ 1.895e+03\n",
      "Time needed is 0.001950979232788086 seconds\n"
     ]
    },
    {
     "name": "stderr",
     "output_type": "stream",
     "text": [
      "/Users/paul_reitz/opt/miniconda3/envs/apache_sedona/lib/python3.12/site-packages/pynndescent/pynndescent_.py:939: UserWarning: Failed to correctly find n_neighbors for some samples. Results may be less than ideal. Try re-running with different parameters.\n",
      "  warn(\n"
     ]
    },
    {
     "name": "stdout",
     "output_type": "stream",
     "text": [
      "7972173.840017851\n",
      "# iters:   48. Rel primal: 4.1794e-06 Rel dual: 9.1779e-06  OBJ 3.392e+03\n",
      "Time needed is 0.0017380714416503906 seconds\n"
     ]
    },
    {
     "name": "stderr",
     "output_type": "stream",
     "text": [
      "/Users/paul_reitz/opt/miniconda3/envs/apache_sedona/lib/python3.12/site-packages/pynndescent/pynndescent_.py:939: UserWarning: Failed to correctly find n_neighbors for some samples. Results may be less than ideal. Try re-running with different parameters.\n",
      "  warn(\n"
     ]
    },
    {
     "name": "stdout",
     "output_type": "stream",
     "text": [
      "8666666.67558253\n",
      "# iters:   48. Rel primal: 4.0006e-06 Rel dual: 7.7208e-06  OBJ 1.871e+03\n",
      "Time needed is 0.0024368762969970703 seconds\n"
     ]
    },
    {
     "name": "stderr",
     "output_type": "stream",
     "text": [
      "/Users/paul_reitz/opt/miniconda3/envs/apache_sedona/lib/python3.12/site-packages/pynndescent/pynndescent_.py:939: UserWarning: Failed to correctly find n_neighbors for some samples. Results may be less than ideal. Try re-running with different parameters.\n",
      "  warn(\n"
     ]
    },
    {
     "name": "stdout",
     "output_type": "stream",
     "text": [
      "7972173.840000483\n",
      "# iters:   48. Rel primal: 3.9285e-06 Rel dual: 9.4477e-06  OBJ 3.517e+03\n",
      "Time needed is 0.0025348663330078125 seconds\n"
     ]
    },
    {
     "name": "stderr",
     "output_type": "stream",
     "text": [
      "/Users/paul_reitz/opt/miniconda3/envs/apache_sedona/lib/python3.12/site-packages/pynndescent/pynndescent_.py:939: UserWarning: Failed to correctly find n_neighbors for some samples. Results may be less than ideal. Try re-running with different parameters.\n",
      "  warn(\n"
     ]
    },
    {
     "name": "stdout",
     "output_type": "stream",
     "text": [
      "8666666.675413875\n",
      "# iters:   48. Rel primal: 3.9811e-06 Rel dual: 7.7601e-06  OBJ 1.895e+03\n",
      "Time needed is 0.002221822738647461 seconds\n"
     ]
    },
    {
     "name": "stderr",
     "output_type": "stream",
     "text": [
      "/Users/paul_reitz/opt/miniconda3/envs/apache_sedona/lib/python3.12/site-packages/pynndescent/pynndescent_.py:939: UserWarning: Failed to correctly find n_neighbors for some samples. Results may be less than ideal. Try re-running with different parameters.\n",
      "  warn(\n"
     ]
    },
    {
     "name": "stdout",
     "output_type": "stream",
     "text": [
      "7972173.840017851\n",
      "# iters:   48. Rel primal: 4.1794e-06 Rel dual: 9.1779e-06  OBJ 3.392e+03\n",
      "Time needed is 0.002275705337524414 seconds\n"
     ]
    },
    {
     "name": "stderr",
     "output_type": "stream",
     "text": [
      "/Users/paul_reitz/opt/miniconda3/envs/apache_sedona/lib/python3.12/site-packages/pynndescent/pynndescent_.py:939: UserWarning: Failed to correctly find n_neighbors for some samples. Results may be less than ideal. Try re-running with different parameters.\n",
      "  warn(\n"
     ]
    },
    {
     "name": "stdout",
     "output_type": "stream",
     "text": [
      "8666666.67558253\n",
      "# iters:   48. Rel primal: 4.0006e-06 Rel dual: 7.7208e-06  OBJ 1.871e+03\n",
      "Time needed is 0.002335071563720703 seconds\n"
     ]
    },
    {
     "name": "stderr",
     "output_type": "stream",
     "text": [
      "/Users/paul_reitz/opt/miniconda3/envs/apache_sedona/lib/python3.12/site-packages/pynndescent/pynndescent_.py:939: UserWarning: Failed to correctly find n_neighbors for some samples. Results may be less than ideal. Try re-running with different parameters.\n",
      "  warn(\n"
     ]
    },
    {
     "name": "stdout",
     "output_type": "stream",
     "text": [
      "7972173.840000483\n",
      "# iters:   48. Rel primal: 3.9285e-06 Rel dual: 9.4477e-06  OBJ 3.517e+03\n",
      "Time needed is 0.0020329952239990234 seconds\n"
     ]
    },
    {
     "name": "stderr",
     "output_type": "stream",
     "text": [
      "/Users/paul_reitz/opt/miniconda3/envs/apache_sedona/lib/python3.12/site-packages/pynndescent/pynndescent_.py:939: UserWarning: Failed to correctly find n_neighbors for some samples. Results may be less than ideal. Try re-running with different parameters.\n",
      "  warn(\n"
     ]
    },
    {
     "name": "stdout",
     "output_type": "stream",
     "text": [
      "8666666.675413875\n",
      "# iters:   48. Rel primal: 3.9811e-06 Rel dual: 7.7601e-06  OBJ 1.895e+03\n",
      "Time needed is 0.0031490325927734375 seconds\n"
     ]
    },
    {
     "name": "stderr",
     "output_type": "stream",
     "text": [
      "/Users/paul_reitz/opt/miniconda3/envs/apache_sedona/lib/python3.12/site-packages/pynndescent/pynndescent_.py:939: UserWarning: Failed to correctly find n_neighbors for some samples. Results may be less than ideal. Try re-running with different parameters.\n",
      "  warn(\n"
     ]
    },
    {
     "name": "stdout",
     "output_type": "stream",
     "text": [
      "7972173.840017851\n",
      "# iters:   48. Rel primal: 4.1794e-06 Rel dual: 9.1779e-06  OBJ 3.392e+03\n",
      "Time needed is 0.0021347999572753906 seconds\n"
     ]
    },
    {
     "name": "stderr",
     "output_type": "stream",
     "text": [
      "/Users/paul_reitz/opt/miniconda3/envs/apache_sedona/lib/python3.12/site-packages/pynndescent/pynndescent_.py:939: UserWarning: Failed to correctly find n_neighbors for some samples. Results may be less than ideal. Try re-running with different parameters.\n",
      "  warn(\n"
     ]
    },
    {
     "name": "stdout",
     "output_type": "stream",
     "text": [
      "8666666.67558253\n",
      "# iters:   48. Rel primal: 4.0006e-06 Rel dual: 7.7208e-06  OBJ 1.871e+03\n",
      "Time needed is 0.0020449161529541016 seconds\n"
     ]
    },
    {
     "name": "stderr",
     "output_type": "stream",
     "text": [
      "/Users/paul_reitz/opt/miniconda3/envs/apache_sedona/lib/python3.12/site-packages/pynndescent/pynndescent_.py:939: UserWarning: Failed to correctly find n_neighbors for some samples. Results may be less than ideal. Try re-running with different parameters.\n",
      "  warn(\n"
     ]
    },
    {
     "name": "stdout",
     "output_type": "stream",
     "text": [
      "7972173.840000483\n",
      "# iters:   48. Rel primal: 3.9285e-06 Rel dual: 9.4477e-06  OBJ 3.517e+03\n",
      "Time needed is 0.0017418861389160156 seconds\n"
     ]
    },
    {
     "name": "stderr",
     "output_type": "stream",
     "text": [
      "/Users/paul_reitz/opt/miniconda3/envs/apache_sedona/lib/python3.12/site-packages/pynndescent/pynndescent_.py:939: UserWarning: Failed to correctly find n_neighbors for some samples. Results may be less than ideal. Try re-running with different parameters.\n",
      "  warn(\n"
     ]
    },
    {
     "name": "stdout",
     "output_type": "stream",
     "text": [
      "8666666.675413875\n",
      "# iters:   48. Rel primal: 3.9811e-06 Rel dual: 7.7601e-06  OBJ 1.895e+03\n",
      "Time needed is 0.0020380020141601562 seconds\n"
     ]
    },
    {
     "name": "stderr",
     "output_type": "stream",
     "text": [
      "/Users/paul_reitz/opt/miniconda3/envs/apache_sedona/lib/python3.12/site-packages/pynndescent/pynndescent_.py:939: UserWarning: Failed to correctly find n_neighbors for some samples. Results may be less than ideal. Try re-running with different parameters.\n",
      "  warn(\n"
     ]
    },
    {
     "name": "stdout",
     "output_type": "stream",
     "text": [
      "7972173.840017851\n",
      "# iters:   48. Rel primal: 4.1794e-06 Rel dual: 9.1779e-06  OBJ 3.392e+03\n",
      "Time needed is 0.0019812583923339844 seconds\n"
     ]
    },
    {
     "name": "stderr",
     "output_type": "stream",
     "text": [
      "/Users/paul_reitz/opt/miniconda3/envs/apache_sedona/lib/python3.12/site-packages/pynndescent/pynndescent_.py:939: UserWarning: Failed to correctly find n_neighbors for some samples. Results may be less than ideal. Try re-running with different parameters.\n",
      "  warn(\n"
     ]
    },
    {
     "name": "stdout",
     "output_type": "stream",
     "text": [
      "8666666.67558253\n",
      "# iters:   48. Rel primal: 4.0006e-06 Rel dual: 7.7208e-06  OBJ 1.871e+03\n",
      "Time needed is 0.002057313919067383 seconds\n"
     ]
    },
    {
     "name": "stderr",
     "output_type": "stream",
     "text": [
      "/Users/paul_reitz/opt/miniconda3/envs/apache_sedona/lib/python3.12/site-packages/pynndescent/pynndescent_.py:939: UserWarning: Failed to correctly find n_neighbors for some samples. Results may be less than ideal. Try re-running with different parameters.\n",
      "  warn(\n"
     ]
    },
    {
     "name": "stdout",
     "output_type": "stream",
     "text": [
      "7972173.840000483\n",
      "# iters:   48. Rel primal: 3.9285e-06 Rel dual: 9.4477e-06  OBJ 3.517e+03\n",
      "Time needed is 0.002309083938598633 seconds\n"
     ]
    },
    {
     "name": "stderr",
     "output_type": "stream",
     "text": [
      "/Users/paul_reitz/opt/miniconda3/envs/apache_sedona/lib/python3.12/site-packages/pynndescent/pynndescent_.py:939: UserWarning: Failed to correctly find n_neighbors for some samples. Results may be less than ideal. Try re-running with different parameters.\n",
      "  warn(\n"
     ]
    },
    {
     "name": "stdout",
     "output_type": "stream",
     "text": [
      "8666666.675413875\n",
      "# iters:   48. Rel primal: 3.9811e-06 Rel dual: 7.7601e-06  OBJ 1.895e+03\n",
      "Time needed is 0.0027048587799072266 seconds\n"
     ]
    },
    {
     "name": "stderr",
     "output_type": "stream",
     "text": [
      "/Users/paul_reitz/opt/miniconda3/envs/apache_sedona/lib/python3.12/site-packages/pynndescent/pynndescent_.py:939: UserWarning: Failed to correctly find n_neighbors for some samples. Results may be less than ideal. Try re-running with different parameters.\n",
      "  warn(\n"
     ]
    },
    {
     "name": "stdout",
     "output_type": "stream",
     "text": [
      "7972173.840017851\n",
      "# iters:   48. Rel primal: 4.1794e-06 Rel dual: 9.1779e-06  OBJ 3.392e+03\n",
      "Time needed is 0.0019483566284179688 seconds\n"
     ]
    },
    {
     "name": "stderr",
     "output_type": "stream",
     "text": [
      "/Users/paul_reitz/opt/miniconda3/envs/apache_sedona/lib/python3.12/site-packages/pynndescent/pynndescent_.py:939: UserWarning: Failed to correctly find n_neighbors for some samples. Results may be less than ideal. Try re-running with different parameters.\n",
      "  warn(\n"
     ]
    },
    {
     "name": "stdout",
     "output_type": "stream",
     "text": [
      "8666666.67558253\n",
      "# iters:   48. Rel primal: 4.0006e-06 Rel dual: 7.7208e-06  OBJ 1.871e+03\n",
      "Time needed is 0.001928091049194336 seconds\n"
     ]
    },
    {
     "name": "stderr",
     "output_type": "stream",
     "text": [
      "/Users/paul_reitz/opt/miniconda3/envs/apache_sedona/lib/python3.12/site-packages/pynndescent/pynndescent_.py:939: UserWarning: Failed to correctly find n_neighbors for some samples. Results may be less than ideal. Try re-running with different parameters.\n",
      "  warn(\n"
     ]
    },
    {
     "name": "stdout",
     "output_type": "stream",
     "text": [
      "7972173.840000483\n",
      "# iters:   48. Rel primal: 3.9285e-06 Rel dual: 9.4477e-06  OBJ 3.517e+03\n",
      "Time needed is 0.002162933349609375 seconds\n"
     ]
    },
    {
     "name": "stderr",
     "output_type": "stream",
     "text": [
      "/Users/paul_reitz/opt/miniconda3/envs/apache_sedona/lib/python3.12/site-packages/pynndescent/pynndescent_.py:939: UserWarning: Failed to correctly find n_neighbors for some samples. Results may be less than ideal. Try re-running with different parameters.\n",
      "  warn(\n"
     ]
    },
    {
     "name": "stdout",
     "output_type": "stream",
     "text": [
      "8666666.675413875\n",
      "# iters:   48. Rel primal: 3.9811e-06 Rel dual: 7.7601e-06  OBJ 1.895e+03\n",
      "Time needed is 0.0021810531616210938 seconds\n"
     ]
    },
    {
     "name": "stderr",
     "output_type": "stream",
     "text": [
      "/Users/paul_reitz/opt/miniconda3/envs/apache_sedona/lib/python3.12/site-packages/pynndescent/pynndescent_.py:939: UserWarning: Failed to correctly find n_neighbors for some samples. Results may be less than ideal. Try re-running with different parameters.\n",
      "  warn(\n"
     ]
    },
    {
     "name": "stdout",
     "output_type": "stream",
     "text": [
      "7972173.840017851\n",
      "# iters:   48. Rel primal: 4.1794e-06 Rel dual: 9.1779e-06  OBJ 3.392e+03\n",
      "Time needed is 0.0021059513092041016 seconds\n"
     ]
    },
    {
     "name": "stderr",
     "output_type": "stream",
     "text": [
      "/Users/paul_reitz/opt/miniconda3/envs/apache_sedona/lib/python3.12/site-packages/pynndescent/pynndescent_.py:939: UserWarning: Failed to correctly find n_neighbors for some samples. Results may be less than ideal. Try re-running with different parameters.\n",
      "  warn(\n"
     ]
    },
    {
     "name": "stdout",
     "output_type": "stream",
     "text": [
      "8666666.67558253\n",
      "# iters:   48. Rel primal: 4.0006e-06 Rel dual: 7.7208e-06  OBJ 1.871e+03\n",
      "Time needed is 0.002316713333129883 seconds\n"
     ]
    },
    {
     "name": "stderr",
     "output_type": "stream",
     "text": [
      "/Users/paul_reitz/opt/miniconda3/envs/apache_sedona/lib/python3.12/site-packages/pynndescent/pynndescent_.py:939: UserWarning: Failed to correctly find n_neighbors for some samples. Results may be less than ideal. Try re-running with different parameters.\n",
      "  warn(\n"
     ]
    },
    {
     "name": "stdout",
     "output_type": "stream",
     "text": [
      "7972173.840000483\n",
      "# iters:   48. Rel primal: 3.9285e-06 Rel dual: 9.4477e-06  OBJ 3.517e+03\n",
      "Time needed is 0.0021178722381591797 seconds\n"
     ]
    },
    {
     "name": "stderr",
     "output_type": "stream",
     "text": [
      "/Users/paul_reitz/opt/miniconda3/envs/apache_sedona/lib/python3.12/site-packages/pynndescent/pynndescent_.py:939: UserWarning: Failed to correctly find n_neighbors for some samples. Results may be less than ideal. Try re-running with different parameters.\n",
      "  warn(\n"
     ]
    },
    {
     "name": "stdout",
     "output_type": "stream",
     "text": [
      "8666666.675413875\n",
      "# iters:   48. Rel primal: 3.9811e-06 Rel dual: 7.7601e-06  OBJ 1.895e+03\n",
      "Time needed is 0.0018031597137451172 seconds\n"
     ]
    },
    {
     "name": "stderr",
     "output_type": "stream",
     "text": [
      "/Users/paul_reitz/opt/miniconda3/envs/apache_sedona/lib/python3.12/site-packages/pynndescent/pynndescent_.py:939: UserWarning: Failed to correctly find n_neighbors for some samples. Results may be less than ideal. Try re-running with different parameters.\n",
      "  warn(\n"
     ]
    },
    {
     "name": "stdout",
     "output_type": "stream",
     "text": [
      "7972173.840017851\n",
      "# iters:   48. Rel primal: 4.1794e-06 Rel dual: 9.1779e-06  OBJ 3.392e+03\n",
      "Time needed is 0.001950979232788086 seconds\n"
     ]
    },
    {
     "name": "stderr",
     "output_type": "stream",
     "text": [
      "/Users/paul_reitz/opt/miniconda3/envs/apache_sedona/lib/python3.12/site-packages/pynndescent/pynndescent_.py:939: UserWarning: Failed to correctly find n_neighbors for some samples. Results may be less than ideal. Try re-running with different parameters.\n",
      "  warn(\n"
     ]
    },
    {
     "name": "stdout",
     "output_type": "stream",
     "text": [
      "8666666.67558253\n",
      "# iters:   48. Rel primal: 4.0006e-06 Rel dual: 7.7208e-06  OBJ 1.871e+03\n",
      "Time needed is 0.0019888877868652344 seconds\n"
     ]
    },
    {
     "name": "stderr",
     "output_type": "stream",
     "text": [
      "/Users/paul_reitz/opt/miniconda3/envs/apache_sedona/lib/python3.12/site-packages/pynndescent/pynndescent_.py:939: UserWarning: Failed to correctly find n_neighbors for some samples. Results may be less than ideal. Try re-running with different parameters.\n",
      "  warn(\n"
     ]
    },
    {
     "name": "stdout",
     "output_type": "stream",
     "text": [
      "7972173.840000483\n",
      "# iters:   48. Rel primal: 3.9285e-06 Rel dual: 9.4477e-06  OBJ 3.517e+03\n",
      "Time needed is 0.0023047924041748047 seconds\n"
     ]
    },
    {
     "name": "stderr",
     "output_type": "stream",
     "text": [
      "/Users/paul_reitz/opt/miniconda3/envs/apache_sedona/lib/python3.12/site-packages/pynndescent/pynndescent_.py:939: UserWarning: Failed to correctly find n_neighbors for some samples. Results may be less than ideal. Try re-running with different parameters.\n",
      "  warn(\n"
     ]
    },
    {
     "name": "stdout",
     "output_type": "stream",
     "text": [
      "8666666.675413875\n",
      "# iters:   48. Rel primal: 3.9811e-06 Rel dual: 7.7601e-06  OBJ 1.895e+03\n",
      "Time needed is 0.0020639896392822266 seconds\n"
     ]
    },
    {
     "name": "stderr",
     "output_type": "stream",
     "text": [
      "/Users/paul_reitz/opt/miniconda3/envs/apache_sedona/lib/python3.12/site-packages/pynndescent/pynndescent_.py:939: UserWarning: Failed to correctly find n_neighbors for some samples. Results may be less than ideal. Try re-running with different parameters.\n",
      "  warn(\n"
     ]
    },
    {
     "name": "stdout",
     "output_type": "stream",
     "text": [
      "7972173.840017851\n",
      "# iters:   48. Rel primal: 4.1794e-06 Rel dual: 9.1779e-06  OBJ 3.392e+03\n",
      "Time needed is 0.0020020008087158203 seconds\n"
     ]
    },
    {
     "name": "stderr",
     "output_type": "stream",
     "text": [
      "/Users/paul_reitz/opt/miniconda3/envs/apache_sedona/lib/python3.12/site-packages/pynndescent/pynndescent_.py:939: UserWarning: Failed to correctly find n_neighbors for some samples. Results may be less than ideal. Try re-running with different parameters.\n",
      "  warn(\n"
     ]
    },
    {
     "name": "stdout",
     "output_type": "stream",
     "text": [
      "8666666.67558253\n",
      "# iters:   48. Rel primal: 4.0006e-06 Rel dual: 7.7208e-06  OBJ 1.871e+03\n",
      "Time needed is 0.0023469924926757812 seconds\n"
     ]
    },
    {
     "name": "stderr",
     "output_type": "stream",
     "text": [
      "/Users/paul_reitz/opt/miniconda3/envs/apache_sedona/lib/python3.12/site-packages/pynndescent/pynndescent_.py:939: UserWarning: Failed to correctly find n_neighbors for some samples. Results may be less than ideal. Try re-running with different parameters.\n",
      "  warn(\n"
     ]
    },
    {
     "name": "stdout",
     "output_type": "stream",
     "text": [
      "7972173.840000483\n",
      "# iters:   48. Rel primal: 3.9285e-06 Rel dual: 9.4477e-06  OBJ 3.517e+03\n",
      "Time needed is 0.001965045928955078 seconds\n"
     ]
    },
    {
     "name": "stderr",
     "output_type": "stream",
     "text": [
      "/Users/paul_reitz/opt/miniconda3/envs/apache_sedona/lib/python3.12/site-packages/pynndescent/pynndescent_.py:939: UserWarning: Failed to correctly find n_neighbors for some samples. Results may be less than ideal. Try re-running with different parameters.\n",
      "  warn(\n"
     ]
    },
    {
     "name": "stdout",
     "output_type": "stream",
     "text": [
      "8666666.675413875\n",
      "# iters:   48. Rel primal: 3.9811e-06 Rel dual: 7.7601e-06  OBJ 1.895e+03\n",
      "Time needed is 0.0020999908447265625 seconds\n"
     ]
    },
    {
     "name": "stderr",
     "output_type": "stream",
     "text": [
      "/Users/paul_reitz/opt/miniconda3/envs/apache_sedona/lib/python3.12/site-packages/pynndescent/pynndescent_.py:939: UserWarning: Failed to correctly find n_neighbors for some samples. Results may be less than ideal. Try re-running with different parameters.\n",
      "  warn(\n"
     ]
    },
    {
     "name": "stdout",
     "output_type": "stream",
     "text": [
      "7972173.840017851\n",
      "# iters:   48. Rel primal: 4.1794e-06 Rel dual: 9.1779e-06  OBJ 3.392e+03\n",
      "Time needed is 0.002128124237060547 seconds\n"
     ]
    },
    {
     "name": "stderr",
     "output_type": "stream",
     "text": [
      "/Users/paul_reitz/opt/miniconda3/envs/apache_sedona/lib/python3.12/site-packages/pynndescent/pynndescent_.py:939: UserWarning: Failed to correctly find n_neighbors for some samples. Results may be less than ideal. Try re-running with different parameters.\n",
      "  warn(\n"
     ]
    },
    {
     "name": "stdout",
     "output_type": "stream",
     "text": [
      "8666666.67558253\n",
      "# iters:   48. Rel primal: 4.0006e-06 Rel dual: 7.7208e-06  OBJ 1.871e+03\n",
      "Time needed is 0.0023260116577148438 seconds\n"
     ]
    },
    {
     "name": "stderr",
     "output_type": "stream",
     "text": [
      "/Users/paul_reitz/opt/miniconda3/envs/apache_sedona/lib/python3.12/site-packages/pynndescent/pynndescent_.py:939: UserWarning: Failed to correctly find n_neighbors for some samples. Results may be less than ideal. Try re-running with different parameters.\n",
      "  warn(\n"
     ]
    },
    {
     "name": "stdout",
     "output_type": "stream",
     "text": [
      "7972173.840000483\n",
      "# iters:   48. Rel primal: 3.9285e-06 Rel dual: 9.4477e-06  OBJ 3.517e+03\n",
      "Time needed is 0.0017840862274169922 seconds\n"
     ]
    },
    {
     "name": "stderr",
     "output_type": "stream",
     "text": [
      "/Users/paul_reitz/opt/miniconda3/envs/apache_sedona/lib/python3.12/site-packages/pynndescent/pynndescent_.py:939: UserWarning: Failed to correctly find n_neighbors for some samples. Results may be less than ideal. Try re-running with different parameters.\n",
      "  warn(\n"
     ]
    },
    {
     "name": "stdout",
     "output_type": "stream",
     "text": [
      "8666666.675413875\n",
      "# iters:   48. Rel primal: 3.9811e-06 Rel dual: 7.7601e-06  OBJ 1.895e+03\n",
      "Time needed is 0.002104043960571289 seconds\n"
     ]
    },
    {
     "name": "stderr",
     "output_type": "stream",
     "text": [
      "/Users/paul_reitz/opt/miniconda3/envs/apache_sedona/lib/python3.12/site-packages/pynndescent/pynndescent_.py:939: UserWarning: Failed to correctly find n_neighbors for some samples. Results may be less than ideal. Try re-running with different parameters.\n",
      "  warn(\n"
     ]
    },
    {
     "name": "stdout",
     "output_type": "stream",
     "text": [
      "7972173.840017851\n",
      "# iters:   48. Rel primal: 4.1794e-06 Rel dual: 9.1779e-06  OBJ 3.392e+03\n",
      "Time needed is 0.0024318695068359375 seconds\n"
     ]
    },
    {
     "name": "stderr",
     "output_type": "stream",
     "text": [
      "/Users/paul_reitz/opt/miniconda3/envs/apache_sedona/lib/python3.12/site-packages/pynndescent/pynndescent_.py:939: UserWarning: Failed to correctly find n_neighbors for some samples. Results may be less than ideal. Try re-running with different parameters.\n",
      "  warn(\n"
     ]
    },
    {
     "name": "stdout",
     "output_type": "stream",
     "text": [
      "8666666.67558253\n",
      "# iters:   48. Rel primal: 4.0006e-06 Rel dual: 7.7208e-06  OBJ 1.871e+03\n",
      "Time needed is 0.002029895782470703 seconds\n"
     ]
    },
    {
     "name": "stderr",
     "output_type": "stream",
     "text": [
      "/Users/paul_reitz/opt/miniconda3/envs/apache_sedona/lib/python3.12/site-packages/pynndescent/pynndescent_.py:939: UserWarning: Failed to correctly find n_neighbors for some samples. Results may be less than ideal. Try re-running with different parameters.\n",
      "  warn(\n"
     ]
    },
    {
     "name": "stdout",
     "output_type": "stream",
     "text": [
      "7972173.840000483\n",
      "# iters:   48. Rel primal: 3.9285e-06 Rel dual: 9.4477e-06  OBJ 3.517e+03\n",
      "Time needed is 0.0024709701538085938 seconds\n"
     ]
    },
    {
     "name": "stderr",
     "output_type": "stream",
     "text": [
      "/Users/paul_reitz/opt/miniconda3/envs/apache_sedona/lib/python3.12/site-packages/pynndescent/pynndescent_.py:939: UserWarning: Failed to correctly find n_neighbors for some samples. Results may be less than ideal. Try re-running with different parameters.\n",
      "  warn(\n"
     ]
    },
    {
     "name": "stdout",
     "output_type": "stream",
     "text": [
      "8666666.675413875\n",
      "# iters:   48. Rel primal: 3.9811e-06 Rel dual: 7.7601e-06  OBJ 1.895e+03\n",
      "Time needed is 0.002012014389038086 seconds\n"
     ]
    },
    {
     "name": "stderr",
     "output_type": "stream",
     "text": [
      "/Users/paul_reitz/opt/miniconda3/envs/apache_sedona/lib/python3.12/site-packages/pynndescent/pynndescent_.py:939: UserWarning: Failed to correctly find n_neighbors for some samples. Results may be less than ideal. Try re-running with different parameters.\n",
      "  warn(\n"
     ]
    },
    {
     "name": "stdout",
     "output_type": "stream",
     "text": [
      "7972173.840017851\n",
      "# iters:   48. Rel primal: 4.1794e-06 Rel dual: 9.1779e-06  OBJ 3.392e+03\n",
      "Time needed is 0.002481222152709961 seconds\n"
     ]
    },
    {
     "name": "stderr",
     "output_type": "stream",
     "text": [
      "/Users/paul_reitz/opt/miniconda3/envs/apache_sedona/lib/python3.12/site-packages/pynndescent/pynndescent_.py:939: UserWarning: Failed to correctly find n_neighbors for some samples. Results may be less than ideal. Try re-running with different parameters.\n",
      "  warn(\n"
     ]
    },
    {
     "name": "stdout",
     "output_type": "stream",
     "text": [
      "8666666.67558253\n",
      "# iters:   48. Rel primal: 4.0006e-06 Rel dual: 7.7208e-06  OBJ 1.871e+03\n",
      "Time needed is 0.002279996871948242 seconds\n"
     ]
    },
    {
     "name": "stderr",
     "output_type": "stream",
     "text": [
      "/Users/paul_reitz/opt/miniconda3/envs/apache_sedona/lib/python3.12/site-packages/pynndescent/pynndescent_.py:939: UserWarning: Failed to correctly find n_neighbors for some samples. Results may be less than ideal. Try re-running with different parameters.\n",
      "  warn(\n"
     ]
    },
    {
     "name": "stdout",
     "output_type": "stream",
     "text": [
      "7972173.840000483\n",
      "# iters:   48. Rel primal: 3.9285e-06 Rel dual: 9.4477e-06  OBJ 3.517e+03\n",
      "Time needed is 0.001950979232788086 seconds\n"
     ]
    },
    {
     "name": "stderr",
     "output_type": "stream",
     "text": [
      "/Users/paul_reitz/opt/miniconda3/envs/apache_sedona/lib/python3.12/site-packages/pynndescent/pynndescent_.py:939: UserWarning: Failed to correctly find n_neighbors for some samples. Results may be less than ideal. Try re-running with different parameters.\n",
      "  warn(\n"
     ]
    },
    {
     "name": "stdout",
     "output_type": "stream",
     "text": [
      "8666666.675413875\n",
      "# iters:   48. Rel primal: 3.9811e-06 Rel dual: 7.7601e-06  OBJ 1.895e+03\n",
      "Time needed is 0.0020558834075927734 seconds\n"
     ]
    },
    {
     "name": "stderr",
     "output_type": "stream",
     "text": [
      "/Users/paul_reitz/opt/miniconda3/envs/apache_sedona/lib/python3.12/site-packages/pynndescent/pynndescent_.py:939: UserWarning: Failed to correctly find n_neighbors for some samples. Results may be less than ideal. Try re-running with different parameters.\n",
      "  warn(\n"
     ]
    },
    {
     "name": "stdout",
     "output_type": "stream",
     "text": [
      "7972173.840017851\n",
      "# iters:   48. Rel primal: 4.1794e-06 Rel dual: 9.1779e-06  OBJ 3.392e+03\n",
      "Time needed is 0.002093791961669922 seconds\n"
     ]
    },
    {
     "name": "stderr",
     "output_type": "stream",
     "text": [
      "/Users/paul_reitz/opt/miniconda3/envs/apache_sedona/lib/python3.12/site-packages/pynndescent/pynndescent_.py:939: UserWarning: Failed to correctly find n_neighbors for some samples. Results may be less than ideal. Try re-running with different parameters.\n",
      "  warn(\n"
     ]
    },
    {
     "name": "stdout",
     "output_type": "stream",
     "text": [
      "8666666.67558253\n",
      "# iters:   48. Rel primal: 4.0006e-06 Rel dual: 7.7208e-06  OBJ 1.871e+03\n",
      "Time needed is 0.0020401477813720703 seconds\n"
     ]
    },
    {
     "name": "stderr",
     "output_type": "stream",
     "text": [
      "/Users/paul_reitz/opt/miniconda3/envs/apache_sedona/lib/python3.12/site-packages/pynndescent/pynndescent_.py:939: UserWarning: Failed to correctly find n_neighbors for some samples. Results may be less than ideal. Try re-running with different parameters.\n",
      "  warn(\n"
     ]
    },
    {
     "name": "stdout",
     "output_type": "stream",
     "text": [
      "7972173.840000483\n",
      "# iters:   48. Rel primal: 3.9285e-06 Rel dual: 9.4477e-06  OBJ 3.517e+03\n",
      "Time needed is 0.0021598339080810547 seconds\n"
     ]
    },
    {
     "name": "stderr",
     "output_type": "stream",
     "text": [
      "/Users/paul_reitz/opt/miniconda3/envs/apache_sedona/lib/python3.12/site-packages/pynndescent/pynndescent_.py:939: UserWarning: Failed to correctly find n_neighbors for some samples. Results may be less than ideal. Try re-running with different parameters.\n",
      "  warn(\n"
     ]
    },
    {
     "name": "stdout",
     "output_type": "stream",
     "text": [
      "8666666.675413875\n",
      "# iters:   48. Rel primal: 3.9811e-06 Rel dual: 7.7601e-06  OBJ 1.895e+03\n",
      "Time needed is 0.0019860267639160156 seconds\n"
     ]
    },
    {
     "name": "stderr",
     "output_type": "stream",
     "text": [
      "/Users/paul_reitz/opt/miniconda3/envs/apache_sedona/lib/python3.12/site-packages/pynndescent/pynndescent_.py:939: UserWarning: Failed to correctly find n_neighbors for some samples. Results may be less than ideal. Try re-running with different parameters.\n",
      "  warn(\n"
     ]
    },
    {
     "name": "stdout",
     "output_type": "stream",
     "text": [
      "7972173.840017851\n",
      "# iters:   48. Rel primal: 4.1794e-06 Rel dual: 9.1779e-06  OBJ 3.392e+03\n",
      "Time needed is 0.002173185348510742 seconds\n"
     ]
    },
    {
     "name": "stderr",
     "output_type": "stream",
     "text": [
      "/Users/paul_reitz/opt/miniconda3/envs/apache_sedona/lib/python3.12/site-packages/pynndescent/pynndescent_.py:939: UserWarning: Failed to correctly find n_neighbors for some samples. Results may be less than ideal. Try re-running with different parameters.\n",
      "  warn(\n"
     ]
    },
    {
     "name": "stdout",
     "output_type": "stream",
     "text": [
      "8666666.67558253\n",
      "# iters:   48. Rel primal: 4.0006e-06 Rel dual: 7.7208e-06  OBJ 1.871e+03\n",
      "Time needed is 0.0017521381378173828 seconds\n"
     ]
    },
    {
     "name": "stderr",
     "output_type": "stream",
     "text": [
      "/Users/paul_reitz/opt/miniconda3/envs/apache_sedona/lib/python3.12/site-packages/pynndescent/pynndescent_.py:939: UserWarning: Failed to correctly find n_neighbors for some samples. Results may be less than ideal. Try re-running with different parameters.\n",
      "  warn(\n"
     ]
    },
    {
     "name": "stdout",
     "output_type": "stream",
     "text": [
      "7972173.840000483\n",
      "# iters:   48. Rel primal: 3.9285e-06 Rel dual: 9.4477e-06  OBJ 3.517e+03\n",
      "Time needed is 0.002353191375732422 seconds\n"
     ]
    },
    {
     "name": "stderr",
     "output_type": "stream",
     "text": [
      "/Users/paul_reitz/opt/miniconda3/envs/apache_sedona/lib/python3.12/site-packages/pynndescent/pynndescent_.py:939: UserWarning: Failed to correctly find n_neighbors for some samples. Results may be less than ideal. Try re-running with different parameters.\n",
      "  warn(\n"
     ]
    },
    {
     "name": "stdout",
     "output_type": "stream",
     "text": [
      "8666666.675413875\n",
      "# iters:   48. Rel primal: 3.9811e-06 Rel dual: 7.7601e-06  OBJ 1.895e+03\n",
      "Time needed is 0.0020699501037597656 seconds\n"
     ]
    },
    {
     "name": "stderr",
     "output_type": "stream",
     "text": [
      "/Users/paul_reitz/opt/miniconda3/envs/apache_sedona/lib/python3.12/site-packages/pynndescent/pynndescent_.py:939: UserWarning: Failed to correctly find n_neighbors for some samples. Results may be less than ideal. Try re-running with different parameters.\n",
      "  warn(\n"
     ]
    },
    {
     "name": "stdout",
     "output_type": "stream",
     "text": [
      "7972173.840017851\n",
      "# iters:   48. Rel primal: 4.1794e-06 Rel dual: 9.1779e-06  OBJ 3.392e+03\n",
      "Time needed is 0.002395153045654297 seconds\n"
     ]
    },
    {
     "name": "stderr",
     "output_type": "stream",
     "text": [
      "/Users/paul_reitz/opt/miniconda3/envs/apache_sedona/lib/python3.12/site-packages/pynndescent/pynndescent_.py:939: UserWarning: Failed to correctly find n_neighbors for some samples. Results may be less than ideal. Try re-running with different parameters.\n",
      "  warn(\n"
     ]
    },
    {
     "name": "stdout",
     "output_type": "stream",
     "text": [
      "8666666.67558253\n",
      "# iters:   48. Rel primal: 4.0006e-06 Rel dual: 7.7208e-06  OBJ 1.871e+03\n",
      "Time needed is 0.002035856246948242 seconds\n"
     ]
    },
    {
     "name": "stderr",
     "output_type": "stream",
     "text": [
      "/Users/paul_reitz/opt/miniconda3/envs/apache_sedona/lib/python3.12/site-packages/pynndescent/pynndescent_.py:939: UserWarning: Failed to correctly find n_neighbors for some samples. Results may be less than ideal. Try re-running with different parameters.\n",
      "  warn(\n"
     ]
    },
    {
     "name": "stdout",
     "output_type": "stream",
     "text": [
      "7972173.840000483\n",
      "# iters:   48. Rel primal: 3.9285e-06 Rel dual: 9.4477e-06  OBJ 3.517e+03\n",
      "Time needed is 0.0029990673065185547 seconds\n"
     ]
    },
    {
     "name": "stderr",
     "output_type": "stream",
     "text": [
      "/Users/paul_reitz/opt/miniconda3/envs/apache_sedona/lib/python3.12/site-packages/pynndescent/pynndescent_.py:939: UserWarning: Failed to correctly find n_neighbors for some samples. Results may be less than ideal. Try re-running with different parameters.\n",
      "  warn(\n"
     ]
    },
    {
     "name": "stdout",
     "output_type": "stream",
     "text": [
      "8666666.675413875\n",
      "# iters:   48. Rel primal: 3.9811e-06 Rel dual: 7.7601e-06  OBJ 1.895e+03\n",
      "Time needed is 0.002149820327758789 seconds\n"
     ]
    },
    {
     "name": "stderr",
     "output_type": "stream",
     "text": [
      "/Users/paul_reitz/opt/miniconda3/envs/apache_sedona/lib/python3.12/site-packages/pynndescent/pynndescent_.py:939: UserWarning: Failed to correctly find n_neighbors for some samples. Results may be less than ideal. Try re-running with different parameters.\n",
      "  warn(\n"
     ]
    },
    {
     "name": "stdout",
     "output_type": "stream",
     "text": [
      "7972173.840017851\n",
      "# iters:   48. Rel primal: 4.1794e-06 Rel dual: 9.1779e-06  OBJ 3.392e+03\n",
      "Time needed is 0.0019059181213378906 seconds\n"
     ]
    },
    {
     "name": "stderr",
     "output_type": "stream",
     "text": [
      "/Users/paul_reitz/opt/miniconda3/envs/apache_sedona/lib/python3.12/site-packages/pynndescent/pynndescent_.py:939: UserWarning: Failed to correctly find n_neighbors for some samples. Results may be less than ideal. Try re-running with different parameters.\n",
      "  warn(\n"
     ]
    },
    {
     "name": "stdout",
     "output_type": "stream",
     "text": [
      "8666666.67558253\n",
      "# iters:   48. Rel primal: 4.0006e-06 Rel dual: 7.7208e-06  OBJ 1.871e+03\n",
      "Time needed is 0.002003192901611328 seconds\n"
     ]
    },
    {
     "name": "stderr",
     "output_type": "stream",
     "text": [
      "/Users/paul_reitz/opt/miniconda3/envs/apache_sedona/lib/python3.12/site-packages/pynndescent/pynndescent_.py:939: UserWarning: Failed to correctly find n_neighbors for some samples. Results may be less than ideal. Try re-running with different parameters.\n",
      "  warn(\n"
     ]
    },
    {
     "name": "stdout",
     "output_type": "stream",
     "text": [
      "7972173.840000483\n",
      "# iters:   48. Rel primal: 3.9285e-06 Rel dual: 9.4477e-06  OBJ 3.517e+03\n",
      "Time needed is 0.002518892288208008 seconds\n"
     ]
    },
    {
     "name": "stderr",
     "output_type": "stream",
     "text": [
      "/Users/paul_reitz/opt/miniconda3/envs/apache_sedona/lib/python3.12/site-packages/pynndescent/pynndescent_.py:939: UserWarning: Failed to correctly find n_neighbors for some samples. Results may be less than ideal. Try re-running with different parameters.\n",
      "  warn(\n"
     ]
    },
    {
     "name": "stdout",
     "output_type": "stream",
     "text": [
      "8666666.675413875\n",
      "# iters:   48. Rel primal: 3.9811e-06 Rel dual: 7.7601e-06  OBJ 1.895e+03\n",
      "Time needed is 0.0020542144775390625 seconds\n"
     ]
    },
    {
     "name": "stderr",
     "output_type": "stream",
     "text": [
      "/Users/paul_reitz/opt/miniconda3/envs/apache_sedona/lib/python3.12/site-packages/pynndescent/pynndescent_.py:939: UserWarning: Failed to correctly find n_neighbors for some samples. Results may be less than ideal. Try re-running with different parameters.\n",
      "  warn(\n"
     ]
    },
    {
     "name": "stdout",
     "output_type": "stream",
     "text": [
      "7972173.840017851\n",
      "# iters:   48. Rel primal: 4.1794e-06 Rel dual: 9.1779e-06  OBJ 3.392e+03\n",
      "Time needed is 0.0024061203002929688 seconds\n"
     ]
    },
    {
     "name": "stderr",
     "output_type": "stream",
     "text": [
      "/Users/paul_reitz/opt/miniconda3/envs/apache_sedona/lib/python3.12/site-packages/pynndescent/pynndescent_.py:939: UserWarning: Failed to correctly find n_neighbors for some samples. Results may be less than ideal. Try re-running with different parameters.\n",
      "  warn(\n"
     ]
    },
    {
     "name": "stdout",
     "output_type": "stream",
     "text": [
      "8666666.67558253\n",
      "# iters:   48. Rel primal: 4.0006e-06 Rel dual: 7.7208e-06  OBJ 1.871e+03\n",
      "Time needed is 0.001766204833984375 seconds\n"
     ]
    },
    {
     "name": "stderr",
     "output_type": "stream",
     "text": [
      "/Users/paul_reitz/opt/miniconda3/envs/apache_sedona/lib/python3.12/site-packages/pynndescent/pynndescent_.py:939: UserWarning: Failed to correctly find n_neighbors for some samples. Results may be less than ideal. Try re-running with different parameters.\n",
      "  warn(\n"
     ]
    },
    {
     "name": "stdout",
     "output_type": "stream",
     "text": [
      "7972173.840000483\n",
      "# iters:   48. Rel primal: 3.9285e-06 Rel dual: 9.4477e-06  OBJ 3.517e+03\n",
      "Time needed is 0.002233743667602539 seconds\n"
     ]
    },
    {
     "name": "stderr",
     "output_type": "stream",
     "text": [
      "/Users/paul_reitz/opt/miniconda3/envs/apache_sedona/lib/python3.12/site-packages/pynndescent/pynndescent_.py:939: UserWarning: Failed to correctly find n_neighbors for some samples. Results may be less than ideal. Try re-running with different parameters.\n",
      "  warn(\n"
     ]
    },
    {
     "name": "stdout",
     "output_type": "stream",
     "text": [
      "8666666.675413875\n",
      "# iters:   48. Rel primal: 3.9811e-06 Rel dual: 7.7601e-06  OBJ 1.895e+03\n",
      "Time needed is 0.002196073532104492 seconds\n"
     ]
    },
    {
     "name": "stderr",
     "output_type": "stream",
     "text": [
      "/Users/paul_reitz/opt/miniconda3/envs/apache_sedona/lib/python3.12/site-packages/pynndescent/pynndescent_.py:939: UserWarning: Failed to correctly find n_neighbors for some samples. Results may be less than ideal. Try re-running with different parameters.\n",
      "  warn(\n"
     ]
    },
    {
     "name": "stdout",
     "output_type": "stream",
     "text": [
      "7972173.840017851\n",
      "# iters:   48. Rel primal: 4.1794e-06 Rel dual: 9.1779e-06  OBJ 3.392e+03\n",
      "Time needed is 0.0020689964294433594 seconds\n"
     ]
    },
    {
     "name": "stderr",
     "output_type": "stream",
     "text": [
      "/Users/paul_reitz/opt/miniconda3/envs/apache_sedona/lib/python3.12/site-packages/pynndescent/pynndescent_.py:939: UserWarning: Failed to correctly find n_neighbors for some samples. Results may be less than ideal. Try re-running with different parameters.\n",
      "  warn(\n"
     ]
    },
    {
     "name": "stdout",
     "output_type": "stream",
     "text": [
      "8666666.67558253\n",
      "# iters:   48. Rel primal: 4.0006e-06 Rel dual: 7.7208e-06  OBJ 1.871e+03\n",
      "Time needed is 0.002207040786743164 seconds\n"
     ]
    },
    {
     "name": "stderr",
     "output_type": "stream",
     "text": [
      "/Users/paul_reitz/opt/miniconda3/envs/apache_sedona/lib/python3.12/site-packages/pynndescent/pynndescent_.py:939: UserWarning: Failed to correctly find n_neighbors for some samples. Results may be less than ideal. Try re-running with different parameters.\n",
      "  warn(\n"
     ]
    },
    {
     "name": "stdout",
     "output_type": "stream",
     "text": [
      "7972173.840000483\n",
      "# iters:   48. Rel primal: 3.9285e-06 Rel dual: 9.4477e-06  OBJ 3.517e+03\n",
      "Time needed is 0.002054929733276367 seconds\n"
     ]
    },
    {
     "name": "stderr",
     "output_type": "stream",
     "text": [
      "/Users/paul_reitz/opt/miniconda3/envs/apache_sedona/lib/python3.12/site-packages/pynndescent/pynndescent_.py:939: UserWarning: Failed to correctly find n_neighbors for some samples. Results may be less than ideal. Try re-running with different parameters.\n",
      "  warn(\n"
     ]
    },
    {
     "name": "stdout",
     "output_type": "stream",
     "text": [
      "8666666.675413875\n",
      "# iters:   48. Rel primal: 3.9811e-06 Rel dual: 7.7601e-06  OBJ 1.895e+03\n",
      "Time needed is 0.001995086669921875 seconds\n"
     ]
    },
    {
     "name": "stderr",
     "output_type": "stream",
     "text": [
      "/Users/paul_reitz/opt/miniconda3/envs/apache_sedona/lib/python3.12/site-packages/pynndescent/pynndescent_.py:939: UserWarning: Failed to correctly find n_neighbors for some samples. Results may be less than ideal. Try re-running with different parameters.\n",
      "  warn(\n"
     ]
    },
    {
     "name": "stdout",
     "output_type": "stream",
     "text": [
      "7972173.840017851\n",
      "# iters:   48. Rel primal: 4.1794e-06 Rel dual: 9.1779e-06  OBJ 3.392e+03\n",
      "Time needed is 0.0020580291748046875 seconds\n"
     ]
    },
    {
     "name": "stderr",
     "output_type": "stream",
     "text": [
      "/Users/paul_reitz/opt/miniconda3/envs/apache_sedona/lib/python3.12/site-packages/pynndescent/pynndescent_.py:939: UserWarning: Failed to correctly find n_neighbors for some samples. Results may be less than ideal. Try re-running with different parameters.\n",
      "  warn(\n"
     ]
    },
    {
     "name": "stdout",
     "output_type": "stream",
     "text": [
      "8666666.67558253\n",
      "# iters:   48. Rel primal: 4.0006e-06 Rel dual: 7.7208e-06  OBJ 1.871e+03\n",
      "Time needed is 0.002022981643676758 seconds\n"
     ]
    },
    {
     "name": "stderr",
     "output_type": "stream",
     "text": [
      "/Users/paul_reitz/opt/miniconda3/envs/apache_sedona/lib/python3.12/site-packages/pynndescent/pynndescent_.py:939: UserWarning: Failed to correctly find n_neighbors for some samples. Results may be less than ideal. Try re-running with different parameters.\n",
      "  warn(\n"
     ]
    },
    {
     "name": "stdout",
     "output_type": "stream",
     "text": [
      "7972173.840000483\n",
      "# iters:   48. Rel primal: 3.9285e-06 Rel dual: 9.4477e-06  OBJ 3.517e+03\n",
      "Time needed is 0.0021648406982421875 seconds\n"
     ]
    },
    {
     "name": "stderr",
     "output_type": "stream",
     "text": [
      "/Users/paul_reitz/opt/miniconda3/envs/apache_sedona/lib/python3.12/site-packages/pynndescent/pynndescent_.py:939: UserWarning: Failed to correctly find n_neighbors for some samples. Results may be less than ideal. Try re-running with different parameters.\n",
      "  warn(\n"
     ]
    },
    {
     "name": "stdout",
     "output_type": "stream",
     "text": [
      "8666666.675413875\n",
      "# iters:   48. Rel primal: 3.9811e-06 Rel dual: 7.7601e-06  OBJ 1.895e+03\n",
      "Time needed is 0.0023958683013916016 seconds\n"
     ]
    },
    {
     "name": "stderr",
     "output_type": "stream",
     "text": [
      "/Users/paul_reitz/opt/miniconda3/envs/apache_sedona/lib/python3.12/site-packages/pynndescent/pynndescent_.py:939: UserWarning: Failed to correctly find n_neighbors for some samples. Results may be less than ideal. Try re-running with different parameters.\n",
      "  warn(\n"
     ]
    },
    {
     "name": "stdout",
     "output_type": "stream",
     "text": [
      "7972173.840017851\n",
      "# iters:   48. Rel primal: 4.1794e-06 Rel dual: 9.1779e-06  OBJ 3.392e+03\n",
      "Time needed is 0.001993894577026367 seconds\n"
     ]
    },
    {
     "name": "stderr",
     "output_type": "stream",
     "text": [
      "/Users/paul_reitz/opt/miniconda3/envs/apache_sedona/lib/python3.12/site-packages/pynndescent/pynndescent_.py:939: UserWarning: Failed to correctly find n_neighbors for some samples. Results may be less than ideal. Try re-running with different parameters.\n",
      "  warn(\n"
     ]
    },
    {
     "name": "stdout",
     "output_type": "stream",
     "text": [
      "8666666.67558253\n",
      "# iters:   48. Rel primal: 4.0006e-06 Rel dual: 7.7208e-06  OBJ 1.871e+03\n",
      "Time needed is 0.002118825912475586 seconds\n"
     ]
    },
    {
     "name": "stderr",
     "output_type": "stream",
     "text": [
      "/Users/paul_reitz/opt/miniconda3/envs/apache_sedona/lib/python3.12/site-packages/pynndescent/pynndescent_.py:939: UserWarning: Failed to correctly find n_neighbors for some samples. Results may be less than ideal. Try re-running with different parameters.\n",
      "  warn(\n"
     ]
    },
    {
     "name": "stdout",
     "output_type": "stream",
     "text": [
      "7972173.840000483\n",
      "# iters:   48. Rel primal: 3.9285e-06 Rel dual: 9.4477e-06  OBJ 3.517e+03\n",
      "Time needed is 0.002068042755126953 seconds\n"
     ]
    },
    {
     "name": "stderr",
     "output_type": "stream",
     "text": [
      "/Users/paul_reitz/opt/miniconda3/envs/apache_sedona/lib/python3.12/site-packages/pynndescent/pynndescent_.py:939: UserWarning: Failed to correctly find n_neighbors for some samples. Results may be less than ideal. Try re-running with different parameters.\n",
      "  warn(\n"
     ]
    },
    {
     "name": "stdout",
     "output_type": "stream",
     "text": [
      "8666666.675413875\n",
      "# iters:   48. Rel primal: 3.9811e-06 Rel dual: 7.7601e-06  OBJ 1.895e+03\n",
      "Time needed is 0.0021560192108154297 seconds\n"
     ]
    },
    {
     "name": "stderr",
     "output_type": "stream",
     "text": [
      "/Users/paul_reitz/opt/miniconda3/envs/apache_sedona/lib/python3.12/site-packages/pynndescent/pynndescent_.py:939: UserWarning: Failed to correctly find n_neighbors for some samples. Results may be less than ideal. Try re-running with different parameters.\n",
      "  warn(\n"
     ]
    },
    {
     "name": "stdout",
     "output_type": "stream",
     "text": [
      "7972173.840017851\n",
      "# iters:   48. Rel primal: 4.1794e-06 Rel dual: 9.1779e-06  OBJ 3.392e+03\n",
      "Time needed is 0.0018401145935058594 seconds\n"
     ]
    },
    {
     "name": "stderr",
     "output_type": "stream",
     "text": [
      "/Users/paul_reitz/opt/miniconda3/envs/apache_sedona/lib/python3.12/site-packages/pynndescent/pynndescent_.py:939: UserWarning: Failed to correctly find n_neighbors for some samples. Results may be less than ideal. Try re-running with different parameters.\n",
      "  warn(\n"
     ]
    },
    {
     "name": "stdout",
     "output_type": "stream",
     "text": [
      "8666666.67558253\n",
      "# iters:   48. Rel primal: 4.0006e-06 Rel dual: 7.7208e-06  OBJ 1.871e+03\n",
      "Time needed is 0.0020499229431152344 seconds\n"
     ]
    },
    {
     "name": "stderr",
     "output_type": "stream",
     "text": [
      "/Users/paul_reitz/opt/miniconda3/envs/apache_sedona/lib/python3.12/site-packages/pynndescent/pynndescent_.py:939: UserWarning: Failed to correctly find n_neighbors for some samples. Results may be less than ideal. Try re-running with different parameters.\n",
      "  warn(\n"
     ]
    },
    {
     "name": "stdout",
     "output_type": "stream",
     "text": [
      "7972173.840000483\n",
      "# iters:   48. Rel primal: 3.9285e-06 Rel dual: 9.4477e-06  OBJ 3.517e+03\n",
      "Time needed is 0.0020530223846435547 seconds\n"
     ]
    },
    {
     "name": "stderr",
     "output_type": "stream",
     "text": [
      "/Users/paul_reitz/opt/miniconda3/envs/apache_sedona/lib/python3.12/site-packages/pynndescent/pynndescent_.py:939: UserWarning: Failed to correctly find n_neighbors for some samples. Results may be less than ideal. Try re-running with different parameters.\n",
      "  warn(\n"
     ]
    },
    {
     "name": "stdout",
     "output_type": "stream",
     "text": [
      "8666666.675413875\n",
      "# iters:   48. Rel primal: 3.9811e-06 Rel dual: 7.7601e-06  OBJ 1.895e+03\n",
      "Time needed is 0.0021638870239257812 seconds\n"
     ]
    },
    {
     "name": "stderr",
     "output_type": "stream",
     "text": [
      "/Users/paul_reitz/opt/miniconda3/envs/apache_sedona/lib/python3.12/site-packages/pynndescent/pynndescent_.py:939: UserWarning: Failed to correctly find n_neighbors for some samples. Results may be less than ideal. Try re-running with different parameters.\n",
      "  warn(\n"
     ]
    },
    {
     "name": "stdout",
     "output_type": "stream",
     "text": [
      "7972173.840017851\n",
      "# iters:   48. Rel primal: 4.1794e-06 Rel dual: 9.1779e-06  OBJ 3.392e+03\n",
      "Time needed is 0.0019261837005615234 seconds\n"
     ]
    },
    {
     "name": "stderr",
     "output_type": "stream",
     "text": [
      "/Users/paul_reitz/opt/miniconda3/envs/apache_sedona/lib/python3.12/site-packages/pynndescent/pynndescent_.py:939: UserWarning: Failed to correctly find n_neighbors for some samples. Results may be less than ideal. Try re-running with different parameters.\n",
      "  warn(\n"
     ]
    },
    {
     "name": "stdout",
     "output_type": "stream",
     "text": [
      "8666666.67558253\n",
      "# iters:   48. Rel primal: 4.0006e-06 Rel dual: 7.7208e-06  OBJ 1.871e+03\n",
      "Time needed is 0.002168893814086914 seconds\n"
     ]
    },
    {
     "name": "stderr",
     "output_type": "stream",
     "text": [
      "/Users/paul_reitz/opt/miniconda3/envs/apache_sedona/lib/python3.12/site-packages/pynndescent/pynndescent_.py:939: UserWarning: Failed to correctly find n_neighbors for some samples. Results may be less than ideal. Try re-running with different parameters.\n",
      "  warn(\n"
     ]
    },
    {
     "name": "stdout",
     "output_type": "stream",
     "text": [
      "7972173.840000483\n",
      "# iters:   48. Rel primal: 3.9285e-06 Rel dual: 9.4477e-06  OBJ 3.517e+03\n",
      "Time needed is 0.002131938934326172 seconds\n"
     ]
    },
    {
     "name": "stderr",
     "output_type": "stream",
     "text": [
      "/Users/paul_reitz/opt/miniconda3/envs/apache_sedona/lib/python3.12/site-packages/pynndescent/pynndescent_.py:939: UserWarning: Failed to correctly find n_neighbors for some samples. Results may be less than ideal. Try re-running with different parameters.\n",
      "  warn(\n"
     ]
    },
    {
     "name": "stdout",
     "output_type": "stream",
     "text": [
      "8666666.675413875\n",
      "# iters:   48. Rel primal: 3.9811e-06 Rel dual: 7.7601e-06  OBJ 1.895e+03\n",
      "Time needed is 0.00197601318359375 seconds\n"
     ]
    },
    {
     "name": "stderr",
     "output_type": "stream",
     "text": [
      "/Users/paul_reitz/opt/miniconda3/envs/apache_sedona/lib/python3.12/site-packages/pynndescent/pynndescent_.py:939: UserWarning: Failed to correctly find n_neighbors for some samples. Results may be less than ideal. Try re-running with different parameters.\n",
      "  warn(\n"
     ]
    },
    {
     "name": "stdout",
     "output_type": "stream",
     "text": [
      "7972173.840017851\n",
      "# iters:   48. Rel primal: 4.1794e-06 Rel dual: 9.1779e-06  OBJ 3.392e+03\n",
      "Time needed is 0.0017380714416503906 seconds\n"
     ]
    },
    {
     "name": "stderr",
     "output_type": "stream",
     "text": [
      "/Users/paul_reitz/opt/miniconda3/envs/apache_sedona/lib/python3.12/site-packages/pynndescent/pynndescent_.py:939: UserWarning: Failed to correctly find n_neighbors for some samples. Results may be less than ideal. Try re-running with different parameters.\n",
      "  warn(\n"
     ]
    },
    {
     "name": "stdout",
     "output_type": "stream",
     "text": [
      "8666666.67558253\n",
      "# iters:   48. Rel primal: 4.0006e-06 Rel dual: 7.7208e-06  OBJ 1.871e+03\n",
      "Time needed is 0.0022461414337158203 seconds\n"
     ]
    },
    {
     "name": "stderr",
     "output_type": "stream",
     "text": [
      "/Users/paul_reitz/opt/miniconda3/envs/apache_sedona/lib/python3.12/site-packages/pynndescent/pynndescent_.py:939: UserWarning: Failed to correctly find n_neighbors for some samples. Results may be less than ideal. Try re-running with different parameters.\n",
      "  warn(\n"
     ]
    },
    {
     "name": "stdout",
     "output_type": "stream",
     "text": [
      "7972173.840000483\n",
      "# iters:   48. Rel primal: 3.9285e-06 Rel dual: 9.4477e-06  OBJ 3.517e+03\n",
      "Time needed is 0.0017652511596679688 seconds\n"
     ]
    },
    {
     "name": "stderr",
     "output_type": "stream",
     "text": [
      "/Users/paul_reitz/opt/miniconda3/envs/apache_sedona/lib/python3.12/site-packages/pynndescent/pynndescent_.py:939: UserWarning: Failed to correctly find n_neighbors for some samples. Results may be less than ideal. Try re-running with different parameters.\n",
      "  warn(\n"
     ]
    },
    {
     "name": "stdout",
     "output_type": "stream",
     "text": [
      "8666666.675413875\n",
      "# iters:   48. Rel primal: 3.9811e-06 Rel dual: 7.7601e-06  OBJ 1.895e+03\n",
      "Time needed is 0.0019290447235107422 seconds\n"
     ]
    },
    {
     "name": "stderr",
     "output_type": "stream",
     "text": [
      "/Users/paul_reitz/opt/miniconda3/envs/apache_sedona/lib/python3.12/site-packages/pynndescent/pynndescent_.py:939: UserWarning: Failed to correctly find n_neighbors for some samples. Results may be less than ideal. Try re-running with different parameters.\n",
      "  warn(\n"
     ]
    },
    {
     "name": "stdout",
     "output_type": "stream",
     "text": [
      "7972173.840017851\n",
      "# iters:   48. Rel primal: 4.1794e-06 Rel dual: 9.1779e-06  OBJ 3.392e+03\n",
      "Time needed is 0.001995086669921875 seconds\n"
     ]
    },
    {
     "name": "stderr",
     "output_type": "stream",
     "text": [
      "/Users/paul_reitz/opt/miniconda3/envs/apache_sedona/lib/python3.12/site-packages/pynndescent/pynndescent_.py:939: UserWarning: Failed to correctly find n_neighbors for some samples. Results may be less than ideal. Try re-running with different parameters.\n",
      "  warn(\n"
     ]
    },
    {
     "name": "stdout",
     "output_type": "stream",
     "text": [
      "8666666.67558253\n",
      "# iters:   48. Rel primal: 4.0006e-06 Rel dual: 7.7208e-06  OBJ 1.871e+03\n",
      "Time needed is 0.002039194107055664 seconds\n"
     ]
    },
    {
     "name": "stderr",
     "output_type": "stream",
     "text": [
      "/Users/paul_reitz/opt/miniconda3/envs/apache_sedona/lib/python3.12/site-packages/pynndescent/pynndescent_.py:939: UserWarning: Failed to correctly find n_neighbors for some samples. Results may be less than ideal. Try re-running with different parameters.\n",
      "  warn(\n"
     ]
    },
    {
     "name": "stdout",
     "output_type": "stream",
     "text": [
      "7972173.840000483\n",
      "# iters:   48. Rel primal: 3.9285e-06 Rel dual: 9.4477e-06  OBJ 3.517e+03\n",
      "Time needed is 0.0017499923706054688 seconds\n"
     ]
    },
    {
     "name": "stderr",
     "output_type": "stream",
     "text": [
      "/Users/paul_reitz/opt/miniconda3/envs/apache_sedona/lib/python3.12/site-packages/pynndescent/pynndescent_.py:939: UserWarning: Failed to correctly find n_neighbors for some samples. Results may be less than ideal. Try re-running with different parameters.\n",
      "  warn(\n"
     ]
    },
    {
     "name": "stdout",
     "output_type": "stream",
     "text": [
      "8666666.675413875\n",
      "# iters:   48. Rel primal: 3.9811e-06 Rel dual: 7.7601e-06  OBJ 1.895e+03\n",
      "Time needed is 0.002234220504760742 seconds\n"
     ]
    },
    {
     "name": "stderr",
     "output_type": "stream",
     "text": [
      "/Users/paul_reitz/opt/miniconda3/envs/apache_sedona/lib/python3.12/site-packages/pynndescent/pynndescent_.py:939: UserWarning: Failed to correctly find n_neighbors for some samples. Results may be less than ideal. Try re-running with different parameters.\n",
      "  warn(\n"
     ]
    },
    {
     "name": "stdout",
     "output_type": "stream",
     "text": [
      "7972173.840017851\n",
      "# iters:   48. Rel primal: 4.1794e-06 Rel dual: 9.1779e-06  OBJ 3.392e+03\n",
      "Time needed is 0.0018200874328613281 seconds\n"
     ]
    },
    {
     "name": "stderr",
     "output_type": "stream",
     "text": [
      "/Users/paul_reitz/opt/miniconda3/envs/apache_sedona/lib/python3.12/site-packages/pynndescent/pynndescent_.py:939: UserWarning: Failed to correctly find n_neighbors for some samples. Results may be less than ideal. Try re-running with different parameters.\n",
      "  warn(\n"
     ]
    },
    {
     "name": "stdout",
     "output_type": "stream",
     "text": [
      "8666666.67558253\n",
      "# iters:   48. Rel primal: 4.0006e-06 Rel dual: 7.7208e-06  OBJ 1.871e+03\n",
      "Time needed is 0.0019690990447998047 seconds\n"
     ]
    },
    {
     "name": "stderr",
     "output_type": "stream",
     "text": [
      "/Users/paul_reitz/opt/miniconda3/envs/apache_sedona/lib/python3.12/site-packages/pynndescent/pynndescent_.py:939: UserWarning: Failed to correctly find n_neighbors for some samples. Results may be less than ideal. Try re-running with different parameters.\n",
      "  warn(\n"
     ]
    },
    {
     "name": "stdout",
     "output_type": "stream",
     "text": [
      "7972173.840000483\n",
      "# iters:   48. Rel primal: 3.9285e-06 Rel dual: 9.4477e-06  OBJ 3.517e+03\n",
      "Time needed is 0.0019228458404541016 seconds\n"
     ]
    },
    {
     "name": "stderr",
     "output_type": "stream",
     "text": [
      "/Users/paul_reitz/opt/miniconda3/envs/apache_sedona/lib/python3.12/site-packages/pynndescent/pynndescent_.py:939: UserWarning: Failed to correctly find n_neighbors for some samples. Results may be less than ideal. Try re-running with different parameters.\n",
      "  warn(\n"
     ]
    },
    {
     "name": "stdout",
     "output_type": "stream",
     "text": [
      "8666666.675413875\n",
      "# iters:   48. Rel primal: 3.9811e-06 Rel dual: 7.7601e-06  OBJ 1.895e+03\n",
      "Time needed is 0.0018320083618164062 seconds\n"
     ]
    },
    {
     "name": "stderr",
     "output_type": "stream",
     "text": [
      "/Users/paul_reitz/opt/miniconda3/envs/apache_sedona/lib/python3.12/site-packages/pynndescent/pynndescent_.py:939: UserWarning: Failed to correctly find n_neighbors for some samples. Results may be less than ideal. Try re-running with different parameters.\n",
      "  warn(\n"
     ]
    },
    {
     "name": "stdout",
     "output_type": "stream",
     "text": [
      "7972173.840017851\n",
      "# iters:   48. Rel primal: 4.1794e-06 Rel dual: 9.1779e-06  OBJ 3.392e+03\n",
      "Time needed is 0.001965045928955078 seconds\n"
     ]
    },
    {
     "name": "stderr",
     "output_type": "stream",
     "text": [
      "/Users/paul_reitz/opt/miniconda3/envs/apache_sedona/lib/python3.12/site-packages/pynndescent/pynndescent_.py:939: UserWarning: Failed to correctly find n_neighbors for some samples. Results may be less than ideal. Try re-running with different parameters.\n",
      "  warn(\n"
     ]
    },
    {
     "name": "stdout",
     "output_type": "stream",
     "text": [
      "8666666.67558253\n",
      "# iters:   48. Rel primal: 4.0006e-06 Rel dual: 7.7208e-06  OBJ 1.871e+03\n",
      "Time needed is 0.0021140575408935547 seconds\n"
     ]
    },
    {
     "name": "stderr",
     "output_type": "stream",
     "text": [
      "/Users/paul_reitz/opt/miniconda3/envs/apache_sedona/lib/python3.12/site-packages/pynndescent/pynndescent_.py:939: UserWarning: Failed to correctly find n_neighbors for some samples. Results may be less than ideal. Try re-running with different parameters.\n",
      "  warn(\n"
     ]
    },
    {
     "name": "stdout",
     "output_type": "stream",
     "text": [
      "7972173.840000483\n",
      "# iters:   48. Rel primal: 3.9285e-06 Rel dual: 9.4477e-06  OBJ 3.517e+03\n",
      "Time needed is 0.0022170543670654297 seconds\n"
     ]
    },
    {
     "name": "stderr",
     "output_type": "stream",
     "text": [
      "/Users/paul_reitz/opt/miniconda3/envs/apache_sedona/lib/python3.12/site-packages/pynndescent/pynndescent_.py:939: UserWarning: Failed to correctly find n_neighbors for some samples. Results may be less than ideal. Try re-running with different parameters.\n",
      "  warn(\n"
     ]
    },
    {
     "name": "stdout",
     "output_type": "stream",
     "text": [
      "8666666.675413875\n",
      "# iters:   48. Rel primal: 3.9811e-06 Rel dual: 7.7601e-06  OBJ 1.895e+03\n",
      "Time needed is 0.002042055130004883 seconds\n"
     ]
    },
    {
     "name": "stderr",
     "output_type": "stream",
     "text": [
      "/Users/paul_reitz/opt/miniconda3/envs/apache_sedona/lib/python3.12/site-packages/pynndescent/pynndescent_.py:939: UserWarning: Failed to correctly find n_neighbors for some samples. Results may be less than ideal. Try re-running with different parameters.\n",
      "  warn(\n"
     ]
    },
    {
     "name": "stdout",
     "output_type": "stream",
     "text": [
      "7972173.840017851\n",
      "# iters:   48. Rel primal: 4.1794e-06 Rel dual: 9.1779e-06  OBJ 3.392e+03\n",
      "Time needed is 0.0019981861114501953 seconds\n"
     ]
    },
    {
     "name": "stderr",
     "output_type": "stream",
     "text": [
      "/Users/paul_reitz/opt/miniconda3/envs/apache_sedona/lib/python3.12/site-packages/pynndescent/pynndescent_.py:939: UserWarning: Failed to correctly find n_neighbors for some samples. Results may be less than ideal. Try re-running with different parameters.\n",
      "  warn(\n"
     ]
    },
    {
     "name": "stdout",
     "output_type": "stream",
     "text": [
      "8666666.67558253\n",
      "# iters:   48. Rel primal: 4.0006e-06 Rel dual: 7.7208e-06  OBJ 1.871e+03\n",
      "Time needed is 0.0019989013671875 seconds\n"
     ]
    },
    {
     "name": "stderr",
     "output_type": "stream",
     "text": [
      "/Users/paul_reitz/opt/miniconda3/envs/apache_sedona/lib/python3.12/site-packages/pynndescent/pynndescent_.py:939: UserWarning: Failed to correctly find n_neighbors for some samples. Results may be less than ideal. Try re-running with different parameters.\n",
      "  warn(\n"
     ]
    },
    {
     "name": "stdout",
     "output_type": "stream",
     "text": [
      "7972173.840000483\n",
      "# iters:   48. Rel primal: 3.9285e-06 Rel dual: 9.4477e-06  OBJ 3.517e+03\n",
      "Time needed is 0.0028159618377685547 seconds\n"
     ]
    },
    {
     "name": "stderr",
     "output_type": "stream",
     "text": [
      "/Users/paul_reitz/opt/miniconda3/envs/apache_sedona/lib/python3.12/site-packages/pynndescent/pynndescent_.py:939: UserWarning: Failed to correctly find n_neighbors for some samples. Results may be less than ideal. Try re-running with different parameters.\n",
      "  warn(\n"
     ]
    },
    {
     "name": "stdout",
     "output_type": "stream",
     "text": [
      "8666666.675413875\n",
      "# iters:   48. Rel primal: 3.9811e-06 Rel dual: 7.7601e-06  OBJ 1.895e+03\n",
      "Time needed is 0.0020952224731445312 seconds\n"
     ]
    },
    {
     "name": "stderr",
     "output_type": "stream",
     "text": [
      "/Users/paul_reitz/opt/miniconda3/envs/apache_sedona/lib/python3.12/site-packages/pynndescent/pynndescent_.py:939: UserWarning: Failed to correctly find n_neighbors for some samples. Results may be less than ideal. Try re-running with different parameters.\n",
      "  warn(\n"
     ]
    },
    {
     "name": "stdout",
     "output_type": "stream",
     "text": [
      "7972173.840017851\n",
      "# iters:   48. Rel primal: 4.1794e-06 Rel dual: 9.1779e-06  OBJ 3.392e+03\n",
      "Time needed is 0.0017609596252441406 seconds\n"
     ]
    },
    {
     "name": "stderr",
     "output_type": "stream",
     "text": [
      "/Users/paul_reitz/opt/miniconda3/envs/apache_sedona/lib/python3.12/site-packages/pynndescent/pynndescent_.py:939: UserWarning: Failed to correctly find n_neighbors for some samples. Results may be less than ideal. Try re-running with different parameters.\n",
      "  warn(\n"
     ]
    },
    {
     "name": "stdout",
     "output_type": "stream",
     "text": [
      "8666666.67558253\n",
      "# iters:   48. Rel primal: 4.0006e-06 Rel dual: 7.7208e-06  OBJ 1.871e+03\n",
      "Time needed is 0.001954793930053711 seconds\n"
     ]
    },
    {
     "name": "stderr",
     "output_type": "stream",
     "text": [
      "/Users/paul_reitz/opt/miniconda3/envs/apache_sedona/lib/python3.12/site-packages/pynndescent/pynndescent_.py:939: UserWarning: Failed to correctly find n_neighbors for some samples. Results may be less than ideal. Try re-running with different parameters.\n",
      "  warn(\n"
     ]
    },
    {
     "name": "stdout",
     "output_type": "stream",
     "text": [
      "7972173.840000483\n",
      "# iters:   48. Rel primal: 3.9285e-06 Rel dual: 9.4477e-06  OBJ 3.517e+03\n",
      "Time needed is 0.0019750595092773438 seconds\n"
     ]
    },
    {
     "name": "stderr",
     "output_type": "stream",
     "text": [
      "/Users/paul_reitz/opt/miniconda3/envs/apache_sedona/lib/python3.12/site-packages/pynndescent/pynndescent_.py:939: UserWarning: Failed to correctly find n_neighbors for some samples. Results may be less than ideal. Try re-running with different parameters.\n",
      "  warn(\n"
     ]
    },
    {
     "name": "stdout",
     "output_type": "stream",
     "text": [
      "8666666.675413875\n",
      "# iters:   48. Rel primal: 3.9811e-06 Rel dual: 7.7601e-06  OBJ 1.895e+03\n",
      "Time needed is 0.0017421245574951172 seconds\n"
     ]
    },
    {
     "name": "stderr",
     "output_type": "stream",
     "text": [
      "/Users/paul_reitz/opt/miniconda3/envs/apache_sedona/lib/python3.12/site-packages/pynndescent/pynndescent_.py:939: UserWarning: Failed to correctly find n_neighbors for some samples. Results may be less than ideal. Try re-running with different parameters.\n",
      "  warn(\n"
     ]
    },
    {
     "name": "stdout",
     "output_type": "stream",
     "text": [
      "7972173.840017851\n",
      "# iters:   48. Rel primal: 4.1794e-06 Rel dual: 9.1779e-06  OBJ 3.392e+03\n",
      "Time needed is 0.0017049312591552734 seconds\n",
      "Training done\n",
      "sum(gamma_hats,1): [74.11097371 75.88902629]\n",
      "Identify: [1 0]\n",
      "Precision: [[0.71428571]\n",
      " [0.44067797]]\n",
      "Recall: [[0.5625    ]\n",
      " [0.38235294]]\n",
      "F-measure: [[0.62937063]\n",
      " [0.40944882]]\n",
      "Cluster Errors: [0.00803498 0.00803498]\n",
      "NMI Scores: [0.01585769 0.20078225]\n",
      "Number of edges: [63. 59.]\n",
      "\n",
      "Are all elements in each row of gamma_hats summing to 1: True\n"
     ]
    }
   ],
   "source": [
    "\n",
    "\n",
    "\n",
    "# Example parameters\n",
    "n = 15  # graph size\n",
    "m = 150 # number of signals\n",
    "k = 2   # number of clusters\n",
    "zero_thresh = 10e-4\n",
    "p = np.linspace(0, 1, k+1)  # p = 0:1/k:1 in MATLAB\n",
    "print(p)\n",
    "\n",
    "# Generate graphs as MATLAB does\n",
    "g = []\n",
    "for i in range(k):\n",
    "    g.append(generate_connected_graph(n, 0.7, zero_thresh, maxit=10, verbose=2))\n",
    "\n",
    "# Generate gamma and gamma_cut\n",
    "gamma = np.random.rand(m, 1)  # gamma = rand([m,1]) in MATLAB\n",
    "gamma_cut = np.zeros((m, k))\n",
    "\n",
    "dist = 0.5\n",
    "y = np.zeros((m, n))\n",
    "true_y = np.zeros((m, n, k))\n",
    "center = np.zeros((n, k))\n",
    "gauss = np.zeros((n, n, k))\n",
    "Lap = np.zeros((n, n, k))\n",
    "\n",
    "for i in range(k):\n",
    "    # In MATLAB: gc = pinv(full(g(i).L));\n",
    "    # We have g[i] as a dict, use g[i]['L']\n",
    "    L_mat = g[i]['L']\n",
    "    gc = np.linalg.pinv(L_mat)\n",
    "    gauss[:, :, i] = (gc + gc.T)/2\n",
    "    Lap[:, :, i] = L_mat\n",
    "\n",
    "    c = dist * np.random.randn(n)\n",
    "    c = c - np.mean(c)\n",
    "    center[:, i] = c\n",
    "\n",
    "    # gamma_cut(p(i)<gamma & gamma<=p(i+1), i) = 1;\n",
    "    mask = (gamma[:, 0] > p[i]) & (gamma[:, 0] <= p[i+1])\n",
    "    gamma_cut[mask, i] = 1\n",
    "\n",
    "    samples = np.random.multivariate_normal(center[:, i], gauss[:, :, i], m)\n",
    "    samples = gamma_cut[:, i][:, np.newaxis] * samples\n",
    "    true_y[:, :, i] = samples\n",
    "    y += samples\n",
    "\n",
    "# Now we train glmm on data y\n",
    "# Assuming glmm function is defined and returns (Ls, gamma_hats, mus, log_likelihood)\n",
    "avg_nr_edges = 5\n",
    "iterations = 200\n",
    "Ls, gamma_hats, mus, log_likelihood = glmm(y, iterations, k, avg_nr_edges, spread=0.1, regul=0.15, norm_par=1.5, alpha=None)\n",
    "print('Training done')\n",
    "\n",
    "print(\"sum(gamma_hats,1):\", np.sum(gamma_hats, axis=0))\n",
    "\n",
    "# If identify_and_compare returns (identify, precision, recall, f, cl_errors)\n",
    "identify, precision, recall, f, cl_errors ,  NMI_scores, num_of_edges_arr = identify_and_compare(Ls, Lap, gamma_hats, gamma_cut, k)\n",
    "\n",
    "print(\"Identify:\", identify)\n",
    "print(\"Precision:\", precision)\n",
    "print(\"Recall:\", recall)\n",
    "print(\"F-measure:\", f)\n",
    "print(\"Cluster Errors:\", cl_errors)\n",
    "print(\"NMI Scores:\", NMI_scores)\n",
    "print(\"Number of edges:\", num_of_edges_arr)\n",
    "\n",
    "summed_gamma_hats = np.sum(gamma_hats, axis=1)\n",
    "are_all_elements_one = np.allclose(summed_gamma_hats, 1.0, atol=1e-8)\n",
    "print(\"\\nAre all elements in each row of gamma_hats summing to 1:\", are_all_elements_one)\n"
   ]
  },
  {
   "cell_type": "code",
   "execution_count": 11,
   "metadata": {},
   "outputs": [
    {
     "ename": "NameError",
     "evalue": "name 'identify' is not defined",
     "output_type": "error",
     "traceback": [
      "\u001b[0;31m---------------------------------------------------------------------------\u001b[0m",
      "\u001b[0;31mNameError\u001b[0m                                 Traceback (most recent call last)",
      "Cell \u001b[0;32mIn[11], line 1\u001b[0m\n\u001b[0;32m----> 1\u001b[0m \u001b[38;5;28mprint\u001b[39m(\u001b[38;5;124m\"\u001b[39m\u001b[38;5;124mIdentify:\u001b[39m\u001b[38;5;124m\"\u001b[39m, \u001b[43midentify\u001b[49m)\n\u001b[1;32m      2\u001b[0m \u001b[38;5;28mprint\u001b[39m(\u001b[38;5;124m\"\u001b[39m\u001b[38;5;124mPrecision:\u001b[39m\u001b[38;5;124m\"\u001b[39m, precision)\n\u001b[1;32m      3\u001b[0m \u001b[38;5;28mprint\u001b[39m(\u001b[38;5;124m\"\u001b[39m\u001b[38;5;124mRecall:\u001b[39m\u001b[38;5;124m\"\u001b[39m, recall)\n",
      "\u001b[0;31mNameError\u001b[0m: name 'identify' is not defined"
     ]
    }
   ],
   "source": [
    "print(\"Identify:\", identify)\n",
    "print(\"Precision:\", precision)\n",
    "print(\"Recall:\", recall)\n",
    "print(\"F-measure:\", f)\n",
    "print(\"Cluster Errors:\", cl_errors)\n",
    "print(\"NMI Scores:\", NMI_scores)\n",
    "print(\"Number of edges:\", num_of_edges_arr)\n",
    "\n",
    "summed_gamma_hats = np.sum(gamma_hats, axis=1)\n",
    "are_all_elements_one = np.allclose(summed_gamma_hats, 1.0, atol=1e-8)\n",
    "print(\"\\nAre all elements in each row of gamma_hats summing to 1:\", are_all_elements_one)"
   ]
  },
  {
   "cell_type": "code",
   "execution_count": null,
   "metadata": {},
   "outputs": [
    {
     "ename": "TypeError",
     "evalue": "glmm() missing 1 required positional argument: 'avg_nr_edges'",
     "output_type": "error",
     "traceback": [
      "\u001b[0;31m---------------------------------------------------------------------------\u001b[0m",
      "\u001b[0;31mTypeError\u001b[0m                                 Traceback (most recent call last)",
      "Cell \u001b[0;32mIn[10], line 39\u001b[0m\n\u001b[1;32m     37\u001b[0m \u001b[38;5;66;03m# Now train glmm on data y\u001b[39;00m\n\u001b[1;32m     38\u001b[0m iterations \u001b[38;5;241m=\u001b[39m \u001b[38;5;241m200\u001b[39m\n\u001b[0;32m---> 39\u001b[0m Ls, gamma_hats, mus, log_likelihood \u001b[38;5;241m=\u001b[39m \u001b[43mglmm\u001b[49m\u001b[43m(\u001b[49m\u001b[43my\u001b[49m\u001b[43m,\u001b[49m\u001b[43m \u001b[49m\u001b[43miterations\u001b[49m\u001b[43m,\u001b[49m\u001b[43m \u001b[49m\u001b[43mk\u001b[49m\u001b[43m,\u001b[49m\u001b[43m \u001b[49m\u001b[43mspread\u001b[49m\u001b[38;5;241;43m=\u001b[39;49m\u001b[38;5;241;43m0.1\u001b[39;49m\u001b[43m,\u001b[49m\u001b[43m \u001b[49m\u001b[43mregul\u001b[49m\u001b[38;5;241;43m=\u001b[39;49m\u001b[38;5;241;43m0.15\u001b[39;49m\u001b[43m,\u001b[49m\u001b[43m \u001b[49m\u001b[43mnorm_par\u001b[49m\u001b[38;5;241;43m=\u001b[39;49m\u001b[38;5;241;43m1.5\u001b[39;49m\u001b[43m,\u001b[49m\u001b[43m \u001b[49m\u001b[43malpha\u001b[49m\u001b[38;5;241;43m=\u001b[39;49m\u001b[38;5;28;43;01mNone\u001b[39;49;00m\u001b[43m)\u001b[49m\n\u001b[1;32m     40\u001b[0m \u001b[38;5;28mprint\u001b[39m(\u001b[38;5;124m'\u001b[39m\u001b[38;5;124mTraining done\u001b[39m\u001b[38;5;124m'\u001b[39m)\n\u001b[1;32m     41\u001b[0m \u001b[38;5;28mprint\u001b[39m(\u001b[38;5;124m\"\u001b[39m\u001b[38;5;124msum(gamma_hats,1):\u001b[39m\u001b[38;5;124m\"\u001b[39m, np\u001b[38;5;241m.\u001b[39msum(gamma_hats, axis\u001b[38;5;241m=\u001b[39m\u001b[38;5;241m0\u001b[39m))\n",
      "\u001b[0;31mTypeError\u001b[0m: glmm() missing 1 required positional argument: 'avg_nr_edges'"
     ]
    }
   ],
   "source": [
    "\n",
    "\n",
    "# Parameters\n",
    "n = 15  # graph size\n",
    "m = 150 # number of signals\n",
    "k = 2   # number of clusters\n",
    "zero_thresh = 1e-4  \n",
    "\n",
    "g = []\n",
    "for i in range(k):\n",
    "    g.append(generate_connected_graph(n, 0.7, zero_thresh, maxit=10, verbose=1))\n",
    "\n",
    "gamma = np.random.rand(m, 1) \n",
    "gamma_cut = np.zeros((m, k))\n",
    "dist = 0.5\n",
    "p = np.linspace(0, 1, k+1)\n",
    "y = np.zeros((m, n))\n",
    "true_y = np.zeros((m, n, k))\n",
    "center = np.zeros((n, k))\n",
    "gauss = np.zeros((n, n, k))\n",
    "Lap = np.zeros((n, n, k))\n",
    "\n",
    "for i in range(k):\n",
    "    L_mat = g[i]['L']\n",
    "    gc = np.linalg.pinv(L_mat)\n",
    "    gauss[:, :, i] = (gc + gc.T) / 2\n",
    "    Lap[:, :, i] = L_mat\n",
    "    c = dist * np.random.randn(n)\n",
    "    c = c - np.mean(c)\n",
    "    center[:, i] = c\n",
    "    mask = (gamma[:, 0] > p[i]) & (gamma[:, 0] <= p[i+1])\n",
    "    gamma_cut[mask, i] = 1\n",
    "    samples = np.random.multivariate_normal(center[:, i], gauss[:, :, i], m)\n",
    "    # Multiply each row by gamma_cut[:,i]\n",
    "    samples = gamma_cut[:, i][:, np.newaxis] * samples\n",
    "    true_y[:, :, i] = samples\n",
    "    y += samples\n",
    "\n",
    "# Now train glmm on data y\n",
    "iterations = 200\n",
    "Ls, gamma_hats, mus, log_likelihood = glmm(y, iterations, k, spread=0.1, regul=0.15, norm_par=1.5, alpha=None)\n",
    "print('Training done')\n",
    "print(\"sum(gamma_hats,1):\", np.sum(gamma_hats, axis=0))\n",
    "\n",
    "identify, precision, recall, f, cl_errors, NMI_scores, num_of_edges_arr = identify_and_compare(Ls, Lap, gamma_hats, gamma_cut, k)\n",
    "\n",
    "print(\"Identify:\", identify)\n",
    "print(\"Precision:\", precision)\n",
    "print(\"Recall:\", recall)\n",
    "print(\"F-measure:\", f)\n",
    "print(\"Cluster Errors:\", cl_errors)\n",
    "print(\"NMI Scores:\", NMI_scores)\n",
    "print(\"Number of edges:\", num_of_edges_arr)\n",
    "\n",
    "summed_gamma_hats = np.sum(gamma_hats, axis=1)\n",
    "are_all_elements_one = np.allclose(summed_gamma_hats, 1.0, atol=1e-8)\n",
    "print(\"\\nAre all elements in each row of gamma_hats summing to 1:\", are_all_elements_one)\n"
   ]
  },
  {
   "cell_type": "code",
   "execution_count": null,
   "metadata": {},
   "outputs": [
    {
     "name": "stdout",
     "output_type": "stream",
     "text": [
      "# iters:   97. Rel primal: 9.5838e-06 Rel dual: 3.4506e-06  OBJ 1.500e+01\n",
      "Time needed is 0.02560281753540039 seconds\n",
      "# iters:   98. Rel primal: 9.5655e-06 Rel dual: 2.7603e-06  OBJ 1.415e+01\n",
      "Time needed is 0.008249044418334961 seconds\n",
      "# iters:  106. Rel primal: 9.1393e-06 Rel dual: 1.9620e-06  OBJ 1.537e+01\n",
      "Time needed is 0.0055599212646484375 seconds\n",
      "# iters:   92. Rel primal: 9.7356e-06 Rel dual: 9.8120e-06  OBJ 1.437e+01\n",
      "Time needed is 0.004853010177612305 seconds\n",
      "# iters:  107. Rel primal: 9.0082e-06 Rel dual: 2.7974e-06  OBJ 1.575e+01\n",
      "Time needed is 0.0041658878326416016 seconds\n",
      "# iters:  110. Rel primal: 9.1817e-06 Rel dual: 1.5878e-06  OBJ 1.508e+01\n",
      "Time needed is 0.008427858352661133 seconds\n",
      "# iters:  116. Rel primal: 9.5126e-06 Rel dual: 1.7685e-06  OBJ 1.616e+01\n",
      "Time needed is 0.0052149295806884766 seconds\n",
      "# iters:  112. Rel primal: 9.9245e-06 Rel dual: 2.2498e-06  OBJ 1.570e+01\n",
      "Time needed is 0.004464149475097656 seconds\n",
      "# iters:  120. Rel primal: 9.8291e-06 Rel dual: 2.1313e-06  OBJ 1.654e+01\n",
      "Time needed is 0.010113000869750977 seconds\n",
      "# iters:  116. Rel primal: 9.3877e-06 Rel dual: 2.1144e-06  OBJ 1.603e+01\n",
      "Time needed is 0.00722193717956543 seconds\n",
      "# iters:  124. Rel primal: 9.8912e-06 Rel dual: 1.9464e-06  OBJ 1.681e+01\n",
      "Time needed is 0.007236957550048828 seconds\n",
      "# iters:  117. Rel primal: 9.9004e-06 Rel dual: 2.4841e-06  OBJ 1.614e+01\n",
      "Time needed is 0.008647918701171875 seconds\n",
      "# iters:  121. Rel primal: 9.4862e-06 Rel dual: 1.4545e-06  OBJ 1.696e+01\n",
      "Time needed is 0.00967097282409668 seconds\n",
      "# iters:  116. Rel primal: 9.8529e-06 Rel dual: 3.0364e-06  OBJ 1.606e+01\n",
      "Time needed is 0.004784107208251953 seconds\n",
      "# iters:  123. Rel primal: 9.5984e-06 Rel dual: 2.0941e-06  OBJ 1.696e+01\n",
      "Time needed is 0.008665084838867188 seconds\n",
      "# iters:  110. Rel primal: 9.8044e-06 Rel dual: 4.7014e-06  OBJ 1.587e+01\n",
      "Time needed is 0.005791187286376953 seconds\n",
      "# iters:  126. Rel primal: 9.3354e-06 Rel dual: 1.9866e-06  OBJ 1.680e+01\n",
      "Time needed is 0.007641315460205078 seconds\n",
      "# iters:  109. Rel primal: 9.9359e-06 Rel dual: 4.0285e-06  OBJ 1.560e+01\n",
      "Time needed is 0.004924297332763672 seconds\n",
      "# iters:  125. Rel primal: 9.6527e-06 Rel dual: 2.0114e-06  OBJ 1.681e+01\n",
      "Time needed is 0.00472712516784668 seconds\n",
      "# iters:  108. Rel primal: 9.6224e-06 Rel dual: 5.2378e-06  OBJ 1.506e+01\n",
      "Time needed is 0.004801034927368164 seconds\n",
      "# iters:  124. Rel primal: 9.6061e-06 Rel dual: 1.9502e-06  OBJ 1.677e+01\n",
      "Time needed is 0.004648923873901367 seconds\n",
      "# iters:  109. Rel primal: 9.7429e-06 Rel dual: 4.9583e-06  OBJ 1.506e+01\n",
      "Time needed is 0.010604143142700195 seconds\n",
      "# iters:  124. Rel primal: 9.3712e-06 Rel dual: 1.9222e-06  OBJ 1.679e+01\n",
      "Time needed is 0.006556987762451172 seconds\n",
      "# iters:  110. Rel primal: 9.7002e-06 Rel dual: 4.2966e-06  OBJ 1.510e+01\n",
      "Time needed is 0.005975961685180664 seconds\n",
      "# iters:  124. Rel primal: 9.6384e-06 Rel dual: 2.1277e-06  OBJ 1.686e+01\n",
      "Time needed is 0.004970073699951172 seconds\n",
      "# iters:  111. Rel primal: 9.8912e-06 Rel dual: 3.7744e-06  OBJ 1.515e+01\n",
      "Time needed is 0.004117012023925781 seconds\n",
      "# iters:  120. Rel primal: 9.9950e-06 Rel dual: 1.5562e-06  OBJ 1.693e+01\n",
      "Time needed is 0.004756927490234375 seconds\n",
      "# iters:  112. Rel primal: 9.8003e-06 Rel dual: 2.6999e-06  OBJ 1.520e+01\n",
      "Time needed is 0.005514860153198242 seconds\n",
      "# iters:  121. Rel primal: 9.5988e-06 Rel dual: 1.5278e-06  OBJ 1.696e+01\n",
      "Time needed is 0.004887819290161133 seconds\n",
      "# iters:  123. Rel primal: 8.9235e-06 Rel dual: 6.8746e-07  OBJ 1.523e+01\n",
      "Time needed is 0.004640817642211914 seconds\n",
      "# iters:  122. Rel primal: 9.6713e-06 Rel dual: 1.4024e-06  OBJ 1.697e+01\n",
      "Time needed is 0.004728078842163086 seconds\n",
      "# iters:  123. Rel primal: 9.7667e-06 Rel dual: 8.3779e-07  OBJ 1.526e+01\n",
      "Time needed is 0.006446123123168945 seconds\n",
      "# iters:  123. Rel primal: 9.7955e-06 Rel dual: 1.2762e-06  OBJ 1.698e+01\n",
      "Time needed is 0.007204771041870117 seconds\n",
      "# iters:  124. Rel primal: 8.9109e-06 Rel dual: 4.4230e-07  OBJ 1.528e+01\n",
      "Time needed is 0.004631757736206055 seconds\n",
      "# iters:  124. Rel primal: 9.8333e-06 Rel dual: 1.2487e-06  OBJ 1.697e+01\n",
      "Time needed is 0.004791736602783203 seconds\n",
      "# iters:  124. Rel primal: 9.3863e-06 Rel dual: 4.4554e-07  OBJ 1.528e+01\n",
      "Time needed is 0.004557132720947266 seconds\n",
      "# iters:  124. Rel primal: 9.8265e-06 Rel dual: 1.6619e-06  OBJ 1.697e+01\n",
      "Time needed is 0.0069789886474609375 seconds\n",
      "# iters:  124. Rel primal: 9.4293e-06 Rel dual: 4.3633e-07  OBJ 1.526e+01\n",
      "Time needed is 0.004598855972290039 seconds\n",
      "# iters:  141. Rel primal: 9.5193e-06 Rel dual: 3.1574e-06  OBJ 1.709e+01\n",
      "Time needed is 0.006136178970336914 seconds\n",
      "# iters:  114. Rel primal: 9.7546e-06 Rel dual: 9.7751e-07  OBJ 1.448e+01\n",
      "Time needed is 0.004472970962524414 seconds\n",
      "# iters:  138. Rel primal: 9.5782e-06 Rel dual: 3.1228e-06  OBJ 1.699e+01\n",
      "Time needed is 0.007456064224243164 seconds\n",
      "# iters:  115. Rel primal: 9.5607e-06 Rel dual: 2.0210e-06  OBJ 1.463e+01\n",
      "Time needed is 0.00811910629272461 seconds\n",
      "# iters:  136. Rel primal: 9.9311e-06 Rel dual: 3.2344e-06  OBJ 1.700e+01\n",
      "Time needed is 0.005894899368286133 seconds\n",
      "# iters:  112. Rel primal: 8.8477e-06 Rel dual: 1.1857e-06  OBJ 1.415e+01\n",
      "Time needed is 0.004273176193237305 seconds\n",
      "# iters:  137. Rel primal: 9.4384e-06 Rel dual: 3.1387e-06  OBJ 1.692e+01\n",
      "Time needed is 0.005430936813354492 seconds\n",
      "# iters:  108. Rel primal: 8.5701e-06 Rel dual: 1.6305e-06  OBJ 1.391e+01\n",
      "Time needed is 0.004168987274169922 seconds\n",
      "# iters:  135. Rel primal: 9.8589e-06 Rel dual: 3.2151e-06  OBJ 1.690e+01\n",
      "Time needed is 0.0052738189697265625 seconds\n",
      "# iters:  111. Rel primal: 9.9649e-06 Rel dual: 1.0258e-06  OBJ 1.413e+01\n",
      "Time needed is 0.004364013671875 seconds\n",
      "# iters:  137. Rel primal: 9.6455e-06 Rel dual: 3.2213e-06  OBJ 1.690e+01\n",
      "Time needed is 0.005361795425415039 seconds\n",
      "# iters:  109. Rel primal: 9.3649e-06 Rel dual: 1.4543e-06  OBJ 1.390e+01\n",
      "Time needed is 0.00402522087097168 seconds\n",
      "# iters:  138. Rel primal: 9.8063e-06 Rel dual: 3.3506e-06  OBJ 1.683e+01\n",
      "Time needed is 0.04221987724304199 seconds\n",
      "# iters:  105. Rel primal: 9.7287e-06 Rel dual: 3.8476e-06  OBJ 1.381e+01\n",
      "Time needed is 0.016534090042114258 seconds\n",
      "# iters:  139. Rel primal: 9.7817e-06 Rel dual: 3.3303e-06  OBJ 1.690e+01\n",
      "Time needed is 0.013398885726928711 seconds\n",
      "# iters:  109. Rel primal: 9.8303e-06 Rel dual: 1.4179e-06  OBJ 1.402e+01\n",
      "Time needed is 0.00997304916381836 seconds\n",
      "# iters:  141. Rel primal: 9.8007e-06 Rel dual: 3.4209e-06  OBJ 1.685e+01\n",
      "Time needed is 0.030282974243164062 seconds\n",
      "# iters:  103. Rel primal: 9.5902e-06 Rel dual: 4.0549e-06  OBJ 1.385e+01\n",
      "Time needed is 0.017461061477661133 seconds\n",
      "# iters:  142. Rel primal: 9.5107e-06 Rel dual: 3.2816e-06  OBJ 1.688e+01\n",
      "Time needed is 0.01133584976196289 seconds\n",
      "# iters:  109. Rel primal: 9.3472e-06 Rel dual: 1.3937e-06  OBJ 1.401e+01\n",
      "Time needed is 0.01857900619506836 seconds\n",
      "# iters:  143. Rel primal: 9.4672e-06 Rel dual: 3.2338e-06  OBJ 1.698e+01\n",
      "Time needed is 0.08981204032897949 seconds\n",
      "# iters:  110. Rel primal: 8.6123e-06 Rel dual: 1.1735e-06  OBJ 1.417e+01\n",
      "Time needed is 0.007648944854736328 seconds\n",
      "# iters:  144. Rel primal: 9.5289e-06 Rel dual: 3.2398e-06  OBJ 1.707e+01\n",
      "Time needed is 0.010482072830200195 seconds\n",
      "# iters:  110. Rel primal: 9.2657e-06 Rel dual: 1.1285e-06  OBJ 1.432e+01\n",
      "Time needed is 0.005688190460205078 seconds\n",
      "# iters:  143. Rel primal: 9.9402e-06 Rel dual: 3.4213e-06  OBJ 1.703e+01\n",
      "Time needed is 0.009518146514892578 seconds\n",
      "# iters:  108. Rel primal: 9.4277e-06 Rel dual: 1.3418e-06  OBJ 1.400e+01\n",
      "Time needed is 0.017924785614013672 seconds\n",
      "# iters:  143. Rel primal: 9.7380e-06 Rel dual: 3.3197e-06  OBJ 1.703e+01\n",
      "Time needed is 0.009613990783691406 seconds\n",
      "# iters:  109. Rel primal: 9.3404e-06 Rel dual: 1.2305e-06  OBJ 1.416e+01\n",
      "Time needed is 0.0107269287109375 seconds\n",
      "# iters:  143. Rel primal: 9.8480e-06 Rel dual: 3.4039e-06  OBJ 1.698e+01\n",
      "Time needed is 0.00711512565612793 seconds\n",
      "# iters:  107. Rel primal: 9.3923e-06 Rel dual: 1.2257e-06  OBJ 1.393e+01\n",
      "Time needed is 0.004027843475341797 seconds\n",
      "# iters:  143. Rel primal: 9.5724e-06 Rel dual: 3.2713e-06  OBJ 1.699e+01\n",
      "Time needed is 0.008460044860839844 seconds\n",
      "# iters:  109. Rel primal: 8.8857e-06 Rel dual: 1.2948e-06  OBJ 1.410e+01\n",
      "Time needed is 0.004105091094970703 seconds\n",
      "# iters:  143. Rel primal: 9.7597e-06 Rel dual: 3.3818e-06  OBJ 1.694e+01\n",
      "Time needed is 0.0063478946685791016 seconds\n",
      "# iters:  106. Rel primal: 9.2723e-06 Rel dual: 1.2823e-06  OBJ 1.390e+01\n",
      "Time needed is 0.0039179325103759766 seconds\n",
      "# iters:  143. Rel primal: 9.4745e-06 Rel dual: 3.2430e-06  OBJ 1.697e+01\n",
      "Time needed is 0.016502857208251953 seconds\n",
      "# iters:  109. Rel primal: 8.7346e-06 Rel dual: 1.3122e-06  OBJ 1.407e+01\n",
      "Time needed is 0.0041811466217041016 seconds\n",
      "# iters:  143. Rel primal: 9.7100e-06 Rel dual: 3.3704e-06  OBJ 1.693e+01\n",
      "Time needed is 0.005391836166381836 seconds\n",
      "# iters:  106. Rel primal: 8.6309e-06 Rel dual: 1.6301e-06  OBJ 1.389e+01\n",
      "Time needed is 0.013421058654785156 seconds\n",
      "# iters:  143. Rel primal: 9.4666e-06 Rel dual: 3.2466e-06  OBJ 1.695e+01\n",
      "Time needed is 0.020409822463989258 seconds\n",
      "# iters:  109. Rel primal: 8.6813e-06 Rel dual: 1.3158e-06  OBJ 1.406e+01\n",
      "Time needed is 0.01483297348022461 seconds\n",
      "# iters:  143. Rel primal: 9.6824e-06 Rel dual: 3.3646e-06  OBJ 1.691e+01\n",
      "Time needed is 0.006576061248779297 seconds\n",
      "# iters:  106. Rel primal: 8.7996e-06 Rel dual: 1.9109e-06  OBJ 1.388e+01\n",
      "Time needed is 0.005264759063720703 seconds\n",
      "# iters:  143. Rel primal: 9.4640e-06 Rel dual: 3.2496e-06  OBJ 1.695e+01\n",
      "Time needed is 0.008712053298950195 seconds\n",
      "# iters:  109. Rel primal: 8.6657e-06 Rel dual: 1.3142e-06  OBJ 1.405e+01\n",
      "Time needed is 0.004528999328613281 seconds\n",
      "# iters:  143. Rel primal: 9.6665e-06 Rel dual: 3.3617e-06  OBJ 1.690e+01\n",
      "Time needed is 0.009172916412353516 seconds\n",
      "# iters:  106. Rel primal: 9.1859e-06 Rel dual: 1.8592e-06  OBJ 1.387e+01\n",
      "Time needed is 0.006879091262817383 seconds\n",
      "# iters:  143. Rel primal: 9.4639e-06 Rel dual: 3.2521e-06  OBJ 1.694e+01\n",
      "Time needed is 0.016128063201904297 seconds\n",
      "# iters:  109. Rel primal: 8.6628e-06 Rel dual: 1.3115e-06  OBJ 1.405e+01\n",
      "Time needed is 0.0044100284576416016 seconds\n",
      "# iters:  143. Rel primal: 9.6561e-06 Rel dual: 3.3600e-06  OBJ 1.690e+01\n",
      "Time needed is 0.008887052536010742 seconds\n",
      "# iters:  106. Rel primal: 9.1916e-06 Rel dual: 1.8671e-06  OBJ 1.387e+01\n",
      "Time needed is 0.005309104919433594 seconds\n",
      "# iters:  143. Rel primal: 9.4645e-06 Rel dual: 3.2542e-06  OBJ 1.694e+01\n",
      "Time needed is 0.005914926528930664 seconds\n",
      "# iters:  109. Rel primal: 8.6644e-06 Rel dual: 1.3086e-06  OBJ 1.404e+01\n",
      "Time needed is 0.009563922882080078 seconds\n",
      "# iters:  143. Rel primal: 9.6491e-06 Rel dual: 3.3590e-06  OBJ 1.690e+01\n",
      "Time needed is 0.005300283432006836 seconds\n",
      "# iters:  106. Rel primal: 9.1968e-06 Rel dual: 1.8738e-06  OBJ 1.387e+01\n",
      "Time needed is 0.016852855682373047 seconds\n",
      "# iters:  143. Rel primal: 9.4651e-06 Rel dual: 3.2558e-06  OBJ 1.693e+01\n",
      "Time needed is 0.011763811111450195 seconds\n",
      "# iters:  109. Rel primal: 8.6669e-06 Rel dual: 1.3063e-06  OBJ 1.404e+01\n",
      "Time needed is 0.01913285255432129 seconds\n",
      "# iters:  143. Rel primal: 9.6442e-06 Rel dual: 3.3583e-06  OBJ 1.689e+01\n",
      "Time needed is 0.016737937927246094 seconds\n",
      "# iters:  106. Rel primal: 9.1998e-06 Rel dual: 1.8790e-06  OBJ 1.387e+01\n",
      "Time needed is 0.003915071487426758 seconds\n",
      "# iters:  143. Rel primal: 9.4659e-06 Rel dual: 3.2570e-06  OBJ 1.693e+01\n",
      "Time needed is 0.005674123764038086 seconds\n",
      "# iters:  109. Rel primal: 8.6695e-06 Rel dual: 1.3045e-06  OBJ 1.404e+01\n",
      "Time needed is 0.004127979278564453 seconds\n",
      "# iters:  143. Rel primal: 9.6408e-06 Rel dual: 3.3579e-06  OBJ 1.689e+01\n",
      "Time needed is 0.006092071533203125 seconds\n",
      "# iters:  106. Rel primal: 9.2015e-06 Rel dual: 1.8830e-06  OBJ 1.387e+01\n",
      "Time needed is 0.009163856506347656 seconds\n",
      "# iters:  143. Rel primal: 9.4665e-06 Rel dual: 3.2580e-06  OBJ 1.693e+01\n",
      "Time needed is 0.007642984390258789 seconds\n",
      "# iters:  109. Rel primal: 8.6718e-06 Rel dual: 1.3030e-06  OBJ 1.404e+01\n",
      "Time needed is 0.011274099349975586 seconds\n",
      "# iters:  143. Rel primal: 9.6382e-06 Rel dual: 3.3576e-06  OBJ 1.689e+01\n",
      "Time needed is 0.014955997467041016 seconds\n",
      "# iters:  106. Rel primal: 9.2021e-06 Rel dual: 1.8862e-06  OBJ 1.386e+01\n",
      "Time needed is 0.008867740631103516 seconds\n",
      "# iters:  143. Rel primal: 9.4671e-06 Rel dual: 3.2588e-06  OBJ 1.693e+01\n",
      "Time needed is 0.022099018096923828 seconds\n",
      "# iters:  109. Rel primal: 8.6734e-06 Rel dual: 1.3017e-06  OBJ 1.404e+01\n",
      "Time needed is 0.05555319786071777 seconds\n",
      "# iters:  143. Rel primal: 9.6363e-06 Rel dual: 3.3573e-06  OBJ 1.689e+01\n",
      "Time needed is 0.012415885925292969 seconds\n",
      "# iters:  106. Rel primal: 9.2028e-06 Rel dual: 1.8887e-06  OBJ 1.386e+01\n",
      "Time needed is 0.009093999862670898 seconds\n",
      "# iters:  143. Rel primal: 9.4674e-06 Rel dual: 3.2593e-06  OBJ 1.693e+01\n",
      "Time needed is 0.00892496109008789 seconds\n",
      "# iters:  109. Rel primal: 8.6747e-06 Rel dual: 1.3008e-06  OBJ 1.403e+01\n",
      "Time needed is 0.010396957397460938 seconds\n",
      "# iters:  143. Rel primal: 9.6349e-06 Rel dual: 3.3572e-06  OBJ 1.689e+01\n",
      "Time needed is 0.007616996765136719 seconds\n",
      "# iters:  106. Rel primal: 9.2034e-06 Rel dual: 1.8906e-06  OBJ 1.386e+01\n",
      "Time needed is 0.004343986511230469 seconds\n",
      "# iters:  143. Rel primal: 9.4677e-06 Rel dual: 3.2597e-06  OBJ 1.693e+01\n",
      "Time needed is 0.007585048675537109 seconds\n",
      "# iters:  109. Rel primal: 8.6758e-06 Rel dual: 1.3000e-06  OBJ 1.403e+01\n",
      "Time needed is 0.004055023193359375 seconds\n",
      "# iters:  143. Rel primal: 9.6338e-06 Rel dual: 3.3571e-06  OBJ 1.689e+01\n",
      "Time needed is 0.005497932434082031 seconds\n",
      "# iters:  106. Rel primal: 9.2037e-06 Rel dual: 1.8921e-06  OBJ 1.386e+01\n",
      "Time needed is 0.004273891448974609 seconds\n",
      "# iters:  143. Rel primal: 9.4679e-06 Rel dual: 3.2601e-06  OBJ 1.693e+01\n",
      "Time needed is 0.009330034255981445 seconds\n",
      "# iters:  109. Rel primal: 8.6767e-06 Rel dual: 1.2995e-06  OBJ 1.403e+01\n",
      "Time needed is 0.004966259002685547 seconds\n",
      "# iters:  143. Rel primal: 9.6330e-06 Rel dual: 3.3570e-06  OBJ 1.689e+01\n",
      "Time needed is 0.005292177200317383 seconds\n",
      "# iters:  106. Rel primal: 9.2036e-06 Rel dual: 1.8933e-06  OBJ 1.386e+01\n",
      "Time needed is 0.005930185317993164 seconds\n",
      "# iters:  143. Rel primal: 9.4681e-06 Rel dual: 3.2603e-06  OBJ 1.693e+01\n",
      "Time needed is 0.009582042694091797 seconds\n",
      "# iters:  109. Rel primal: 8.6774e-06 Rel dual: 1.2990e-06  OBJ 1.403e+01\n",
      "Time needed is 0.006098031997680664 seconds\n",
      "# iters:  143. Rel primal: 9.6324e-06 Rel dual: 3.3569e-06  OBJ 1.689e+01\n",
      "Time needed is 0.00941324234008789 seconds\n",
      "# iters:  106. Rel primal: 9.2036e-06 Rel dual: 1.8943e-06  OBJ 1.386e+01\n",
      "Time needed is 0.004350185394287109 seconds\n",
      "# iters:  143. Rel primal: 9.4682e-06 Rel dual: 3.2605e-06  OBJ 1.693e+01\n",
      "Time needed is 0.009068965911865234 seconds\n",
      "# iters:  109. Rel primal: 8.6779e-06 Rel dual: 1.2987e-06  OBJ 1.403e+01\n",
      "Time needed is 0.004078865051269531 seconds\n",
      "# iters:  143. Rel primal: 9.6320e-06 Rel dual: 3.3569e-06  OBJ 1.688e+01\n",
      "Time needed is 0.01234292984008789 seconds\n",
      "# iters:  106. Rel primal: 9.2036e-06 Rel dual: 1.8950e-06  OBJ 1.386e+01\n",
      "Time needed is 0.006890773773193359 seconds\n",
      "# iters:  143. Rel primal: 9.4683e-06 Rel dual: 3.2607e-06  OBJ 1.693e+01\n",
      "Time needed is 0.005387067794799805 seconds\n",
      "# iters:  109. Rel primal: 8.6783e-06 Rel dual: 1.2984e-06  OBJ 1.403e+01\n",
      "Time needed is 0.004102945327758789 seconds\n",
      "# iters:  143. Rel primal: 9.6316e-06 Rel dual: 3.3568e-06  OBJ 1.688e+01\n",
      "Time needed is 0.007561922073364258 seconds\n",
      "# iters:  106. Rel primal: 9.2035e-06 Rel dual: 1.8956e-06  OBJ 1.386e+01\n",
      "Time needed is 0.008390188217163086 seconds\n",
      "# iters:  143. Rel primal: 9.4684e-06 Rel dual: 3.2608e-06  OBJ 1.693e+01\n",
      "Time needed is 0.011228322982788086 seconds\n",
      "# iters:  109. Rel primal: 8.6786e-06 Rel dual: 1.2982e-06  OBJ 1.403e+01\n",
      "Time needed is 0.00710296630859375 seconds\n",
      "# iters:  143. Rel primal: 9.6313e-06 Rel dual: 3.3568e-06  OBJ 1.688e+01\n",
      "Time needed is 0.006211042404174805 seconds\n",
      "# iters:  106. Rel primal: 9.2035e-06 Rel dual: 1.8960e-06  OBJ 1.386e+01\n",
      "Time needed is 0.003912925720214844 seconds\n",
      "# iters:  143. Rel primal: 9.4685e-06 Rel dual: 3.2609e-06  OBJ 1.693e+01\n",
      "Time needed is 0.009126901626586914 seconds\n",
      "# iters:  109. Rel primal: 8.6789e-06 Rel dual: 1.2981e-06  OBJ 1.403e+01\n",
      "Time needed is 0.006152153015136719 seconds\n",
      "# iters:  143. Rel primal: 9.6311e-06 Rel dual: 3.3568e-06  OBJ 1.688e+01\n",
      "Time needed is 0.0057373046875 seconds\n",
      "# iters:  106. Rel primal: 9.2035e-06 Rel dual: 1.8963e-06  OBJ 1.386e+01\n",
      "Time needed is 0.00744175910949707 seconds\n",
      "# iters:  143. Rel primal: 9.4685e-06 Rel dual: 3.2609e-06  OBJ 1.693e+01\n",
      "Time needed is 0.005284786224365234 seconds\n",
      "# iters:  109. Rel primal: 8.6790e-06 Rel dual: 1.2980e-06  OBJ 1.403e+01\n",
      "Time needed is 0.004090785980224609 seconds\n",
      "# iters:  143. Rel primal: 9.6310e-06 Rel dual: 3.3568e-06  OBJ 1.688e+01\n",
      "Time needed is 0.00528407096862793 seconds\n",
      "# iters:  106. Rel primal: 9.2035e-06 Rel dual: 1.8966e-06  OBJ 1.386e+01\n",
      "Time needed is 0.003906965255737305 seconds\n",
      "# iters:  143. Rel primal: 9.4686e-06 Rel dual: 3.2610e-06  OBJ 1.693e+01\n",
      "Time needed is 0.005285739898681641 seconds\n",
      "# iters:  109. Rel primal: 8.6792e-06 Rel dual: 1.2979e-06  OBJ 1.403e+01\n",
      "Time needed is 0.004022121429443359 seconds\n",
      "# iters:  143. Rel primal: 9.6308e-06 Rel dual: 3.3567e-06  OBJ 1.688e+01\n",
      "Time needed is 0.0053598880767822266 seconds\n",
      "# iters:  106. Rel primal: 9.2035e-06 Rel dual: 1.8968e-06  OBJ 1.386e+01\n",
      "Time needed is 0.004475831985473633 seconds\n",
      "# iters:  143. Rel primal: 9.4686e-06 Rel dual: 3.2610e-06  OBJ 1.693e+01\n",
      "Time needed is 0.005671262741088867 seconds\n",
      "# iters:  109. Rel primal: 8.6793e-06 Rel dual: 1.2978e-06  OBJ 1.403e+01\n",
      "Time needed is 0.01607203483581543 seconds\n",
      "# iters:  143. Rel primal: 9.6307e-06 Rel dual: 3.3567e-06  OBJ 1.688e+01\n",
      "Time needed is 0.005564212799072266 seconds\n",
      "# iters:  106. Rel primal: 9.2035e-06 Rel dual: 1.8969e-06  OBJ 1.386e+01\n",
      "Time needed is 0.0038919448852539062 seconds\n",
      "# iters:  143. Rel primal: 9.4686e-06 Rel dual: 3.2610e-06  OBJ 1.693e+01\n",
      "Time needed is 0.011165142059326172 seconds\n",
      "# iters:  109. Rel primal: 8.6794e-06 Rel dual: 1.2978e-06  OBJ 1.403e+01\n",
      "Time needed is 0.004174232482910156 seconds\n",
      "# iters:  143. Rel primal: 9.6307e-06 Rel dual: 3.3567e-06  OBJ 1.688e+01\n",
      "Time needed is 0.005365848541259766 seconds\n",
      "# iters:  106. Rel primal: 9.2035e-06 Rel dual: 1.8970e-06  OBJ 1.386e+01\n",
      "Time needed is 0.0040738582611083984 seconds\n",
      "# iters:  143. Rel primal: 9.4686e-06 Rel dual: 3.2611e-06  OBJ 1.693e+01\n",
      "Time needed is 0.01252293586730957 seconds\n",
      "# iters:  109. Rel primal: 8.6794e-06 Rel dual: 1.2977e-06  OBJ 1.403e+01\n",
      "Time needed is 0.009617090225219727 seconds\n",
      "# iters:  143. Rel primal: 9.6306e-06 Rel dual: 3.3567e-06  OBJ 1.688e+01\n",
      "Time needed is 0.007188081741333008 seconds\n",
      "# iters:  106. Rel primal: 9.2035e-06 Rel dual: 1.8971e-06  OBJ 1.386e+01\n",
      "Time needed is 0.012056827545166016 seconds\n",
      "# iters:  143. Rel primal: 9.4687e-06 Rel dual: 3.2611e-06  OBJ 1.693e+01\n",
      "Time needed is 0.0053670406341552734 seconds\n",
      "# iters:  109. Rel primal: 8.6795e-06 Rel dual: 1.2977e-06  OBJ 1.403e+01\n",
      "Time needed is 0.011121988296508789 seconds\n",
      "# iters:  143. Rel primal: 9.6306e-06 Rel dual: 3.3567e-06  OBJ 1.688e+01\n",
      "Time needed is 0.01361393928527832 seconds\n",
      "# iters:  106. Rel primal: 9.2035e-06 Rel dual: 1.8972e-06  OBJ 1.386e+01\n",
      "Time needed is 0.009918928146362305 seconds\n",
      "# iters:  143. Rel primal: 9.4687e-06 Rel dual: 3.2611e-06  OBJ 1.693e+01\n",
      "Time needed is 0.009179353713989258 seconds\n",
      "# iters:  109. Rel primal: 8.6795e-06 Rel dual: 1.2977e-06  OBJ 1.403e+01\n",
      "Time needed is 0.005486965179443359 seconds\n",
      "# iters:  143. Rel primal: 9.6305e-06 Rel dual: 3.3567e-06  OBJ 1.688e+01\n",
      "Time needed is 0.007275819778442383 seconds\n",
      "# iters:  106. Rel primal: 9.2035e-06 Rel dual: 1.8972e-06  OBJ 1.386e+01\n",
      "Time needed is 0.006797075271606445 seconds\n",
      "# iters:  143. Rel primal: 9.4687e-06 Rel dual: 3.2611e-06  OBJ 1.693e+01\n",
      "Time needed is 0.0055239200592041016 seconds\n",
      "# iters:  109. Rel primal: 8.6796e-06 Rel dual: 1.2977e-06  OBJ 1.403e+01\n",
      "Time needed is 0.004367828369140625 seconds\n",
      "# iters:  143. Rel primal: 9.6305e-06 Rel dual: 3.3567e-06  OBJ 1.688e+01\n",
      "Time needed is 0.005253791809082031 seconds\n",
      "# iters:  106. Rel primal: 9.2035e-06 Rel dual: 1.8973e-06  OBJ 1.386e+01\n",
      "Time needed is 0.010853052139282227 seconds\n",
      "# iters:  143. Rel primal: 9.4687e-06 Rel dual: 3.2611e-06  OBJ 1.693e+01\n",
      "Time needed is 0.005339860916137695 seconds\n",
      "# iters:  109. Rel primal: 8.6796e-06 Rel dual: 1.2976e-06  OBJ 1.403e+01\n",
      "Time needed is 0.004358053207397461 seconds\n",
      "# iters:  143. Rel primal: 9.6305e-06 Rel dual: 3.3567e-06  OBJ 1.688e+01\n",
      "Time needed is 0.011077165603637695 seconds\n",
      "# iters:  106. Rel primal: 9.2035e-06 Rel dual: 1.8973e-06  OBJ 1.386e+01\n",
      "Time needed is 0.006114959716796875 seconds\n",
      "# iters:  143. Rel primal: 9.4687e-06 Rel dual: 3.2611e-06  OBJ 1.693e+01\n",
      "Time needed is 0.007863044738769531 seconds\n",
      "# iters:  109. Rel primal: 8.6796e-06 Rel dual: 1.2976e-06  OBJ 1.403e+01\n",
      "Time needed is 0.005009889602661133 seconds\n",
      "# iters:  143. Rel primal: 9.6305e-06 Rel dual: 3.3567e-06  OBJ 1.688e+01\n",
      "Time needed is 0.008080005645751953 seconds\n",
      "# iters:  106. Rel primal: 9.2035e-06 Rel dual: 1.8973e-06  OBJ 1.386e+01\n",
      "Time needed is 0.003940105438232422 seconds\n",
      "# iters:  143. Rel primal: 9.4687e-06 Rel dual: 3.2611e-06  OBJ 1.693e+01\n",
      "Time needed is 0.005273103713989258 seconds\n",
      "# iters:  109. Rel primal: 8.6796e-06 Rel dual: 1.2976e-06  OBJ 1.403e+01\n",
      "Time needed is 0.010225772857666016 seconds\n",
      "# iters:  143. Rel primal: 9.6305e-06 Rel dual: 3.3567e-06  OBJ 1.688e+01\n",
      "Time needed is 0.005273103713989258 seconds\n",
      "# iters:  106. Rel primal: 9.2035e-06 Rel dual: 1.8974e-06  OBJ 1.386e+01\n",
      "Time needed is 0.003915071487426758 seconds\n",
      "# iters:  143. Rel primal: 9.4687e-06 Rel dual: 3.2611e-06  OBJ 1.693e+01\n",
      "Time needed is 0.007850885391235352 seconds\n",
      "# iters:  109. Rel primal: 8.6796e-06 Rel dual: 1.2976e-06  OBJ 1.403e+01\n",
      "Time needed is 0.007668018341064453 seconds\n",
      "# iters:  143. Rel primal: 9.6304e-06 Rel dual: 3.3567e-06  OBJ 1.688e+01\n",
      "Time needed is 0.005263090133666992 seconds\n",
      "# iters:  106. Rel primal: 9.2035e-06 Rel dual: 1.8974e-06  OBJ 1.386e+01\n",
      "Time needed is 0.003916025161743164 seconds\n",
      "# iters:  143. Rel primal: 9.4687e-06 Rel dual: 3.2611e-06  OBJ 1.693e+01\n",
      "Time needed is 0.011480093002319336 seconds\n",
      "# iters:  109. Rel primal: 8.6796e-06 Rel dual: 1.2976e-06  OBJ 1.403e+01\n",
      "Time needed is 0.012056827545166016 seconds\n",
      "# iters:  143. Rel primal: 9.6304e-06 Rel dual: 3.3567e-06  OBJ 1.688e+01\n",
      "Time needed is 0.008265018463134766 seconds\n",
      "# iters:  106. Rel primal: 9.2035e-06 Rel dual: 1.8974e-06  OBJ 1.386e+01\n",
      "Time needed is 0.0048351287841796875 seconds\n",
      "# iters:  143. Rel primal: 9.4687e-06 Rel dual: 3.2611e-06  OBJ 1.693e+01\n",
      "Time needed is 0.005381107330322266 seconds\n",
      "# iters:  109. Rel primal: 8.6796e-06 Rel dual: 1.2976e-06  OBJ 1.403e+01\n",
      "Time needed is 0.004002094268798828 seconds\n",
      "# iters:  143. Rel primal: 9.6304e-06 Rel dual: 3.3567e-06  OBJ 1.688e+01\n",
      "Time needed is 0.0052700042724609375 seconds\n",
      "# iters:  106. Rel primal: 9.2035e-06 Rel dual: 1.8974e-06  OBJ 1.386e+01\n",
      "Time needed is 0.00803375244140625 seconds\n",
      "# iters:  143. Rel primal: 9.4687e-06 Rel dual: 3.2611e-06  OBJ 1.693e+01\n",
      "Time needed is 0.005814790725708008 seconds\n",
      "# iters:  109. Rel primal: 8.6796e-06 Rel dual: 1.2976e-06  OBJ 1.403e+01\n",
      "Time needed is 0.00666499137878418 seconds\n",
      "# iters:  143. Rel primal: 9.6304e-06 Rel dual: 3.3567e-06  OBJ 1.688e+01\n",
      "Time needed is 0.005552768707275391 seconds\n",
      "# iters:  106. Rel primal: 9.2035e-06 Rel dual: 1.8974e-06  OBJ 1.386e+01\n",
      "Time needed is 0.0041351318359375 seconds\n",
      "# iters:  143. Rel primal: 9.4687e-06 Rel dual: 3.2611e-06  OBJ 1.693e+01\n",
      "Time needed is 0.005301952362060547 seconds\n",
      "# iters:  109. Rel primal: 8.6797e-06 Rel dual: 1.2976e-06  OBJ 1.403e+01\n",
      "Time needed is 0.003998279571533203 seconds\n",
      "# iters:  143. Rel primal: 9.6304e-06 Rel dual: 3.3567e-06  OBJ 1.688e+01\n",
      "Time needed is 0.010213136672973633 seconds\n",
      "# iters:  106. Rel primal: 9.2035e-06 Rel dual: 1.8974e-06  OBJ 1.386e+01\n",
      "Time needed is 0.009000778198242188 seconds\n",
      "# iters:  143. Rel primal: 9.4687e-06 Rel dual: 3.2611e-06  OBJ 1.693e+01\n",
      "Time needed is 0.009868860244750977 seconds\n",
      "# iters:  109. Rel primal: 8.6797e-06 Rel dual: 1.2976e-06  OBJ 1.403e+01\n",
      "Time needed is 0.0044629573822021484 seconds\n",
      "# iters:  143. Rel primal: 9.6304e-06 Rel dual: 3.3567e-06  OBJ 1.688e+01\n",
      "Time needed is 0.006140947341918945 seconds\n",
      "# iters:  106. Rel primal: 9.2035e-06 Rel dual: 1.8974e-06  OBJ 1.386e+01\n",
      "Time needed is 0.007174253463745117 seconds\n",
      "# iters:  143. Rel primal: 9.4687e-06 Rel dual: 3.2611e-06  OBJ 1.693e+01\n",
      "Time needed is 0.005267143249511719 seconds\n",
      "# iters:  109. Rel primal: 8.6797e-06 Rel dual: 1.2976e-06  OBJ 1.403e+01\n",
      "Time needed is 0.004175901412963867 seconds\n",
      "# iters:  143. Rel primal: 9.6304e-06 Rel dual: 3.3567e-06  OBJ 1.688e+01\n",
      "Time needed is 0.00716710090637207 seconds\n",
      "# iters:  106. Rel primal: 9.2035e-06 Rel dual: 1.8974e-06  OBJ 1.386e+01\n",
      "Time needed is 0.007422208786010742 seconds\n",
      "# iters:  143. Rel primal: 9.4687e-06 Rel dual: 3.2611e-06  OBJ 1.693e+01\n",
      "Time needed is 0.00640106201171875 seconds\n",
      "# iters:  109. Rel primal: 8.6797e-06 Rel dual: 1.2976e-06  OBJ 1.403e+01\n",
      "Time needed is 0.008528947830200195 seconds\n",
      "# iters:  143. Rel primal: 9.6304e-06 Rel dual: 3.3567e-06  OBJ 1.688e+01\n",
      "Time needed is 0.010943174362182617 seconds\n",
      "# iters:  106. Rel primal: 9.2035e-06 Rel dual: 1.8974e-06  OBJ 1.386e+01\n",
      "Time needed is 0.003909111022949219 seconds\n",
      "# iters:  143. Rel primal: 9.4687e-06 Rel dual: 3.2611e-06  OBJ 1.693e+01\n",
      "Time needed is 0.0067729949951171875 seconds\n",
      "# iters:  109. Rel primal: 8.6797e-06 Rel dual: 1.2976e-06  OBJ 1.403e+01\n",
      "Time needed is 0.008336782455444336 seconds\n",
      "# iters:  143. Rel primal: 9.6304e-06 Rel dual: 3.3567e-06  OBJ 1.688e+01\n",
      "Time needed is 0.007735013961791992 seconds\n",
      "# iters:  106. Rel primal: 9.2035e-06 Rel dual: 1.8974e-06  OBJ 1.386e+01\n",
      "Time needed is 0.004124879837036133 seconds\n",
      "# iters:  143. Rel primal: 9.4687e-06 Rel dual: 3.2611e-06  OBJ 1.693e+01\n",
      "Time needed is 0.008356094360351562 seconds\n",
      "# iters:  109. Rel primal: 8.6797e-06 Rel dual: 1.2976e-06  OBJ 1.403e+01\n",
      "Time needed is 0.00416111946105957 seconds\n",
      "# iters:  143. Rel primal: 9.6304e-06 Rel dual: 3.3567e-06  OBJ 1.688e+01\n",
      "Time needed is 0.005305051803588867 seconds\n",
      "# iters:  106. Rel primal: 9.2035e-06 Rel dual: 1.8974e-06  OBJ 1.386e+01\n",
      "Time needed is 0.0038831233978271484 seconds\n",
      "# iters:  143. Rel primal: 9.4687e-06 Rel dual: 3.2611e-06  OBJ 1.693e+01\n",
      "Time needed is 0.008926868438720703 seconds\n",
      "# iters:  109. Rel primal: 8.6797e-06 Rel dual: 1.2976e-06  OBJ 1.403e+01\n",
      "Time needed is 0.004065036773681641 seconds\n",
      "# iters:  143. Rel primal: 9.6304e-06 Rel dual: 3.3567e-06  OBJ 1.688e+01\n",
      "Time needed is 0.0057179927825927734 seconds\n",
      "# iters:  106. Rel primal: 9.2035e-06 Rel dual: 1.8974e-06  OBJ 1.386e+01\n",
      "Time needed is 0.00699615478515625 seconds\n",
      "# iters:  143. Rel primal: 9.4687e-06 Rel dual: 3.2611e-06  OBJ 1.693e+01\n",
      "Time needed is 0.0054361820220947266 seconds\n",
      "# iters:  109. Rel primal: 8.6797e-06 Rel dual: 1.2976e-06  OBJ 1.403e+01\n",
      "Time needed is 0.005838871002197266 seconds\n",
      "# iters:  143. Rel primal: 9.6304e-06 Rel dual: 3.3567e-06  OBJ 1.688e+01\n",
      "Time needed is 0.00532984733581543 seconds\n",
      "# iters:  106. Rel primal: 9.2035e-06 Rel dual: 1.8974e-06  OBJ 1.386e+01\n",
      "Time needed is 0.010890960693359375 seconds\n",
      "# iters:  143. Rel primal: 9.4687e-06 Rel dual: 3.2611e-06  OBJ 1.693e+01\n",
      "Time needed is 0.010029077529907227 seconds\n",
      "# iters:  109. Rel primal: 8.6797e-06 Rel dual: 1.2976e-06  OBJ 1.403e+01\n",
      "Time needed is 0.011906862258911133 seconds\n",
      "# iters:  143. Rel primal: 9.6304e-06 Rel dual: 3.3567e-06  OBJ 1.688e+01\n",
      "Time needed is 0.005290985107421875 seconds\n",
      "# iters:  106. Rel primal: 9.2035e-06 Rel dual: 1.8974e-06  OBJ 1.386e+01\n",
      "Time needed is 0.0039179325103759766 seconds\n",
      "# iters:  143. Rel primal: 9.4687e-06 Rel dual: 3.2611e-06  OBJ 1.693e+01\n",
      "Time needed is 0.005263090133666992 seconds\n",
      "# iters:  109. Rel primal: 8.6797e-06 Rel dual: 1.2976e-06  OBJ 1.403e+01\n",
      "Time needed is 0.004189014434814453 seconds\n",
      "# iters:  143. Rel primal: 9.6304e-06 Rel dual: 3.3567e-06  OBJ 1.688e+01\n",
      "Time needed is 0.010039091110229492 seconds\n",
      "# iters:  106. Rel primal: 9.2035e-06 Rel dual: 1.8974e-06  OBJ 1.386e+01\n",
      "Time needed is 0.003937959671020508 seconds\n",
      "# iters:  143. Rel primal: 9.4687e-06 Rel dual: 3.2611e-06  OBJ 1.693e+01\n",
      "Time needed is 0.005498170852661133 seconds\n",
      "# iters:  109. Rel primal: 8.6797e-06 Rel dual: 1.2976e-06  OBJ 1.403e+01\n",
      "Time needed is 0.016904115676879883 seconds\n",
      "# iters:  143. Rel primal: 9.6304e-06 Rel dual: 3.3567e-06  OBJ 1.688e+01\n",
      "Time needed is 0.006078004837036133 seconds\n",
      "# iters:  106. Rel primal: 9.2035e-06 Rel dual: 1.8974e-06  OBJ 1.386e+01\n",
      "Time needed is 0.0047149658203125 seconds\n",
      "# iters:  143. Rel primal: 9.4687e-06 Rel dual: 3.2611e-06  OBJ 1.693e+01\n",
      "Time needed is 0.009291648864746094 seconds\n",
      "# iters:  109. Rel primal: 8.6797e-06 Rel dual: 1.2976e-06  OBJ 1.403e+01\n",
      "Time needed is 0.006310939788818359 seconds\n",
      "# iters:  143. Rel primal: 9.6304e-06 Rel dual: 3.3567e-06  OBJ 1.688e+01\n",
      "Time needed is 0.005293846130371094 seconds\n",
      "# iters:  106. Rel primal: 9.2035e-06 Rel dual: 1.8974e-06  OBJ 1.386e+01\n",
      "Time needed is 0.006797075271606445 seconds\n",
      "# iters:  143. Rel primal: 9.4687e-06 Rel dual: 3.2611e-06  OBJ 1.693e+01\n",
      "Time needed is 0.005271196365356445 seconds\n",
      "# iters:  109. Rel primal: 8.6797e-06 Rel dual: 1.2976e-06  OBJ 1.403e+01\n",
      "Time needed is 0.004062175750732422 seconds\n",
      "# iters:  143. Rel primal: 9.6304e-06 Rel dual: 3.3567e-06  OBJ 1.688e+01\n",
      "Time needed is 0.005380153656005859 seconds\n",
      "# iters:  106. Rel primal: 9.2035e-06 Rel dual: 1.8974e-06  OBJ 1.386e+01\n",
      "Time needed is 0.004002809524536133 seconds\n",
      "# iters:  143. Rel primal: 9.4687e-06 Rel dual: 3.2611e-06  OBJ 1.693e+01\n",
      "Time needed is 0.0055501461029052734 seconds\n",
      "# iters:  109. Rel primal: 8.6797e-06 Rel dual: 1.2976e-06  OBJ 1.403e+01\n",
      "Time needed is 0.00690007209777832 seconds\n",
      "# iters:  143. Rel primal: 9.6304e-06 Rel dual: 3.3567e-06  OBJ 1.688e+01\n",
      "Time needed is 0.005782127380371094 seconds\n",
      "# iters:  106. Rel primal: 9.2035e-06 Rel dual: 1.8974e-06  OBJ 1.386e+01\n",
      "Time needed is 0.0041217803955078125 seconds\n",
      "# iters:  143. Rel primal: 9.4687e-06 Rel dual: 3.2611e-06  OBJ 1.693e+01\n",
      "Time needed is 0.005253314971923828 seconds\n",
      "# iters:  109. Rel primal: 8.6797e-06 Rel dual: 1.2976e-06  OBJ 1.403e+01\n",
      "Time needed is 0.00409698486328125 seconds\n",
      "# iters:  143. Rel primal: 9.6304e-06 Rel dual: 3.3567e-06  OBJ 1.688e+01\n",
      "Time needed is 0.005380868911743164 seconds\n",
      "# iters:  106. Rel primal: 9.2035e-06 Rel dual: 1.8974e-06  OBJ 1.386e+01\n",
      "Time needed is 0.004002094268798828 seconds\n",
      "# iters:  143. Rel primal: 9.4687e-06 Rel dual: 3.2611e-06  OBJ 1.693e+01\n",
      "Time needed is 0.005699872970581055 seconds\n",
      "# iters:  109. Rel primal: 8.6797e-06 Rel dual: 1.2976e-06  OBJ 1.403e+01\n",
      "Time needed is 0.004217863082885742 seconds\n",
      "# iters:  143. Rel primal: 9.6304e-06 Rel dual: 3.3567e-06  OBJ 1.688e+01\n",
      "Time needed is 0.006433725357055664 seconds\n",
      "# iters:  106. Rel primal: 9.2035e-06 Rel dual: 1.8974e-06  OBJ 1.386e+01\n",
      "Time needed is 0.004111289978027344 seconds\n",
      "# iters:  143. Rel primal: 9.4687e-06 Rel dual: 3.2611e-06  OBJ 1.693e+01\n",
      "Time needed is 0.006371974945068359 seconds\n",
      "# iters:  109. Rel primal: 8.6797e-06 Rel dual: 1.2976e-06  OBJ 1.403e+01\n",
      "Time needed is 0.005092144012451172 seconds\n",
      "# iters:  143. Rel primal: 9.6304e-06 Rel dual: 3.3567e-06  OBJ 1.688e+01\n",
      "Time needed is 0.005262136459350586 seconds\n",
      "# iters:  106. Rel primal: 9.2035e-06 Rel dual: 1.8974e-06  OBJ 1.386e+01\n",
      "Time needed is 0.003923177719116211 seconds\n",
      "# iters:  143. Rel primal: 9.4687e-06 Rel dual: 3.2611e-06  OBJ 1.693e+01\n",
      "Time needed is 0.005280017852783203 seconds\n",
      "# iters:  109. Rel primal: 8.6797e-06 Rel dual: 1.2976e-06  OBJ 1.403e+01\n",
      "Time needed is 0.0040209293365478516 seconds\n",
      "# iters:  143. Rel primal: 9.6304e-06 Rel dual: 3.3567e-06  OBJ 1.688e+01\n",
      "Time needed is 0.0054471492767333984 seconds\n",
      "# iters:  106. Rel primal: 9.2035e-06 Rel dual: 1.8974e-06  OBJ 1.386e+01\n",
      "Time needed is 0.0041196346282958984 seconds\n",
      "# iters:  143. Rel primal: 9.4687e-06 Rel dual: 3.2611e-06  OBJ 1.693e+01\n",
      "Time needed is 0.0056040287017822266 seconds\n",
      "# iters:  109. Rel primal: 8.6797e-06 Rel dual: 1.2976e-06  OBJ 1.403e+01\n",
      "Time needed is 0.004003763198852539 seconds\n",
      "# iters:  143. Rel primal: 9.6304e-06 Rel dual: 3.3567e-06  OBJ 1.688e+01\n",
      "Time needed is 0.005259990692138672 seconds\n",
      "# iters:  106. Rel primal: 9.2035e-06 Rel dual: 1.8974e-06  OBJ 1.386e+01\n",
      "Time needed is 0.004090070724487305 seconds\n",
      "# iters:  143. Rel primal: 9.4687e-06 Rel dual: 3.2611e-06  OBJ 1.693e+01\n",
      "Time needed is 0.005401134490966797 seconds\n",
      "# iters:  109. Rel primal: 8.6797e-06 Rel dual: 1.2976e-06  OBJ 1.403e+01\n",
      "Time needed is 0.010579824447631836 seconds\n",
      "# iters:  143. Rel primal: 9.6304e-06 Rel dual: 3.3567e-06  OBJ 1.688e+01\n",
      "Time needed is 0.007700920104980469 seconds\n",
      "# iters:  106. Rel primal: 9.2035e-06 Rel dual: 1.8974e-06  OBJ 1.386e+01\n",
      "Time needed is 0.015247821807861328 seconds\n",
      "# iters:  143. Rel primal: 9.4687e-06 Rel dual: 3.2611e-06  OBJ 1.693e+01\n",
      "Time needed is 0.0054149627685546875 seconds\n",
      "# iters:  109. Rel primal: 8.6797e-06 Rel dual: 1.2976e-06  OBJ 1.403e+01\n",
      "Time needed is 0.004012107849121094 seconds\n",
      "# iters:  143. Rel primal: 9.6304e-06 Rel dual: 3.3567e-06  OBJ 1.688e+01\n",
      "Time needed is 0.010274171829223633 seconds\n",
      "# iters:  106. Rel primal: 9.2035e-06 Rel dual: 1.8974e-06  OBJ 1.386e+01\n",
      "Time needed is 0.003922939300537109 seconds\n",
      "# iters:  143. Rel primal: 9.4687e-06 Rel dual: 3.2611e-06  OBJ 1.693e+01\n",
      "Time needed is 0.00543522834777832 seconds\n",
      "# iters:  109. Rel primal: 8.6797e-06 Rel dual: 1.2976e-06  OBJ 1.403e+01\n",
      "Time needed is 0.004030942916870117 seconds\n",
      "# iters:  143. Rel primal: 9.6304e-06 Rel dual: 3.3567e-06  OBJ 1.688e+01\n",
      "Time needed is 0.005527973175048828 seconds\n",
      "# iters:  106. Rel primal: 9.2035e-06 Rel dual: 1.8974e-06  OBJ 1.386e+01\n",
      "Time needed is 0.003932952880859375 seconds\n",
      "# iters:  143. Rel primal: 9.4687e-06 Rel dual: 3.2611e-06  OBJ 1.693e+01\n",
      "Time needed is 0.005388736724853516 seconds\n",
      "# iters:  109. Rel primal: 8.6797e-06 Rel dual: 1.2976e-06  OBJ 1.403e+01\n",
      "Time needed is 0.004177093505859375 seconds\n",
      "# iters:  143. Rel primal: 9.6304e-06 Rel dual: 3.3567e-06  OBJ 1.688e+01\n",
      "Time needed is 0.00658106803894043 seconds\n",
      "# iters:  106. Rel primal: 9.2035e-06 Rel dual: 1.8974e-06  OBJ 1.386e+01\n",
      "Time needed is 0.004083156585693359 seconds\n",
      "# iters:  143. Rel primal: 9.4687e-06 Rel dual: 3.2611e-06  OBJ 1.693e+01\n",
      "Time needed is 0.00529789924621582 seconds\n",
      "# iters:  109. Rel primal: 8.6797e-06 Rel dual: 1.2976e-06  OBJ 1.403e+01\n",
      "Time needed is 0.0071849822998046875 seconds\n",
      "# iters:  143. Rel primal: 9.6304e-06 Rel dual: 3.3567e-06  OBJ 1.688e+01\n",
      "Time needed is 0.010699748992919922 seconds\n",
      "# iters:  106. Rel primal: 9.2035e-06 Rel dual: 1.8974e-06  OBJ 1.386e+01\n",
      "Time needed is 0.0038909912109375 seconds\n",
      "# iters:  143. Rel primal: 9.4687e-06 Rel dual: 3.2611e-06  OBJ 1.693e+01\n",
      "Time needed is 0.005239009857177734 seconds\n",
      "# iters:  109. Rel primal: 8.6797e-06 Rel dual: 1.2976e-06  OBJ 1.403e+01\n",
      "Time needed is 0.003997087478637695 seconds\n",
      "# iters:  143. Rel primal: 9.6304e-06 Rel dual: 3.3567e-06  OBJ 1.688e+01\n",
      "Time needed is 0.005287885665893555 seconds\n",
      "# iters:  106. Rel primal: 9.2035e-06 Rel dual: 1.8974e-06  OBJ 1.386e+01\n",
      "Time needed is 0.004236698150634766 seconds\n",
      "# iters:  143. Rel primal: 9.4687e-06 Rel dual: 3.2611e-06  OBJ 1.693e+01\n",
      "Time needed is 0.013471126556396484 seconds\n",
      "# iters:  109. Rel primal: 8.6797e-06 Rel dual: 1.2976e-06  OBJ 1.403e+01\n",
      "Time needed is 0.004143238067626953 seconds\n",
      "# iters:  143. Rel primal: 9.6304e-06 Rel dual: 3.3567e-06  OBJ 1.688e+01\n",
      "Time needed is 0.0052700042724609375 seconds\n",
      "# iters:  106. Rel primal: 9.2035e-06 Rel dual: 1.8974e-06  OBJ 1.386e+01\n",
      "Time needed is 0.0038919448852539062 seconds\n",
      "# iters:  143. Rel primal: 9.4687e-06 Rel dual: 3.2611e-06  OBJ 1.693e+01\n",
      "Time needed is 0.005255937576293945 seconds\n",
      "# iters:  109. Rel primal: 8.6797e-06 Rel dual: 1.2976e-06  OBJ 1.403e+01\n",
      "Time needed is 0.009536027908325195 seconds\n",
      "# iters:  143. Rel primal: 9.6304e-06 Rel dual: 3.3567e-06  OBJ 1.688e+01\n",
      "Time needed is 0.008949041366577148 seconds\n",
      "# iters:  106. Rel primal: 9.2035e-06 Rel dual: 1.8974e-06  OBJ 1.386e+01\n",
      "Time needed is 0.011120796203613281 seconds\n",
      "# iters:  143. Rel primal: 9.4687e-06 Rel dual: 3.2611e-06  OBJ 1.693e+01\n",
      "Time needed is 0.01746988296508789 seconds\n",
      "# iters:  109. Rel primal: 8.6797e-06 Rel dual: 1.2976e-06  OBJ 1.403e+01\n",
      "Time needed is 0.011468172073364258 seconds\n",
      "# iters:  143. Rel primal: 9.6304e-06 Rel dual: 3.3567e-06  OBJ 1.688e+01\n",
      "Time needed is 0.006063938140869141 seconds\n",
      "# iters:  106. Rel primal: 9.2035e-06 Rel dual: 1.8974e-06  OBJ 1.386e+01\n",
      "Time needed is 0.004087924957275391 seconds\n",
      "# iters:  143. Rel primal: 9.4687e-06 Rel dual: 3.2611e-06  OBJ 1.693e+01\n",
      "Time needed is 0.005301952362060547 seconds\n",
      "# iters:  109. Rel primal: 8.6797e-06 Rel dual: 1.2976e-06  OBJ 1.403e+01\n",
      "Time needed is 0.004155874252319336 seconds\n",
      "# iters:  143. Rel primal: 9.6304e-06 Rel dual: 3.3567e-06  OBJ 1.688e+01\n",
      "Time needed is 0.0053141117095947266 seconds\n",
      "# iters:  106. Rel primal: 9.2035e-06 Rel dual: 1.8974e-06  OBJ 1.386e+01\n",
      "Time needed is 0.0039250850677490234 seconds\n",
      "# iters:  143. Rel primal: 9.4687e-06 Rel dual: 3.2611e-06  OBJ 1.693e+01\n",
      "Time needed is 0.007200002670288086 seconds\n",
      "# iters:  109. Rel primal: 8.6797e-06 Rel dual: 1.2976e-06  OBJ 1.403e+01\n",
      "Time needed is 0.0050640106201171875 seconds\n",
      "# iters:  143. Rel primal: 9.6304e-06 Rel dual: 3.3567e-06  OBJ 1.688e+01\n",
      "Time needed is 0.005474090576171875 seconds\n",
      "# iters:  106. Rel primal: 9.2035e-06 Rel dual: 1.8974e-06  OBJ 1.386e+01\n",
      "Time needed is 0.007256746292114258 seconds\n",
      "# iters:  143. Rel primal: 9.4687e-06 Rel dual: 3.2611e-06  OBJ 1.693e+01\n",
      "Time needed is 0.0054018497467041016 seconds\n",
      "# iters:  109. Rel primal: 8.6797e-06 Rel dual: 1.2976e-06  OBJ 1.403e+01\n",
      "Time needed is 0.0040283203125 seconds\n",
      "# iters:  143. Rel primal: 9.6304e-06 Rel dual: 3.3567e-06  OBJ 1.688e+01\n",
      "Time needed is 0.005277872085571289 seconds\n",
      "# iters:  106. Rel primal: 9.2035e-06 Rel dual: 1.8974e-06  OBJ 1.386e+01\n",
      "Time needed is 0.003920078277587891 seconds\n",
      "# iters:  143. Rel primal: 9.4687e-06 Rel dual: 3.2611e-06  OBJ 1.693e+01\n",
      "Time needed is 0.005293130874633789 seconds\n",
      "# iters:  109. Rel primal: 8.6797e-06 Rel dual: 1.2976e-06  OBJ 1.403e+01\n",
      "Time needed is 0.00948023796081543 seconds\n",
      "# iters:  143. Rel primal: 9.6304e-06 Rel dual: 3.3567e-06  OBJ 1.688e+01\n",
      "Time needed is 0.0066797733306884766 seconds\n",
      "# iters:  106. Rel primal: 9.2035e-06 Rel dual: 1.8974e-06  OBJ 1.386e+01\n",
      "Time needed is 0.007528066635131836 seconds\n",
      "# iters:  143. Rel primal: 9.4687e-06 Rel dual: 3.2611e-06  OBJ 1.693e+01\n",
      "Time needed is 0.015015840530395508 seconds\n",
      "# iters:  109. Rel primal: 8.6797e-06 Rel dual: 1.2976e-06  OBJ 1.403e+01\n",
      "Time needed is 0.004088163375854492 seconds\n",
      "# iters:  143. Rel primal: 9.6304e-06 Rel dual: 3.3567e-06  OBJ 1.688e+01\n",
      "Time needed is 0.005419015884399414 seconds\n",
      "# iters:  106. Rel primal: 9.2035e-06 Rel dual: 1.8974e-06  OBJ 1.386e+01\n",
      "Time needed is 0.003923892974853516 seconds\n",
      "# iters:  143. Rel primal: 9.4687e-06 Rel dual: 3.2611e-06  OBJ 1.693e+01\n",
      "Time needed is 0.0052928924560546875 seconds\n",
      "# iters:  109. Rel primal: 8.6797e-06 Rel dual: 1.2976e-06  OBJ 1.403e+01\n",
      "Time needed is 0.0040149688720703125 seconds\n",
      "# iters:  143. Rel primal: 9.6304e-06 Rel dual: 3.3567e-06  OBJ 1.688e+01\n",
      "Time needed is 0.005300998687744141 seconds\n",
      "# iters:  106. Rel primal: 9.2035e-06 Rel dual: 1.8974e-06  OBJ 1.386e+01\n",
      "Time needed is 0.003921031951904297 seconds\n",
      "# iters:  143. Rel primal: 9.4687e-06 Rel dual: 3.2611e-06  OBJ 1.693e+01\n",
      "Time needed is 0.0052852630615234375 seconds\n",
      "# iters:  109. Rel primal: 8.6797e-06 Rel dual: 1.2976e-06  OBJ 1.403e+01\n",
      "Time needed is 0.004029750823974609 seconds\n",
      "# iters:  143. Rel primal: 9.6304e-06 Rel dual: 3.3567e-06  OBJ 1.688e+01\n",
      "Time needed is 0.005300998687744141 seconds\n",
      "# iters:  106. Rel primal: 9.2035e-06 Rel dual: 1.8974e-06  OBJ 1.386e+01\n",
      "Time needed is 0.003934144973754883 seconds\n",
      "# iters:  143. Rel primal: 9.4687e-06 Rel dual: 3.2611e-06  OBJ 1.693e+01\n",
      "Time needed is 0.0053102970123291016 seconds\n",
      "# iters:  109. Rel primal: 8.6797e-06 Rel dual: 1.2976e-06  OBJ 1.403e+01\n",
      "Time needed is 0.00403594970703125 seconds\n",
      "# iters:  143. Rel primal: 9.6304e-06 Rel dual: 3.3567e-06  OBJ 1.688e+01\n",
      "Time needed is 0.0068857669830322266 seconds\n",
      "# iters:  106. Rel primal: 9.2035e-06 Rel dual: 1.8974e-06  OBJ 1.386e+01\n",
      "Time needed is 0.00508427619934082 seconds\n",
      "# iters:  143. Rel primal: 9.4687e-06 Rel dual: 3.2611e-06  OBJ 1.693e+01\n",
      "Time needed is 0.020808935165405273 seconds\n",
      "# iters:  109. Rel primal: 8.6797e-06 Rel dual: 1.2976e-06  OBJ 1.403e+01\n",
      "Time needed is 0.010268926620483398 seconds\n",
      "# iters:  143. Rel primal: 9.6304e-06 Rel dual: 3.3567e-06  OBJ 1.688e+01\n",
      "Time needed is 0.010622978210449219 seconds\n",
      "# iters:  106. Rel primal: 9.2035e-06 Rel dual: 1.8974e-06  OBJ 1.386e+01\n",
      "Time needed is 0.015026092529296875 seconds\n",
      "# iters:  143. Rel primal: 9.4687e-06 Rel dual: 3.2611e-06  OBJ 1.693e+01\n",
      "Time needed is 0.005507946014404297 seconds\n",
      "# iters:  109. Rel primal: 8.6797e-06 Rel dual: 1.2976e-06  OBJ 1.403e+01\n",
      "Time needed is 0.004021883010864258 seconds\n",
      "# iters:  143. Rel primal: 9.6304e-06 Rel dual: 3.3567e-06  OBJ 1.688e+01\n",
      "Time needed is 0.005403757095336914 seconds\n",
      "# iters:  106. Rel primal: 9.2035e-06 Rel dual: 1.8974e-06  OBJ 1.386e+01\n",
      "Time needed is 0.004216670989990234 seconds\n",
      "# iters:  143. Rel primal: 9.4687e-06 Rel dual: 3.2611e-06  OBJ 1.693e+01\n",
      "Time needed is 0.0055658817291259766 seconds\n",
      "# iters:  109. Rel primal: 8.6797e-06 Rel dual: 1.2976e-06  OBJ 1.403e+01\n",
      "Time needed is 0.012562036514282227 seconds\n",
      "# iters:  143. Rel primal: 9.6304e-06 Rel dual: 3.3567e-06  OBJ 1.688e+01\n",
      "Time needed is 0.005285978317260742 seconds\n",
      "# iters:  106. Rel primal: 9.2035e-06 Rel dual: 1.8974e-06  OBJ 1.386e+01\n",
      "Time needed is 0.0039653778076171875 seconds\n",
      "# iters:  143. Rel primal: 9.4687e-06 Rel dual: 3.2611e-06  OBJ 1.693e+01\n",
      "Time needed is 0.005274057388305664 seconds\n",
      "# iters:  109. Rel primal: 8.6797e-06 Rel dual: 1.2976e-06  OBJ 1.403e+01\n",
      "Time needed is 0.004031181335449219 seconds\n",
      "# iters:  143. Rel primal: 9.6304e-06 Rel dual: 3.3567e-06  OBJ 1.688e+01\n",
      "Time needed is 0.00810098648071289 seconds\n",
      "# iters:  106. Rel primal: 9.2035e-06 Rel dual: 1.8974e-06  OBJ 1.386e+01\n",
      "Time needed is 0.004054069519042969 seconds\n",
      "# iters:  143. Rel primal: 9.4687e-06 Rel dual: 3.2611e-06  OBJ 1.693e+01\n",
      "Time needed is 0.011216878890991211 seconds\n",
      "# iters:  109. Rel primal: 8.6797e-06 Rel dual: 1.2976e-06  OBJ 1.403e+01\n",
      "Time needed is 0.005219936370849609 seconds\n",
      "# iters:  143. Rel primal: 9.6304e-06 Rel dual: 3.3567e-06  OBJ 1.688e+01\n",
      "Time needed is 0.00618290901184082 seconds\n",
      "# iters:  106. Rel primal: 9.2035e-06 Rel dual: 1.8974e-06  OBJ 1.386e+01\n",
      "Time needed is 0.0042269229888916016 seconds\n",
      "# iters:  143. Rel primal: 9.4687e-06 Rel dual: 3.2611e-06  OBJ 1.693e+01\n",
      "Time needed is 0.012032032012939453 seconds\n",
      "# iters:  109. Rel primal: 8.6797e-06 Rel dual: 1.2976e-06  OBJ 1.403e+01\n",
      "Time needed is 0.007930994033813477 seconds\n",
      "# iters:  143. Rel primal: 9.6304e-06 Rel dual: 3.3567e-06  OBJ 1.688e+01\n",
      "Time needed is 0.005362987518310547 seconds\n",
      "# iters:  106. Rel primal: 9.2035e-06 Rel dual: 1.8974e-06  OBJ 1.386e+01\n",
      "Time needed is 0.0040493011474609375 seconds\n",
      "# iters:  143. Rel primal: 9.4687e-06 Rel dual: 3.2611e-06  OBJ 1.693e+01\n",
      "Time needed is 0.005288362503051758 seconds\n",
      "# iters:  109. Rel primal: 8.6797e-06 Rel dual: 1.2976e-06  OBJ 1.403e+01\n",
      "Time needed is 0.004111051559448242 seconds\n",
      "# iters:  143. Rel primal: 9.6304e-06 Rel dual: 3.3567e-06  OBJ 1.688e+01\n",
      "Time needed is 0.005705833435058594 seconds\n",
      "# iters:  106. Rel primal: 9.2035e-06 Rel dual: 1.8974e-06  OBJ 1.386e+01\n",
      "Time needed is 0.0043430328369140625 seconds\n",
      "# iters:  143. Rel primal: 9.4687e-06 Rel dual: 3.2611e-06  OBJ 1.693e+01\n",
      "Time needed is 0.006587982177734375 seconds\n",
      "# iters:  109. Rel primal: 8.6797e-06 Rel dual: 1.2976e-06  OBJ 1.403e+01\n",
      "Time needed is 0.0160830020904541 seconds\n",
      "# iters:  143. Rel primal: 9.6304e-06 Rel dual: 3.3567e-06  OBJ 1.688e+01\n",
      "Time needed is 0.005269050598144531 seconds\n",
      "# iters:  106. Rel primal: 9.2035e-06 Rel dual: 1.8974e-06  OBJ 1.386e+01\n",
      "Time needed is 0.0042743682861328125 seconds\n",
      "# iters:  143. Rel primal: 9.4687e-06 Rel dual: 3.2611e-06  OBJ 1.693e+01\n",
      "Time needed is 0.005603790283203125 seconds\n",
      "# iters:  109. Rel primal: 8.6797e-06 Rel dual: 1.2976e-06  OBJ 1.403e+01\n",
      "Time needed is 0.00789189338684082 seconds\n",
      "# iters:  143. Rel primal: 9.6304e-06 Rel dual: 3.3567e-06  OBJ 1.688e+01\n",
      "Time needed is 0.013612985610961914 seconds\n",
      "# iters:  106. Rel primal: 9.2035e-06 Rel dual: 1.8974e-06  OBJ 1.386e+01\n",
      "Time needed is 0.004138946533203125 seconds\n",
      "# iters:  143. Rel primal: 9.4687e-06 Rel dual: 3.2611e-06  OBJ 1.693e+01\n",
      "Time needed is 0.005890846252441406 seconds\n",
      "# iters:  109. Rel primal: 8.6797e-06 Rel dual: 1.2976e-06  OBJ 1.403e+01\n",
      "Time needed is 0.004487037658691406 seconds\n",
      "# iters:  143. Rel primal: 9.6304e-06 Rel dual: 3.3567e-06  OBJ 1.688e+01\n",
      "Time needed is 0.0057468414306640625 seconds\n",
      "# iters:  106. Rel primal: 9.2035e-06 Rel dual: 1.8974e-06  OBJ 1.386e+01\n",
      "Time needed is 0.004112958908081055 seconds\n",
      "# iters:  143. Rel primal: 9.4687e-06 Rel dual: 3.2611e-06  OBJ 1.693e+01\n",
      "Time needed is 0.005579948425292969 seconds\n",
      "# iters:  109. Rel primal: 8.6797e-06 Rel dual: 1.2976e-06  OBJ 1.403e+01\n",
      "Time needed is 0.004328012466430664 seconds\n",
      "# iters:  143. Rel primal: 9.6304e-06 Rel dual: 3.3567e-06  OBJ 1.688e+01\n",
      "Time needed is 0.0056149959564208984 seconds\n",
      "# iters:  106. Rel primal: 9.2035e-06 Rel dual: 1.8974e-06  OBJ 1.386e+01\n",
      "Time needed is 0.004246950149536133 seconds\n",
      "# iters:  143. Rel primal: 9.4687e-06 Rel dual: 3.2611e-06  OBJ 1.693e+01\n",
      "Time needed is 0.006555795669555664 seconds\n",
      "# iters:  109. Rel primal: 8.6797e-06 Rel dual: 1.2976e-06  OBJ 1.403e+01\n",
      "Time needed is 0.004266977310180664 seconds\n",
      "# iters:  143. Rel primal: 9.6304e-06 Rel dual: 3.3567e-06  OBJ 1.688e+01\n",
      "Time needed is 0.013668060302734375 seconds\n",
      "# iters:  106. Rel primal: 9.2035e-06 Rel dual: 1.8974e-06  OBJ 1.386e+01\n",
      "Time needed is 0.006443023681640625 seconds\n",
      "# iters:  143. Rel primal: 9.4687e-06 Rel dual: 3.2611e-06  OBJ 1.693e+01\n",
      "Time needed is 0.011138916015625 seconds\n",
      "# iters:  109. Rel primal: 8.6797e-06 Rel dual: 1.2976e-06  OBJ 1.403e+01\n",
      "Time needed is 0.0040318965911865234 seconds\n",
      "# iters:  143. Rel primal: 9.6304e-06 Rel dual: 3.3567e-06  OBJ 1.688e+01\n",
      "Time needed is 0.010944843292236328 seconds\n",
      "# iters:  106. Rel primal: 9.2035e-06 Rel dual: 1.8974e-06  OBJ 1.386e+01\n",
      "Time needed is 0.007864952087402344 seconds\n",
      "# iters:  143. Rel primal: 9.4687e-06 Rel dual: 3.2611e-06  OBJ 1.693e+01\n",
      "Time needed is 0.007847785949707031 seconds\n",
      "# iters:  109. Rel primal: 8.6797e-06 Rel dual: 1.2976e-06  OBJ 1.403e+01\n",
      "Time needed is 0.004235029220581055 seconds\n",
      "# iters:  143. Rel primal: 9.6304e-06 Rel dual: 3.3567e-06  OBJ 1.688e+01\n",
      "Time needed is 0.005274057388305664 seconds\n",
      "# iters:  106. Rel primal: 9.2035e-06 Rel dual: 1.8974e-06  OBJ 1.386e+01\n",
      "Time needed is 0.010552167892456055 seconds\n",
      "Training done\n",
      "sum(gamma_hats,1): [54.56892768 95.43107232]\n",
      "Identify: [0 1]\n",
      "Precision: [[0.93333333]\n",
      " [0.65116279]]\n",
      "Recall: [[0.36842105]\n",
      " [0.38888889]]\n",
      "F-measure: [[0.52830189]\n",
      " [0.48695652]]\n",
      "Cluster Errors: [31.37826937 31.37826937]\n",
      "NMI Scores: [0.08860303 0.0029426 ]\n",
      "Number of edges: [30. 43.]\n",
      "\n",
      "Are all elements in each row of gamma_hats summing to 1: True\n"
     ]
    }
   ],
   "source": [
    "\n",
    "\n",
    "# Set parameters according to the theoretical setup:\n",
    "n = 15   # graph size\n",
    "m = 150  # number of signals\n",
    "k = 2    # number of clusters\n",
    "zero_thresh = 1e-4\n",
    "\n",
    "# Generate k connected Erdos-Renyi graphs as in the MATLAB code\n",
    "g = []\n",
    "for i in range(k):\n",
    "    g.append(generate_connected_graph(n, 0.7, zero_thresh, maxit=10, verbose=1))\n",
    "\n",
    "# Generate cluster memberships and signals according to the setup:\n",
    "# gamma = rand(m,1) ~ uniform random in [0,1)\n",
    "# p = [0, 1/k, 2/k, ..., 1] to define cluster assignments\n",
    "gamma = np.random.rand(m, 1)\n",
    "gamma_cut = np.zeros((m, k))\n",
    "dist = 0.5\n",
    "p = np.linspace(0, 1, k+1)  # for k=2, p=[0,0.5,1]; for balanced clusters {0.5,0.5}\n",
    "\n",
    "y = np.zeros((m, n))\n",
    "true_y = np.zeros((m, n, k))\n",
    "center = np.zeros((n, k))\n",
    "gauss = np.zeros((n, n, k))\n",
    "Lap = np.zeros((n, n, k))\n",
    "\n",
    "# According to the theory, each cluster k has:\n",
    "#  - A mean vector µ_k ~ N(0, σ^2 I) with σ=0.5, done by dist * randn and then centering.\n",
    "#  - Signals from cluster k are: x_m ∼ N(µ_k, L_k^\\dagger)\n",
    "# The code:\n",
    "for i in range(k):\n",
    "    L_mat = g[i]['L']          # Retrieve the Laplacian from the generated graph\n",
    "    gc = np.linalg.pinv(L_mat) # Pseudoinverse for covariance\n",
    "    gauss[:, :, i] = (gc + gc.T) / 2\n",
    "    Lap[:, :, i] = L_mat\n",
    "\n",
    "    # Generate center vector µ_k as per σ=0.5\n",
    "    c = dist * np.random.randn(n)\n",
    "    c = c - np.mean(c)  # ensure mean is zero\n",
    "    center[:, i] = c\n",
    "\n",
    "    # Assign signals to cluster i according to p:\n",
    "    mask = (gamma[:, 0] > p[i]) & (gamma[:, 0] <= p[i+1])\n",
    "    gamma_cut[mask, i] = 1\n",
    "\n",
    "    # Generate signals for cluster i\n",
    "    # x_m ∼ N(µ_i, gauss[:,:,i]) if in cluster i, else 0\n",
    "    samples = np.random.multivariate_normal(center[:, i], gauss[:, :, i], m)\n",
    "    samples = gamma_cut[:, i][:, np.newaxis] * samples  # 0 out for non-members\n",
    "    true_y[:, :, i] = samples\n",
    "    y += samples\n",
    "\n",
    "# Now we train the GLMM on data y:\n",
    "# Using glmm as previously defined\n",
    "iterations = 200\n",
    "y= normalize_data(y)\n",
    "Ls, gamma_hats, mus, log_likelihood = glmm(y, iterations, k, spread=0.1, regul=0.15, norm_par=1.5, alpha=None)\n",
    "print('Training done')\n",
    "\n",
    "# Check sum(gamma_hats,1) as in MATLAB (sum along rows in MATLAB is axis=0 in Python)\n",
    "print(\"sum(gamma_hats,1):\", np.sum(gamma_hats, axis=0))\n",
    "\n",
    "# Identify and compare results (assuming identify_and_compare returns identify, precision, recall, f, cl_errors, NMI_scores, num_of_edges_arr)\n",
    "identify, precision, recall, f, cl_errors, NMI_scores, num_of_edges_arr = identify_and_compare(Ls, Lap, gamma_hats, gamma_cut, k)\n",
    "\n",
    "print(\"Identify:\", identify)\n",
    "print(\"Precision:\", precision)\n",
    "print(\"Recall:\", recall)\n",
    "print(\"F-measure:\", f)\n",
    "print(\"Cluster Errors:\", cl_errors)\n",
    "print(\"NMI Scores:\", NMI_scores)\n",
    "print(\"Number of edges:\", num_of_edges_arr)\n",
    "\n",
    "# Check if rows of gamma_hats sum to 1\n",
    "summed_gamma_hats = np.sum(gamma_hats, axis=1)\n",
    "are_all_elements_one = np.allclose(summed_gamma_hats, 1.0, atol=1e-8)\n",
    "print(\"\\nAre all elements in each row of gamma_hats summing to 1:\", are_all_elements_one)\n"
   ]
  },
  {
   "cell_type": "code",
   "execution_count": null,
   "metadata": {},
   "outputs": [
    {
     "name": "stdout",
     "output_type": "stream",
     "text": [
      "# iters:  110. Rel primal: 9.1618e-06 Rel dual: 2.0355e-06  OBJ 1.613e+01\n",
      "Time needed is 0.013456106185913086 seconds\n",
      "# iters:  102. Rel primal: 8.1768e-06 Rel dual: 4.6602e-06  OBJ 1.571e+01\n",
      "Time needed is 0.01656508445739746 seconds\n",
      "# iters:  124. Rel primal: 9.1600e-06 Rel dual: 8.2541e-07  OBJ 1.579e+01\n",
      "Time needed is 0.02474498748779297 seconds\n",
      "# iters:  100. Rel primal: 9.0307e-06 Rel dual: 3.7564e-06  OBJ 1.540e+01\n",
      "Time needed is 0.003944873809814453 seconds\n",
      "# iters:  121. Rel primal: 9.3033e-06 Rel dual: 1.4007e-06  OBJ 1.539e+01\n",
      "Time needed is 0.018718957901000977 seconds\n",
      "# iters:  101. Rel primal: 9.6315e-06 Rel dual: 2.9482e-06  OBJ 1.505e+01\n",
      "Time needed is 0.015413999557495117 seconds\n",
      "# iters:  120. Rel primal: 9.8210e-06 Rel dual: 1.6654e-06  OBJ 1.545e+01\n",
      "Time needed is 0.008890151977539062 seconds\n",
      "# iters:  101. Rel primal: 8.9978e-06 Rel dual: 2.0842e-06  OBJ 1.471e+01\n",
      "Time needed is 0.010299921035766602 seconds\n",
      "# iters:  119. Rel primal: 9.5956e-06 Rel dual: 1.5861e-06  OBJ 1.551e+01\n",
      "Time needed is 0.004732370376586914 seconds\n",
      "# iters:  101. Rel primal: 8.7741e-06 Rel dual: 1.7152e-06  OBJ 1.446e+01\n",
      "Time needed is 0.003923892974853516 seconds\n",
      "# iters:  103. Rel primal: 9.9773e-06 Rel dual: 6.4013e-06  OBJ 1.568e+01\n",
      "Time needed is 0.0056781768798828125 seconds\n",
      "# iters:  102. Rel primal: 9.3415e-06 Rel dual: 1.7302e-06  OBJ 1.441e+01\n",
      "Time needed is 0.007790088653564453 seconds\n",
      "# iters:  112. Rel primal: 8.8551e-06 Rel dual: 1.5719e-06  OBJ 1.551e+01\n",
      "Time needed is 0.016063928604125977 seconds\n",
      "# iters:  105. Rel primal: 9.8520e-06 Rel dual: 3.0224e-06  OBJ 1.424e+01\n",
      "Time needed is 0.007317066192626953 seconds\n",
      "# iters:  110. Rel primal: 9.8087e-06 Rel dual: 1.8612e-06  OBJ 1.547e+01\n",
      "Time needed is 0.004277706146240234 seconds\n",
      "# iters:  104. Rel primal: 9.0053e-06 Rel dual: 1.7945e-06  OBJ 1.416e+01\n",
      "Time needed is 0.003965854644775391 seconds\n",
      "# iters:  110. Rel primal: 9.3221e-06 Rel dual: 1.9215e-06  OBJ 1.545e+01\n",
      "Time needed is 0.006031990051269531 seconds\n",
      "# iters:  103. Rel primal: 8.9615e-06 Rel dual: 2.7507e-06  OBJ 1.408e+01\n",
      "Time needed is 0.0037920475006103516 seconds\n",
      "# iters:  110. Rel primal: 9.4969e-06 Rel dual: 1.8997e-06  OBJ 1.545e+01\n",
      "Time needed is 0.0050830841064453125 seconds\n",
      "# iters:  104. Rel primal: 9.1191e-06 Rel dual: 2.5450e-06  OBJ 1.396e+01\n",
      "Time needed is 0.008329153060913086 seconds\n",
      "# iters:  117. Rel primal: 9.7746e-06 Rel dual: 8.1724e-07  OBJ 1.554e+01\n",
      "Time needed is 0.0064051151275634766 seconds\n",
      "# iters:  105. Rel primal: 9.1751e-06 Rel dual: 2.7444e-06  OBJ 1.399e+01\n",
      "Time needed is 0.0038809776306152344 seconds\n",
      "# iters:  117. Rel primal: 9.5336e-06 Rel dual: 9.1593e-07  OBJ 1.555e+01\n",
      "Time needed is 0.004383087158203125 seconds\n",
      "# iters:  105. Rel primal: 8.5791e-06 Rel dual: 3.4343e-06  OBJ 1.396e+01\n",
      "Time needed is 0.004111766815185547 seconds\n",
      "# iters:  117. Rel primal: 9.4423e-06 Rel dual: 9.4439e-07  OBJ 1.554e+01\n",
      "Time needed is 0.00431513786315918 seconds\n",
      "# iters:  105. Rel primal: 9.5706e-06 Rel dual: 3.7047e-06  OBJ 1.397e+01\n",
      "Time needed is 0.004099130630493164 seconds\n",
      "# iters:  117. Rel primal: 9.4220e-06 Rel dual: 9.5165e-07  OBJ 1.552e+01\n",
      "Time needed is 0.004534006118774414 seconds\n",
      "# iters:  104. Rel primal: 9.5472e-06 Rel dual: 4.6419e-06  OBJ 1.395e+01\n",
      "Time needed is 0.0054988861083984375 seconds\n",
      "# iters:  117. Rel primal: 9.1982e-06 Rel dual: 1.1287e-06  OBJ 1.550e+01\n",
      "Time needed is 0.004332780838012695 seconds\n",
      "# iters:  105. Rel primal: 9.6449e-06 Rel dual: 4.2799e-06  OBJ 1.393e+01\n",
      "Time needed is 0.0039141178131103516 seconds\n",
      "# iters:  116. Rel primal: 9.8797e-06 Rel dual: 1.4046e-06  OBJ 1.549e+01\n",
      "Time needed is 0.00430607795715332 seconds\n",
      "# iters:  106. Rel primal: 9.4579e-06 Rel dual: 3.6241e-06  OBJ 1.392e+01\n",
      "Time needed is 0.003918170928955078 seconds\n",
      "# iters:  116. Rel primal: 9.7429e-06 Rel dual: 1.5319e-06  OBJ 1.548e+01\n",
      "Time needed is 0.008627176284790039 seconds\n",
      "# iters:  106. Rel primal: 9.9848e-06 Rel dual: 3.5871e-06  OBJ 1.390e+01\n",
      "Time needed is 0.006216764450073242 seconds\n",
      "# iters:  116. Rel primal: 9.7381e-06 Rel dual: 1.5513e-06  OBJ 1.548e+01\n",
      "Time needed is 0.0044689178466796875 seconds\n",
      "# iters:  107. Rel primal: 9.5702e-06 Rel dual: 3.2714e-06  OBJ 1.390e+01\n",
      "Time needed is 0.011919021606445312 seconds\n",
      "# iters:  116. Rel primal: 9.6949e-06 Rel dual: 1.5667e-06  OBJ 1.549e+01\n",
      "Time needed is 0.004297018051147461 seconds\n",
      "# iters:  108. Rel primal: 9.1991e-06 Rel dual: 3.0075e-06  OBJ 1.391e+01\n",
      "Time needed is 0.009220123291015625 seconds\n",
      "# iters:  116. Rel primal: 9.6159e-06 Rel dual: 1.5790e-06  OBJ 1.549e+01\n",
      "Time needed is 0.00586700439453125 seconds\n",
      "# iters:  109. Rel primal: 9.5136e-06 Rel dual: 2.2778e-06  OBJ 1.392e+01\n",
      "Time needed is 0.0076940059661865234 seconds\n",
      "# iters:  116. Rel primal: 9.4837e-06 Rel dual: 1.5836e-06  OBJ 1.549e+01\n",
      "Time needed is 0.010246038436889648 seconds\n",
      "# iters:  109. Rel primal: 8.5283e-06 Rel dual: 2.7590e-06  OBJ 1.393e+01\n",
      "Time needed is 0.007010221481323242 seconds\n",
      "# iters:  116. Rel primal: 9.4786e-06 Rel dual: 1.5614e-06  OBJ 1.549e+01\n",
      "Time needed is 0.010082006454467773 seconds\n",
      "# iters:  109. Rel primal: 8.4051e-06 Rel dual: 2.8020e-06  OBJ 1.392e+01\n",
      "Time needed is 0.0064961910247802734 seconds\n",
      "# iters:  115. Rel primal: 9.6611e-06 Rel dual: 1.7672e-06  OBJ 1.548e+01\n",
      "Time needed is 0.006223917007446289 seconds\n",
      "# iters:  109. Rel primal: 8.3289e-06 Rel dual: 2.8550e-06  OBJ 1.388e+01\n",
      "Time needed is 0.017230987548828125 seconds\n",
      "# iters:  104. Rel primal: 9.9096e-06 Rel dual: 3.6375e-06  OBJ 1.552e+01\n",
      "Time needed is 0.0044710636138916016 seconds\n",
      "# iters:  117. Rel primal: 9.3873e-06 Rel dual: 1.3583e-06  OBJ 1.400e+01\n",
      "Time needed is 0.004599094390869141 seconds\n",
      "# iters:  106. Rel primal: 9.2361e-06 Rel dual: 1.9333e-06  OBJ 1.554e+01\n",
      "Time needed is 0.005645036697387695 seconds\n",
      "# iters:  117. Rel primal: 9.5201e-06 Rel dual: 1.4338e-06  OBJ 1.388e+01\n",
      "Time needed is 0.0043179988861083984 seconds\n",
      "# iters:  105. Rel primal: 9.4992e-06 Rel dual: 2.2763e-06  OBJ 1.553e+01\n",
      "Time needed is 0.0038750171661376953 seconds\n",
      "# iters:  111. Rel primal: 8.3363e-06 Rel dual: 2.9622e-06  OBJ 1.383e+01\n",
      "Time needed is 0.0040857791900634766 seconds\n",
      "# iters:  105. Rel primal: 8.7974e-06 Rel dual: 2.0535e-06  OBJ 1.552e+01\n",
      "Time needed is 0.0038738250732421875 seconds\n",
      "# iters:  111. Rel primal: 9.6953e-06 Rel dual: 3.3764e-06  OBJ 1.383e+01\n",
      "Time needed is 0.004107952117919922 seconds\n",
      "# iters:  111. Rel primal: 9.5411e-06 Rel dual: 1.9287e-06  OBJ 1.550e+01\n",
      "Time needed is 0.004106044769287109 seconds\n",
      "# iters:  112. Rel primal: 8.7743e-06 Rel dual: 3.5343e-06  OBJ 1.382e+01\n",
      "Time needed is 0.004117012023925781 seconds\n",
      "# iters:  112. Rel primal: 9.8900e-06 Rel dual: 1.8514e-06  OBJ 1.549e+01\n",
      "Time needed is 0.004144191741943359 seconds\n",
      "# iters:  112. Rel primal: 8.6848e-06 Rel dual: 3.5339e-06  OBJ 1.379e+01\n",
      "Time needed is 0.009369850158691406 seconds\n",
      "# iters:  113. Rel primal: 9.2643e-06 Rel dual: 1.6609e-06  OBJ 1.548e+01\n",
      "Time needed is 0.0041620731353759766 seconds\n",
      "# iters:  112. Rel primal: 8.3577e-06 Rel dual: 3.4907e-06  OBJ 1.377e+01\n",
      "Time needed is 0.0043239593505859375 seconds\n",
      "# iters:  113. Rel primal: 9.2558e-06 Rel dual: 1.6410e-06  OBJ 1.547e+01\n",
      "Time needed is 0.004189014434814453 seconds\n",
      "# iters:  111. Rel primal: 9.7149e-06 Rel dual: 3.4108e-06  OBJ 1.375e+01\n",
      "Time needed is 0.0043718814849853516 seconds\n",
      "# iters:  113. Rel primal: 9.2017e-06 Rel dual: 1.6332e-06  OBJ 1.546e+01\n",
      "Time needed is 0.004195690155029297 seconds\n",
      "# iters:  111. Rel primal: 9.4507e-06 Rel dual: 3.3523e-06  OBJ 1.374e+01\n",
      "Time needed is 0.009814977645874023 seconds\n",
      "# iters:  112. Rel primal: 9.9621e-06 Rel dual: 1.9303e-06  OBJ 1.545e+01\n",
      "Time needed is 0.004138946533203125 seconds\n",
      "# iters:  111. Rel primal: 9.2635e-06 Rel dual: 3.2947e-06  OBJ 1.374e+01\n",
      "Time needed is 0.004472017288208008 seconds\n",
      "# iters:  113. Rel primal: 9.3113e-06 Rel dual: 1.7648e-06  OBJ 1.545e+01\n",
      "Time needed is 0.00436711311340332 seconds\n",
      "# iters:  111. Rel primal: 9.1357e-06 Rel dual: 3.2347e-06  OBJ 1.374e+01\n",
      "Time needed is 0.004083871841430664 seconds\n",
      "# iters:  113. Rel primal: 9.2928e-06 Rel dual: 1.7694e-06  OBJ 1.544e+01\n",
      "Time needed is 0.004322052001953125 seconds\n",
      "# iters:  111. Rel primal: 9.0319e-06 Rel dual: 3.1745e-06  OBJ 1.374e+01\n",
      "Time needed is 0.0041048526763916016 seconds\n",
      "# iters:  113. Rel primal: 9.2728e-06 Rel dual: 1.7742e-06  OBJ 1.544e+01\n",
      "Time needed is 0.0041751861572265625 seconds\n",
      "# iters:  111. Rel primal: 8.9399e-06 Rel dual: 3.1111e-06  OBJ 1.374e+01\n",
      "Time needed is 0.004138946533203125 seconds\n",
      "# iters:  112. Rel primal: 9.9878e-06 Rel dual: 2.0521e-06  OBJ 1.544e+01\n",
      "Time needed is 0.0043048858642578125 seconds\n",
      "# iters:  111. Rel primal: 8.8514e-06 Rel dual: 3.0394e-06  OBJ 1.374e+01\n",
      "Time needed is 0.007196903228759766 seconds\n",
      "# iters:  110. Rel primal: 9.4203e-06 Rel dual: 2.0278e-06  OBJ 1.537e+01\n",
      "Time needed is 0.004072904586791992 seconds\n",
      "# iters:  111. Rel primal: 9.2936e-06 Rel dual: 2.9379e-06  OBJ 1.363e+01\n",
      "Time needed is 0.0067462921142578125 seconds\n",
      "# iters:  112. Rel primal: 9.7774e-06 Rel dual: 1.8045e-06  OBJ 1.541e+01\n",
      "Time needed is 0.004147768020629883 seconds\n",
      "# iters:  111. Rel primal: 9.0610e-06 Rel dual: 2.8660e-06  OBJ 1.362e+01\n",
      "Time needed is 0.004286766052246094 seconds\n",
      "# iters:  112. Rel primal: 9.7404e-06 Rel dual: 1.8010e-06  OBJ 1.541e+01\n",
      "Time needed is 0.004542827606201172 seconds\n",
      "# iters:  114. Rel primal: 9.1474e-06 Rel dual: 1.5472e-06  OBJ 1.363e+01\n",
      "Time needed is 0.012995243072509766 seconds\n",
      "# iters:  112. Rel primal: 9.6956e-06 Rel dual: 1.7990e-06  OBJ 1.541e+01\n",
      "Time needed is 0.0066509246826171875 seconds\n",
      "# iters:  118. Rel primal: 9.0962e-06 Rel dual: 1.5427e-06  OBJ 1.364e+01\n",
      "Time needed is 0.008729219436645508 seconds\n",
      "# iters:  112. Rel primal: 9.6388e-06 Rel dual: 1.7975e-06  OBJ 1.540e+01\n",
      "Time needed is 0.00452876091003418 seconds\n",
      "# iters:  119. Rel primal: 9.1775e-06 Rel dual: 1.4546e-06  OBJ 1.365e+01\n",
      "Time needed is 0.004681110382080078 seconds\n",
      "# iters:  112. Rel primal: 9.5776e-06 Rel dual: 1.7980e-06  OBJ 1.540e+01\n",
      "Time needed is 0.007100105285644531 seconds\n",
      "# iters:  119. Rel primal: 9.1434e-06 Rel dual: 1.4498e-06  OBJ 1.365e+01\n",
      "Time needed is 0.00439906120300293 seconds\n",
      "# iters:  112. Rel primal: 9.5167e-06 Rel dual: 1.8002e-06  OBJ 1.539e+01\n",
      "Time needed is 0.004170894622802734 seconds\n",
      "# iters:  119. Rel primal: 9.0917e-06 Rel dual: 1.4426e-06  OBJ 1.365e+01\n",
      "Time needed is 0.004558086395263672 seconds\n",
      "# iters:  112. Rel primal: 9.4585e-06 Rel dual: 1.8028e-06  OBJ 1.538e+01\n",
      "Time needed is 0.013980865478515625 seconds\n",
      "# iters:  118. Rel primal: 9.9884e-06 Rel dual: 1.7236e-06  OBJ 1.365e+01\n",
      "Time needed is 0.0043430328369140625 seconds\n",
      "# iters:  112. Rel primal: 9.4030e-06 Rel dual: 1.8047e-06  OBJ 1.538e+01\n",
      "Time needed is 0.004199981689453125 seconds\n",
      "# iters:  118. Rel primal: 9.9216e-06 Rel dual: 1.7108e-06  OBJ 1.365e+01\n",
      "Time needed is 0.00444793701171875 seconds\n",
      "# iters:  112. Rel primal: 9.3497e-06 Rel dual: 1.8033e-06  OBJ 1.537e+01\n",
      "Time needed is 0.0041351318359375 seconds\n",
      "# iters:  118. Rel primal: 9.8505e-06 Rel dual: 1.6968e-06  OBJ 1.365e+01\n",
      "Time needed is 0.006407260894775391 seconds\n",
      "# iters:  109. Rel primal: 9.5768e-06 Rel dual: 2.0728e-06  OBJ 1.531e+01\n",
      "Time needed is 0.010694026947021484 seconds\n",
      "# iters:  119. Rel primal: 9.2889e-06 Rel dual: 1.4739e-06  OBJ 1.354e+01\n",
      "Time needed is 0.0045278072357177734 seconds\n",
      "# iters:  112. Rel primal: 9.3066e-06 Rel dual: 1.7116e-06  OBJ 1.534e+01\n",
      "Time needed is 0.009551048278808594 seconds\n",
      "# iters:  118. Rel primal: 9.9669e-06 Rel dual: 1.6978e-06  OBJ 1.352e+01\n",
      "Time needed is 0.0043489933013916016 seconds\n",
      "# iters:  112. Rel primal: 9.2536e-06 Rel dual: 1.6991e-06  OBJ 1.534e+01\n",
      "Time needed is 0.012602090835571289 seconds\n",
      "# iters:  118. Rel primal: 9.8591e-06 Rel dual: 1.6771e-06  OBJ 1.353e+01\n",
      "Time needed is 0.004391908645629883 seconds\n",
      "# iters:  112. Rel primal: 9.2049e-06 Rel dual: 1.6888e-06  OBJ 1.533e+01\n",
      "Time needed is 0.005526065826416016 seconds\n",
      "# iters:  118. Rel primal: 9.7491e-06 Rel dual: 1.6599e-06  OBJ 1.354e+01\n",
      "Time needed is 0.004363059997558594 seconds\n",
      "# iters:  112. Rel primal: 9.1604e-06 Rel dual: 1.6791e-06  OBJ 1.532e+01\n",
      "Time needed is 0.004146099090576172 seconds\n",
      "# iters:  118. Rel primal: 9.6098e-06 Rel dual: 1.6391e-06  OBJ 1.355e+01\n",
      "Time needed is 0.009809732437133789 seconds\n",
      "# iters:  112. Rel primal: 9.1200e-06 Rel dual: 1.6702e-06  OBJ 1.531e+01\n",
      "Time needed is 0.0043337345123291016 seconds\n",
      "# iters:  118. Rel primal: 9.4450e-06 Rel dual: 1.6905e-06  OBJ 1.355e+01\n",
      "Time needed is 0.004452705383300781 seconds\n",
      "# iters:  112. Rel primal: 9.0849e-06 Rel dual: 1.6628e-06  OBJ 1.530e+01\n",
      "Time needed is 0.0043027400970458984 seconds\n",
      "# iters:  118. Rel primal: 9.2527e-06 Rel dual: 1.6370e-06  OBJ 1.356e+01\n",
      "Time needed is 0.004390716552734375 seconds\n",
      "# iters:  111. Rel primal: 9.9913e-06 Rel dual: 1.8712e-06  OBJ 1.528e+01\n",
      "Time needed is 0.00409698486328125 seconds\n",
      "# iters:  117. Rel primal: 9.8793e-06 Rel dual: 1.8833e-06  OBJ 1.356e+01\n",
      "Time needed is 0.004329204559326172 seconds\n",
      "# iters:  111. Rel primal: 9.9834e-06 Rel dual: 1.8709e-06  OBJ 1.525e+01\n",
      "Time needed is 0.004767894744873047 seconds\n",
      "# iters:  117. Rel primal: 9.4991e-06 Rel dual: 1.7803e-06  OBJ 1.357e+01\n",
      "Time needed is 0.016367197036743164 seconds\n",
      "# iters:  112. Rel primal: 9.1555e-06 Rel dual: 1.6867e-06  OBJ 1.522e+01\n",
      "Time needed is 0.00437617301940918 seconds\n",
      "# iters:  117. Rel primal: 9.1445e-06 Rel dual: 1.5006e-06  OBJ 1.357e+01\n",
      "Time needed is 0.015224933624267578 seconds\n",
      "# iters:  109. Rel primal: 9.3904e-06 Rel dual: 2.0109e-06  OBJ 1.515e+01\n",
      "Time needed is 0.004024028778076172 seconds\n",
      "# iters:  117. Rel primal: 9.2358e-06 Rel dual: 1.5678e-06  OBJ 1.347e+01\n",
      "Time needed is 0.009908914566040039 seconds\n",
      "# iters:  111. Rel primal: 9.9337e-06 Rel dual: 1.9055e-06  OBJ 1.518e+01\n",
      "Time needed is 0.006447792053222656 seconds\n",
      "# iters:  116. Rel primal: 9.9375e-06 Rel dual: 1.5975e-06  OBJ 1.346e+01\n",
      "Time needed is 0.0066220760345458984 seconds\n",
      "# iters:  111. Rel primal: 9.8808e-06 Rel dual: 1.8982e-06  OBJ 1.518e+01\n",
      "Time needed is 0.008083105087280273 seconds\n",
      "# iters:  116. Rel primal: 9.8465e-06 Rel dual: 1.5582e-06  OBJ 1.347e+01\n",
      "Time needed is 0.0046138763427734375 seconds\n",
      "# iters:  111. Rel primal: 9.8609e-06 Rel dual: 1.8959e-06  OBJ 1.518e+01\n",
      "Time needed is 0.004225015640258789 seconds\n",
      "# iters:  116. Rel primal: 9.8142e-06 Rel dual: 1.5474e-06  OBJ 1.349e+01\n",
      "Time needed is 0.004274845123291016 seconds\n",
      "# iters:  111. Rel primal: 9.8560e-06 Rel dual: 1.8960e-06  OBJ 1.518e+01\n",
      "Time needed is 0.0069348812103271484 seconds\n",
      "# iters:  116. Rel primal: 9.8037e-06 Rel dual: 1.5470e-06  OBJ 1.349e+01\n",
      "Time needed is 0.013273000717163086 seconds\n",
      "# iters:  111. Rel primal: 9.8576e-06 Rel dual: 1.8970e-06  OBJ 1.518e+01\n",
      "Time needed is 0.004415035247802734 seconds\n",
      "# iters:  116. Rel primal: 9.8018e-06 Rel dual: 1.5500e-06  OBJ 1.350e+01\n",
      "Time needed is 0.004686117172241211 seconds\n",
      "# iters:  111. Rel primal: 9.8618e-06 Rel dual: 1.8982e-06  OBJ 1.518e+01\n",
      "Time needed is 0.005476713180541992 seconds\n",
      "# iters:  116. Rel primal: 9.8031e-06 Rel dual: 1.5540e-06  OBJ 1.351e+01\n",
      "Time needed is 0.004940986633300781 seconds\n",
      "# iters:  111. Rel primal: 9.8666e-06 Rel dual: 1.8994e-06  OBJ 1.518e+01\n",
      "Time needed is 0.004248142242431641 seconds\n",
      "# iters:  116. Rel primal: 9.8057e-06 Rel dual: 1.5582e-06  OBJ 1.351e+01\n",
      "Time needed is 0.006582021713256836 seconds\n",
      "# iters:  111. Rel primal: 9.8714e-06 Rel dual: 1.9006e-06  OBJ 1.518e+01\n",
      "Time needed is 0.004210948944091797 seconds\n",
      "# iters:  116. Rel primal: 9.8082e-06 Rel dual: 1.5621e-06  OBJ 1.352e+01\n",
      "Time needed is 0.004478931427001953 seconds\n",
      "# iters:  111. Rel primal: 9.8756e-06 Rel dual: 1.9015e-06  OBJ 1.518e+01\n",
      "Time needed is 0.00409388542175293 seconds\n",
      "# iters:  116. Rel primal: 9.8108e-06 Rel dual: 1.5656e-06  OBJ 1.352e+01\n",
      "Time needed is 0.0047452449798583984 seconds\n",
      "# iters:  111. Rel primal: 9.8793e-06 Rel dual: 1.9024e-06  OBJ 1.518e+01\n",
      "Time needed is 0.0066051483154296875 seconds\n",
      "# iters:  116. Rel primal: 9.8125e-06 Rel dual: 1.5684e-06  OBJ 1.352e+01\n",
      "Time needed is 0.005315065383911133 seconds\n",
      "# iters:  111. Rel primal: 9.8825e-06 Rel dual: 1.9031e-06  OBJ 1.518e+01\n",
      "Time needed is 0.004394054412841797 seconds\n",
      "# iters:  116. Rel primal: 9.8139e-06 Rel dual: 1.5707e-06  OBJ 1.352e+01\n",
      "Time needed is 0.004395008087158203 seconds\n",
      "# iters:  111. Rel primal: 9.8851e-06 Rel dual: 1.9036e-06  OBJ 1.518e+01\n",
      "Time needed is 0.004085063934326172 seconds\n",
      "# iters:  116. Rel primal: 9.8151e-06 Rel dual: 1.5727e-06  OBJ 1.352e+01\n",
      "Time needed is 0.004418849945068359 seconds\n",
      "# iters:  111. Rel primal: 9.8873e-06 Rel dual: 1.9041e-06  OBJ 1.518e+01\n",
      "Time needed is 0.0041179656982421875 seconds\n",
      "# iters:  116. Rel primal: 9.6500e-06 Rel dual: 1.6015e-06  OBJ 1.353e+01\n",
      "Time needed is 0.006472110748291016 seconds\n",
      "# iters:  111. Rel primal: 9.8890e-06 Rel dual: 1.9045e-06  OBJ 1.518e+01\n",
      "Time needed is 0.004460811614990234 seconds\n",
      "# iters:  116. Rel primal: 9.6115e-06 Rel dual: 1.6203e-06  OBJ 1.353e+01\n",
      "Time needed is 0.004261970520019531 seconds\n",
      "# iters:  111. Rel primal: 9.8903e-06 Rel dual: 1.9048e-06  OBJ 1.518e+01\n",
      "Time needed is 0.0042459964752197266 seconds\n",
      "# iters:  116. Rel primal: 9.5974e-06 Rel dual: 1.6333e-06  OBJ 1.353e+01\n",
      "Time needed is 0.0042760372161865234 seconds\n",
      "# iters:  111. Rel primal: 9.8914e-06 Rel dual: 1.9050e-06  OBJ 1.518e+01\n",
      "Time needed is 0.004094123840332031 seconds\n",
      "# iters:  116. Rel primal: 9.5915e-06 Rel dual: 1.6425e-06  OBJ 1.353e+01\n",
      "Time needed is 0.009584188461303711 seconds\n",
      "# iters:  111. Rel primal: 9.8922e-06 Rel dual: 1.9052e-06  OBJ 1.518e+01\n",
      "Time needed is 0.004170894622802734 seconds\n",
      "# iters:  116. Rel primal: 9.5888e-06 Rel dual: 1.6493e-06  OBJ 1.353e+01\n",
      "Time needed is 0.0042879581451416016 seconds\n",
      "# iters:  111. Rel primal: 9.8929e-06 Rel dual: 1.9053e-06  OBJ 1.518e+01\n",
      "Time needed is 0.006344318389892578 seconds\n",
      "# iters:  116. Rel primal: 9.5878e-06 Rel dual: 1.6543e-06  OBJ 1.353e+01\n",
      "Time needed is 0.009011983871459961 seconds\n",
      "# iters:  111. Rel primal: 9.8935e-06 Rel dual: 1.9055e-06  OBJ 1.518e+01\n",
      "Time needed is 0.004218101501464844 seconds\n",
      "# iters:  116. Rel primal: 9.5874e-06 Rel dual: 1.6580e-06  OBJ 1.353e+01\n",
      "Time needed is 0.004876852035522461 seconds\n",
      "# iters:  111. Rel primal: 9.8939e-06 Rel dual: 1.9056e-06  OBJ 1.518e+01\n",
      "Time needed is 0.008721113204956055 seconds\n",
      "# iters:  116. Rel primal: 9.5875e-06 Rel dual: 1.6608e-06  OBJ 1.353e+01\n",
      "Time needed is 0.004316806793212891 seconds\n",
      "# iters:  111. Rel primal: 9.8942e-06 Rel dual: 1.9056e-06  OBJ 1.518e+01\n",
      "Time needed is 0.004113912582397461 seconds\n",
      "# iters:  116. Rel primal: 9.5876e-06 Rel dual: 1.6629e-06  OBJ 1.353e+01\n",
      "Time needed is 0.004495143890380859 seconds\n",
      "# iters:  111. Rel primal: 9.8945e-06 Rel dual: 1.9057e-06  OBJ 1.518e+01\n",
      "Time needed is 0.009772062301635742 seconds\n",
      "# iters:  116. Rel primal: 9.5877e-06 Rel dual: 1.6646e-06  OBJ 1.353e+01\n",
      "Time needed is 0.00427699089050293 seconds\n",
      "# iters:  111. Rel primal: 9.8947e-06 Rel dual: 1.9057e-06  OBJ 1.518e+01\n",
      "Time needed is 0.00426483154296875 seconds\n",
      "# iters:  116. Rel primal: 9.5878e-06 Rel dual: 1.6659e-06  OBJ 1.353e+01\n",
      "Time needed is 0.004987239837646484 seconds\n",
      "# iters:  111. Rel primal: 9.8948e-06 Rel dual: 1.9058e-06  OBJ 1.518e+01\n",
      "Time needed is 0.0042858123779296875 seconds\n",
      "# iters:  116. Rel primal: 9.5880e-06 Rel dual: 1.6668e-06  OBJ 1.353e+01\n",
      "Time needed is 0.004261970520019531 seconds\n",
      "# iters:  111. Rel primal: 9.8950e-06 Rel dual: 1.9058e-06  OBJ 1.518e+01\n",
      "Time needed is 0.01046299934387207 seconds\n",
      "# iters:  116. Rel primal: 9.5882e-06 Rel dual: 1.6675e-06  OBJ 1.353e+01\n",
      "Time needed is 0.0045928955078125 seconds\n",
      "# iters:  111. Rel primal: 9.8951e-06 Rel dual: 1.9058e-06  OBJ 1.518e+01\n",
      "Time needed is 0.004331827163696289 seconds\n",
      "# iters:  116. Rel primal: 9.5883e-06 Rel dual: 1.6681e-06  OBJ 1.353e+01\n",
      "Time needed is 0.0045070648193359375 seconds\n",
      "# iters:  111. Rel primal: 9.8951e-06 Rel dual: 1.9058e-06  OBJ 1.518e+01\n",
      "Time needed is 0.007207155227661133 seconds\n",
      "# iters:  116. Rel primal: 9.5885e-06 Rel dual: 1.6685e-06  OBJ 1.353e+01\n",
      "Time needed is 0.004283905029296875 seconds\n",
      "# iters:  111. Rel primal: 9.8952e-06 Rel dual: 1.9059e-06  OBJ 1.518e+01\n",
      "Time needed is 0.004097938537597656 seconds\n",
      "# iters:  116. Rel primal: 9.5885e-06 Rel dual: 1.6688e-06  OBJ 1.353e+01\n",
      "Time needed is 0.004285097122192383 seconds\n",
      "# iters:  111. Rel primal: 9.8952e-06 Rel dual: 1.9059e-06  OBJ 1.518e+01\n",
      "Time needed is 0.0058591365814208984 seconds\n",
      "# iters:  116. Rel primal: 9.5886e-06 Rel dual: 1.6691e-06  OBJ 1.353e+01\n",
      "Time needed is 0.006150245666503906 seconds\n",
      "# iters:  111. Rel primal: 9.8953e-06 Rel dual: 1.9059e-06  OBJ 1.518e+01\n",
      "Time needed is 0.004235029220581055 seconds\n",
      "# iters:  116. Rel primal: 9.5887e-06 Rel dual: 1.6693e-06  OBJ 1.353e+01\n",
      "Time needed is 0.004273176193237305 seconds\n",
      "# iters:  111. Rel primal: 9.8953e-06 Rel dual: 1.9059e-06  OBJ 1.518e+01\n",
      "Time needed is 0.0043680667877197266 seconds\n",
      "# iters:  116. Rel primal: 9.5887e-06 Rel dual: 1.6694e-06  OBJ 1.353e+01\n",
      "Time needed is 0.004450082778930664 seconds\n",
      "# iters:  111. Rel primal: 9.8953e-06 Rel dual: 1.9059e-06  OBJ 1.518e+01\n",
      "Time needed is 0.0040972232818603516 seconds\n",
      "# iters:  116. Rel primal: 9.5887e-06 Rel dual: 1.6695e-06  OBJ 1.353e+01\n",
      "Time needed is 0.0042607784271240234 seconds\n",
      "# iters:  111. Rel primal: 9.8953e-06 Rel dual: 1.9059e-06  OBJ 1.518e+01\n",
      "Time needed is 0.004086017608642578 seconds\n",
      "# iters:  116. Rel primal: 9.5888e-06 Rel dual: 1.6696e-06  OBJ 1.353e+01\n",
      "Time needed is 0.009840011596679688 seconds\n",
      "# iters:  111. Rel primal: 9.8953e-06 Rel dual: 1.9059e-06  OBJ 1.518e+01\n",
      "Time needed is 0.004423856735229492 seconds\n",
      "# iters:  116. Rel primal: 9.5888e-06 Rel dual: 1.6697e-06  OBJ 1.353e+01\n",
      "Time needed is 0.004271984100341797 seconds\n",
      "# iters:  111. Rel primal: 9.8954e-06 Rel dual: 1.9059e-06  OBJ 1.518e+01\n",
      "Time needed is 0.012527942657470703 seconds\n",
      "# iters:  116. Rel primal: 9.5888e-06 Rel dual: 1.6697e-06  OBJ 1.353e+01\n",
      "Time needed is 0.011904001235961914 seconds\n",
      "# iters:  111. Rel primal: 9.8954e-06 Rel dual: 1.9059e-06  OBJ 1.518e+01\n",
      "Time needed is 0.010740041732788086 seconds\n",
      "# iters:  116. Rel primal: 9.5888e-06 Rel dual: 1.6698e-06  OBJ 1.353e+01\n",
      "Time needed is 0.010047197341918945 seconds\n",
      "# iters:  111. Rel primal: 9.8954e-06 Rel dual: 1.9059e-06  OBJ 1.518e+01\n",
      "Time needed is 0.0044100284576416016 seconds\n",
      "# iters:  116. Rel primal: 9.5888e-06 Rel dual: 1.6698e-06  OBJ 1.353e+01\n",
      "Time needed is 0.005008220672607422 seconds\n",
      "# iters:  111. Rel primal: 9.8954e-06 Rel dual: 1.9059e-06  OBJ 1.518e+01\n",
      "Time needed is 0.008072853088378906 seconds\n",
      "# iters:  116. Rel primal: 9.5888e-06 Rel dual: 1.6698e-06  OBJ 1.353e+01\n",
      "Time needed is 0.004560708999633789 seconds\n",
      "# iters:  111. Rel primal: 9.8954e-06 Rel dual: 1.9059e-06  OBJ 1.518e+01\n",
      "Time needed is 0.004119873046875 seconds\n",
      "# iters:  116. Rel primal: 9.5888e-06 Rel dual: 1.6698e-06  OBJ 1.353e+01\n",
      "Time needed is 0.0045702457427978516 seconds\n",
      "# iters:  111. Rel primal: 9.8954e-06 Rel dual: 1.9059e-06  OBJ 1.518e+01\n",
      "Time needed is 0.004257917404174805 seconds\n",
      "# iters:  116. Rel primal: 9.5888e-06 Rel dual: 1.6699e-06  OBJ 1.353e+01\n",
      "Time needed is 0.00454401969909668 seconds\n",
      "# iters:  111. Rel primal: 9.8954e-06 Rel dual: 1.9059e-06  OBJ 1.518e+01\n",
      "Time needed is 0.005934238433837891 seconds\n",
      "# iters:  116. Rel primal: 9.5888e-06 Rel dual: 1.6699e-06  OBJ 1.353e+01\n",
      "Time needed is 0.004354953765869141 seconds\n",
      "# iters:  111. Rel primal: 9.8954e-06 Rel dual: 1.9059e-06  OBJ 1.518e+01\n",
      "Time needed is 0.004106998443603516 seconds\n",
      "# iters:  116. Rel primal: 9.5888e-06 Rel dual: 1.6699e-06  OBJ 1.353e+01\n",
      "Time needed is 0.004538774490356445 seconds\n",
      "# iters:  111. Rel primal: 9.8954e-06 Rel dual: 1.9059e-06  OBJ 1.518e+01\n",
      "Time needed is 0.0043179988861083984 seconds\n",
      "# iters:  116. Rel primal: 9.5888e-06 Rel dual: 1.6699e-06  OBJ 1.353e+01\n",
      "Time needed is 0.004261016845703125 seconds\n",
      "# iters:  111. Rel primal: 9.8954e-06 Rel dual: 1.9059e-06  OBJ 1.518e+01\n",
      "Time needed is 0.004092216491699219 seconds\n",
      "# iters:  116. Rel primal: 9.5888e-06 Rel dual: 1.6699e-06  OBJ 1.353e+01\n",
      "Time needed is 0.0044591426849365234 seconds\n",
      "# iters:  111. Rel primal: 9.8954e-06 Rel dual: 1.9059e-06  OBJ 1.518e+01\n",
      "Time needed is 0.004151821136474609 seconds\n",
      "# iters:  116. Rel primal: 9.5888e-06 Rel dual: 1.6699e-06  OBJ 1.353e+01\n",
      "Time needed is 0.007336854934692383 seconds\n",
      "# iters:  111. Rel primal: 9.8954e-06 Rel dual: 1.9059e-06  OBJ 1.518e+01\n",
      "Time needed is 0.004089832305908203 seconds\n",
      "# iters:  116. Rel primal: 9.5888e-06 Rel dual: 1.6699e-06  OBJ 1.353e+01\n",
      "Time needed is 0.009685039520263672 seconds\n",
      "# iters:  111. Rel primal: 9.8954e-06 Rel dual: 1.9059e-06  OBJ 1.518e+01\n",
      "Time needed is 0.007078886032104492 seconds\n",
      "# iters:  116. Rel primal: 9.5888e-06 Rel dual: 1.6699e-06  OBJ 1.353e+01\n",
      "Time needed is 0.00470280647277832 seconds\n",
      "# iters:  111. Rel primal: 9.8954e-06 Rel dual: 1.9059e-06  OBJ 1.518e+01\n",
      "Time needed is 0.004370927810668945 seconds\n",
      "# iters:  116. Rel primal: 9.5888e-06 Rel dual: 1.6699e-06  OBJ 1.353e+01\n",
      "Time needed is 0.0042459964752197266 seconds\n",
      "# iters:  111. Rel primal: 9.8954e-06 Rel dual: 1.9059e-06  OBJ 1.518e+01\n",
      "Time needed is 0.006705760955810547 seconds\n",
      "# iters:  116. Rel primal: 9.5888e-06 Rel dual: 1.6699e-06  OBJ 1.353e+01\n",
      "Time needed is 0.004274129867553711 seconds\n",
      "# iters:  111. Rel primal: 9.8954e-06 Rel dual: 1.9059e-06  OBJ 1.518e+01\n",
      "Time needed is 0.004452943801879883 seconds\n",
      "# iters:  116. Rel primal: 9.5888e-06 Rel dual: 1.6699e-06  OBJ 1.353e+01\n",
      "Time needed is 0.006024837493896484 seconds\n",
      "# iters:  111. Rel primal: 9.8954e-06 Rel dual: 1.9059e-06  OBJ 1.518e+01\n",
      "Time needed is 0.01631331443786621 seconds\n",
      "# iters:  116. Rel primal: 9.5888e-06 Rel dual: 1.6699e-06  OBJ 1.353e+01\n",
      "Time needed is 0.004915952682495117 seconds\n",
      "# iters:  111. Rel primal: 9.8954e-06 Rel dual: 1.9059e-06  OBJ 1.518e+01\n",
      "Time needed is 0.0051670074462890625 seconds\n",
      "# iters:  116. Rel primal: 9.5888e-06 Rel dual: 1.6699e-06  OBJ 1.353e+01\n",
      "Time needed is 0.004661083221435547 seconds\n",
      "# iters:  111. Rel primal: 9.8954e-06 Rel dual: 1.9059e-06  OBJ 1.518e+01\n",
      "Time needed is 0.009380102157592773 seconds\n",
      "# iters:  116. Rel primal: 9.5888e-06 Rel dual: 1.6699e-06  OBJ 1.353e+01\n",
      "Time needed is 0.0045049190521240234 seconds\n",
      "# iters:  111. Rel primal: 9.8954e-06 Rel dual: 1.9059e-06  OBJ 1.518e+01\n",
      "Time needed is 0.004191875457763672 seconds\n",
      "# iters:  116. Rel primal: 9.5888e-06 Rel dual: 1.6699e-06  OBJ 1.353e+01\n",
      "Time needed is 0.0045108795166015625 seconds\n",
      "# iters:  111. Rel primal: 9.8954e-06 Rel dual: 1.9059e-06  OBJ 1.518e+01\n",
      "Time needed is 0.0041179656982421875 seconds\n",
      "# iters:  116. Rel primal: 9.5888e-06 Rel dual: 1.6699e-06  OBJ 1.353e+01\n",
      "Time needed is 0.004343986511230469 seconds\n",
      "# iters:  111. Rel primal: 9.8954e-06 Rel dual: 1.9059e-06  OBJ 1.518e+01\n",
      "Time needed is 0.004317045211791992 seconds\n",
      "# iters:  116. Rel primal: 9.5888e-06 Rel dual: 1.6699e-06  OBJ 1.353e+01\n",
      "Time needed is 0.004269123077392578 seconds\n",
      "# iters:  111. Rel primal: 9.8954e-06 Rel dual: 1.9059e-06  OBJ 1.518e+01\n",
      "Time needed is 0.00707697868347168 seconds\n",
      "# iters:  116. Rel primal: 9.5888e-06 Rel dual: 1.6699e-06  OBJ 1.353e+01\n",
      "Time needed is 0.004266977310180664 seconds\n",
      "# iters:  111. Rel primal: 9.8954e-06 Rel dual: 1.9059e-06  OBJ 1.518e+01\n",
      "Time needed is 0.00426793098449707 seconds\n",
      "# iters:  116. Rel primal: 9.5888e-06 Rel dual: 1.6699e-06  OBJ 1.353e+01\n",
      "Time needed is 0.008184194564819336 seconds\n",
      "# iters:  111. Rel primal: 9.8954e-06 Rel dual: 1.9059e-06  OBJ 1.518e+01\n",
      "Time needed is 0.010822057723999023 seconds\n",
      "# iters:  116. Rel primal: 9.5888e-06 Rel dual: 1.6699e-06  OBJ 1.353e+01\n",
      "Time needed is 0.004270792007446289 seconds\n",
      "# iters:  111. Rel primal: 9.8954e-06 Rel dual: 1.9059e-06  OBJ 1.518e+01\n",
      "Time needed is 0.004104137420654297 seconds\n",
      "# iters:  116. Rel primal: 9.5888e-06 Rel dual: 1.6699e-06  OBJ 1.353e+01\n",
      "Time needed is 0.0044040679931640625 seconds\n",
      "# iters:  111. Rel primal: 9.8954e-06 Rel dual: 1.9059e-06  OBJ 1.518e+01\n",
      "Time needed is 0.004109859466552734 seconds\n",
      "# iters:  116. Rel primal: 9.5888e-06 Rel dual: 1.6699e-06  OBJ 1.353e+01\n",
      "Time needed is 0.004287004470825195 seconds\n",
      "# iters:  111. Rel primal: 9.8954e-06 Rel dual: 1.9059e-06  OBJ 1.518e+01\n",
      "Time needed is 0.008376121520996094 seconds\n",
      "# iters:  116. Rel primal: 9.5888e-06 Rel dual: 1.6699e-06  OBJ 1.353e+01\n",
      "Time needed is 0.0048449039459228516 seconds\n",
      "# iters:  111. Rel primal: 9.8954e-06 Rel dual: 1.9059e-06  OBJ 1.518e+01\n",
      "Time needed is 0.004492759704589844 seconds\n",
      "# iters:  116. Rel primal: 9.5888e-06 Rel dual: 1.6699e-06  OBJ 1.353e+01\n",
      "Time needed is 0.004494190216064453 seconds\n",
      "# iters:  111. Rel primal: 9.8954e-06 Rel dual: 1.9059e-06  OBJ 1.518e+01\n",
      "Time needed is 0.0053369998931884766 seconds\n",
      "# iters:  116. Rel primal: 9.5888e-06 Rel dual: 1.6699e-06  OBJ 1.353e+01\n",
      "Time needed is 0.004492998123168945 seconds\n",
      "# iters:  111. Rel primal: 9.8954e-06 Rel dual: 1.9059e-06  OBJ 1.518e+01\n",
      "Time needed is 0.004321098327636719 seconds\n",
      "# iters:  116. Rel primal: 9.5888e-06 Rel dual: 1.6699e-06  OBJ 1.353e+01\n",
      "Time needed is 0.004277944564819336 seconds\n",
      "# iters:  111. Rel primal: 9.8954e-06 Rel dual: 1.9059e-06  OBJ 1.518e+01\n",
      "Time needed is 0.0042171478271484375 seconds\n",
      "# iters:  116. Rel primal: 9.5888e-06 Rel dual: 1.6699e-06  OBJ 1.353e+01\n",
      "Time needed is 0.004271030426025391 seconds\n",
      "# iters:  111. Rel primal: 9.8954e-06 Rel dual: 1.9059e-06  OBJ 1.518e+01\n",
      "Time needed is 0.004099130630493164 seconds\n",
      "# iters:  116. Rel primal: 9.5888e-06 Rel dual: 1.6699e-06  OBJ 1.353e+01\n",
      "Time needed is 0.015536308288574219 seconds\n",
      "# iters:  111. Rel primal: 9.8954e-06 Rel dual: 1.9059e-06  OBJ 1.518e+01\n",
      "Time needed is 0.005551815032958984 seconds\n",
      "# iters:  116. Rel primal: 9.5888e-06 Rel dual: 1.6699e-06  OBJ 1.353e+01\n",
      "Time needed is 0.005814075469970703 seconds\n",
      "# iters:  111. Rel primal: 9.8954e-06 Rel dual: 1.9059e-06  OBJ 1.518e+01\n",
      "Time needed is 0.0041239261627197266 seconds\n",
      "# iters:  116. Rel primal: 9.5888e-06 Rel dual: 1.6699e-06  OBJ 1.353e+01\n",
      "Time needed is 0.004279136657714844 seconds\n",
      "# iters:  111. Rel primal: 9.8954e-06 Rel dual: 1.9059e-06  OBJ 1.518e+01\n",
      "Time needed is 0.004092693328857422 seconds\n",
      "# iters:  116. Rel primal: 9.5888e-06 Rel dual: 1.6699e-06  OBJ 1.353e+01\n",
      "Time needed is 0.006662845611572266 seconds\n",
      "# iters:  111. Rel primal: 9.8954e-06 Rel dual: 1.9059e-06  OBJ 1.518e+01\n",
      "Time needed is 0.004235029220581055 seconds\n",
      "# iters:  116. Rel primal: 9.5888e-06 Rel dual: 1.6699e-06  OBJ 1.353e+01\n",
      "Time needed is 0.004533052444458008 seconds\n",
      "# iters:  111. Rel primal: 9.8954e-06 Rel dual: 1.9059e-06  OBJ 1.518e+01\n",
      "Time needed is 0.004117012023925781 seconds\n",
      "# iters:  116. Rel primal: 9.5888e-06 Rel dual: 1.6699e-06  OBJ 1.353e+01\n",
      "Time needed is 0.005037784576416016 seconds\n",
      "# iters:  111. Rel primal: 9.8954e-06 Rel dual: 1.9059e-06  OBJ 1.518e+01\n",
      "Time needed is 0.009233236312866211 seconds\n",
      "# iters:  116. Rel primal: 9.5888e-06 Rel dual: 1.6699e-06  OBJ 1.353e+01\n",
      "Time needed is 0.00440216064453125 seconds\n",
      "# iters:  111. Rel primal: 9.8954e-06 Rel dual: 1.9059e-06  OBJ 1.518e+01\n",
      "Time needed is 0.0040929317474365234 seconds\n",
      "# iters:  116. Rel primal: 9.5888e-06 Rel dual: 1.6699e-06  OBJ 1.353e+01\n",
      "Time needed is 0.0043599605560302734 seconds\n",
      "# iters:  111. Rel primal: 9.8954e-06 Rel dual: 1.9059e-06  OBJ 1.518e+01\n",
      "Time needed is 0.0043621063232421875 seconds\n",
      "# iters:  116. Rel primal: 9.5888e-06 Rel dual: 1.6699e-06  OBJ 1.353e+01\n",
      "Time needed is 0.004261016845703125 seconds\n",
      "# iters:  111. Rel primal: 9.8954e-06 Rel dual: 1.9059e-06  OBJ 1.518e+01\n",
      "Time needed is 0.004075050354003906 seconds\n",
      "# iters:  116. Rel primal: 9.5888e-06 Rel dual: 1.6699e-06  OBJ 1.353e+01\n",
      "Time needed is 0.01001882553100586 seconds\n",
      "# iters:  111. Rel primal: 9.8954e-06 Rel dual: 1.9059e-06  OBJ 1.518e+01\n",
      "Time needed is 0.004281759262084961 seconds\n",
      "# iters:  116. Rel primal: 9.5888e-06 Rel dual: 1.6699e-06  OBJ 1.353e+01\n",
      "Time needed is 0.00455927848815918 seconds\n",
      "# iters:  111. Rel primal: 9.8954e-06 Rel dual: 1.9059e-06  OBJ 1.518e+01\n",
      "Time needed is 0.010246992111206055 seconds\n",
      "# iters:  116. Rel primal: 9.5888e-06 Rel dual: 1.6699e-06  OBJ 1.353e+01\n",
      "Time needed is 0.004312992095947266 seconds\n",
      "# iters:  111. Rel primal: 9.8954e-06 Rel dual: 1.9059e-06  OBJ 1.518e+01\n",
      "Time needed is 0.004164934158325195 seconds\n",
      "# iters:  116. Rel primal: 9.5888e-06 Rel dual: 1.6699e-06  OBJ 1.353e+01\n",
      "Time needed is 0.011771202087402344 seconds\n",
      "# iters:  111. Rel primal: 9.8954e-06 Rel dual: 1.9059e-06  OBJ 1.518e+01\n",
      "Time needed is 0.018210172653198242 seconds\n",
      "# iters:  116. Rel primal: 9.5888e-06 Rel dual: 1.6699e-06  OBJ 1.353e+01\n",
      "Time needed is 0.005610942840576172 seconds\n",
      "# iters:  111. Rel primal: 9.8954e-06 Rel dual: 1.9059e-06  OBJ 1.518e+01\n",
      "Time needed is 0.004400730133056641 seconds\n",
      "# iters:  116. Rel primal: 9.5888e-06 Rel dual: 1.6699e-06  OBJ 1.353e+01\n",
      "Time needed is 0.0042879581451416016 seconds\n",
      "# iters:  111. Rel primal: 9.8954e-06 Rel dual: 1.9059e-06  OBJ 1.518e+01\n",
      "Time needed is 0.009870052337646484 seconds\n",
      "# iters:  116. Rel primal: 9.5888e-06 Rel dual: 1.6699e-06  OBJ 1.353e+01\n",
      "Time needed is 0.0070269107818603516 seconds\n",
      "# iters:  111. Rel primal: 9.8954e-06 Rel dual: 1.9059e-06  OBJ 1.518e+01\n",
      "Time needed is 0.00841379165649414 seconds\n",
      "# iters:  116. Rel primal: 9.5888e-06 Rel dual: 1.6699e-06  OBJ 1.353e+01\n",
      "Time needed is 0.012406110763549805 seconds\n",
      "# iters:  111. Rel primal: 9.8954e-06 Rel dual: 1.9059e-06  OBJ 1.518e+01\n",
      "Time needed is 0.006014823913574219 seconds\n",
      "# iters:  116. Rel primal: 9.5888e-06 Rel dual: 1.6699e-06  OBJ 1.353e+01\n",
      "Time needed is 0.004472970962524414 seconds\n",
      "# iters:  111. Rel primal: 9.8954e-06 Rel dual: 1.9059e-06  OBJ 1.518e+01\n",
      "Time needed is 0.004111051559448242 seconds\n",
      "# iters:  116. Rel primal: 9.5888e-06 Rel dual: 1.6699e-06  OBJ 1.353e+01\n",
      "Time needed is 0.005414009094238281 seconds\n",
      "# iters:  111. Rel primal: 9.8954e-06 Rel dual: 1.9059e-06  OBJ 1.518e+01\n",
      "Time needed is 0.004339933395385742 seconds\n",
      "# iters:  116. Rel primal: 9.5888e-06 Rel dual: 1.6699e-06  OBJ 1.353e+01\n",
      "Time needed is 0.006495952606201172 seconds\n",
      "# iters:  111. Rel primal: 9.8954e-06 Rel dual: 1.9059e-06  OBJ 1.518e+01\n",
      "Time needed is 0.0041391849517822266 seconds\n",
      "# iters:  116. Rel primal: 9.5888e-06 Rel dual: 1.6699e-06  OBJ 1.353e+01\n",
      "Time needed is 0.00426793098449707 seconds\n",
      "# iters:  111. Rel primal: 9.8954e-06 Rel dual: 1.9059e-06  OBJ 1.518e+01\n",
      "Time needed is 0.0041048526763916016 seconds\n",
      "# iters:  116. Rel primal: 9.5888e-06 Rel dual: 1.6699e-06  OBJ 1.353e+01\n",
      "Time needed is 0.0059680938720703125 seconds\n",
      "# iters:  111. Rel primal: 9.8954e-06 Rel dual: 1.9059e-06  OBJ 1.518e+01\n",
      "Time needed is 0.004293203353881836 seconds\n",
      "# iters:  116. Rel primal: 9.5888e-06 Rel dual: 1.6699e-06  OBJ 1.353e+01\n",
      "Time needed is 0.0068171024322509766 seconds\n",
      "# iters:  111. Rel primal: 9.8954e-06 Rel dual: 1.9059e-06  OBJ 1.518e+01\n",
      "Time needed is 0.004523038864135742 seconds\n",
      "# iters:  116. Rel primal: 9.5888e-06 Rel dual: 1.6699e-06  OBJ 1.353e+01\n",
      "Time needed is 0.004270792007446289 seconds\n",
      "# iters:  111. Rel primal: 9.8954e-06 Rel dual: 1.9059e-06  OBJ 1.518e+01\n",
      "Time needed is 0.0045506954193115234 seconds\n",
      "# iters:  116. Rel primal: 9.5888e-06 Rel dual: 1.6699e-06  OBJ 1.353e+01\n",
      "Time needed is 0.004385948181152344 seconds\n",
      "# iters:  111. Rel primal: 9.8954e-06 Rel dual: 1.9059e-06  OBJ 1.518e+01\n",
      "Time needed is 0.004096031188964844 seconds\n",
      "# iters:  116. Rel primal: 9.5888e-06 Rel dual: 1.6699e-06  OBJ 1.353e+01\n",
      "Time needed is 0.004261970520019531 seconds\n",
      "# iters:  111. Rel primal: 9.8954e-06 Rel dual: 1.9059e-06  OBJ 1.518e+01\n",
      "Time needed is 0.009440898895263672 seconds\n",
      "# iters:  116. Rel primal: 9.5888e-06 Rel dual: 1.6699e-06  OBJ 1.353e+01\n",
      "Time needed is 0.004296302795410156 seconds\n",
      "# iters:  111. Rel primal: 9.8954e-06 Rel dual: 1.9059e-06  OBJ 1.518e+01\n",
      "Time needed is 0.009403228759765625 seconds\n",
      "# iters:  116. Rel primal: 9.5888e-06 Rel dual: 1.6699e-06  OBJ 1.353e+01\n",
      "Time needed is 0.004925966262817383 seconds\n",
      "# iters:  111. Rel primal: 9.8954e-06 Rel dual: 1.9059e-06  OBJ 1.518e+01\n",
      "Time needed is 0.005798816680908203 seconds\n",
      "# iters:  116. Rel primal: 9.5888e-06 Rel dual: 1.6699e-06  OBJ 1.353e+01\n",
      "Time needed is 0.004461050033569336 seconds\n",
      "# iters:  111. Rel primal: 9.8954e-06 Rel dual: 1.9059e-06  OBJ 1.518e+01\n",
      "Time needed is 0.004094123840332031 seconds\n",
      "# iters:  116. Rel primal: 9.5888e-06 Rel dual: 1.6699e-06  OBJ 1.353e+01\n",
      "Time needed is 0.004445791244506836 seconds\n",
      "# iters:  111. Rel primal: 9.8954e-06 Rel dual: 1.9059e-06  OBJ 1.518e+01\n",
      "Time needed is 0.011152982711791992 seconds\n",
      "# iters:  116. Rel primal: 9.5888e-06 Rel dual: 1.6699e-06  OBJ 1.353e+01\n",
      "Time needed is 0.005766868591308594 seconds\n",
      "# iters:  111. Rel primal: 9.8954e-06 Rel dual: 1.9059e-06  OBJ 1.518e+01\n",
      "Time needed is 0.0043201446533203125 seconds\n",
      "# iters:  116. Rel primal: 9.5888e-06 Rel dual: 1.6699e-06  OBJ 1.353e+01\n",
      "Time needed is 0.004504203796386719 seconds\n",
      "# iters:  111. Rel primal: 9.8954e-06 Rel dual: 1.9059e-06  OBJ 1.518e+01\n",
      "Time needed is 0.004286289215087891 seconds\n",
      "# iters:  116. Rel primal: 9.5888e-06 Rel dual: 1.6699e-06  OBJ 1.353e+01\n",
      "Time needed is 0.009850263595581055 seconds\n",
      "# iters:  111. Rel primal: 9.8954e-06 Rel dual: 1.9059e-06  OBJ 1.518e+01\n",
      "Time needed is 0.011456012725830078 seconds\n",
      "# iters:  116. Rel primal: 9.5888e-06 Rel dual: 1.6699e-06  OBJ 1.353e+01\n",
      "Time needed is 0.004500865936279297 seconds\n",
      "# iters:  111. Rel primal: 9.8954e-06 Rel dual: 1.9059e-06  OBJ 1.518e+01\n",
      "Time needed is 0.004251956939697266 seconds\n",
      "# iters:  116. Rel primal: 9.5888e-06 Rel dual: 1.6699e-06  OBJ 1.353e+01\n",
      "Time needed is 0.0048580169677734375 seconds\n",
      "# iters:  111. Rel primal: 9.8954e-06 Rel dual: 1.9059e-06  OBJ 1.518e+01\n",
      "Time needed is 0.014620065689086914 seconds\n",
      "# iters:  116. Rel primal: 9.5888e-06 Rel dual: 1.6699e-06  OBJ 1.353e+01\n",
      "Time needed is 0.00594782829284668 seconds\n",
      "# iters:  111. Rel primal: 9.8954e-06 Rel dual: 1.9059e-06  OBJ 1.518e+01\n",
      "Time needed is 0.0040934085845947266 seconds\n",
      "# iters:  116. Rel primal: 9.5888e-06 Rel dual: 1.6699e-06  OBJ 1.353e+01\n",
      "Time needed is 0.009237051010131836 seconds\n",
      "# iters:  111. Rel primal: 9.8954e-06 Rel dual: 1.9059e-06  OBJ 1.518e+01\n",
      "Time needed is 0.004112720489501953 seconds\n",
      "# iters:  116. Rel primal: 9.5888e-06 Rel dual: 1.6699e-06  OBJ 1.353e+01\n",
      "Time needed is 0.0042781829833984375 seconds\n",
      "# iters:  111. Rel primal: 9.8954e-06 Rel dual: 1.9059e-06  OBJ 1.518e+01\n",
      "Time needed is 0.004114866256713867 seconds\n",
      "# iters:  116. Rel primal: 9.5888e-06 Rel dual: 1.6699e-06  OBJ 1.353e+01\n",
      "Time needed is 0.0044138431549072266 seconds\n",
      "# iters:  111. Rel primal: 9.8954e-06 Rel dual: 1.9059e-06  OBJ 1.518e+01\n",
      "Time needed is 0.00410914421081543 seconds\n",
      "# iters:  116. Rel primal: 9.5888e-06 Rel dual: 1.6699e-06  OBJ 1.353e+01\n",
      "Time needed is 0.004283905029296875 seconds\n",
      "# iters:  111. Rel primal: 9.8954e-06 Rel dual: 1.9059e-06  OBJ 1.518e+01\n",
      "Time needed is 0.00535893440246582 seconds\n",
      "# iters:  116. Rel primal: 9.5888e-06 Rel dual: 1.6699e-06  OBJ 1.353e+01\n",
      "Time needed is 0.004439830780029297 seconds\n",
      "# iters:  111. Rel primal: 9.8954e-06 Rel dual: 1.9059e-06  OBJ 1.518e+01\n",
      "Time needed is 0.004101991653442383 seconds\n",
      "# iters:  116. Rel primal: 9.5888e-06 Rel dual: 1.6699e-06  OBJ 1.353e+01\n",
      "Time needed is 0.009848833084106445 seconds\n",
      "# iters:  111. Rel primal: 9.8954e-06 Rel dual: 1.9059e-06  OBJ 1.518e+01\n",
      "Time needed is 0.0042188167572021484 seconds\n",
      "# iters:  116. Rel primal: 9.5888e-06 Rel dual: 1.6699e-06  OBJ 1.353e+01\n",
      "Time needed is 0.0042858123779296875 seconds\n",
      "# iters:  111. Rel primal: 9.8954e-06 Rel dual: 1.9059e-06  OBJ 1.518e+01\n",
      "Time needed is 0.004118919372558594 seconds\n",
      "# iters:  116. Rel primal: 9.5888e-06 Rel dual: 1.6699e-06  OBJ 1.353e+01\n",
      "Time needed is 0.004345893859863281 seconds\n",
      "# iters:  111. Rel primal: 9.8954e-06 Rel dual: 1.9059e-06  OBJ 1.518e+01\n",
      "Time needed is 0.0040988922119140625 seconds\n",
      "# iters:  116. Rel primal: 9.5888e-06 Rel dual: 1.6699e-06  OBJ 1.353e+01\n",
      "Time needed is 0.009562969207763672 seconds\n",
      "# iters:  111. Rel primal: 9.8954e-06 Rel dual: 1.9059e-06  OBJ 1.518e+01\n",
      "Time needed is 0.004163026809692383 seconds\n",
      "# iters:  116. Rel primal: 9.5888e-06 Rel dual: 1.6699e-06  OBJ 1.353e+01\n",
      "Time needed is 0.004475116729736328 seconds\n",
      "# iters:  111. Rel primal: 9.8954e-06 Rel dual: 1.9059e-06  OBJ 1.518e+01\n",
      "Time needed is 0.0043332576751708984 seconds\n",
      "# iters:  116. Rel primal: 9.5888e-06 Rel dual: 1.6699e-06  OBJ 1.353e+01\n",
      "Time needed is 0.01156306266784668 seconds\n",
      "# iters:  111. Rel primal: 9.8954e-06 Rel dual: 1.9059e-06  OBJ 1.518e+01\n",
      "Time needed is 0.006991863250732422 seconds\n",
      "# iters:  116. Rel primal: 9.5888e-06 Rel dual: 1.6699e-06  OBJ 1.353e+01\n",
      "Time needed is 0.004371166229248047 seconds\n",
      "# iters:  111. Rel primal: 9.8954e-06 Rel dual: 1.9059e-06  OBJ 1.518e+01\n",
      "Time needed is 0.006381034851074219 seconds\n",
      "# iters:  116. Rel primal: 9.5888e-06 Rel dual: 1.6699e-06  OBJ 1.353e+01\n",
      "Time needed is 0.004299640655517578 seconds\n",
      "# iters:  111. Rel primal: 9.8954e-06 Rel dual: 1.9059e-06  OBJ 1.518e+01\n",
      "Time needed is 0.004096031188964844 seconds\n",
      "# iters:  116. Rel primal: 9.5888e-06 Rel dual: 1.6699e-06  OBJ 1.353e+01\n",
      "Time needed is 0.00868082046508789 seconds\n",
      "# iters:  111. Rel primal: 9.8954e-06 Rel dual: 1.9059e-06  OBJ 1.518e+01\n",
      "Time needed is 0.00628209114074707 seconds\n",
      "# iters:  116. Rel primal: 9.5888e-06 Rel dual: 1.6699e-06  OBJ 1.353e+01\n",
      "Time needed is 0.0042879581451416016 seconds\n",
      "# iters:  111. Rel primal: 9.8954e-06 Rel dual: 1.9059e-06  OBJ 1.518e+01\n",
      "Time needed is 0.011597633361816406 seconds\n",
      "# iters:  116. Rel primal: 9.5888e-06 Rel dual: 1.6699e-06  OBJ 1.353e+01\n",
      "Time needed is 0.005820035934448242 seconds\n",
      "# iters:  111. Rel primal: 9.8954e-06 Rel dual: 1.9059e-06  OBJ 1.518e+01\n",
      "Time needed is 0.004575967788696289 seconds\n",
      "# iters:  116. Rel primal: 9.5888e-06 Rel dual: 1.6699e-06  OBJ 1.353e+01\n",
      "Time needed is 0.013350963592529297 seconds\n",
      "# iters:  111. Rel primal: 9.8954e-06 Rel dual: 1.9059e-06  OBJ 1.518e+01\n",
      "Time needed is 0.006937980651855469 seconds\n",
      "# iters:  116. Rel primal: 9.5888e-06 Rel dual: 1.6699e-06  OBJ 1.353e+01\n",
      "Time needed is 0.005015134811401367 seconds\n",
      "# iters:  111. Rel primal: 9.8954e-06 Rel dual: 1.9059e-06  OBJ 1.518e+01\n",
      "Time needed is 0.006576061248779297 seconds\n",
      "# iters:  116. Rel primal: 9.5888e-06 Rel dual: 1.6699e-06  OBJ 1.353e+01\n",
      "Time needed is 0.00616908073425293 seconds\n",
      "# iters:  111. Rel primal: 9.8954e-06 Rel dual: 1.9059e-06  OBJ 1.518e+01\n",
      "Time needed is 0.004441022872924805 seconds\n",
      "# iters:  116. Rel primal: 9.5888e-06 Rel dual: 1.6699e-06  OBJ 1.353e+01\n",
      "Time needed is 0.010504961013793945 seconds\n",
      "# iters:  111. Rel primal: 9.8954e-06 Rel dual: 1.9059e-06  OBJ 1.518e+01\n",
      "Time needed is 0.004269123077392578 seconds\n",
      "# iters:  116. Rel primal: 9.5888e-06 Rel dual: 1.6699e-06  OBJ 1.353e+01\n",
      "Time needed is 0.014880895614624023 seconds\n",
      "# iters:  111. Rel primal: 9.8954e-06 Rel dual: 1.9059e-06  OBJ 1.518e+01\n",
      "Time needed is 0.00787973403930664 seconds\n",
      "# iters:  116. Rel primal: 9.5888e-06 Rel dual: 1.6699e-06  OBJ 1.353e+01\n",
      "Time needed is 0.00437617301940918 seconds\n",
      "# iters:  111. Rel primal: 9.8954e-06 Rel dual: 1.9059e-06  OBJ 1.518e+01\n",
      "Time needed is 0.004209041595458984 seconds\n",
      "# iters:  116. Rel primal: 9.5888e-06 Rel dual: 1.6699e-06  OBJ 1.353e+01\n",
      "Time needed is 0.00445103645324707 seconds\n",
      "# iters:  111. Rel primal: 9.8954e-06 Rel dual: 1.9059e-06  OBJ 1.518e+01\n",
      "Time needed is 0.004127979278564453 seconds\n",
      "# iters:  116. Rel primal: 9.5888e-06 Rel dual: 1.6699e-06  OBJ 1.353e+01\n",
      "Time needed is 0.004281759262084961 seconds\n",
      "# iters:  111. Rel primal: 9.8954e-06 Rel dual: 1.9059e-06  OBJ 1.518e+01\n",
      "Time needed is 0.004347085952758789 seconds\n",
      "# iters:  116. Rel primal: 9.5888e-06 Rel dual: 1.6699e-06  OBJ 1.353e+01\n",
      "Time needed is 0.0042650699615478516 seconds\n",
      "# iters:  111. Rel primal: 9.8954e-06 Rel dual: 1.9059e-06  OBJ 1.518e+01\n",
      "Time needed is 0.0041162967681884766 seconds\n",
      "# iters:  116. Rel primal: 9.5888e-06 Rel dual: 1.6699e-06  OBJ 1.353e+01\n",
      "Time needed is 0.004286050796508789 seconds\n",
      "# iters:  111. Rel primal: 9.8954e-06 Rel dual: 1.9059e-06  OBJ 1.518e+01\n",
      "Time needed is 0.0040912628173828125 seconds\n",
      "# iters:  116. Rel primal: 9.5888e-06 Rel dual: 1.6699e-06  OBJ 1.353e+01\n",
      "Time needed is 0.0042858123779296875 seconds\n",
      "# iters:  111. Rel primal: 9.8954e-06 Rel dual: 1.9059e-06  OBJ 1.518e+01\n",
      "Time needed is 0.0041239261627197266 seconds\n",
      "# iters:  116. Rel primal: 9.5888e-06 Rel dual: 1.6699e-06  OBJ 1.353e+01\n",
      "Time needed is 0.004290103912353516 seconds\n",
      "# iters:  111. Rel primal: 9.8954e-06 Rel dual: 1.9059e-06  OBJ 1.518e+01\n",
      "Time needed is 0.0041141510009765625 seconds\n",
      "# iters:  116. Rel primal: 9.5888e-06 Rel dual: 1.6699e-06  OBJ 1.353e+01\n",
      "Time needed is 0.004471778869628906 seconds\n",
      "# iters:  111. Rel primal: 9.8954e-06 Rel dual: 1.9059e-06  OBJ 1.518e+01\n",
      "Time needed is 0.004435062408447266 seconds\n",
      "# iters:  116. Rel primal: 9.5888e-06 Rel dual: 1.6699e-06  OBJ 1.353e+01\n",
      "Time needed is 0.0044269561767578125 seconds\n",
      "# iters:  111. Rel primal: 9.8954e-06 Rel dual: 1.9059e-06  OBJ 1.518e+01\n",
      "Time needed is 0.004106044769287109 seconds\n",
      "# iters:  116. Rel primal: 9.5888e-06 Rel dual: 1.6699e-06  OBJ 1.353e+01\n",
      "Time needed is 0.004282951354980469 seconds\n",
      "# iters:  111. Rel primal: 9.8954e-06 Rel dual: 1.9059e-06  OBJ 1.518e+01\n",
      "Time needed is 0.0043849945068359375 seconds\n",
      "# iters:  116. Rel primal: 9.5888e-06 Rel dual: 1.6699e-06  OBJ 1.353e+01\n",
      "Time needed is 0.004281282424926758 seconds\n",
      "# iters:  111. Rel primal: 9.8954e-06 Rel dual: 1.9059e-06  OBJ 1.518e+01\n",
      "Time needed is 0.004238128662109375 seconds\n",
      "# iters:  116. Rel primal: 9.5888e-06 Rel dual: 1.6699e-06  OBJ 1.353e+01\n",
      "Time needed is 0.00449371337890625 seconds\n",
      "# iters:  111. Rel primal: 9.8954e-06 Rel dual: 1.9059e-06  OBJ 1.518e+01\n",
      "Time needed is 0.0041751861572265625 seconds\n",
      "# iters:  116. Rel primal: 9.5888e-06 Rel dual: 1.6699e-06  OBJ 1.353e+01\n",
      "Time needed is 0.004272937774658203 seconds\n",
      "# iters:  111. Rel primal: 9.8954e-06 Rel dual: 1.9059e-06  OBJ 1.518e+01\n",
      "Time needed is 0.00475001335144043 seconds\n",
      "# iters:  116. Rel primal: 9.5888e-06 Rel dual: 1.6699e-06  OBJ 1.353e+01\n",
      "Time needed is 0.00428318977355957 seconds\n",
      "# iters:  111. Rel primal: 9.8954e-06 Rel dual: 1.9059e-06  OBJ 1.518e+01\n",
      "Time needed is 0.0045659542083740234 seconds\n",
      "# iters:  116. Rel primal: 9.5888e-06 Rel dual: 1.6699e-06  OBJ 1.353e+01\n",
      "Time needed is 0.012476921081542969 seconds\n",
      "# iters:  111. Rel primal: 9.8954e-06 Rel dual: 1.9059e-06  OBJ 1.518e+01\n",
      "Time needed is 0.004343986511230469 seconds\n",
      "# iters:  116. Rel primal: 9.5888e-06 Rel dual: 1.6699e-06  OBJ 1.353e+01\n",
      "Time needed is 0.01524209976196289 seconds\n",
      "# iters:  111. Rel primal: 9.8954e-06 Rel dual: 1.9059e-06  OBJ 1.518e+01\n",
      "Time needed is 0.0076868534088134766 seconds\n",
      "# iters:  116. Rel primal: 9.5888e-06 Rel dual: 1.6699e-06  OBJ 1.353e+01\n",
      "Time needed is 0.004617929458618164 seconds\n",
      "# iters:  111. Rel primal: 9.8954e-06 Rel dual: 1.9059e-06  OBJ 1.518e+01\n",
      "Time needed is 0.004761934280395508 seconds\n",
      "# iters:  116. Rel primal: 9.5888e-06 Rel dual: 1.6699e-06  OBJ 1.353e+01\n",
      "Time needed is 0.00436091423034668 seconds\n",
      "# iters:  111. Rel primal: 9.8954e-06 Rel dual: 1.9059e-06  OBJ 1.518e+01\n",
      "Time needed is 0.014159917831420898 seconds\n",
      "# iters:  116. Rel primal: 9.5888e-06 Rel dual: 1.6699e-06  OBJ 1.353e+01\n",
      "Time needed is 0.004441261291503906 seconds\n",
      "Training done\n",
      "sum(gamma_hats,1): [105.19952194  44.80047806]\n",
      "Identify: [1 0]\n",
      "Precision: [[0.76923077]\n",
      " [0.80645161]]\n",
      "Recall: [[0.39473684]\n",
      " [0.34722222]]\n",
      "F-measure: [[0.52173913]\n",
      " [0.48543689]]\n",
      "Cluster Errors: [44.36711956 44.36711956]\n",
      "NMI Scores: [0.00496383 0.02438461]\n",
      "Number of edges: [39. 31.]\n",
      "\n",
      "Are all elements in each row of gamma_hats summing to 1: True\n"
     ]
    }
   ],
   "source": [
    "\n",
    "\n",
    "# Set parameters according to the theoretical setup:\n",
    "n = 15   # graph size\n",
    "m = 150  # number of signals\n",
    "k = 2    # number of clusters\n",
    "zero_thresh = 1e-4\n",
    "\n",
    "# Generate k connected Erdos-Renyi graphs as in the MATLAB code\n",
    "g = []\n",
    "for i in range(k):\n",
    "    g.append(generate_connected_graph(n, 0.7, zero_thresh, maxit=10, verbose=1))\n",
    "\n",
    "# Generate cluster memberships and signals according to the setup:\n",
    "# gamma = rand(m,1) ~ uniform random in [0,1)\n",
    "# p = [0, 1/k, 2/k, ..., 1] to define cluster assignments\n",
    "gamma = np.random.rand(m, 1)\n",
    "gamma_cut = np.zeros((m, k))\n",
    "dist = 0.5\n",
    "p = np.linspace(0, 1, k+1)  # for k=2, p=[0,0.5,1]; for balanced clusters {0.5,0.5}\n",
    "\n",
    "y = np.zeros((m, n))\n",
    "true_y = np.zeros((m, n, k))\n",
    "center = np.zeros((n, k))\n",
    "gauss = np.zeros((n, n, k))\n",
    "Lap = np.zeros((n, n, k))\n",
    "\n",
    "# According to the theory, each cluster k has:\n",
    "#  - A mean vector µ_k ~ N(0, σ^2 I) with σ=0.5, done by dist * randn and then centering.\n",
    "#  - Signals from cluster k are: x_m ∼ N(µ_k, L_k^\\dagger)\n",
    "# The code:\n",
    "for i in range(k):\n",
    "    L_mat = g[i]['L']          # Retrieve the Laplacian from the generated graph\n",
    "    gc = np.linalg.pinv(L_mat) # Pseudoinverse for covariance\n",
    "    gauss[:, :, i] = (gc + gc.T) / 2\n",
    "    Lap[:, :, i] = L_mat\n",
    "\n",
    "    # Generate center vector µ_k as per σ=0.5\n",
    "    c = dist * np.random.randn(n)\n",
    "    c = c - np.mean(c)  # ensure mean is zero\n",
    "    center[:, i] = c\n",
    "\n",
    "    # Assign signals to cluster i according to p:\n",
    "    mask = (gamma[:, 0] > p[i]) & (gamma[:, 0] <= p[i+1])\n",
    "    gamma_cut[mask, i] = 1\n",
    "\n",
    "    # Generate signals for cluster i\n",
    "    # x_m ∼ N(µ_i, gauss[:,:,i]) if in cluster i, else 0\n",
    "    samples = np.random.multivariate_normal(center[:, i], gauss[:, :, i], m)\n",
    "    samples = gamma_cut[:, i][:, np.newaxis] * samples  # 0 out for non-members\n",
    "    true_y[:, :, i] = samples\n",
    "    y += samples\n",
    "\n",
    "# Now we train the GLMM on data y:\n",
    "# Using glmm as previously defined\n",
    "iterations = 200\n",
    "y= normalize_data(y)\n",
    "in_alpha = [0.2,0.8]\n",
    "Ls, gamma_hats, mus, log_likelihood = glmm(y, iterations, k, spread=0.1, regul=0.15, norm_par=1.5, alpha=in_alpha)\n",
    "print('Training done')\n",
    "\n",
    "# Check sum(gamma_hats,1) as in MATLAB (sum along rows in MATLAB is axis=0 in Python)\n",
    "print(\"sum(gamma_hats,1):\", np.sum(gamma_hats, axis=0))\n",
    "\n",
    "# Identify and compare results (assuming identify_and_compare returns identify, precision, recall, f, cl_errors, NMI_scores, num_of_edges_arr)\n",
    "identify, precision, recall, f, cl_errors, NMI_scores, num_of_edges_arr = identify_and_compare(Ls, Lap, gamma_hats, gamma_cut, k)\n",
    "\n",
    "print(\"Identify:\", identify)\n",
    "print(\"Precision:\", precision)\n",
    "print(\"Recall:\", recall)\n",
    "print(\"F-measure:\", f)\n",
    "print(\"Cluster Errors:\", cl_errors)\n",
    "print(\"NMI Scores:\", NMI_scores)\n",
    "print(\"Number of edges:\", num_of_edges_arr)\n",
    "\n",
    "# Check if rows of gamma_hats sum to 1\n",
    "summed_gamma_hats = np.sum(gamma_hats, axis=1)\n",
    "are_all_elements_one = np.allclose(summed_gamma_hats, 1.0, atol=1e-8)\n",
    "print(\"\\nAre all elements in each row of gamma_hats summing to 1:\", are_all_elements_one)\n"
   ]
  },
  {
   "cell_type": "code",
   "execution_count": null,
   "metadata": {},
   "outputs": [],
   "source": [
    "\n",
    "# n = 15  \n",
    "# m = 150  \n",
    "# k = 2\n",
    "# zero_thresh = 10e-4\n",
    "\n",
    "# g = [generate_connected_graph(n, 0.7, zero_thresh) for _ in range(k)]\n",
    "\n",
    "# gamma = np.random.rand(m, 1)\n",
    "# gamma_cut = np.zeros((m, k))\n",
    "# dist = 0.5\n",
    "# p = np.linspace(0, 1, k + 1)x\n",
    "# y = np.zeros((m, n))\n",
    "# true_y = np.zeros((m, n, k))\n",
    "# center = np.zeros((n, k))\n",
    "# gauss = np.zeros((n, n, k))\n",
    "# Lap = np.zeros((n, n, k))\n",
    "\n",
    "# for i in range(k):\n",
    "#     gc = pinv(g[i])\n",
    "#     gauss[:, :, i] = (gc + gc.T) / 2\n",
    "#     Lap[:, :, i] = g[i]\n",
    "#     center[:, i] = dist * np.random.randn(n)\n",
    "#     center[:, i] = center[:, i] - np.mean(center[:, i])\n",
    "#     gamma_cut[(p[i] < gamma[:, 0]) & (gamma[:, 0] <= p[i + 1]), i] = 1\n",
    "#     true_y[:, :, i] = gamma_cut[:, i][:, np.newaxis] * np.random.multivariate_normal(center[:, i], gauss[:, :, i], m)\n",
    "#     y += true_y[:, :, i]\n",
    "\n",
    "# iterations = 200\n",
    "# Ls, gamma_hats, mus, log_likelihood = glmm(y, iterations, k)\n",
    "# print('Training done')\n",
    "# # identify, precision, recall, f, cl_errors = identify_and_compare(Ls, Lap, gamma_hats, gamma_cut, k)\n",
    "# identify, precision, recall, f, cl_errors, NMI_score, num_of_edges = identify_and_compare(Ls, Lap, gamma_hats, gamma_cut, k)\n",
    "\n",
    "# print(\"Identify:\", identify)\n",
    "# print(\"Precision:\", precision)\n",
    "# print(\"Recall:\", recall)\n",
    "# print(\"F-measure:\", f)\n",
    "# print(\"Cluster Errors:\", cl_errors)\n",
    "# print('Normalized mutual information', NMI_score)\n",
    "# print(\"Number of estimated edges\", num_of_edges)\n",
    "# summed_gamma_hats = np.sum(gamma_hats, axis=1)\n",
    "# summed_gamma_hats_column = summed_gamma_hats[:, np.newaxis]\n",
    "# are_all_elements_one = np.allclose(summed_gamma_hats_column, 1, atol=1e-8)\n",
    "# print(\"\\nAre all elements in the colum wise summed gamma_hat equal to 1:\", are_all_elements_one)\n",
    "# visualize_glmm(Ls, gamma_hats)"
   ]
  },
  {
   "cell_type": "code",
   "execution_count": null,
   "metadata": {},
   "outputs": [],
   "source": []
  },
  {
   "cell_type": "code",
   "execution_count": null,
   "metadata": {},
   "outputs": [],
   "source": []
  },
  {
   "cell_type": "code",
   "execution_count": null,
   "metadata": {},
   "outputs": [],
   "source": []
  },
  {
   "cell_type": "code",
   "execution_count": null,
   "metadata": {},
   "outputs": [],
   "source": []
  },
  {
   "cell_type": "code",
   "execution_count": null,
   "metadata": {},
   "outputs": [],
   "source": []
  },
  {
   "cell_type": "code",
   "execution_count": null,
   "metadata": {},
   "outputs": [],
   "source": []
  },
  {
   "cell_type": "code",
   "execution_count": null,
   "metadata": {},
   "outputs": [],
   "source": []
  },
  {
   "cell_type": "code",
   "execution_count": null,
   "metadata": {},
   "outputs": [],
   "source": []
  }
 ],
 "metadata": {
  "kernelspec": {
   "display_name": "apache_sedona",
   "language": "python",
   "name": "python3"
  },
  "language_info": {
   "codemirror_mode": {
    "name": "ipython",
    "version": 3
   },
   "file_extension": ".py",
   "mimetype": "text/x-python",
   "name": "python",
   "nbconvert_exporter": "python",
   "pygments_lexer": "ipython3",
   "version": "3.12.7"
  }
 },
 "nbformat": 4,
 "nbformat_minor": 2
}
